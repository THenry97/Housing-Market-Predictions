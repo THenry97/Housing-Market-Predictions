{
 "cells": [
  {
   "cell_type": "markdown",
   "metadata": {
    "hideCode": false,
    "hidePrompt": false,
    "slideshow": {
     "slide_type": "slide"
    }
   },
   "source": [
    "# Individual Project\n",
    "\n",
    "## Thomas Henry - MBD 2020/2021\n",
    "\n",
    "### Main Goals:\n",
    "- Create a clean dataset\n",
    "- Compute a complex linear regression to find relationships between the independent and dependent variables\n",
    "- Have a strong score when predicting the housing market and comparing that score to the actual prices\n",
    "- Find which factors are affecting the market the most"
   ]
  },
  {
   "cell_type": "markdown",
   "metadata": {
    "hideCode": false,
    "hidePrompt": false,
    "slideshow": {
     "slide_type": "subslide"
    }
   },
   "source": [
    "Area analyzed: Southern Europe\n",
    "- Italy\n",
    "- Greece\n",
    "- Portugal\n",
    "- Spain\n",
    "- Slovenia\n",
    "    \n",
    "Data Source: https://stats.oecd.org"
   ]
  },
  {
   "cell_type": "markdown",
   "metadata": {
    "hideCode": false,
    "hidePrompt": false,
    "slideshow": {
     "slide_type": "slide"
    }
   },
   "source": [
    "## Cleaning Data"
   ]
  },
  {
   "cell_type": "code",
   "execution_count": 1,
   "metadata": {
    "hideCode": false,
    "hideOutput": false,
    "hidePrompt": false,
    "slideshow": {
     "slide_type": "skip"
    }
   },
   "outputs": [],
   "source": [
    "#import all necessary libraries\n",
    "import pandas as pd\n",
    "import numpy as np\n",
    "import math\n",
    "import seaborn as sns\n",
    "import matplotlib.pyplot as plt"
   ]
  },
  {
   "cell_type": "code",
   "execution_count": 2,
   "metadata": {
    "hideCode": false,
    "hidePrompt": false,
    "slideshow": {
     "slide_type": "subslide"
    }
   },
   "outputs": [],
   "source": [
    "#Import the real house price table\n",
    "housing = pd.read_csv('./project_data/Housing_Market_data_Southern_Europe.csv')\n",
    "\n",
    "#Import the population table\n",
    "population = pd.read_csv('./project_data/Population_Data_Southern_Europe.csv')\n",
    "\n",
    "#import the financials table\n",
    "financial = pd.read_csv('./project_data/Financial_Data_Southern_Europe.csv')"
   ]
  },
  {
   "cell_type": "code",
   "execution_count": 3,
   "metadata": {
    "hideCode": false,
    "hidePrompt": false,
    "slideshow": {
     "slide_type": "subslide"
    }
   },
   "outputs": [
    {
     "data": {
      "text/html": [
       "<div>\n",
       "<style scoped>\n",
       "    .dataframe tbody tr th:only-of-type {\n",
       "        vertical-align: middle;\n",
       "    }\n",
       "\n",
       "    .dataframe tbody tr th {\n",
       "        vertical-align: top;\n",
       "    }\n",
       "\n",
       "    .dataframe thead th {\n",
       "        text-align: right;\n",
       "    }\n",
       "</style>\n",
       "<table border=\"1\" class=\"dataframe\">\n",
       "  <thead>\n",
       "    <tr style=\"text-align: right;\">\n",
       "      <th></th>\n",
       "      <th>COU</th>\n",
       "      <th>Country</th>\n",
       "      <th>IND</th>\n",
       "      <th>Indicator</th>\n",
       "      <th>TIME</th>\n",
       "      <th>Time</th>\n",
       "      <th>Unit Code</th>\n",
       "      <th>Unit</th>\n",
       "      <th>PowerCode Code</th>\n",
       "      <th>PowerCode</th>\n",
       "      <th>Reference Period Code</th>\n",
       "      <th>Reference Period</th>\n",
       "      <th>Value</th>\n",
       "      <th>Flag Codes</th>\n",
       "      <th>Flags</th>\n",
       "    </tr>\n",
       "  </thead>\n",
       "  <tbody>\n",
       "    <tr>\n",
       "      <th>0</th>\n",
       "      <td>ITA</td>\n",
       "      <td>Italy</td>\n",
       "      <td>HPI</td>\n",
       "      <td>Nominal house price indices, s.a.</td>\n",
       "      <td>2005</td>\n",
       "      <td>2005</td>\n",
       "      <td>IDX</td>\n",
       "      <td>Index</td>\n",
       "      <td>0</td>\n",
       "      <td>Units</td>\n",
       "      <td>NaN</td>\n",
       "      <td>NaN</td>\n",
       "      <td>108.225783</td>\n",
       "      <td>NaN</td>\n",
       "      <td>NaN</td>\n",
       "    </tr>\n",
       "    <tr>\n",
       "      <th>1</th>\n",
       "      <td>ITA</td>\n",
       "      <td>Italy</td>\n",
       "      <td>HPI</td>\n",
       "      <td>Nominal house price indices, s.a.</td>\n",
       "      <td>2005-Q1</td>\n",
       "      <td>Q1-2005</td>\n",
       "      <td>IDX</td>\n",
       "      <td>Index</td>\n",
       "      <td>0</td>\n",
       "      <td>Units</td>\n",
       "      <td>NaN</td>\n",
       "      <td>NaN</td>\n",
       "      <td>105.655759</td>\n",
       "      <td>NaN</td>\n",
       "      <td>NaN</td>\n",
       "    </tr>\n",
       "    <tr>\n",
       "      <th>2</th>\n",
       "      <td>ITA</td>\n",
       "      <td>Italy</td>\n",
       "      <td>HPI</td>\n",
       "      <td>Nominal house price indices, s.a.</td>\n",
       "      <td>2005-Q2</td>\n",
       "      <td>Q2-2005</td>\n",
       "      <td>IDX</td>\n",
       "      <td>Index</td>\n",
       "      <td>0</td>\n",
       "      <td>Units</td>\n",
       "      <td>NaN</td>\n",
       "      <td>NaN</td>\n",
       "      <td>107.343303</td>\n",
       "      <td>NaN</td>\n",
       "      <td>NaN</td>\n",
       "    </tr>\n",
       "    <tr>\n",
       "      <th>3</th>\n",
       "      <td>ITA</td>\n",
       "      <td>Italy</td>\n",
       "      <td>HPI</td>\n",
       "      <td>Nominal house price indices, s.a.</td>\n",
       "      <td>2005-Q3</td>\n",
       "      <td>Q3-2005</td>\n",
       "      <td>IDX</td>\n",
       "      <td>Index</td>\n",
       "      <td>0</td>\n",
       "      <td>Units</td>\n",
       "      <td>NaN</td>\n",
       "      <td>NaN</td>\n",
       "      <td>108.973619</td>\n",
       "      <td>NaN</td>\n",
       "      <td>NaN</td>\n",
       "    </tr>\n",
       "    <tr>\n",
       "      <th>4</th>\n",
       "      <td>ITA</td>\n",
       "      <td>Italy</td>\n",
       "      <td>HPI</td>\n",
       "      <td>Nominal house price indices, s.a.</td>\n",
       "      <td>2005-Q4</td>\n",
       "      <td>Q4-2005</td>\n",
       "      <td>IDX</td>\n",
       "      <td>Index</td>\n",
       "      <td>0</td>\n",
       "      <td>Units</td>\n",
       "      <td>NaN</td>\n",
       "      <td>NaN</td>\n",
       "      <td>110.930453</td>\n",
       "      <td>NaN</td>\n",
       "      <td>NaN</td>\n",
       "    </tr>\n",
       "  </tbody>\n",
       "</table>\n",
       "</div>"
      ],
      "text/plain": [
       "   COU Country  IND                          Indicator     TIME     Time  \\\n",
       "0  ITA   Italy  HPI  Nominal house price indices, s.a.     2005     2005   \n",
       "1  ITA   Italy  HPI  Nominal house price indices, s.a.  2005-Q1  Q1-2005   \n",
       "2  ITA   Italy  HPI  Nominal house price indices, s.a.  2005-Q2  Q2-2005   \n",
       "3  ITA   Italy  HPI  Nominal house price indices, s.a.  2005-Q3  Q3-2005   \n",
       "4  ITA   Italy  HPI  Nominal house price indices, s.a.  2005-Q4  Q4-2005   \n",
       "\n",
       "  Unit Code   Unit  PowerCode Code PowerCode  Reference Period Code  \\\n",
       "0       IDX  Index               0     Units                    NaN   \n",
       "1       IDX  Index               0     Units                    NaN   \n",
       "2       IDX  Index               0     Units                    NaN   \n",
       "3       IDX  Index               0     Units                    NaN   \n",
       "4       IDX  Index               0     Units                    NaN   \n",
       "\n",
       "   Reference Period       Value  Flag Codes  Flags  \n",
       "0               NaN  108.225783         NaN    NaN  \n",
       "1               NaN  105.655759         NaN    NaN  \n",
       "2               NaN  107.343303         NaN    NaN  \n",
       "3               NaN  108.973619         NaN    NaN  \n",
       "4               NaN  110.930453         NaN    NaN  "
      ]
     },
     "execution_count": 3,
     "metadata": {},
     "output_type": "execute_result"
    }
   ],
   "source": [
    "#Obtain the first five rows of the housing dataframe to see what it looks like\n",
    "housing.head()"
   ]
  },
  {
   "cell_type": "code",
   "execution_count": 4,
   "metadata": {
    "hideCode": false,
    "hideOutput": true,
    "hidePrompt": false,
    "slideshow": {
     "slide_type": "skip"
    }
   },
   "outputs": [
    {
     "data": {
      "text/plain": [
       "(2506, 15)"
      ]
     },
     "execution_count": 4,
     "metadata": {},
     "output_type": "execute_result"
    }
   ],
   "source": [
    "#Determine the number of rows and columns\n",
    "housing.shape"
   ]
  },
  {
   "cell_type": "code",
   "execution_count": 5,
   "metadata": {
    "hideCode": false,
    "hideOutput": true,
    "hidePrompt": false,
    "slideshow": {
     "slide_type": "skip"
    }
   },
   "outputs": [
    {
     "data": {
      "text/plain": [
       "<bound method DataFrame.info of       COU Country      IND                          Indicator     TIME  \\\n",
       "0     ITA   Italy      HPI  Nominal house price indices, s.a.     2005   \n",
       "1     ITA   Italy      HPI  Nominal house price indices, s.a.  2005-Q1   \n",
       "2     ITA   Italy      HPI  Nominal house price indices, s.a.  2005-Q2   \n",
       "3     ITA   Italy      HPI  Nominal house price indices, s.a.  2005-Q3   \n",
       "4     ITA   Italy      HPI  Nominal house price indices, s.a.  2005-Q4   \n",
       "...   ...     ...      ...                                ...      ...   \n",
       "2501  ESP   Spain  HPI_YDH              Price to income ratio  2019-Q2   \n",
       "2502  ESP   Spain  HPI_YDH              Price to income ratio  2019-Q3   \n",
       "2503  ESP   Spain  HPI_YDH              Price to income ratio  2019-Q4   \n",
       "2504  ESP   Spain  HPI_YDH              Price to income ratio  2020-Q1   \n",
       "2505  ESP   Spain  HPI_YDH              Price to income ratio  2020-Q2   \n",
       "\n",
       "         Time Unit Code   Unit  PowerCode Code PowerCode  \\\n",
       "0        2005       IDX  Index               0     Units   \n",
       "1     Q1-2005       IDX  Index               0     Units   \n",
       "2     Q2-2005       IDX  Index               0     Units   \n",
       "3     Q3-2005       IDX  Index               0     Units   \n",
       "4     Q4-2005       IDX  Index               0     Units   \n",
       "...       ...       ...    ...             ...       ...   \n",
       "2501  Q2-2019       IDX  Index               0     Units   \n",
       "2502  Q3-2019       IDX  Index               0     Units   \n",
       "2503  Q4-2019       IDX  Index               0     Units   \n",
       "2504  Q1-2020       IDX  Index               0     Units   \n",
       "2505  Q2-2020       IDX  Index               0     Units   \n",
       "\n",
       "      Reference Period Code  Reference Period       Value  Flag Codes  Flags  \n",
       "0                       NaN               NaN  108.225783         NaN    NaN  \n",
       "1                       NaN               NaN  105.655759         NaN    NaN  \n",
       "2                       NaN               NaN  107.343303         NaN    NaN  \n",
       "3                       NaN               NaN  108.973619         NaN    NaN  \n",
       "4                       NaN               NaN  110.930453         NaN    NaN  \n",
       "...                     ...               ...         ...         ...    ...  \n",
       "2501                    NaN               NaN  112.964101         NaN    NaN  \n",
       "2502                    NaN               NaN  113.603611         NaN    NaN  \n",
       "2503                    NaN               NaN  113.775085         NaN    NaN  \n",
       "2504                    NaN               NaN  113.184360         NaN    NaN  \n",
       "2505                    NaN               NaN  123.869969         NaN    NaN  \n",
       "\n",
       "[2506 rows x 15 columns]>"
      ]
     },
     "execution_count": 5,
     "metadata": {},
     "output_type": "execute_result"
    }
   ],
   "source": [
    "#Understand the data, look for missing values in order to clean the data\n",
    "housing.info"
   ]
  },
  {
   "cell_type": "code",
   "execution_count": 6,
   "metadata": {
    "hideCode": false,
    "hideOutput": true,
    "hidePrompt": false,
    "slideshow": {
     "slide_type": "skip"
    }
   },
   "outputs": [
    {
     "data": {
      "text/plain": [
       "10024"
      ]
     },
     "execution_count": 6,
     "metadata": {},
     "output_type": "execute_result"
    }
   ],
   "source": [
    "#Check for missing values\n",
    "housing.isna().sum().sum()"
   ]
  },
  {
   "cell_type": "code",
   "execution_count": 7,
   "metadata": {
    "hideCode": false,
    "hideOutput": true,
    "hidePrompt": false,
    "slideshow": {
     "slide_type": "skip"
    }
   },
   "outputs": [],
   "source": [
    "#Delete all the columns that are containing solely missing values)\n",
    "housing_filtered = housing.dropna(axis = 1, how = 'all')"
   ]
  },
  {
   "cell_type": "code",
   "execution_count": 8,
   "metadata": {
    "hideCode": false,
    "hideOutput": true,
    "hidePrompt": false,
    "slideshow": {
     "slide_type": "skip"
    }
   },
   "outputs": [
    {
     "data": {
      "text/plain": [
       "0"
      ]
     },
     "execution_count": 8,
     "metadata": {},
     "output_type": "execute_result"
    }
   ],
   "source": [
    "#Double-check to see if any missing values are left\n",
    "housing_filtered.isna().sum().sum()"
   ]
  },
  {
   "cell_type": "code",
   "execution_count": 9,
   "metadata": {
    "hideCode": false,
    "hideOutput": true,
    "hidePrompt": false,
    "slideshow": {
     "slide_type": "skip"
    }
   },
   "outputs": [
    {
     "data": {
      "text/html": [
       "<div>\n",
       "<style scoped>\n",
       "    .dataframe tbody tr th:only-of-type {\n",
       "        vertical-align: middle;\n",
       "    }\n",
       "\n",
       "    .dataframe tbody tr th {\n",
       "        vertical-align: top;\n",
       "    }\n",
       "\n",
       "    .dataframe thead th {\n",
       "        text-align: right;\n",
       "    }\n",
       "</style>\n",
       "<table border=\"1\" class=\"dataframe\">\n",
       "  <thead>\n",
       "    <tr style=\"text-align: right;\">\n",
       "      <th></th>\n",
       "      <th>COU</th>\n",
       "      <th>Country</th>\n",
       "      <th>IND</th>\n",
       "      <th>Indicator</th>\n",
       "      <th>TIME</th>\n",
       "      <th>Time</th>\n",
       "      <th>Unit Code</th>\n",
       "      <th>Unit</th>\n",
       "      <th>PowerCode Code</th>\n",
       "      <th>PowerCode</th>\n",
       "      <th>Value</th>\n",
       "    </tr>\n",
       "  </thead>\n",
       "  <tbody>\n",
       "    <tr>\n",
       "      <th>0</th>\n",
       "      <td>ITA</td>\n",
       "      <td>Italy</td>\n",
       "      <td>HPI</td>\n",
       "      <td>Nominal house price indices, s.a.</td>\n",
       "      <td>2005</td>\n",
       "      <td>2005</td>\n",
       "      <td>IDX</td>\n",
       "      <td>Index</td>\n",
       "      <td>0</td>\n",
       "      <td>Units</td>\n",
       "      <td>108.225783</td>\n",
       "    </tr>\n",
       "    <tr>\n",
       "      <th>5</th>\n",
       "      <td>ITA</td>\n",
       "      <td>Italy</td>\n",
       "      <td>HPI</td>\n",
       "      <td>Nominal house price indices, s.a.</td>\n",
       "      <td>2006</td>\n",
       "      <td>2006</td>\n",
       "      <td>IDX</td>\n",
       "      <td>Index</td>\n",
       "      <td>0</td>\n",
       "      <td>Units</td>\n",
       "      <td>115.191197</td>\n",
       "    </tr>\n",
       "    <tr>\n",
       "      <th>10</th>\n",
       "      <td>ITA</td>\n",
       "      <td>Italy</td>\n",
       "      <td>HPI</td>\n",
       "      <td>Nominal house price indices, s.a.</td>\n",
       "      <td>2007</td>\n",
       "      <td>2007</td>\n",
       "      <td>IDX</td>\n",
       "      <td>Index</td>\n",
       "      <td>0</td>\n",
       "      <td>Units</td>\n",
       "      <td>121.130252</td>\n",
       "    </tr>\n",
       "    <tr>\n",
       "      <th>15</th>\n",
       "      <td>ITA</td>\n",
       "      <td>Italy</td>\n",
       "      <td>HPI</td>\n",
       "      <td>Nominal house price indices, s.a.</td>\n",
       "      <td>2008</td>\n",
       "      <td>2008</td>\n",
       "      <td>IDX</td>\n",
       "      <td>Index</td>\n",
       "      <td>0</td>\n",
       "      <td>Units</td>\n",
       "      <td>123.177099</td>\n",
       "    </tr>\n",
       "    <tr>\n",
       "      <th>20</th>\n",
       "      <td>ITA</td>\n",
       "      <td>Italy</td>\n",
       "      <td>HPI</td>\n",
       "      <td>Nominal house price indices, s.a.</td>\n",
       "      <td>2009</td>\n",
       "      <td>2009</td>\n",
       "      <td>IDX</td>\n",
       "      <td>Index</td>\n",
       "      <td>0</td>\n",
       "      <td>Units</td>\n",
       "      <td>118.646535</td>\n",
       "    </tr>\n",
       "  </tbody>\n",
       "</table>\n",
       "</div>"
      ],
      "text/plain": [
       "    COU Country  IND                          Indicator  TIME  Time Unit Code  \\\n",
       "0   ITA   Italy  HPI  Nominal house price indices, s.a.  2005  2005       IDX   \n",
       "5   ITA   Italy  HPI  Nominal house price indices, s.a.  2006  2006       IDX   \n",
       "10  ITA   Italy  HPI  Nominal house price indices, s.a.  2007  2007       IDX   \n",
       "15  ITA   Italy  HPI  Nominal house price indices, s.a.  2008  2008       IDX   \n",
       "20  ITA   Italy  HPI  Nominal house price indices, s.a.  2009  2009       IDX   \n",
       "\n",
       "     Unit  PowerCode Code PowerCode       Value  \n",
       "0   Index               0     Units  108.225783  \n",
       "5   Index               0     Units  115.191197  \n",
       "10  Index               0     Units  121.130252  \n",
       "15  Index               0     Units  123.177099  \n",
       "20  Index               0     Units  118.646535  "
      ]
     },
     "execution_count": 9,
     "metadata": {},
     "output_type": "execute_result"
    }
   ],
   "source": [
    "#Delete all rows that contain a \"Q\" in the Time to only have information per year and not per quarters\n",
    "\n",
    "housing_filtered = housing_filtered[~housing_filtered.Time.str.contains(\"Q\")]\n",
    "\n",
    "housing_filtered.head()"
   ]
  },
  {
   "cell_type": "code",
   "execution_count": 10,
   "metadata": {
    "hideCode": false,
    "hideOutput": true,
    "hidePrompt": false,
    "slideshow": {
     "slide_type": "skip"
    }
   },
   "outputs": [],
   "source": [
    "#Drop all unnecessary columns\n",
    "\n",
    "housing_filtered = housing_filtered.drop(['COU','TIME','Unit Code','Unit','PowerCode Code','PowerCode'], axis = 1)"
   ]
  },
  {
   "cell_type": "code",
   "execution_count": 11,
   "metadata": {
    "hideCode": false,
    "hideOutput": true,
    "hidePrompt": false,
    "slideshow": {
     "slide_type": "skip"
    }
   },
   "outputs": [
    {
     "data": {
      "text/plain": [
       "array(['Nominal house price indices, s.a.', 'Rent prices, s.a.',\n",
       "       'Price to rent ratio', 'Real house price indices, s.a.',\n",
       "       'Standardised price-rent ratio', 'Price to income ratio',\n",
       "       'Standardised price-income ratio'], dtype=object)"
      ]
     },
     "execution_count": 11,
     "metadata": {},
     "output_type": "execute_result"
    }
   ],
   "source": [
    "#Get all remaining columns\n",
    "housing_filtered['Indicator'].unique()"
   ]
  },
  {
   "cell_type": "markdown",
   "metadata": {
    "hideCode": false,
    "hidePrompt": false,
    "slideshow": {
     "slide_type": "slide"
    }
   },
   "source": [
    "##### End Product"
   ]
  },
  {
   "cell_type": "code",
   "execution_count": 12,
   "metadata": {
    "hideCode": false,
    "hidePrompt": false,
    "slideshow": {
     "slide_type": "subslide"
    }
   },
   "outputs": [
    {
     "data": {
      "text/html": [
       "<div>\n",
       "<style scoped>\n",
       "    .dataframe tbody tr th:only-of-type {\n",
       "        vertical-align: middle;\n",
       "    }\n",
       "\n",
       "    .dataframe tbody tr th {\n",
       "        vertical-align: top;\n",
       "    }\n",
       "\n",
       "    .dataframe thead th {\n",
       "        text-align: right;\n",
       "    }\n",
       "</style>\n",
       "<table border=\"1\" class=\"dataframe\">\n",
       "  <thead>\n",
       "    <tr style=\"text-align: right;\">\n",
       "      <th></th>\n",
       "      <th>Country</th>\n",
       "      <th>IND</th>\n",
       "      <th>Indicator</th>\n",
       "      <th>Time</th>\n",
       "      <th>Value</th>\n",
       "    </tr>\n",
       "  </thead>\n",
       "  <tbody>\n",
       "    <tr>\n",
       "      <th>299</th>\n",
       "      <td>Spain</td>\n",
       "      <td>RHP</td>\n",
       "      <td>Real house price indices, s.a.</td>\n",
       "      <td>2005</td>\n",
       "      <td>140.883992</td>\n",
       "    </tr>\n",
       "    <tr>\n",
       "      <th>304</th>\n",
       "      <td>Spain</td>\n",
       "      <td>RHP</td>\n",
       "      <td>Real house price indices, s.a.</td>\n",
       "      <td>2006</td>\n",
       "      <td>154.591433</td>\n",
       "    </tr>\n",
       "    <tr>\n",
       "      <th>309</th>\n",
       "      <td>Spain</td>\n",
       "      <td>RHP</td>\n",
       "      <td>Real house price indices, s.a.</td>\n",
       "      <td>2007</td>\n",
       "      <td>164.245886</td>\n",
       "    </tr>\n",
       "    <tr>\n",
       "      <th>314</th>\n",
       "      <td>Spain</td>\n",
       "      <td>RHP</td>\n",
       "      <td>Real house price indices, s.a.</td>\n",
       "      <td>2008</td>\n",
       "      <td>156.297547</td>\n",
       "    </tr>\n",
       "    <tr>\n",
       "      <th>319</th>\n",
       "      <td>Spain</td>\n",
       "      <td>RHP</td>\n",
       "      <td>Real house price indices, s.a.</td>\n",
       "      <td>2009</td>\n",
       "      <td>147.370284</td>\n",
       "    </tr>\n",
       "  </tbody>\n",
       "</table>\n",
       "</div>"
      ],
      "text/plain": [
       "    Country  IND                       Indicator  Time       Value\n",
       "299   Spain  RHP  Real house price indices, s.a.  2005  140.883992\n",
       "304   Spain  RHP  Real house price indices, s.a.  2006  154.591433\n",
       "309   Spain  RHP  Real house price indices, s.a.  2007  164.245886\n",
       "314   Spain  RHP  Real house price indices, s.a.  2008  156.297547\n",
       "319   Spain  RHP  Real house price indices, s.a.  2009  147.370284"
      ]
     },
     "execution_count": 12,
     "metadata": {},
     "output_type": "execute_result"
    }
   ],
   "source": [
    "#Creation of a first independent variable using the Real House Prices Indices for the analysis\n",
    "housing_real_house_prices = housing_filtered[housing_filtered['Indicator'] == 'Real house price indices, s.a.']\n",
    "\n",
    "housing_real_house_prices.head()"
   ]
  },
  {
   "cell_type": "markdown",
   "metadata": {
    "hideCode": false,
    "hidePrompt": false,
    "slideshow": {
     "slide_type": "slide"
    }
   },
   "source": [
    "##### Visualization of the independent variable \"Real House Prices\" per country"
   ]
  },
  {
   "cell_type": "code",
   "execution_count": 14,
   "metadata": {
    "hideCode": false,
    "hidePrompt": false,
    "slideshow": {
     "slide_type": "subslide"
    }
   },
   "outputs": [
    {
     "data": {
      "text/html": [
       "\n",
       "<div id=\"altair-viz-73605f81a6164a6eacaf2b6c2f8ddd39\"></div>\n",
       "<script type=\"text/javascript\">\n",
       "  var VEGA_DEBUG = (typeof VEGA_DEBUG == \"undefined\") ? {} : VEGA_DEBUG;\n",
       "  (function(spec, embedOpt){\n",
       "    let outputDiv = document.currentScript.previousElementSibling;\n",
       "    if (outputDiv.id !== \"altair-viz-73605f81a6164a6eacaf2b6c2f8ddd39\") {\n",
       "      outputDiv = document.getElementById(\"altair-viz-73605f81a6164a6eacaf2b6c2f8ddd39\");\n",
       "    }\n",
       "    const paths = {\n",
       "      \"vega\": \"https://cdn.jsdelivr.net/npm//vega@5?noext\",\n",
       "      \"vega-lib\": \"https://cdn.jsdelivr.net/npm//vega-lib?noext\",\n",
       "      \"vega-lite\": \"https://cdn.jsdelivr.net/npm//vega-lite@4.17.0?noext\",\n",
       "      \"vega-embed\": \"https://cdn.jsdelivr.net/npm//vega-embed@6?noext\",\n",
       "    };\n",
       "\n",
       "    function maybeLoadScript(lib, version) {\n",
       "      var key = `${lib.replace(\"-\", \"\")}_version`;\n",
       "      return (VEGA_DEBUG[key] == version) ?\n",
       "        Promise.resolve(paths[lib]) :\n",
       "        new Promise(function(resolve, reject) {\n",
       "          var s = document.createElement('script');\n",
       "          document.getElementsByTagName(\"head\")[0].appendChild(s);\n",
       "          s.async = true;\n",
       "          s.onload = () => {\n",
       "            VEGA_DEBUG[key] = version;\n",
       "            return resolve(paths[lib]);\n",
       "          };\n",
       "          s.onerror = () => reject(`Error loading script: ${paths[lib]}`);\n",
       "          s.src = paths[lib];\n",
       "        });\n",
       "    }\n",
       "\n",
       "    function showError(err) {\n",
       "      outputDiv.innerHTML = `<div class=\"error\" style=\"color:red;\">${err}</div>`;\n",
       "      throw err;\n",
       "    }\n",
       "\n",
       "    function displayChart(vegaEmbed) {\n",
       "      vegaEmbed(outputDiv, spec, embedOpt)\n",
       "        .catch(err => showError(`Javascript Error: ${err.message}<br>This usually means there's a typo in your chart specification. See the javascript console for the full traceback.`));\n",
       "    }\n",
       "\n",
       "    if(typeof define === \"function\" && define.amd) {\n",
       "      requirejs.config({paths});\n",
       "      require([\"vega-embed\"], displayChart, err => showError(`Error loading script: ${err.message}`));\n",
       "    } else {\n",
       "      maybeLoadScript(\"vega\", \"5\")\n",
       "        .then(() => maybeLoadScript(\"vega-lite\", \"4.17.0\"))\n",
       "        .then(() => maybeLoadScript(\"vega-embed\", \"6\"))\n",
       "        .catch(showError)\n",
       "        .then(() => displayChart(vegaEmbed));\n",
       "    }\n",
       "  })({\"config\": {\"view\": {\"continuousWidth\": 400, \"continuousHeight\": 300}}, \"data\": {\"name\": \"data-5ac11665132344c07729aee35a3bb498\"}, \"mark\": \"line\", \"encoding\": {\"color\": {\"field\": \"Country\", \"type\": \"nominal\"}, \"tooltip\": {\"field\": \"Country\", \"type\": \"nominal\"}, \"x\": {\"field\": \"Time\", \"type\": \"nominal\"}, \"y\": {\"field\": \"Value\", \"type\": \"quantitative\"}}, \"height\": 600, \"selection\": {\"Country of \": {\"type\": \"single\", \"fields\": [\"Country\"], \"bind\": {\"input\": \"select\", \"options\": [\"Greece\", \"Italy\", \"Portugal\", \"Slovenia\", \"Spain\"]}}}, \"transform\": [{\"filter\": {\"selection\": \"Country of \"}}], \"width\": 800, \"$schema\": \"https://vega.github.io/schema/vega-lite/v4.17.0.json\", \"datasets\": {\"data-5ac11665132344c07729aee35a3bb498\": [{\"Country\": \"Spain\", \"IND\": \"RHP\", \"Indicator\": \"Real house price indices, s.a.\", \"Time\": \"2005\", \"Value\": 140.883992449951}, {\"Country\": \"Spain\", \"IND\": \"RHP\", \"Indicator\": \"Real house price indices, s.a.\", \"Time\": \"2006\", \"Value\": 154.591433011351}, {\"Country\": \"Spain\", \"IND\": \"RHP\", \"Indicator\": \"Real house price indices, s.a.\", \"Time\": \"2007\", \"Value\": 164.245885728672}, {\"Country\": \"Spain\", \"IND\": \"RHP\", \"Indicator\": \"Real house price indices, s.a.\", \"Time\": \"2008\", \"Value\": 156.297547253611}, {\"Country\": \"Spain\", \"IND\": \"RHP\", \"Indicator\": \"Real house price indices, s.a.\", \"Time\": \"2009\", \"Value\": 147.370283893756}, {\"Country\": \"Spain\", \"IND\": \"RHP\", \"Indicator\": \"Real house price indices, s.a.\", \"Time\": \"2010\", \"Value\": 141.963946747876}, {\"Country\": \"Spain\", \"IND\": \"RHP\", \"Indicator\": \"Real house price indices, s.a.\", \"Time\": \"2011\", \"Value\": 128.101508605275}, {\"Country\": \"Spain\", \"IND\": \"RHP\", \"Indicator\": \"Real house price indices, s.a.\", \"Time\": \"2012\", \"Value\": 106.994362139631}, {\"Country\": \"Spain\", \"IND\": \"RHP\", \"Indicator\": \"Real house price indices, s.a.\", \"Time\": \"2013\", \"Value\": 96.279168992165}, {\"Country\": \"Spain\", \"IND\": \"RHP\", \"Indicator\": \"Real house price indices, s.a.\", \"Time\": \"2014\", \"Value\": 96.4547633439578}, {\"Country\": \"Spain\", \"IND\": \"RHP\", \"Indicator\": \"Real house price indices, s.a.\", \"Time\": \"2015\", \"Value\": 100.0}, {\"Country\": \"Spain\", \"IND\": \"RHP\", \"Indicator\": \"Real house price indices, s.a.\", \"Time\": \"2016\", \"Value\": 104.450073288234}, {\"Country\": \"Spain\", \"IND\": \"RHP\", \"Indicator\": \"Real house price indices, s.a.\", \"Time\": \"2017\", \"Value\": 109.246188522984}, {\"Country\": \"Spain\", \"IND\": \"RHP\", \"Indicator\": \"Real house price indices, s.a.\", \"Time\": \"2018\", \"Value\": 114.891296510757}, {\"Country\": \"Spain\", \"IND\": \"RHP\", \"Indicator\": \"Real house price indices, s.a.\", \"Time\": \"2019\", \"Value\": 119.648507847474}, {\"Country\": \"Portugal\", \"IND\": \"RHP\", \"Indicator\": \"Real house price indices, s.a.\", \"Time\": \"2005\", \"Value\": 128.25409269985}, {\"Country\": \"Portugal\", \"IND\": \"RHP\", \"Indicator\": \"Real house price indices, s.a.\", \"Time\": \"2006\", \"Value\": 126.492102472102}, {\"Country\": \"Portugal\", \"IND\": \"RHP\", \"Indicator\": \"Real house price indices, s.a.\", \"Time\": \"2007\", \"Value\": 122.927287877716}, {\"Country\": \"Portugal\", \"IND\": \"RHP\", \"Indicator\": \"Real house price indices, s.a.\", \"Time\": \"2008\", \"Value\": 112.032554708845}, {\"Country\": \"Portugal\", \"IND\": \"RHP\", \"Indicator\": \"Real house price indices, s.a.\", \"Time\": \"2009\", \"Value\": 114.481526987347}, {\"Country\": \"Portugal\", \"IND\": \"RHP\", \"Indicator\": \"Real house price indices, s.a.\", \"Time\": \"2010\", \"Value\": 113.282901334472}, {\"Country\": \"Portugal\", \"IND\": \"RHP\", \"Indicator\": \"Real house price indices, s.a.\", \"Time\": \"2011\", \"Value\": 105.915558563868}, {\"Country\": \"Portugal\", \"IND\": \"RHP\", \"Indicator\": \"Real house price indices, s.a.\", \"Time\": \"2012\", \"Value\": 96.6691682394816}, {\"Country\": \"Portugal\", \"IND\": \"RHP\", \"Indicator\": \"Real house price indices, s.a.\", \"Time\": \"2013\", \"Value\": 94.1181901496921}, {\"Country\": \"Portugal\", \"IND\": \"RHP\", \"Indicator\": \"Real house price indices, s.a.\", \"Time\": \"2014\", \"Value\": 97.8953104316635}, {\"Country\": \"Portugal\", \"IND\": \"RHP\", \"Indicator\": \"Real house price indices, s.a.\", \"Time\": \"2015\", \"Value\": 100.0}, {\"Country\": \"Portugal\", \"IND\": \"RHP\", \"Indicator\": \"Real house price indices, s.a.\", \"Time\": \"2016\", \"Value\": 106.061328903256}, {\"Country\": \"Portugal\", \"IND\": \"RHP\", \"Indicator\": \"Real house price indices, s.a.\", \"Time\": \"2017\", \"Value\": 114.071155710954}, {\"Country\": \"Portugal\", \"IND\": \"RHP\", \"Indicator\": \"Real house price indices, s.a.\", \"Time\": \"2018\", \"Value\": 123.862460660652}, {\"Country\": \"Portugal\", \"IND\": \"RHP\", \"Indicator\": \"Real house price indices, s.a.\", \"Time\": \"2019\", \"Value\": 134.621275833523}, {\"Country\": \"Greece\", \"IND\": \"RHP\", \"Indicator\": \"Real house price indices, s.a.\", \"Time\": \"2005\", \"Value\": 156.169506700894}, {\"Country\": \"Greece\", \"IND\": \"RHP\", \"Indicator\": \"Real house price indices, s.a.\", \"Time\": \"2006\", \"Value\": 170.923328685371}, {\"Country\": \"Greece\", \"IND\": \"RHP\", \"Indicator\": \"Real house price indices, s.a.\", \"Time\": \"2007\", \"Value\": 175.17502290422}, {\"Country\": \"Greece\", \"IND\": \"RHP\", \"Indicator\": \"Real house price indices, s.a.\", \"Time\": \"2008\", \"Value\": 170.327759863684}, {\"Country\": \"Greece\", \"IND\": \"RHP\", \"Indicator\": \"Real house price indices, s.a.\", \"Time\": \"2009\", \"Value\": 161.469799689131}, {\"Country\": \"Greece\", \"IND\": \"RHP\", \"Indicator\": \"Real house price indices, s.a.\", \"Time\": \"2010\", \"Value\": 148.967453374698}, {\"Country\": \"Greece\", \"IND\": \"RHP\", \"Indicator\": \"Real house price indices, s.a.\", \"Time\": \"2011\", \"Value\": 137.682730924845}, {\"Country\": \"Greece\", \"IND\": \"RHP\", \"Indicator\": \"Real house price indices, s.a.\", \"Time\": \"2012\", \"Value\": 120.945753128909}, {\"Country\": \"Greece\", \"IND\": \"RHP\", \"Indicator\": \"Real house price indices, s.a.\", \"Time\": \"2013\", \"Value\": 109.72485493104}, {\"Country\": \"Greece\", \"IND\": \"RHP\", \"Indicator\": \"Real house price indices, s.a.\", \"Time\": \"2014\", \"Value\": 103.56935693597}, {\"Country\": \"Greece\", \"IND\": \"RHP\", \"Indicator\": \"Real house price indices, s.a.\", \"Time\": \"2015\", \"Value\": 100.0}, {\"Country\": \"Greece\", \"IND\": \"RHP\", \"Indicator\": \"Real house price indices, s.a.\", \"Time\": \"2016\", \"Value\": 98.3589212886803}, {\"Country\": \"Greece\", \"IND\": \"RHP\", \"Indicator\": \"Real house price indices, s.a.\", \"Time\": \"2017\", \"Value\": 96.7413732154067}, {\"Country\": \"Greece\", \"IND\": \"RHP\", \"Indicator\": \"Real house price indices, s.a.\", \"Time\": \"2018\", \"Value\": 98.1793154217257}, {\"Country\": \"Greece\", \"IND\": \"RHP\", \"Indicator\": \"Real house price indices, s.a.\", \"Time\": \"2019\", \"Value\": 104.690367286391}, {\"Country\": \"Italy\", \"IND\": \"RHP\", \"Indicator\": \"Real house price indices, s.a.\", \"Time\": \"2005\", \"Value\": 126.998283118186}, {\"Country\": \"Italy\", \"IND\": \"RHP\", \"Indicator\": \"Real house price indices, s.a.\", \"Time\": \"2006\", \"Value\": 131.633497323762}, {\"Country\": \"Italy\", \"IND\": \"RHP\", \"Indicator\": \"Real house price indices, s.a.\", \"Time\": \"2007\", \"Value\": 135.388771858498}, {\"Country\": \"Italy\", \"IND\": \"RHP\", \"Indicator\": \"Real house price indices, s.a.\", \"Time\": \"2008\", \"Value\": 133.409785405741}, {\"Country\": \"Italy\", \"IND\": \"RHP\", \"Indicator\": \"Real house price indices, s.a.\", \"Time\": \"2009\", \"Value\": 129.239400770932}, {\"Country\": \"Italy\", \"IND\": \"RHP\", \"Indicator\": \"Real house price indices, s.a.\", \"Time\": \"2010\", \"Value\": 126.632152610273}, {\"Country\": \"Italy\", \"IND\": \"RHP\", \"Indicator\": \"Real house price indices, s.a.\", \"Time\": \"2011\", \"Value\": 124.705820681582}, {\"Country\": \"Italy\", \"IND\": \"RHP\", \"Indicator\": \"Real house price indices, s.a.\", \"Time\": \"2012\", \"Value\": 118.426287911697}, {\"Country\": \"Italy\", \"IND\": \"RHP\", \"Indicator\": \"Real house price indices, s.a.\", \"Time\": \"2013\", \"Value\": 109.536745467173}, {\"Country\": \"Italy\", \"IND\": \"RHP\", \"Indicator\": \"Real house price indices, s.a.\", \"Time\": \"2014\", \"Value\": 104.109545409866}, {\"Country\": \"Italy\", \"IND\": \"RHP\", \"Indicator\": \"Real house price indices, s.a.\", \"Time\": \"2015\", \"Value\": 100.0}, {\"Country\": \"Italy\", \"IND\": \"RHP\", \"Indicator\": \"Real house price indices, s.a.\", \"Time\": \"2016\", \"Value\": 100.142006327627}, {\"Country\": \"Italy\", \"IND\": \"RHP\", \"Indicator\": \"Real house price indices, s.a.\", \"Time\": \"2017\", \"Value\": 98.0190234346117}, {\"Country\": \"Italy\", \"IND\": \"RHP\", \"Indicator\": \"Real house price indices, s.a.\", \"Time\": \"2018\", \"Value\": 96.554671622845}, {\"Country\": \"Italy\", \"IND\": \"RHP\", \"Indicator\": \"Real house price indices, s.a.\", \"Time\": \"2019\", \"Value\": 95.971789858107}, {\"Country\": \"Slovenia\", \"IND\": \"RHP\", \"Indicator\": \"Real house price indices, s.a.\", \"Time\": \"2007\", \"Value\": 136.628089203374}, {\"Country\": \"Slovenia\", \"IND\": \"RHP\", \"Indicator\": \"Real house price indices, s.a.\", \"Time\": \"2008\", \"Value\": 138.461606139794}, {\"Country\": \"Slovenia\", \"IND\": \"RHP\", \"Indicator\": \"Real house price indices, s.a.\", \"Time\": \"2009\", \"Value\": 124.294427822782}, {\"Country\": \"Slovenia\", \"IND\": \"RHP\", \"Indicator\": \"Real house price indices, s.a.\", \"Time\": \"2010\", \"Value\": 122.664602064309}, {\"Country\": \"Slovenia\", \"IND\": \"RHP\", \"Indicator\": \"Real house price indices, s.a.\", \"Time\": \"2011\", \"Value\": 123.794945811297}, {\"Country\": \"Slovenia\", \"IND\": \"RHP\", \"Indicator\": \"Real house price indices, s.a.\", \"Time\": \"2012\", \"Value\": 113.323916108762}, {\"Country\": \"Slovenia\", \"IND\": \"RHP\", \"Indicator\": \"Real house price indices, s.a.\", \"Time\": \"2013\", \"Value\": 105.138271089691}, {\"Country\": \"Slovenia\", \"IND\": \"RHP\", \"Indicator\": \"Real house price indices, s.a.\", \"Time\": \"2014\", \"Value\": 98.608275432505}, {\"Country\": \"Slovenia\", \"IND\": \"RHP\", \"Indicator\": \"Real house price indices, s.a.\", \"Time\": \"2015\", \"Value\": 100.0}, {\"Country\": \"Slovenia\", \"IND\": \"RHP\", \"Indicator\": \"Real house price indices, s.a.\", \"Time\": \"2016\", \"Value\": 103.631562301768}, {\"Country\": \"Slovenia\", \"IND\": \"RHP\", \"Indicator\": \"Real house price indices, s.a.\", \"Time\": \"2017\", \"Value\": 110.410642570056}, {\"Country\": \"Slovenia\", \"IND\": \"RHP\", \"Indicator\": \"Real house price indices, s.a.\", \"Time\": \"2018\", \"Value\": 117.730259377002}, {\"Country\": \"Slovenia\", \"IND\": \"RHP\", \"Indicator\": \"Real house price indices, s.a.\", \"Time\": \"2019\", \"Value\": 123.957898749078}]}}, {\"mode\": \"vega-lite\"});\n",
       "</script>"
      ],
      "text/plain": [
       "alt.Chart(...)"
      ]
     },
     "execution_count": 14,
     "metadata": {},
     "output_type": "execute_result"
    }
   ],
   "source": [
    "#Interactive Visualization of the first independent variable \"Real House Prices\"\n",
    "\n",
    "import altair as alt\n",
    "\n",
    "input_dropdown = alt.binding_select(options=['Greece','Italy','Portugal','Slovenia','Spain'])\n",
    "selection = alt.selection_single(fields=['Country'], bind=input_dropdown, name='Country of ')\n",
    "color = alt.condition(selection,\n",
    "                    alt.Color('Origin:N', legend=None),\n",
    "                    alt.value('lightgray'))\n",
    "\n",
    "alt.Chart(housing_real_house_prices).mark_line().encode(\n",
    "    x='Time',\n",
    "    y='Value',\n",
    "    color='Country:N',\n",
    "    tooltip='Country:N'\n",
    ").add_selection(\n",
    "    selection\n",
    ").transform_filter(\n",
    "    selection\n",
    ").properties(\n",
    "    width=800,\n",
    "    height=600\n",
    ")\n"
   ]
  },
  {
   "cell_type": "code",
   "execution_count": 14,
   "metadata": {
    "hideCode": false,
    "hidePrompt": false,
    "slideshow": {
     "slide_type": "subslide"
    }
   },
   "outputs": [
    {
     "data": {
      "text/html": [
       "<div>\n",
       "<style scoped>\n",
       "    .dataframe tbody tr th:only-of-type {\n",
       "        vertical-align: middle;\n",
       "    }\n",
       "\n",
       "    .dataframe tbody tr th {\n",
       "        vertical-align: top;\n",
       "    }\n",
       "\n",
       "    .dataframe thead th {\n",
       "        text-align: right;\n",
       "    }\n",
       "</style>\n",
       "<table border=\"1\" class=\"dataframe\">\n",
       "  <thead>\n",
       "    <tr style=\"text-align: right;\">\n",
       "      <th></th>\n",
       "      <th>Country</th>\n",
       "      <th>IND</th>\n",
       "      <th>Indicator</th>\n",
       "      <th>Time</th>\n",
       "      <th>Value</th>\n",
       "    </tr>\n",
       "  </thead>\n",
       "  <tbody>\n",
       "    <tr>\n",
       "      <th>77</th>\n",
       "      <td>Greece</td>\n",
       "      <td>RPI</td>\n",
       "      <td>Rent prices, s.a.</td>\n",
       "      <td>2005</td>\n",
       "      <td>102.331967</td>\n",
       "    </tr>\n",
       "    <tr>\n",
       "      <th>82</th>\n",
       "      <td>Greece</td>\n",
       "      <td>RPI</td>\n",
       "      <td>Rent prices, s.a.</td>\n",
       "      <td>2006</td>\n",
       "      <td>106.798942</td>\n",
       "    </tr>\n",
       "    <tr>\n",
       "      <th>87</th>\n",
       "      <td>Greece</td>\n",
       "      <td>RPI</td>\n",
       "      <td>Rent prices, s.a.</td>\n",
       "      <td>2007</td>\n",
       "      <td>111.657667</td>\n",
       "    </tr>\n",
       "    <tr>\n",
       "      <th>92</th>\n",
       "      <td>Greece</td>\n",
       "      <td>RPI</td>\n",
       "      <td>Rent prices, s.a.</td>\n",
       "      <td>2008</td>\n",
       "      <td>115.997766</td>\n",
       "    </tr>\n",
       "    <tr>\n",
       "      <th>97</th>\n",
       "      <td>Greece</td>\n",
       "      <td>RPI</td>\n",
       "      <td>Rent prices, s.a.</td>\n",
       "      <td>2009</td>\n",
       "      <td>120.196566</td>\n",
       "    </tr>\n",
       "  </tbody>\n",
       "</table>\n",
       "</div>"
      ],
      "text/plain": [
       "   Country  IND          Indicator  Time       Value\n",
       "77  Greece  RPI  Rent prices, s.a.  2005  102.331967\n",
       "82  Greece  RPI  Rent prices, s.a.  2006  106.798942\n",
       "87  Greece  RPI  Rent prices, s.a.  2007  111.657667\n",
       "92  Greece  RPI  Rent prices, s.a.  2008  115.997766\n",
       "97  Greece  RPI  Rent prices, s.a.  2009  120.196566"
      ]
     },
     "execution_count": 14,
     "metadata": {},
     "output_type": "execute_result"
    }
   ],
   "source": [
    "#Creation of a second independent variable using the Rent prices, s.a.\n",
    "housing_rent_prices = housing_filtered[housing_filtered.Indicator == 'Rent prices, s.a.']\n",
    "\n",
    "housing_rent_prices.head()"
   ]
  },
  {
   "cell_type": "markdown",
   "metadata": {
    "hideCode": false,
    "hidePrompt": false,
    "slideshow": {
     "slide_type": "slide"
    }
   },
   "source": [
    "##### Visualization of the independent variable \"Rent Prices\" per country"
   ]
  },
  {
   "cell_type": "code",
   "execution_count": 15,
   "metadata": {
    "hideCode": false,
    "hidePrompt": false,
    "scrolled": false,
    "slideshow": {
     "slide_type": "subslide"
    }
   },
   "outputs": [
    {
     "data": {
      "text/html": [
       "\n",
       "<div id=\"altair-viz-d28f38faf9a440a4a2160c52e77ead7a\"></div>\n",
       "<script type=\"text/javascript\">\n",
       "  (function(spec, embedOpt){\n",
       "    let outputDiv = document.currentScript.previousElementSibling;\n",
       "    if (outputDiv.id !== \"altair-viz-d28f38faf9a440a4a2160c52e77ead7a\") {\n",
       "      outputDiv = document.getElementById(\"altair-viz-d28f38faf9a440a4a2160c52e77ead7a\");\n",
       "    }\n",
       "    const paths = {\n",
       "      \"vega\": \"https://cdn.jsdelivr.net/npm//vega@5?noext\",\n",
       "      \"vega-lib\": \"https://cdn.jsdelivr.net/npm//vega-lib?noext\",\n",
       "      \"vega-lite\": \"https://cdn.jsdelivr.net/npm//vega-lite@4.8.1?noext\",\n",
       "      \"vega-embed\": \"https://cdn.jsdelivr.net/npm//vega-embed@6?noext\",\n",
       "    };\n",
       "\n",
       "    function loadScript(lib) {\n",
       "      return new Promise(function(resolve, reject) {\n",
       "        var s = document.createElement('script');\n",
       "        s.src = paths[lib];\n",
       "        s.async = true;\n",
       "        s.onload = () => resolve(paths[lib]);\n",
       "        s.onerror = () => reject(`Error loading script: ${paths[lib]}`);\n",
       "        document.getElementsByTagName(\"head\")[0].appendChild(s);\n",
       "      });\n",
       "    }\n",
       "\n",
       "    function showError(err) {\n",
       "      outputDiv.innerHTML = `<div class=\"error\" style=\"color:red;\">${err}</div>`;\n",
       "      throw err;\n",
       "    }\n",
       "\n",
       "    function displayChart(vegaEmbed) {\n",
       "      vegaEmbed(outputDiv, spec, embedOpt)\n",
       "        .catch(err => showError(`Javascript Error: ${err.message}<br>This usually means there's a typo in your chart specification. See the javascript console for the full traceback.`));\n",
       "    }\n",
       "\n",
       "    if(typeof define === \"function\" && define.amd) {\n",
       "      requirejs.config({paths});\n",
       "      require([\"vega-embed\"], displayChart, err => showError(`Error loading script: ${err.message}`));\n",
       "    } else if (typeof vegaEmbed === \"function\") {\n",
       "      displayChart(vegaEmbed);\n",
       "    } else {\n",
       "      loadScript(\"vega\")\n",
       "        .then(() => loadScript(\"vega-lite\"))\n",
       "        .then(() => loadScript(\"vega-embed\"))\n",
       "        .catch(showError)\n",
       "        .then(() => displayChart(vegaEmbed));\n",
       "    }\n",
       "  })({\"config\": {\"view\": {\"continuousWidth\": 400, \"continuousHeight\": 300}}, \"data\": {\"name\": \"data-1129e331a2fb99737141a9016f17005c\"}, \"mark\": \"line\", \"encoding\": {\"color\": {\"type\": \"nominal\", \"field\": \"Country\"}, \"tooltip\": {\"type\": \"nominal\", \"field\": \"Country\"}, \"x\": {\"type\": \"nominal\", \"field\": \"Time\"}, \"y\": {\"type\": \"quantitative\", \"field\": \"Value\"}}, \"height\": 600, \"selection\": {\"Country of \": {\"type\": \"single\", \"fields\": [\"Country\"], \"bind\": {\"input\": \"select\", \"options\": [\"Greece\", \"Italy\", \"Portugal\", \"Slovenia\", \"Spain\"]}}}, \"transform\": [{\"filter\": {\"selection\": \"Country of \"}}], \"width\": 800, \"$schema\": \"https://vega.github.io/schema/vega-lite/v4.8.1.json\", \"datasets\": {\"data-1129e331a2fb99737141a9016f17005c\": [{\"Country\": \"Greece\", \"IND\": \"RPI\", \"Indicator\": \"Rent prices, s.a.\", \"Time\": \"2005\", \"Value\": 102.331967325102}, {\"Country\": \"Greece\", \"IND\": \"RPI\", \"Indicator\": \"Rent prices, s.a.\", \"Time\": \"2006\", \"Value\": 106.79894199008001}, {\"Country\": \"Greece\", \"IND\": \"RPI\", \"Indicator\": \"Rent prices, s.a.\", \"Time\": \"2007\", \"Value\": 111.65766662567499}, {\"Country\": \"Greece\", \"IND\": \"RPI\", \"Indicator\": \"Rent prices, s.a.\", \"Time\": \"2008\", \"Value\": 115.997766300168}, {\"Country\": \"Greece\", \"IND\": \"RPI\", \"Indicator\": \"Rent prices, s.a.\", \"Time\": \"2009\", \"Value\": 120.196565985258}, {\"Country\": \"Greece\", \"IND\": \"RPI\", \"Indicator\": \"Rent prices, s.a.\", \"Time\": \"2010\", \"Value\": 123.135090764868}, {\"Country\": \"Greece\", \"IND\": \"RPI\", \"Indicator\": \"Rent prices, s.a.\", \"Time\": \"2011\", \"Value\": 124.163415687744}, {\"Country\": \"Greece\", \"IND\": \"RPI\", \"Indicator\": \"Rent prices, s.a.\", \"Time\": \"2012\", \"Value\": 121.580840881437}, {\"Country\": \"Greece\", \"IND\": \"RPI\", \"Indicator\": \"Rent prices, s.a.\", \"Time\": \"2013\", \"Value\": 113.3293415003}, {\"Country\": \"Greece\", \"IND\": \"RPI\", \"Indicator\": \"Rent prices, s.a.\", \"Time\": \"2014\", \"Value\": 104.63726715220501}, {\"Country\": \"Greece\", \"IND\": \"RPI\", \"Indicator\": \"Rent prices, s.a.\", \"Time\": \"2015\", \"Value\": 100.0}, {\"Country\": \"Greece\", \"IND\": \"RPI\", \"Indicator\": \"Rent prices, s.a.\", \"Time\": \"2016\", \"Value\": 97.3881426958895}, {\"Country\": \"Greece\", \"IND\": \"RPI\", \"Indicator\": \"Rent prices, s.a.\", \"Time\": \"2017\", \"Value\": 95.22417535818701}, {\"Country\": \"Greece\", \"IND\": \"RPI\", \"Indicator\": \"Rent prices, s.a.\", \"Time\": \"2018\", \"Value\": 92.1640330876977}, {\"Country\": \"Greece\", \"IND\": \"RPI\", \"Indicator\": \"Rent prices, s.a.\", \"Time\": \"2019\", \"Value\": 92.1640330868545}, {\"Country\": \"Slovenia\", \"IND\": \"RPI\", \"Indicator\": \"Rent prices, s.a.\", \"Time\": \"2005\", \"Value\": 92.50825644229009}, {\"Country\": \"Slovenia\", \"IND\": \"RPI\", \"Indicator\": \"Rent prices, s.a.\", \"Time\": \"2006\", \"Value\": 95.49744580418329}, {\"Country\": \"Slovenia\", \"IND\": \"RPI\", \"Indicator\": \"Rent prices, s.a.\", \"Time\": \"2007\", \"Value\": 98.33997147076771}, {\"Country\": \"Slovenia\", \"IND\": \"RPI\", \"Indicator\": \"Rent prices, s.a.\", \"Time\": \"2008\", \"Value\": 103.82002113317199}, {\"Country\": \"Slovenia\", \"IND\": \"RPI\", \"Indicator\": \"Rent prices, s.a.\", \"Time\": \"2009\", \"Value\": 103.319192051416}, {\"Country\": \"Slovenia\", \"IND\": \"RPI\", \"Indicator\": \"Rent prices, s.a.\", \"Time\": \"2010\", \"Value\": 101.876680294944}, {\"Country\": \"Slovenia\", \"IND\": \"RPI\", \"Indicator\": \"Rent prices, s.a.\", \"Time\": \"2011\", \"Value\": 101.48832712986601}, {\"Country\": \"Slovenia\", \"IND\": \"RPI\", \"Indicator\": \"Rent prices, s.a.\", \"Time\": \"2012\", \"Value\": 99.8333036414249}, {\"Country\": \"Slovenia\", \"IND\": \"RPI\", \"Indicator\": \"Rent prices, s.a.\", \"Time\": \"2013\", \"Value\": 98.775805022811}, {\"Country\": \"Slovenia\", \"IND\": \"RPI\", \"Indicator\": \"Rent prices, s.a.\", \"Time\": \"2014\", \"Value\": 98.0524666276031}, {\"Country\": \"Slovenia\", \"IND\": \"RPI\", \"Indicator\": \"Rent prices, s.a.\", \"Time\": \"2015\", \"Value\": 100.0}, {\"Country\": \"Slovenia\", \"IND\": \"RPI\", \"Indicator\": \"Rent prices, s.a.\", \"Time\": \"2016\", \"Value\": 101.620853209953}, {\"Country\": \"Slovenia\", \"IND\": \"RPI\", \"Indicator\": \"Rent prices, s.a.\", \"Time\": \"2017\", \"Value\": 106.96337175148001}, {\"Country\": \"Slovenia\", \"IND\": \"RPI\", \"Indicator\": \"Rent prices, s.a.\", \"Time\": \"2018\", \"Value\": 113.627576064745}, {\"Country\": \"Slovenia\", \"IND\": \"RPI\", \"Indicator\": \"Rent prices, s.a.\", \"Time\": \"2019\", \"Value\": 118.445965328761}, {\"Country\": \"Italy\", \"IND\": \"RPI\", \"Indicator\": \"Rent prices, s.a.\", \"Time\": \"2005\", \"Value\": 84.1666467724125}, {\"Country\": \"Italy\", \"IND\": \"RPI\", \"Indicator\": \"Rent prices, s.a.\", \"Time\": \"2006\", \"Value\": 86.2568133654392}, {\"Country\": \"Italy\", \"IND\": \"RPI\", \"Indicator\": \"Rent prices, s.a.\", \"Time\": \"2007\", \"Value\": 88.20699606968701}, {\"Country\": \"Italy\", \"IND\": \"RPI\", \"Indicator\": \"Rent prices, s.a.\", \"Time\": \"2008\", \"Value\": 90.3743965322753}, {\"Country\": \"Italy\", \"IND\": \"RPI\", \"Indicator\": \"Rent prices, s.a.\", \"Time\": \"2009\", \"Value\": 93.4058634095919}, {\"Country\": \"Italy\", \"IND\": \"RPI\", \"Indicator\": \"Rent prices, s.a.\", \"Time\": \"2010\", \"Value\": 95.22570895935141}, {\"Country\": \"Italy\", \"IND\": \"RPI\", \"Indicator\": \"Rent prices, s.a.\", \"Time\": \"2011\", \"Value\": 96.7621570037879}, {\"Country\": \"Italy\", \"IND\": \"RPI\", \"Indicator\": \"Rent prices, s.a.\", \"Time\": \"2012\", \"Value\": 98.8731069471361}, {\"Country\": \"Italy\", \"IND\": \"RPI\", \"Indicator\": \"Rent prices, s.a.\", \"Time\": \"2013\", \"Value\": 100.17457864282}, {\"Country\": \"Italy\", \"IND\": \"RPI\", \"Indicator\": \"Rent prices, s.a.\", \"Time\": \"2014\", \"Value\": 99.8650907084251}, {\"Country\": \"Italy\", \"IND\": \"RPI\", \"Indicator\": \"Rent prices, s.a.\", \"Time\": \"2015\", \"Value\": 100.0}, {\"Country\": \"Italy\", \"IND\": \"RPI\", \"Indicator\": \"Rent prices, s.a.\", \"Time\": \"2016\", \"Value\": 100.300363658635}, {\"Country\": \"Italy\", \"IND\": \"RPI\", \"Indicator\": \"Rent prices, s.a.\", \"Time\": \"2017\", \"Value\": 100.500347784895}, {\"Country\": \"Italy\", \"IND\": \"RPI\", \"Indicator\": \"Rent prices, s.a.\", \"Time\": \"2018\", \"Value\": 100.883642360888}, {\"Country\": \"Italy\", \"IND\": \"RPI\", \"Indicator\": \"Rent prices, s.a.\", \"Time\": \"2019\", \"Value\": 101.15862053449601}, {\"Country\": \"Portugal\", \"IND\": \"RPI\", \"Indicator\": \"Rent prices, s.a.\", \"Time\": \"2005\", \"Value\": 79.89009}, {\"Country\": \"Portugal\", \"IND\": \"RPI\", \"Indicator\": \"Rent prices, s.a.\", \"Time\": \"2006\", \"Value\": 81.9191475}, {\"Country\": \"Portugal\", \"IND\": \"RPI\", \"Indicator\": \"Rent prices, s.a.\", \"Time\": \"2007\", \"Value\": 84.1190075}, {\"Country\": \"Portugal\", \"IND\": \"RPI\", \"Indicator\": \"Rent prices, s.a.\", \"Time\": \"2008\", \"Value\": 86.6675875}, {\"Country\": \"Portugal\", \"IND\": \"RPI\", \"Indicator\": \"Rent prices, s.a.\", \"Time\": \"2009\", \"Value\": 89.00076}, {\"Country\": \"Portugal\", \"IND\": \"RPI\", \"Indicator\": \"Rent prices, s.a.\", \"Time\": \"2010\", \"Value\": 90.8615}, {\"Country\": \"Portugal\", \"IND\": \"RPI\", \"Indicator\": \"Rent prices, s.a.\", \"Time\": \"2011\", \"Value\": 91.71321}, {\"Country\": \"Portugal\", \"IND\": \"RPI\", \"Indicator\": \"Rent prices, s.a.\", \"Time\": \"2012\", \"Value\": 93.5516525}, {\"Country\": \"Portugal\", \"IND\": \"RPI\", \"Indicator\": \"Rent prices, s.a.\", \"Time\": \"2013\", \"Value\": 94.7166775}, {\"Country\": \"Portugal\", \"IND\": \"RPI\", \"Indicator\": \"Rent prices, s.a.\", \"Time\": \"2014\", \"Value\": 98.9102025}, {\"Country\": \"Portugal\", \"IND\": \"RPI\", \"Indicator\": \"Rent prices, s.a.\", \"Time\": \"2015\", \"Value\": 100.0}, {\"Country\": \"Portugal\", \"IND\": \"RPI\", \"Indicator\": \"Rent prices, s.a.\", \"Time\": \"2016\", \"Value\": 101.70465}, {\"Country\": \"Portugal\", \"IND\": \"RPI\", \"Indicator\": \"Rent prices, s.a.\", \"Time\": \"2017\", \"Value\": 102.71635}, {\"Country\": \"Portugal\", \"IND\": \"RPI\", \"Indicator\": \"Rent prices, s.a.\", \"Time\": \"2018\", \"Value\": 104.656925}, {\"Country\": \"Portugal\", \"IND\": \"RPI\", \"Indicator\": \"Rent prices, s.a.\", \"Time\": \"2019\", \"Value\": 107.970224999097}, {\"Country\": \"Spain\", \"IND\": \"RPI\", \"Indicator\": \"Rent prices, s.a.\", \"Time\": \"2005\", \"Value\": 84.3212997562276}, {\"Country\": \"Spain\", \"IND\": \"RPI\", \"Indicator\": \"Rent prices, s.a.\", \"Time\": \"2006\", \"Value\": 87.99715039950149}, {\"Country\": \"Spain\", \"IND\": \"RPI\", \"Indicator\": \"Rent prices, s.a.\", \"Time\": \"2007\", \"Value\": 91.84143857225192}, {\"Country\": \"Spain\", \"IND\": \"RPI\", \"Indicator\": \"Rent prices, s.a.\", \"Time\": \"2008\", \"Value\": 95.7398467544733}, {\"Country\": \"Spain\", \"IND\": \"RPI\", \"Indicator\": \"Rent prices, s.a.\", \"Time\": \"2009\", \"Value\": 98.6824247694245}, {\"Country\": \"Spain\", \"IND\": \"RPI\", \"Indicator\": \"Rent prices, s.a.\", \"Time\": \"2010\", \"Value\": 99.7787099612743}, {\"Country\": \"Spain\", \"IND\": \"RPI\", \"Indicator\": \"Rent prices, s.a.\", \"Time\": \"2011\", \"Value\": 100.814067642462}, {\"Country\": \"Spain\", \"IND\": \"RPI\", \"Indicator\": \"Rent prices, s.a.\", \"Time\": \"2012\", \"Value\": 101.368142739425}, {\"Country\": \"Spain\", \"IND\": \"RPI\", \"Indicator\": \"Rent prices, s.a.\", \"Time\": \"2013\", \"Value\": 101.179792706464}, {\"Country\": \"Spain\", \"IND\": \"RPI\", \"Indicator\": \"Rent prices, s.a.\", \"Time\": \"2014\", \"Value\": 100.48426758474702}, {\"Country\": \"Spain\", \"IND\": \"RPI\", \"Indicator\": \"Rent prices, s.a.\", \"Time\": \"2015\", \"Value\": 100.0}, {\"Country\": \"Spain\", \"IND\": \"RPI\", \"Indicator\": \"Rent prices, s.a.\", \"Time\": \"2016\", \"Value\": 99.9120949846167}, {\"Country\": \"Spain\", \"IND\": \"RPI\", \"Indicator\": \"Rent prices, s.a.\", \"Time\": \"2017\", \"Value\": 100.322317556406}, {\"Country\": \"Spain\", \"IND\": \"RPI\", \"Indicator\": \"Rent prices, s.a.\", \"Time\": \"2018\", \"Value\": 101.59021777828801}, {\"Country\": \"Spain\", \"IND\": \"RPI\", \"Indicator\": \"Rent prices, s.a.\", \"Time\": \"2019\", \"Value\": 103.155318052144}]}}, {\"mode\": \"vega-lite\"});\n",
       "</script>"
      ],
      "text/plain": [
       "alt.Chart(...)"
      ]
     },
     "execution_count": 15,
     "metadata": {},
     "output_type": "execute_result"
    }
   ],
   "source": [
    "# Visualization of the independent variable \"Rent Prices\" per country\n",
    "input_dropdown = alt.binding_select(options=['Greece','Italy','Portugal','Slovenia','Spain'])\n",
    "selection = alt.selection_single(fields=['Country'], bind=input_dropdown, name='Country of ')\n",
    "color = alt.condition(selection,\n",
    "                    alt.Color('Origin:N', legend=None),\n",
    "                    alt.value('lightgray'))\n",
    "\n",
    "alt.Chart(housing_rent_prices).mark_line().encode(\n",
    "    x='Time',\n",
    "    y='Value',\n",
    "    color='Country:N',\n",
    "    tooltip='Country:N'\n",
    ").add_selection(\n",
    "    selection\n",
    ").transform_filter(\n",
    "    selection\n",
    ").properties(\n",
    "    width=800,\n",
    "    height=600\n",
    ")"
   ]
  },
  {
   "cell_type": "markdown",
   "metadata": {
    "hideCode": false,
    "hidePrompt": false,
    "slideshow": {
     "slide_type": "slide"
    }
   },
   "source": [
    "##### Filter per Country"
   ]
  },
  {
   "cell_type": "code",
   "execution_count": 16,
   "metadata": {
    "hideCode": false,
    "hidePrompt": false,
    "slideshow": {
     "slide_type": "subslide"
    }
   },
   "outputs": [],
   "source": [
    "#Create a new dataframe filtered by Country\n",
    "housing_italy = housing_filtered[housing_filtered['Country'] == 'Italy']\n",
    "housing_greece = housing_filtered[housing_filtered['Country'] == 'Greece']\n",
    "housing_portugal = housing_filtered[housing_filtered['Country'] == 'Portugal']\n",
    "housing_spain = housing_filtered[housing_filtered['Country'] == 'Spain']\n",
    "housing_slovenia = housing_filtered[housing_filtered['Country'] == 'Slovenia']"
   ]
  },
  {
   "cell_type": "markdown",
   "metadata": {
    "hideCode": false,
    "hidePrompt": false,
    "slideshow": {
     "slide_type": "slide"
    }
   },
   "source": [
    "### Housing KPIs Tables"
   ]
  },
  {
   "cell_type": "markdown",
   "metadata": {
    "hideCode": false,
    "hidePrompt": false,
    "slideshow": {
     "slide_type": "subslide"
    }
   },
   "source": [
    "### Italy"
   ]
  },
  {
   "cell_type": "code",
   "execution_count": 17,
   "metadata": {
    "hideCode": false,
    "hideOutput": true,
    "hidePrompt": false,
    "slideshow": {
     "slide_type": "skip"
    }
   },
   "outputs": [
    {
     "data": {
      "text/html": [
       "<div>\n",
       "<style scoped>\n",
       "    .dataframe tbody tr th:only-of-type {\n",
       "        vertical-align: middle;\n",
       "    }\n",
       "\n",
       "    .dataframe tbody tr th {\n",
       "        vertical-align: top;\n",
       "    }\n",
       "\n",
       "    .dataframe thead th {\n",
       "        text-align: right;\n",
       "    }\n",
       "</style>\n",
       "<table border=\"1\" class=\"dataframe\">\n",
       "  <thead>\n",
       "    <tr style=\"text-align: right;\">\n",
       "      <th></th>\n",
       "      <th>Country</th>\n",
       "      <th>IND</th>\n",
       "      <th>Indicator</th>\n",
       "      <th>Time</th>\n",
       "      <th>Value</th>\n",
       "    </tr>\n",
       "  </thead>\n",
       "  <tbody>\n",
       "    <tr>\n",
       "      <th>0</th>\n",
       "      <td>Italy</td>\n",
       "      <td>HPI</td>\n",
       "      <td>Nominal house price indices, s.a.</td>\n",
       "      <td>2005</td>\n",
       "      <td>108.225783</td>\n",
       "    </tr>\n",
       "    <tr>\n",
       "      <th>5</th>\n",
       "      <td>Italy</td>\n",
       "      <td>HPI</td>\n",
       "      <td>Nominal house price indices, s.a.</td>\n",
       "      <td>2006</td>\n",
       "      <td>115.191197</td>\n",
       "    </tr>\n",
       "    <tr>\n",
       "      <th>10</th>\n",
       "      <td>Italy</td>\n",
       "      <td>HPI</td>\n",
       "      <td>Nominal house price indices, s.a.</td>\n",
       "      <td>2007</td>\n",
       "      <td>121.130252</td>\n",
       "    </tr>\n",
       "    <tr>\n",
       "      <th>15</th>\n",
       "      <td>Italy</td>\n",
       "      <td>HPI</td>\n",
       "      <td>Nominal house price indices, s.a.</td>\n",
       "      <td>2008</td>\n",
       "      <td>123.177099</td>\n",
       "    </tr>\n",
       "    <tr>\n",
       "      <th>20</th>\n",
       "      <td>Italy</td>\n",
       "      <td>HPI</td>\n",
       "      <td>Nominal house price indices, s.a.</td>\n",
       "      <td>2009</td>\n",
       "      <td>118.646535</td>\n",
       "    </tr>\n",
       "  </tbody>\n",
       "</table>\n",
       "</div>"
      ],
      "text/plain": [
       "   Country  IND                          Indicator  Time       Value\n",
       "0    Italy  HPI  Nominal house price indices, s.a.  2005  108.225783\n",
       "5    Italy  HPI  Nominal house price indices, s.a.  2006  115.191197\n",
       "10   Italy  HPI  Nominal house price indices, s.a.  2007  121.130252\n",
       "15   Italy  HPI  Nominal house price indices, s.a.  2008  123.177099\n",
       "20   Italy  HPI  Nominal house price indices, s.a.  2009  118.646535"
      ]
     },
     "execution_count": 17,
     "metadata": {},
     "output_type": "execute_result"
    }
   ],
   "source": [
    "#Retrieve first 5 columns of the dataframe\n",
    "housing_italy.head()"
   ]
  },
  {
   "cell_type": "code",
   "execution_count": 18,
   "metadata": {
    "hideCode": false,
    "hideOutput": true,
    "hidePrompt": false,
    "scrolled": true,
    "slideshow": {
     "slide_type": "skip"
    }
   },
   "outputs": [
    {
     "name": "stdout",
     "output_type": "stream",
     "text": [
      "<class 'pandas.core.frame.DataFrame'>\n",
      "Int64Index: 105 entries, 0 to 2278\n",
      "Data columns (total 5 columns):\n",
      " #   Column     Non-Null Count  Dtype  \n",
      "---  ------     --------------  -----  \n",
      " 0   Country    105 non-null    object \n",
      " 1   IND        105 non-null    object \n",
      " 2   Indicator  105 non-null    object \n",
      " 3   Time       105 non-null    object \n",
      " 4   Value      105 non-null    float64\n",
      "dtypes: float64(1), object(4)\n",
      "memory usage: 4.9+ KB\n"
     ]
    }
   ],
   "source": [
    "#Get insight on the structure and number of missing values\n",
    "housing_italy.info()"
   ]
  },
  {
   "cell_type": "code",
   "execution_count": 19,
   "metadata": {
    "hideCode": false,
    "hideOutput": true,
    "hidePrompt": false,
    "slideshow": {
     "slide_type": "skip"
    }
   },
   "outputs": [
    {
     "data": {
      "text/plain": [
       "array(['Nominal house price indices, s.a.',\n",
       "       'Standardised price-rent ratio', 'Price to income ratio',\n",
       "       'Rent prices, s.a.', 'Price to rent ratio',\n",
       "       'Standardised price-income ratio',\n",
       "       'Real house price indices, s.a.'], dtype=object)"
      ]
     },
     "execution_count": 19,
     "metadata": {},
     "output_type": "execute_result"
    }
   ],
   "source": [
    "#Retrieve all column names to copy them into the next visualization\n",
    "housing_italy['Indicator'].unique()"
   ]
  },
  {
   "cell_type": "markdown",
   "metadata": {
    "hideCode": false,
    "hidePrompt": false,
    "slideshow": {
     "slide_type": "slide"
    }
   },
   "source": [
    "##### Visualization of all housing parameters for Italy"
   ]
  },
  {
   "cell_type": "code",
   "execution_count": 20,
   "metadata": {
    "hideCode": false,
    "hidePrompt": false,
    "slideshow": {
     "slide_type": "subslide"
    }
   },
   "outputs": [
    {
     "data": {
      "text/html": [
       "\n",
       "<div id=\"altair-viz-7a50353e9d4242fe92e44807d7ab6608\"></div>\n",
       "<script type=\"text/javascript\">\n",
       "  (function(spec, embedOpt){\n",
       "    let outputDiv = document.currentScript.previousElementSibling;\n",
       "    if (outputDiv.id !== \"altair-viz-7a50353e9d4242fe92e44807d7ab6608\") {\n",
       "      outputDiv = document.getElementById(\"altair-viz-7a50353e9d4242fe92e44807d7ab6608\");\n",
       "    }\n",
       "    const paths = {\n",
       "      \"vega\": \"https://cdn.jsdelivr.net/npm//vega@5?noext\",\n",
       "      \"vega-lib\": \"https://cdn.jsdelivr.net/npm//vega-lib?noext\",\n",
       "      \"vega-lite\": \"https://cdn.jsdelivr.net/npm//vega-lite@4.8.1?noext\",\n",
       "      \"vega-embed\": \"https://cdn.jsdelivr.net/npm//vega-embed@6?noext\",\n",
       "    };\n",
       "\n",
       "    function loadScript(lib) {\n",
       "      return new Promise(function(resolve, reject) {\n",
       "        var s = document.createElement('script');\n",
       "        s.src = paths[lib];\n",
       "        s.async = true;\n",
       "        s.onload = () => resolve(paths[lib]);\n",
       "        s.onerror = () => reject(`Error loading script: ${paths[lib]}`);\n",
       "        document.getElementsByTagName(\"head\")[0].appendChild(s);\n",
       "      });\n",
       "    }\n",
       "\n",
       "    function showError(err) {\n",
       "      outputDiv.innerHTML = `<div class=\"error\" style=\"color:red;\">${err}</div>`;\n",
       "      throw err;\n",
       "    }\n",
       "\n",
       "    function displayChart(vegaEmbed) {\n",
       "      vegaEmbed(outputDiv, spec, embedOpt)\n",
       "        .catch(err => showError(`Javascript Error: ${err.message}<br>This usually means there's a typo in your chart specification. See the javascript console for the full traceback.`));\n",
       "    }\n",
       "\n",
       "    if(typeof define === \"function\" && define.amd) {\n",
       "      requirejs.config({paths});\n",
       "      require([\"vega-embed\"], displayChart, err => showError(`Error loading script: ${err.message}`));\n",
       "    } else if (typeof vegaEmbed === \"function\") {\n",
       "      displayChart(vegaEmbed);\n",
       "    } else {\n",
       "      loadScript(\"vega\")\n",
       "        .then(() => loadScript(\"vega-lite\"))\n",
       "        .then(() => loadScript(\"vega-embed\"))\n",
       "        .catch(showError)\n",
       "        .then(() => displayChart(vegaEmbed));\n",
       "    }\n",
       "  })({\"config\": {\"view\": {\"continuousWidth\": 400, \"continuousHeight\": 300}}, \"data\": {\"name\": \"data-83794b6112d08016811496655037c1f6\"}, \"mark\": \"line\", \"encoding\": {\"color\": {\"type\": \"nominal\", \"field\": \"Indicator\"}, \"tooltip\": {\"type\": \"nominal\", \"field\": \"Indicator\"}, \"x\": {\"type\": \"nominal\", \"field\": \"Time\"}, \"y\": {\"type\": \"quantitative\", \"field\": \"Value\"}}, \"height\": 600, \"selection\": {\"Indicator\": {\"type\": \"single\", \"fields\": [\"Indicator\"], \"bind\": {\"input\": \"select\", \"options\": [\"Nominal house price indices, s.a.\", \"Standardised price-rent ratio\", \"Price to income ratio\", \"Rent prices, s.a.\", \"Price to rent ratio\", \"Standardised price-income ratio\", \"Real house price indices, s.a.\"]}}}, \"transform\": [{\"filter\": {\"selection\": \"Indicator\"}}], \"width\": 700, \"$schema\": \"https://vega.github.io/schema/vega-lite/v4.8.1.json\", \"datasets\": {\"data-83794b6112d08016811496655037c1f6\": [{\"Country\": \"Italy\", \"IND\": \"HPI\", \"Indicator\": \"Nominal house price indices, s.a.\", \"Time\": \"2005\", \"Value\": 108.22578349582899}, {\"Country\": \"Italy\", \"IND\": \"HPI\", \"Indicator\": \"Nominal house price indices, s.a.\", \"Time\": \"2006\", \"Value\": 115.19119710523701}, {\"Country\": \"Italy\", \"IND\": \"HPI\", \"Indicator\": \"Nominal house price indices, s.a.\", \"Time\": \"2007\", \"Value\": 121.130252286662}, {\"Country\": \"Italy\", \"IND\": \"HPI\", \"Indicator\": \"Nominal house price indices, s.a.\", \"Time\": \"2008\", \"Value\": 123.17709920594999}, {\"Country\": \"Italy\", \"IND\": \"HPI\", \"Indicator\": \"Nominal house price indices, s.a.\", \"Time\": \"2009\", \"Value\": 118.64653533018401}, {\"Country\": \"Italy\", \"IND\": \"HPI\", \"Indicator\": \"Nominal house price indices, s.a.\", \"Time\": \"2010\", \"Value\": 118.1}, {\"Country\": \"Italy\", \"IND\": \"HPI\", \"Indicator\": \"Nominal house price indices, s.a.\", \"Time\": \"2011\", \"Value\": 119.7}, {\"Country\": \"Italy\", \"IND\": \"HPI\", \"Indicator\": \"Nominal house price indices, s.a.\", \"Time\": \"2012\", \"Value\": 116.65}, {\"Country\": \"Italy\", \"IND\": \"HPI\", \"Indicator\": \"Nominal house price indices, s.a.\", \"Time\": \"2013\", \"Value\": 109.1}, {\"Country\": \"Italy\", \"IND\": \"HPI\", \"Indicator\": \"Nominal house price indices, s.a.\", \"Time\": \"2014\", \"Value\": 103.95}, {\"Country\": \"Italy\", \"IND\": \"HPI\", \"Indicator\": \"Nominal house price indices, s.a.\", \"Time\": \"2015\", \"Value\": 100.0}, {\"Country\": \"Italy\", \"IND\": \"HPI\", \"Indicator\": \"Nominal house price indices, s.a.\", \"Time\": \"2016\", \"Value\": 100.25}, {\"Country\": \"Italy\", \"IND\": \"HPI\", \"Indicator\": \"Nominal house price indices, s.a.\", \"Time\": \"2017\", \"Value\": 99.1749999999999}, {\"Country\": \"Italy\", \"IND\": \"HPI\", \"Indicator\": \"Nominal house price indices, s.a.\", \"Time\": \"2018\", \"Value\": 98.6249999999999}, {\"Country\": \"Italy\", \"IND\": \"HPI\", \"Indicator\": \"Nominal house price indices, s.a.\", \"Time\": \"2019\", \"Value\": 98.52499999999371}, {\"Country\": \"Italy\", \"IND\": \"HPI_RPI_AVG\", \"Indicator\": \"Standardised price-rent ratio\", \"Time\": \"2005\", \"Value\": 114.775763231737}, {\"Country\": \"Italy\", \"IND\": \"HPI_RPI_AVG\", \"Indicator\": \"Standardised price-rent ratio\", \"Time\": \"2006\", \"Value\": 119.204215438767}, {\"Country\": \"Italy\", \"IND\": \"HPI_RPI_AVG\", \"Indicator\": \"Standardised price-rent ratio\", \"Time\": \"2007\", \"Value\": 122.581444162388}, {\"Country\": \"Italy\", \"IND\": \"HPI_RPI_AVG\", \"Indicator\": \"Standardised price-rent ratio\", \"Time\": \"2008\", \"Value\": 121.687934240391}, {\"Country\": \"Italy\", \"IND\": \"HPI_RPI_AVG\", \"Indicator\": \"Standardised price-rent ratio\", \"Time\": \"2009\", \"Value\": 113.402158391104}, {\"Country\": \"Italy\", \"IND\": \"HPI_RPI_AVG\", \"Indicator\": \"Standardised price-rent ratio\", \"Time\": \"2010\", \"Value\": 110.708955112868}, {\"Country\": \"Italy\", \"IND\": \"HPI_RPI_AVG\", \"Indicator\": \"Standardised price-rent ratio\", \"Time\": \"2011\", \"Value\": 110.42966548170601}, {\"Country\": \"Italy\", \"IND\": \"HPI_RPI_AVG\", \"Indicator\": \"Standardised price-rent ratio\", \"Time\": \"2012\", \"Value\": 105.33025593875601}, {\"Country\": \"Italy\", \"IND\": \"HPI_RPI_AVG\", \"Indicator\": \"Standardised price-rent ratio\", \"Time\": \"2013\", \"Value\": 97.2225144783098}, {\"Country\": \"Italy\", \"IND\": \"HPI_RPI_AVG\", \"Indicator\": \"Standardised price-rent ratio\", \"Time\": \"2014\", \"Value\": 92.91873177175042}, {\"Country\": \"Italy\", \"IND\": \"HPI_RPI_AVG\", \"Indicator\": \"Standardised price-rent ratio\", \"Time\": \"2015\", \"Value\": 89.2670036156071}, {\"Country\": \"Italy\", \"IND\": \"HPI_RPI_AVG\", \"Indicator\": \"Standardised price-rent ratio\", \"Time\": \"2016\", \"Value\": 89.2221402247233}, {\"Country\": \"Italy\", \"IND\": \"HPI_RPI_AVG\", \"Indicator\": \"Standardised price-rent ratio\", \"Time\": \"2017\", \"Value\": 88.0900725935813}, {\"Country\": \"Italy\", \"IND\": \"HPI_RPI_AVG\", \"Indicator\": \"Standardised price-rent ratio\", \"Time\": \"2018\", \"Value\": 87.2688317073176}, {\"Country\": \"Italy\", \"IND\": \"HPI_RPI_AVG\", \"Indicator\": \"Standardised price-rent ratio\", \"Time\": \"2019\", \"Value\": 86.9429151291452}, {\"Country\": \"Italy\", \"IND\": \"HPI_YDH\", \"Indicator\": \"Price to income ratio\", \"Time\": \"2005\", \"Value\": 111.291106851978}, {\"Country\": \"Italy\", \"IND\": \"HPI_YDH\", \"Indicator\": \"Price to income ratio\", \"Time\": \"2006\", \"Value\": 114.760312636072}, {\"Country\": \"Italy\", \"IND\": \"HPI_YDH\", \"Indicator\": \"Price to income ratio\", \"Time\": \"2007\", \"Value\": 117.263881349974}, {\"Country\": \"Italy\", \"IND\": \"HPI_YDH\", \"Indicator\": \"Price to income ratio\", \"Time\": \"2008\", \"Value\": 118.451023262028}, {\"Country\": \"Italy\", \"IND\": \"HPI_YDH\", \"Indicator\": \"Price to income ratio\", \"Time\": \"2009\", \"Value\": 117.93698138616101}, {\"Country\": \"Italy\", \"IND\": \"HPI_YDH\", \"Indicator\": \"Price to income ratio\", \"Time\": \"2010\", \"Value\": 118.304050227201}, {\"Country\": \"Italy\", \"IND\": \"HPI_YDH\", \"Indicator\": \"Price to income ratio\", \"Time\": \"2011\", \"Value\": 117.440209010261}, {\"Country\": \"Italy\", \"IND\": \"HPI_YDH\", \"Indicator\": \"Price to income ratio\", \"Time\": \"2012\", \"Value\": 118.70644809288}, {\"Country\": \"Italy\", \"IND\": \"HPI_YDH\", \"Indicator\": \"Price to income ratio\", \"Time\": \"2013\", \"Value\": 111.04308867944201}, {\"Country\": \"Italy\", \"IND\": \"HPI_YDH\", \"Indicator\": \"Price to income ratio\", \"Time\": \"2014\", \"Value\": 105.335411519979}, {\"Country\": \"Italy\", \"IND\": \"HPI_YDH\", \"Indicator\": \"Price to income ratio\", \"Time\": \"2015\", \"Value\": 100.0}, {\"Country\": \"Italy\", \"IND\": \"HPI_YDH\", \"Indicator\": \"Price to income ratio\", \"Time\": \"2016\", \"Value\": 98.7688517899674}, {\"Country\": \"Italy\", \"IND\": \"HPI_YDH\", \"Indicator\": \"Price to income ratio\", \"Time\": \"2017\", \"Value\": 95.5212007678939}, {\"Country\": \"Italy\", \"IND\": \"HPI_YDH\", \"Indicator\": \"Price to income ratio\", \"Time\": \"2018\", \"Value\": 93.2078207166671}, {\"Country\": \"Italy\", \"IND\": \"HPI_YDH\", \"Indicator\": \"Price to income ratio\", \"Time\": \"2019\", \"Value\": 92.01148529931709}, {\"Country\": \"Italy\", \"IND\": \"RPI\", \"Indicator\": \"Rent prices, s.a.\", \"Time\": \"2005\", \"Value\": 84.1666467724125}, {\"Country\": \"Italy\", \"IND\": \"RPI\", \"Indicator\": \"Rent prices, s.a.\", \"Time\": \"2006\", \"Value\": 86.2568133654392}, {\"Country\": \"Italy\", \"IND\": \"RPI\", \"Indicator\": \"Rent prices, s.a.\", \"Time\": \"2007\", \"Value\": 88.20699606968701}, {\"Country\": \"Italy\", \"IND\": \"RPI\", \"Indicator\": \"Rent prices, s.a.\", \"Time\": \"2008\", \"Value\": 90.3743965322753}, {\"Country\": \"Italy\", \"IND\": \"RPI\", \"Indicator\": \"Rent prices, s.a.\", \"Time\": \"2009\", \"Value\": 93.4058634095919}, {\"Country\": \"Italy\", \"IND\": \"RPI\", \"Indicator\": \"Rent prices, s.a.\", \"Time\": \"2010\", \"Value\": 95.22570895935141}, {\"Country\": \"Italy\", \"IND\": \"RPI\", \"Indicator\": \"Rent prices, s.a.\", \"Time\": \"2011\", \"Value\": 96.7621570037879}, {\"Country\": \"Italy\", \"IND\": \"RPI\", \"Indicator\": \"Rent prices, s.a.\", \"Time\": \"2012\", \"Value\": 98.8731069471361}, {\"Country\": \"Italy\", \"IND\": \"RPI\", \"Indicator\": \"Rent prices, s.a.\", \"Time\": \"2013\", \"Value\": 100.17457864282}, {\"Country\": \"Italy\", \"IND\": \"RPI\", \"Indicator\": \"Rent prices, s.a.\", \"Time\": \"2014\", \"Value\": 99.8650907084251}, {\"Country\": \"Italy\", \"IND\": \"RPI\", \"Indicator\": \"Rent prices, s.a.\", \"Time\": \"2015\", \"Value\": 100.0}, {\"Country\": \"Italy\", \"IND\": \"RPI\", \"Indicator\": \"Rent prices, s.a.\", \"Time\": \"2016\", \"Value\": 100.300363658635}, {\"Country\": \"Italy\", \"IND\": \"RPI\", \"Indicator\": \"Rent prices, s.a.\", \"Time\": \"2017\", \"Value\": 100.500347784895}, {\"Country\": \"Italy\", \"IND\": \"RPI\", \"Indicator\": \"Rent prices, s.a.\", \"Time\": \"2018\", \"Value\": 100.883642360888}, {\"Country\": \"Italy\", \"IND\": \"RPI\", \"Indicator\": \"Rent prices, s.a.\", \"Time\": \"2019\", \"Value\": 101.15862053449601}, {\"Country\": \"Italy\", \"IND\": \"HPI_RPI\", \"Indicator\": \"Price to rent ratio\", \"Time\": \"2005\", \"Value\": 128.575799100386}, {\"Country\": \"Italy\", \"IND\": \"HPI_RPI\", \"Indicator\": \"Price to rent ratio\", \"Time\": \"2006\", \"Value\": 133.53670517728202}, {\"Country\": \"Italy\", \"IND\": \"HPI_RPI\", \"Indicator\": \"Price to rent ratio\", \"Time\": \"2007\", \"Value\": 137.319994171907}, {\"Country\": \"Italy\", \"IND\": \"HPI_RPI\", \"Indicator\": \"Price to rent ratio\", \"Time\": \"2008\", \"Value\": 136.319053302597}, {\"Country\": \"Italy\", \"IND\": \"HPI_RPI\", \"Indicator\": \"Price to rent ratio\", \"Time\": \"2009\", \"Value\": 127.037039217117}, {\"Country\": \"Italy\", \"IND\": \"HPI_RPI\", \"Indicator\": \"Price to rent ratio\", \"Time\": \"2010\", \"Value\": 124.02001930029101}, {\"Country\": \"Italy\", \"IND\": \"HPI_RPI\", \"Indicator\": \"Price to rent ratio\", \"Time\": \"2011\", \"Value\": 123.70714934851802}, {\"Country\": \"Italy\", \"IND\": \"HPI_RPI\", \"Indicator\": \"Price to rent ratio\", \"Time\": \"2012\", \"Value\": 117.99461354423799}, {\"Country\": \"Italy\", \"IND\": \"HPI_RPI\", \"Indicator\": \"Price to rent ratio\", \"Time\": \"2013\", \"Value\": 108.912039768871}, {\"Country\": \"Italy\", \"IND\": \"HPI_RPI\", \"Indicator\": \"Price to rent ratio\", \"Time\": \"2014\", \"Value\": 104.090792799395}, {\"Country\": \"Italy\", \"IND\": \"HPI_RPI\", \"Indicator\": \"Price to rent ratio\", \"Time\": \"2015\", \"Value\": 100.0}, {\"Country\": \"Italy\", \"IND\": \"HPI_RPI\", \"Indicator\": \"Price to rent ratio\", \"Time\": \"2016\", \"Value\": 99.949742470267}, {\"Country\": \"Italy\", \"IND\": \"HPI_RPI\", \"Indicator\": \"Price to rent ratio\", \"Time\": \"2017\", \"Value\": 98.681560963899}, {\"Country\": \"Italy\", \"IND\": \"HPI_RPI\", \"Indicator\": \"Price to rent ratio\", \"Time\": \"2018\", \"Value\": 97.7615783801886}, {\"Country\": \"Italy\", \"IND\": \"HPI_RPI\", \"Indicator\": \"Price to rent ratio\", \"Time\": \"2019\", \"Value\": 97.39647530181509}, {\"Country\": \"Italy\", \"IND\": \"HPI_YDH_AVG\", \"Indicator\": \"Standardised price-income ratio\", \"Time\": \"2005\", \"Value\": 112.323924084387}, {\"Country\": \"Italy\", \"IND\": \"HPI_YDH_AVG\", \"Indicator\": \"Standardised price-income ratio\", \"Time\": \"2006\", \"Value\": 115.825325212907}, {\"Country\": \"Italy\", \"IND\": \"HPI_YDH_AVG\", \"Indicator\": \"Standardised price-income ratio\", \"Time\": \"2007\", \"Value\": 118.35212784893801}, {\"Country\": \"Italy\", \"IND\": \"HPI_YDH_AVG\", \"Indicator\": \"Standardised price-income ratio\", \"Time\": \"2008\", \"Value\": 119.550286819396}, {\"Country\": \"Italy\", \"IND\": \"HPI_YDH_AVG\", \"Indicator\": \"Standardised price-income ratio\", \"Time\": \"2009\", \"Value\": 119.031474469746}, {\"Country\": \"Italy\", \"IND\": \"HPI_YDH_AVG\", \"Indicator\": \"Standardised price-income ratio\", \"Time\": \"2010\", \"Value\": 119.40194982758001}, {\"Country\": \"Italy\", \"IND\": \"HPI_YDH_AVG\", \"Indicator\": \"Standardised price-income ratio\", \"Time\": \"2011\", \"Value\": 118.530091886571}, {\"Country\": \"Italy\", \"IND\": \"HPI_YDH_AVG\", \"Indicator\": \"Standardised price-income ratio\", \"Time\": \"2012\", \"Value\": 119.808082074753}, {\"Country\": \"Italy\", \"IND\": \"HPI_YDH_AVG\", \"Indicator\": \"Standardised price-income ratio\", \"Time\": \"2013\", \"Value\": 112.07360422351499}, {\"Country\": \"Italy\", \"IND\": \"HPI_YDH_AVG\", \"Indicator\": \"Standardised price-income ratio\", \"Time\": \"2014\", \"Value\": 106.312957985983}, {\"Country\": \"Italy\", \"IND\": \"HPI_YDH_AVG\", \"Indicator\": \"Standardised price-income ratio\", \"Time\": \"2015\", \"Value\": 100.928032132687}, {\"Country\": \"Italy\", \"IND\": \"HPI_YDH_AVG\", \"Indicator\": \"Standardised price-income ratio\", \"Time\": \"2016\", \"Value\": 99.6854584716644}, {\"Country\": \"Italy\", \"IND\": \"HPI_YDH_AVG\", \"Indicator\": \"Standardised price-income ratio\", \"Time\": \"2017\", \"Value\": 96.40766820454849}, {\"Country\": \"Italy\", \"IND\": \"HPI_YDH_AVG\", \"Indicator\": \"Standardised price-income ratio\", \"Time\": \"2018\", \"Value\": 94.07281924309521}, {\"Country\": \"Italy\", \"IND\": \"HPI_YDH_AVG\", \"Indicator\": \"Standardised price-income ratio\", \"Time\": \"2019\", \"Value\": 92.86538144865749}, {\"Country\": \"Italy\", \"IND\": \"RHP\", \"Indicator\": \"Real house price indices, s.a.\", \"Time\": \"2005\", \"Value\": 126.998283118186}, {\"Country\": \"Italy\", \"IND\": \"RHP\", \"Indicator\": \"Real house price indices, s.a.\", \"Time\": \"2006\", \"Value\": 131.633497323762}, {\"Country\": \"Italy\", \"IND\": \"RHP\", \"Indicator\": \"Real house price indices, s.a.\", \"Time\": \"2007\", \"Value\": 135.388771858498}, {\"Country\": \"Italy\", \"IND\": \"RHP\", \"Indicator\": \"Real house price indices, s.a.\", \"Time\": \"2008\", \"Value\": 133.40978540574102}, {\"Country\": \"Italy\", \"IND\": \"RHP\", \"Indicator\": \"Real house price indices, s.a.\", \"Time\": \"2009\", \"Value\": 129.239400770932}, {\"Country\": \"Italy\", \"IND\": \"RHP\", \"Indicator\": \"Real house price indices, s.a.\", \"Time\": \"2010\", \"Value\": 126.632152610273}, {\"Country\": \"Italy\", \"IND\": \"RHP\", \"Indicator\": \"Real house price indices, s.a.\", \"Time\": \"2011\", \"Value\": 124.705820681582}, {\"Country\": \"Italy\", \"IND\": \"RHP\", \"Indicator\": \"Real house price indices, s.a.\", \"Time\": \"2012\", \"Value\": 118.426287911697}, {\"Country\": \"Italy\", \"IND\": \"RHP\", \"Indicator\": \"Real house price indices, s.a.\", \"Time\": \"2013\", \"Value\": 109.536745467173}, {\"Country\": \"Italy\", \"IND\": \"RHP\", \"Indicator\": \"Real house price indices, s.a.\", \"Time\": \"2014\", \"Value\": 104.10954540986602}, {\"Country\": \"Italy\", \"IND\": \"RHP\", \"Indicator\": \"Real house price indices, s.a.\", \"Time\": \"2015\", \"Value\": 100.0}, {\"Country\": \"Italy\", \"IND\": \"RHP\", \"Indicator\": \"Real house price indices, s.a.\", \"Time\": \"2016\", \"Value\": 100.14200632762699}, {\"Country\": \"Italy\", \"IND\": \"RHP\", \"Indicator\": \"Real house price indices, s.a.\", \"Time\": \"2017\", \"Value\": 98.0190234346117}, {\"Country\": \"Italy\", \"IND\": \"RHP\", \"Indicator\": \"Real house price indices, s.a.\", \"Time\": \"2018\", \"Value\": 96.554671622845}, {\"Country\": \"Italy\", \"IND\": \"RHP\", \"Indicator\": \"Real house price indices, s.a.\", \"Time\": \"2019\", \"Value\": 95.971789858107}]}}, {\"mode\": \"vega-lite\"});\n",
       "</script>"
      ],
      "text/plain": [
       "alt.Chart(...)"
      ]
     },
     "execution_count": 20,
     "metadata": {},
     "output_type": "execute_result"
    }
   ],
   "source": [
    "#Visualization of all housing parameters for Italy\n",
    "input_dropdown = alt.binding_select(options=['Nominal house price indices, s.a.','Standardised price-rent ratio', 'Price to income ratio','Rent prices, s.a.','Price to rent ratio','Standardised price-income ratio','Real house price indices, s.a.'])\n",
    "selection = alt.selection_single(fields=['Indicator'], bind=input_dropdown, name='Indicator')\n",
    "color = alt.condition(selection,\n",
    "                    alt.Color('Indicator:N', legend=None),\n",
    "                    alt.value('lightgray'))\n",
    "\n",
    "alt.Chart(housing_italy).mark_line().encode(\n",
    "    x='Time',\n",
    "    y='Value',\n",
    "    color='Indicator:N',\n",
    "    tooltip='Indicator:N'\n",
    ").add_selection(\n",
    "    selection\n",
    ").transform_filter(\n",
    "    selection\n",
    ").properties(\n",
    "    width=700,\n",
    "    height=600\n",
    ")"
   ]
  },
  {
   "cell_type": "markdown",
   "metadata": {
    "hideCode": false,
    "hidePrompt": false,
    "slideshow": {
     "slide_type": "skip"
    }
   },
   "source": [
    "### Greece"
   ]
  },
  {
   "cell_type": "code",
   "execution_count": 21,
   "metadata": {
    "hideCode": false,
    "hideOutput": true,
    "hidePrompt": false,
    "scrolled": false,
    "slideshow": {
     "slide_type": "skip"
    }
   },
   "outputs": [
    {
     "data": {
      "text/html": [
       "<div>\n",
       "<style scoped>\n",
       "    .dataframe tbody tr th:only-of-type {\n",
       "        vertical-align: middle;\n",
       "    }\n",
       "\n",
       "    .dataframe tbody tr th {\n",
       "        vertical-align: top;\n",
       "    }\n",
       "\n",
       "    .dataframe thead th {\n",
       "        text-align: right;\n",
       "    }\n",
       "</style>\n",
       "<table border=\"1\" class=\"dataframe\">\n",
       "  <thead>\n",
       "    <tr style=\"text-align: right;\">\n",
       "      <th></th>\n",
       "      <th>Country</th>\n",
       "      <th>IND</th>\n",
       "      <th>Indicator</th>\n",
       "      <th>Time</th>\n",
       "      <th>Value</th>\n",
       "    </tr>\n",
       "  </thead>\n",
       "  <tbody>\n",
       "    <tr>\n",
       "      <th>77</th>\n",
       "      <td>Greece</td>\n",
       "      <td>RPI</td>\n",
       "      <td>Rent prices, s.a.</td>\n",
       "      <td>2005</td>\n",
       "      <td>102.331967</td>\n",
       "    </tr>\n",
       "    <tr>\n",
       "      <th>82</th>\n",
       "      <td>Greece</td>\n",
       "      <td>RPI</td>\n",
       "      <td>Rent prices, s.a.</td>\n",
       "      <td>2006</td>\n",
       "      <td>106.798942</td>\n",
       "    </tr>\n",
       "    <tr>\n",
       "      <th>87</th>\n",
       "      <td>Greece</td>\n",
       "      <td>RPI</td>\n",
       "      <td>Rent prices, s.a.</td>\n",
       "      <td>2007</td>\n",
       "      <td>111.657667</td>\n",
       "    </tr>\n",
       "    <tr>\n",
       "      <th>92</th>\n",
       "      <td>Greece</td>\n",
       "      <td>RPI</td>\n",
       "      <td>Rent prices, s.a.</td>\n",
       "      <td>2008</td>\n",
       "      <td>115.997766</td>\n",
       "    </tr>\n",
       "    <tr>\n",
       "      <th>97</th>\n",
       "      <td>Greece</td>\n",
       "      <td>RPI</td>\n",
       "      <td>Rent prices, s.a.</td>\n",
       "      <td>2009</td>\n",
       "      <td>120.196566</td>\n",
       "    </tr>\n",
       "  </tbody>\n",
       "</table>\n",
       "</div>"
      ],
      "text/plain": [
       "   Country  IND          Indicator  Time       Value\n",
       "77  Greece  RPI  Rent prices, s.a.  2005  102.331967\n",
       "82  Greece  RPI  Rent prices, s.a.  2006  106.798942\n",
       "87  Greece  RPI  Rent prices, s.a.  2007  111.657667\n",
       "92  Greece  RPI  Rent prices, s.a.  2008  115.997766\n",
       "97  Greece  RPI  Rent prices, s.a.  2009  120.196566"
      ]
     },
     "execution_count": 21,
     "metadata": {},
     "output_type": "execute_result"
    }
   ],
   "source": [
    "#Retrieve first 5 columns of the dataframe\n",
    "housing_greece.head()"
   ]
  },
  {
   "cell_type": "code",
   "execution_count": 22,
   "metadata": {
    "hideCode": false,
    "hideOutput": true,
    "hidePrompt": false,
    "slideshow": {
     "slide_type": "skip"
    }
   },
   "outputs": [
    {
     "name": "stdout",
     "output_type": "stream",
     "text": [
      "<class 'pandas.core.frame.DataFrame'>\n",
      "Int64Index: 105 entries, 77 to 2355\n",
      "Data columns (total 5 columns):\n",
      " #   Column     Non-Null Count  Dtype  \n",
      "---  ------     --------------  -----  \n",
      " 0   Country    105 non-null    object \n",
      " 1   IND        105 non-null    object \n",
      " 2   Indicator  105 non-null    object \n",
      " 3   Time       105 non-null    object \n",
      " 4   Value      105 non-null    float64\n",
      "dtypes: float64(1), object(4)\n",
      "memory usage: 4.9+ KB\n"
     ]
    }
   ],
   "source": [
    "housing_greece.info()"
   ]
  },
  {
   "cell_type": "code",
   "execution_count": 23,
   "metadata": {
    "hideCode": false,
    "hideOutput": true,
    "hidePrompt": false,
    "slideshow": {
     "slide_type": "skip"
    }
   },
   "outputs": [
    {
     "data": {
      "text/html": [
       "\n",
       "<div id=\"altair-viz-44f0152a40f54a5bb3bf3ef8821ba347\"></div>\n",
       "<script type=\"text/javascript\">\n",
       "  (function(spec, embedOpt){\n",
       "    let outputDiv = document.currentScript.previousElementSibling;\n",
       "    if (outputDiv.id !== \"altair-viz-44f0152a40f54a5bb3bf3ef8821ba347\") {\n",
       "      outputDiv = document.getElementById(\"altair-viz-44f0152a40f54a5bb3bf3ef8821ba347\");\n",
       "    }\n",
       "    const paths = {\n",
       "      \"vega\": \"https://cdn.jsdelivr.net/npm//vega@5?noext\",\n",
       "      \"vega-lib\": \"https://cdn.jsdelivr.net/npm//vega-lib?noext\",\n",
       "      \"vega-lite\": \"https://cdn.jsdelivr.net/npm//vega-lite@4.8.1?noext\",\n",
       "      \"vega-embed\": \"https://cdn.jsdelivr.net/npm//vega-embed@6?noext\",\n",
       "    };\n",
       "\n",
       "    function loadScript(lib) {\n",
       "      return new Promise(function(resolve, reject) {\n",
       "        var s = document.createElement('script');\n",
       "        s.src = paths[lib];\n",
       "        s.async = true;\n",
       "        s.onload = () => resolve(paths[lib]);\n",
       "        s.onerror = () => reject(`Error loading script: ${paths[lib]}`);\n",
       "        document.getElementsByTagName(\"head\")[0].appendChild(s);\n",
       "      });\n",
       "    }\n",
       "\n",
       "    function showError(err) {\n",
       "      outputDiv.innerHTML = `<div class=\"error\" style=\"color:red;\">${err}</div>`;\n",
       "      throw err;\n",
       "    }\n",
       "\n",
       "    function displayChart(vegaEmbed) {\n",
       "      vegaEmbed(outputDiv, spec, embedOpt)\n",
       "        .catch(err => showError(`Javascript Error: ${err.message}<br>This usually means there's a typo in your chart specification. See the javascript console for the full traceback.`));\n",
       "    }\n",
       "\n",
       "    if(typeof define === \"function\" && define.amd) {\n",
       "      requirejs.config({paths});\n",
       "      require([\"vega-embed\"], displayChart, err => showError(`Error loading script: ${err.message}`));\n",
       "    } else if (typeof vegaEmbed === \"function\") {\n",
       "      displayChart(vegaEmbed);\n",
       "    } else {\n",
       "      loadScript(\"vega\")\n",
       "        .then(() => loadScript(\"vega-lite\"))\n",
       "        .then(() => loadScript(\"vega-embed\"))\n",
       "        .catch(showError)\n",
       "        .then(() => displayChart(vegaEmbed));\n",
       "    }\n",
       "  })({\"config\": {\"view\": {\"continuousWidth\": 400, \"continuousHeight\": 300}}, \"data\": {\"name\": \"data-85b34bc49543f58f55c1f0cf22c6e128\"}, \"mark\": \"line\", \"encoding\": {\"color\": {\"type\": \"nominal\", \"field\": \"Indicator\"}, \"tooltip\": {\"type\": \"nominal\", \"field\": \"Indicator\"}, \"x\": {\"type\": \"nominal\", \"field\": \"Time\"}, \"y\": {\"type\": \"quantitative\", \"field\": \"Value\"}}, \"height\": 600, \"selection\": {\"Indicator\": {\"type\": \"single\", \"fields\": [\"Indicator\"], \"bind\": {\"input\": \"select\", \"options\": [\"Nominal house price indices, s.a.\", \"Standardised price-rent ratio\", \"Price to income ratio\", \"Rent prices, s.a.\", \"Price to rent ratio\", \"Standardised price-income ratio\", \"Real house price indices, s.a.\"]}}}, \"transform\": [{\"filter\": {\"selection\": \"Indicator\"}}], \"width\": 700, \"$schema\": \"https://vega.github.io/schema/vega-lite/v4.8.1.json\", \"datasets\": {\"data-85b34bc49543f58f55c1f0cf22c6e128\": [{\"Country\": \"Greece\", \"IND\": \"RPI\", \"Indicator\": \"Rent prices, s.a.\", \"Time\": \"2005\", \"Value\": 102.331967325102}, {\"Country\": \"Greece\", \"IND\": \"RPI\", \"Indicator\": \"Rent prices, s.a.\", \"Time\": \"2006\", \"Value\": 106.79894199008001}, {\"Country\": \"Greece\", \"IND\": \"RPI\", \"Indicator\": \"Rent prices, s.a.\", \"Time\": \"2007\", \"Value\": 111.65766662567499}, {\"Country\": \"Greece\", \"IND\": \"RPI\", \"Indicator\": \"Rent prices, s.a.\", \"Time\": \"2008\", \"Value\": 115.997766300168}, {\"Country\": \"Greece\", \"IND\": \"RPI\", \"Indicator\": \"Rent prices, s.a.\", \"Time\": \"2009\", \"Value\": 120.196565985258}, {\"Country\": \"Greece\", \"IND\": \"RPI\", \"Indicator\": \"Rent prices, s.a.\", \"Time\": \"2010\", \"Value\": 123.135090764868}, {\"Country\": \"Greece\", \"IND\": \"RPI\", \"Indicator\": \"Rent prices, s.a.\", \"Time\": \"2011\", \"Value\": 124.163415687744}, {\"Country\": \"Greece\", \"IND\": \"RPI\", \"Indicator\": \"Rent prices, s.a.\", \"Time\": \"2012\", \"Value\": 121.580840881437}, {\"Country\": \"Greece\", \"IND\": \"RPI\", \"Indicator\": \"Rent prices, s.a.\", \"Time\": \"2013\", \"Value\": 113.3293415003}, {\"Country\": \"Greece\", \"IND\": \"RPI\", \"Indicator\": \"Rent prices, s.a.\", \"Time\": \"2014\", \"Value\": 104.63726715220501}, {\"Country\": \"Greece\", \"IND\": \"RPI\", \"Indicator\": \"Rent prices, s.a.\", \"Time\": \"2015\", \"Value\": 100.0}, {\"Country\": \"Greece\", \"IND\": \"RPI\", \"Indicator\": \"Rent prices, s.a.\", \"Time\": \"2016\", \"Value\": 97.3881426958895}, {\"Country\": \"Greece\", \"IND\": \"RPI\", \"Indicator\": \"Rent prices, s.a.\", \"Time\": \"2017\", \"Value\": 95.22417535818701}, {\"Country\": \"Greece\", \"IND\": \"RPI\", \"Indicator\": \"Rent prices, s.a.\", \"Time\": \"2018\", \"Value\": 92.1640330876977}, {\"Country\": \"Greece\", \"IND\": \"RPI\", \"Indicator\": \"Rent prices, s.a.\", \"Time\": \"2019\", \"Value\": 92.1640330868545}, {\"Country\": \"Greece\", \"IND\": \"HPI_YDH\", \"Indicator\": \"Price to income ratio\", \"Time\": \"2005\", \"Value\": 117.066963537104}, {\"Country\": \"Greece\", \"IND\": \"HPI_YDH\", \"Indicator\": \"Price to income ratio\", \"Time\": \"2006\", \"Value\": 121.69668703954201}, {\"Country\": \"Greece\", \"IND\": \"HPI_YDH\", \"Indicator\": \"Price to income ratio\", \"Time\": \"2007\", \"Value\": 121.54358518231899}, {\"Country\": \"Greece\", \"IND\": \"HPI_YDH\", \"Indicator\": \"Price to income ratio\", \"Time\": \"2008\", \"Value\": 117.303001612353}, {\"Country\": \"Greece\", \"IND\": \"HPI_YDH\", \"Indicator\": \"Price to income ratio\", \"Time\": \"2009\", \"Value\": 110.484458165757}, {\"Country\": \"Greece\", \"IND\": \"HPI_YDH\", \"Indicator\": \"Price to income ratio\", \"Time\": \"2010\", \"Value\": 115.523334657267}, {\"Country\": \"Greece\", \"IND\": \"HPI_YDH\", \"Indicator\": \"Price to income ratio\", \"Time\": \"2011\", \"Value\": 120.10525868278098}, {\"Country\": \"Greece\", \"IND\": \"HPI_YDH\", \"Indicator\": \"Price to income ratio\", \"Time\": \"2012\", \"Value\": 116.27715047992099}, {\"Country\": \"Greece\", \"IND\": \"HPI_YDH\", \"Indicator\": \"Price to income ratio\", \"Time\": \"2013\", \"Value\": 112.77738449079901}, {\"Country\": \"Greece\", \"IND\": \"HPI_YDH\", \"Indicator\": \"Price to income ratio\", \"Time\": \"2014\", \"Value\": 102.74660013937}, {\"Country\": \"Greece\", \"IND\": \"HPI_YDH\", \"Indicator\": \"Price to income ratio\", \"Time\": \"2015\", \"Value\": 100.0}, {\"Country\": \"Greece\", \"IND\": \"HPI_YDH\", \"Indicator\": \"Price to income ratio\", \"Time\": \"2016\", \"Value\": 99.2647160636588}, {\"Country\": \"Greece\", \"IND\": \"HPI_YDH\", \"Indicator\": \"Price to income ratio\", \"Time\": \"2017\", \"Value\": 96.61033789348049}, {\"Country\": \"Greece\", \"IND\": \"HPI_YDH\", \"Indicator\": \"Price to income ratio\", \"Time\": \"2018\", \"Value\": 95.28863133007201}, {\"Country\": \"Greece\", \"IND\": \"HPI_YDH\", \"Indicator\": \"Price to income ratio\", \"Time\": \"2019\", \"Value\": 98.01233790045679}, {\"Country\": \"Greece\", \"IND\": \"RHP\", \"Indicator\": \"Real house price indices, s.a.\", \"Time\": \"2005\", \"Value\": 156.169506700894}, {\"Country\": \"Greece\", \"IND\": \"RHP\", \"Indicator\": \"Real house price indices, s.a.\", \"Time\": \"2006\", \"Value\": 170.923328685371}, {\"Country\": \"Greece\", \"IND\": \"RHP\", \"Indicator\": \"Real house price indices, s.a.\", \"Time\": \"2007\", \"Value\": 175.17502290422001}, {\"Country\": \"Greece\", \"IND\": \"RHP\", \"Indicator\": \"Real house price indices, s.a.\", \"Time\": \"2008\", \"Value\": 170.327759863684}, {\"Country\": \"Greece\", \"IND\": \"RHP\", \"Indicator\": \"Real house price indices, s.a.\", \"Time\": \"2009\", \"Value\": 161.46979968913098}, {\"Country\": \"Greece\", \"IND\": \"RHP\", \"Indicator\": \"Real house price indices, s.a.\", \"Time\": \"2010\", \"Value\": 148.967453374698}, {\"Country\": \"Greece\", \"IND\": \"RHP\", \"Indicator\": \"Real house price indices, s.a.\", \"Time\": \"2011\", \"Value\": 137.682730924845}, {\"Country\": \"Greece\", \"IND\": \"RHP\", \"Indicator\": \"Real house price indices, s.a.\", \"Time\": \"2012\", \"Value\": 120.94575312890899}, {\"Country\": \"Greece\", \"IND\": \"RHP\", \"Indicator\": \"Real house price indices, s.a.\", \"Time\": \"2013\", \"Value\": 109.72485493104}, {\"Country\": \"Greece\", \"IND\": \"RHP\", \"Indicator\": \"Real house price indices, s.a.\", \"Time\": \"2014\", \"Value\": 103.56935693597}, {\"Country\": \"Greece\", \"IND\": \"RHP\", \"Indicator\": \"Real house price indices, s.a.\", \"Time\": \"2015\", \"Value\": 100.0}, {\"Country\": \"Greece\", \"IND\": \"RHP\", \"Indicator\": \"Real house price indices, s.a.\", \"Time\": \"2016\", \"Value\": 98.3589212886803}, {\"Country\": \"Greece\", \"IND\": \"RHP\", \"Indicator\": \"Real house price indices, s.a.\", \"Time\": \"2017\", \"Value\": 96.74137321540671}, {\"Country\": \"Greece\", \"IND\": \"RHP\", \"Indicator\": \"Real house price indices, s.a.\", \"Time\": \"2018\", \"Value\": 98.17931542172572}, {\"Country\": \"Greece\", \"IND\": \"RHP\", \"Indicator\": \"Real house price indices, s.a.\", \"Time\": \"2019\", \"Value\": 104.690367286391}, {\"Country\": \"Greece\", \"IND\": \"HPI_YDH_AVG\", \"Indicator\": \"Standardised price-income ratio\", \"Time\": \"2005\", \"Value\": 109.553584983575}, {\"Country\": \"Greece\", \"IND\": \"HPI_YDH_AVG\", \"Indicator\": \"Standardised price-income ratio\", \"Time\": \"2006\", \"Value\": 113.886172007703}, {\"Country\": \"Greece\", \"IND\": \"HPI_YDH_AVG\", \"Indicator\": \"Standardised price-income ratio\", \"Time\": \"2007\", \"Value\": 113.742896254922}, {\"Country\": \"Greece\", \"IND\": \"HPI_YDH_AVG\", \"Indicator\": \"Standardised price-income ratio\", \"Time\": \"2008\", \"Value\": 109.774474093148}, {\"Country\": \"Greece\", \"IND\": \"HPI_YDH_AVG\", \"Indicator\": \"Standardised price-income ratio\", \"Time\": \"2009\", \"Value\": 103.39354597841101}, {\"Country\": \"Greece\", \"IND\": \"HPI_YDH_AVG\", \"Indicator\": \"Standardised price-income ratio\", \"Time\": \"2010\", \"Value\": 108.10902647995701}, {\"Country\": \"Greece\", \"IND\": \"HPI_YDH_AVG\", \"Indicator\": \"Standardised price-income ratio\", \"Time\": \"2011\", \"Value\": 112.39688180609501}, {\"Country\": \"Greece\", \"IND\": \"HPI_YDH_AVG\", \"Indicator\": \"Standardised price-income ratio\", \"Time\": \"2012\", \"Value\": 108.814462268961}, {\"Country\": \"Greece\", \"IND\": \"HPI_YDH_AVG\", \"Indicator\": \"Standardised price-income ratio\", \"Time\": \"2013\", \"Value\": 105.53931188385401}, {\"Country\": \"Greece\", \"IND\": \"HPI_YDH_AVG\", \"Indicator\": \"Standardised price-income ratio\", \"Time\": \"2014\", \"Value\": 96.15230505721908}, {\"Country\": \"Greece\", \"IND\": \"HPI_YDH_AVG\", \"Indicator\": \"Standardised price-income ratio\", \"Time\": \"2015\", \"Value\": 93.58198220358959}, {\"Country\": \"Greece\", \"IND\": \"HPI_YDH_AVG\", \"Indicator\": \"Standardised price-income ratio\", \"Time\": \"2016\", \"Value\": 92.893888921137}, {\"Country\": \"Greece\", \"IND\": \"HPI_YDH_AVG\", \"Indicator\": \"Standardised price-income ratio\", \"Time\": \"2017\", \"Value\": 90.40986921430479}, {\"Country\": \"Greece\", \"IND\": \"HPI_YDH_AVG\", \"Indicator\": \"Standardised price-income ratio\", \"Time\": \"2018\", \"Value\": 89.17299001335209}, {\"Country\": \"Greece\", \"IND\": \"HPI_YDH_AVG\", \"Indicator\": \"Standardised price-income ratio\", \"Time\": \"2019\", \"Value\": 91.72188861132759}, {\"Country\": \"Greece\", \"IND\": \"HPI_RPI\", \"Indicator\": \"Price to rent ratio\", \"Time\": \"2005\", \"Value\": 135.21519759234}, {\"Country\": \"Greece\", \"IND\": \"HPI_RPI\", \"Indicator\": \"Price to rent ratio\", \"Time\": \"2006\", \"Value\": 146.381788916002}, {\"Country\": \"Greece\", \"IND\": \"HPI_RPI\", \"Indicator\": \"Price to rent ratio\", \"Time\": \"2007\", \"Value\": 148.714407654867}, {\"Country\": \"Greece\", \"IND\": \"HPI_RPI\", \"Indicator\": \"Price to rent ratio\", \"Time\": \"2008\", \"Value\": 145.25731216123}, {\"Country\": \"Greece\", \"IND\": \"HPI_RPI\", \"Indicator\": \"Price to rent ratio\", \"Time\": \"2009\", \"Value\": 134.153321297953}, {\"Country\": \"Greece\", \"IND\": \"HPI_RPI\", \"Indicator\": \"Price to rent ratio\", \"Time\": \"2010\", \"Value\": 125.228673875996}, {\"Country\": \"Greece\", \"IND\": \"HPI_RPI\", \"Indicator\": \"Price to rent ratio\", \"Time\": \"2011\", \"Value\": 117.32297410167601}, {\"Country\": \"Greece\", \"IND\": \"HPI_RPI\", \"Indicator\": \"Price to rent ratio\", \"Time\": \"2012\", \"Value\": 105.698144640222}, {\"Country\": \"Greece\", \"IND\": \"HPI_RPI\", \"Indicator\": \"Price to rent ratio\", \"Time\": \"2013\", \"Value\": 101.042100516686}, {\"Country\": \"Greece\", \"IND\": \"HPI_RPI\", \"Indicator\": \"Price to rent ratio\", \"Time\": \"2014\", \"Value\": 100.708394144835}, {\"Country\": \"Greece\", \"IND\": \"HPI_RPI\", \"Indicator\": \"Price to rent ratio\", \"Time\": \"2015\", \"Value\": 100.0}, {\"Country\": \"Greece\", \"IND\": \"HPI_RPI\", \"Indicator\": \"Price to rent ratio\", \"Time\": \"2016\", \"Value\": 100.21215565185}, {\"Country\": \"Greece\", \"IND\": \"HPI_RPI\", \"Indicator\": \"Price to rent ratio\", \"Time\": \"2017\", \"Value\": 101.386956611566}, {\"Country\": \"Greece\", \"IND\": \"HPI_RPI\", \"Indicator\": \"Price to rent ratio\", \"Time\": \"2018\", \"Value\": 106.65457029870599}, {\"Country\": \"Greece\", \"IND\": \"HPI_RPI\", \"Indicator\": \"Price to rent ratio\", \"Time\": \"2019\", \"Value\": 114.52778114478998}, {\"Country\": \"Greece\", \"IND\": \"HPI_RPI_AVG\", \"Indicator\": \"Standardised price-rent ratio\", \"Time\": \"2005\", \"Value\": 115.44127919012101}, {\"Country\": \"Greece\", \"IND\": \"HPI_RPI_AVG\", \"Indicator\": \"Standardised price-rent ratio\", \"Time\": \"2006\", \"Value\": 124.97486424232201}, {\"Country\": \"Greece\", \"IND\": \"HPI_RPI_AVG\", \"Indicator\": \"Standardised price-rent ratio\", \"Time\": \"2007\", \"Value\": 126.966359990377}, {\"Country\": \"Greece\", \"IND\": \"HPI_RPI_AVG\", \"Indicator\": \"Standardised price-rent ratio\", \"Time\": \"2008\", \"Value\": 124.014831366567}, {\"Country\": \"Greece\", \"IND\": \"HPI_RPI_AVG\", \"Indicator\": \"Standardised price-rent ratio\", \"Time\": \"2009\", \"Value\": 114.534692061245}, {\"Country\": \"Greece\", \"IND\": \"HPI_RPI_AVG\", \"Indicator\": \"Standardised price-rent ratio\", \"Time\": \"2010\", \"Value\": 106.915188240248}, {\"Country\": \"Greece\", \"IND\": \"HPI_RPI_AVG\", \"Indicator\": \"Standardised price-rent ratio\", \"Time\": \"2011\", \"Value\": 100.165620801889}, {\"Country\": \"Greece\", \"IND\": \"HPI_RPI_AVG\", \"Indicator\": \"Standardised price-rent ratio\", \"Time\": \"2012\", \"Value\": 90.2408105195182}, {\"Country\": \"Greece\", \"IND\": \"HPI_RPI_AVG\", \"Indicator\": \"Standardised price-rent ratio\", \"Time\": \"2013\", \"Value\": 86.26566793823}, {\"Country\": \"Greece\", \"IND\": \"HPI_RPI_AVG\", \"Indicator\": \"Standardised price-rent ratio\", \"Time\": \"2014\", \"Value\": 85.98076290442991}, {\"Country\": \"Greece\", \"IND\": \"HPI_RPI_AVG\", \"Indicator\": \"Standardised price-rent ratio\", \"Time\": \"2015\", \"Value\": 85.3759645703173}, {\"Country\": \"Greece\", \"IND\": \"HPI_RPI_AVG\", \"Indicator\": \"Standardised price-rent ratio\", \"Time\": \"2016\", \"Value\": 85.5570945044744}, {\"Country\": \"Greece\", \"IND\": \"HPI_RPI_AVG\", \"Indicator\": \"Standardised price-rent ratio\", \"Time\": \"2017\", \"Value\": 86.56009215561359}, {\"Country\": \"Greece\", \"IND\": \"HPI_RPI_AVG\", \"Indicator\": \"Standardised price-rent ratio\", \"Time\": \"2018\", \"Value\": 91.0573681508474}, {\"Country\": \"Greece\", \"IND\": \"HPI_RPI_AVG\", \"Indicator\": \"Standardised price-rent ratio\", \"Time\": \"2019\", \"Value\": 97.7791978533466}, {\"Country\": \"Greece\", \"IND\": \"HPI\", \"Indicator\": \"Nominal house price indices, s.a.\", \"Time\": \"2005\", \"Value\": 138.39175}, {\"Country\": \"Greece\", \"IND\": \"HPI\", \"Indicator\": \"Nominal house price indices, s.a.\", \"Time\": \"2006\", \"Value\": 156.35975}, {\"Country\": \"Greece\", \"IND\": \"HPI\", \"Indicator\": \"Nominal house price indices, s.a.\", \"Time\": \"2007\", \"Value\": 166.03775}, {\"Country\": \"Greece\", \"IND\": \"HPI\", \"Indicator\": \"Nominal house price indices, s.a.\", \"Time\": \"2008\", \"Value\": 168.46425}, {\"Country\": \"Greece\", \"IND\": \"HPI\", \"Indicator\": \"Nominal house price indices, s.a.\", \"Time\": \"2009\", \"Value\": 161.222}, {\"Country\": \"Greece\", \"IND\": \"HPI\", \"Indicator\": \"Nominal house price indices, s.a.\", \"Time\": \"2010\", \"Value\": 154.17025}, {\"Country\": \"Greece\", \"IND\": \"HPI\", \"Indicator\": \"Nominal house price indices, s.a.\", \"Time\": \"2011\", \"Value\": 145.6625}, {\"Country\": \"Greece\", \"IND\": \"HPI\", \"Indicator\": \"Nominal house price indices, s.a.\", \"Time\": \"2012\", \"Value\": 128.533}, {\"Country\": \"Greece\", \"IND\": \"HPI\", \"Indicator\": \"Nominal house price indices, s.a.\", \"Time\": \"2013\", \"Value\": 114.501}, {\"Country\": \"Greece\", \"IND\": \"HPI\", \"Indicator\": \"Nominal house price indices, s.a.\", \"Time\": \"2014\", \"Value\": 105.36575}, {\"Country\": \"Greece\", \"IND\": \"HPI\", \"Indicator\": \"Nominal house price indices, s.a.\", \"Time\": \"2015\", \"Value\": 100.0}, {\"Country\": \"Greece\", \"IND\": \"HPI\", \"Indicator\": \"Nominal house price indices, s.a.\", \"Time\": \"2016\", \"Value\": 97.58825}, {\"Country\": \"Greece\", \"IND\": \"HPI\", \"Indicator\": \"Nominal house price indices, s.a.\", \"Time\": \"2017\", \"Value\": 96.51299999999999}, {\"Country\": \"Greece\", \"IND\": \"HPI\", \"Indicator\": \"Nominal house price indices, s.a.\", \"Time\": \"2018\", \"Value\": 98.2905}, {\"Country\": \"Greece\", \"IND\": \"HPI\", \"Indicator\": \"Nominal house price indices, s.a.\", \"Time\": \"2019\", \"Value\": 105.545999998893}]}}, {\"mode\": \"vega-lite\"});\n",
       "</script>"
      ],
      "text/plain": [
       "alt.Chart(...)"
      ]
     },
     "execution_count": 23,
     "metadata": {},
     "output_type": "execute_result"
    }
   ],
   "source": [
    "#Visualization of all housing parameters for Greece\n",
    "input_dropdown = alt.binding_select(options=['Nominal house price indices, s.a.','Standardised price-rent ratio', 'Price to income ratio','Rent prices, s.a.','Price to rent ratio','Standardised price-income ratio','Real house price indices, s.a.'])\n",
    "selection = alt.selection_single(fields=['Indicator'], bind=input_dropdown, name='Indicator')\n",
    "color = alt.condition(selection,\n",
    "                    alt.Color('Indicator:N', legend=None),\n",
    "                    alt.value('lightgray'))\n",
    "\n",
    "alt.Chart(housing_greece).mark_line().encode(\n",
    "    x='Time',\n",
    "    y='Value',\n",
    "    color='Indicator:N',\n",
    "    tooltip='Indicator:N'\n",
    ").add_selection(\n",
    "    selection\n",
    ").transform_filter(\n",
    "    selection\n",
    ").properties(\n",
    "    width=700,\n",
    "    height=600\n",
    ")"
   ]
  },
  {
   "cell_type": "markdown",
   "metadata": {
    "hideCode": false,
    "hideOutput": true,
    "hidePrompt": false,
    "slideshow": {
     "slide_type": "skip"
    }
   },
   "source": [
    "### Portugal"
   ]
  },
  {
   "cell_type": "code",
   "execution_count": 24,
   "metadata": {
    "hideCode": false,
    "hideOutput": true,
    "hidePrompt": false,
    "slideshow": {
     "slide_type": "skip"
    }
   },
   "outputs": [
    {
     "data": {
      "text/html": [
       "<div>\n",
       "<style scoped>\n",
       "    .dataframe tbody tr th:only-of-type {\n",
       "        vertical-align: middle;\n",
       "    }\n",
       "\n",
       "    .dataframe tbody tr th {\n",
       "        vertical-align: top;\n",
       "    }\n",
       "\n",
       "    .dataframe thead th {\n",
       "        text-align: right;\n",
       "    }\n",
       "</style>\n",
       "<table border=\"1\" class=\"dataframe\">\n",
       "  <thead>\n",
       "    <tr style=\"text-align: right;\">\n",
       "      <th></th>\n",
       "      <th>Country</th>\n",
       "      <th>IND</th>\n",
       "      <th>Indicator</th>\n",
       "      <th>Time</th>\n",
       "      <th>Value</th>\n",
       "    </tr>\n",
       "  </thead>\n",
       "  <tbody>\n",
       "    <tr>\n",
       "      <th>222</th>\n",
       "      <td>Portugal</td>\n",
       "      <td>HPI_RPI</td>\n",
       "      <td>Price to rent ratio</td>\n",
       "      <td>2005</td>\n",
       "      <td>138.466983</td>\n",
       "    </tr>\n",
       "    <tr>\n",
       "      <th>227</th>\n",
       "      <td>Portugal</td>\n",
       "      <td>HPI_RPI</td>\n",
       "      <td>Price to rent ratio</td>\n",
       "      <td>2006</td>\n",
       "      <td>137.894229</td>\n",
       "    </tr>\n",
       "    <tr>\n",
       "      <th>232</th>\n",
       "      <td>Portugal</td>\n",
       "      <td>HPI_RPI</td>\n",
       "      <td>Price to rent ratio</td>\n",
       "      <td>2007</td>\n",
       "      <td>134.910487</td>\n",
       "    </tr>\n",
       "    <tr>\n",
       "      <th>237</th>\n",
       "      <td>Portugal</td>\n",
       "      <td>HPI_RPI</td>\n",
       "      <td>Price to rent ratio</td>\n",
       "      <td>2008</td>\n",
       "      <td>122.694365</td>\n",
       "    </tr>\n",
       "    <tr>\n",
       "      <th>242</th>\n",
       "      <td>Portugal</td>\n",
       "      <td>HPI_RPI</td>\n",
       "      <td>Price to rent ratio</td>\n",
       "      <td>2009</td>\n",
       "      <td>119.710229</td>\n",
       "    </tr>\n",
       "  </tbody>\n",
       "</table>\n",
       "</div>"
      ],
      "text/plain": [
       "      Country      IND            Indicator  Time       Value\n",
       "222  Portugal  HPI_RPI  Price to rent ratio  2005  138.466983\n",
       "227  Portugal  HPI_RPI  Price to rent ratio  2006  137.894229\n",
       "232  Portugal  HPI_RPI  Price to rent ratio  2007  134.910487\n",
       "237  Portugal  HPI_RPI  Price to rent ratio  2008  122.694365\n",
       "242  Portugal  HPI_RPI  Price to rent ratio  2009  119.710229"
      ]
     },
     "execution_count": 24,
     "metadata": {},
     "output_type": "execute_result"
    }
   ],
   "source": [
    "#Retrieve first 5 columns of the dataframe\n",
    "housing_portugal.head()"
   ]
  },
  {
   "cell_type": "code",
   "execution_count": 25,
   "metadata": {
    "hideCode": false,
    "hideOutput": true,
    "hidePrompt": false,
    "slideshow": {
     "slide_type": "skip"
    }
   },
   "outputs": [
    {
     "name": "stdout",
     "output_type": "stream",
     "text": [
      "<class 'pandas.core.frame.DataFrame'>\n",
      "Int64Index: 105 entries, 222 to 2046\n",
      "Data columns (total 5 columns):\n",
      " #   Column     Non-Null Count  Dtype  \n",
      "---  ------     --------------  -----  \n",
      " 0   Country    105 non-null    object \n",
      " 1   IND        105 non-null    object \n",
      " 2   Indicator  105 non-null    object \n",
      " 3   Time       105 non-null    object \n",
      " 4   Value      105 non-null    float64\n",
      "dtypes: float64(1), object(4)\n",
      "memory usage: 4.9+ KB\n"
     ]
    }
   ],
   "source": [
    "housing_portugal.info()"
   ]
  },
  {
   "cell_type": "code",
   "execution_count": 26,
   "metadata": {
    "hideCode": false,
    "hideOutput": true,
    "hidePrompt": false,
    "slideshow": {
     "slide_type": "skip"
    }
   },
   "outputs": [
    {
     "data": {
      "text/html": [
       "\n",
       "<div id=\"altair-viz-3eb8aee0597b4b5d8b60c961ce532e79\"></div>\n",
       "<script type=\"text/javascript\">\n",
       "  (function(spec, embedOpt){\n",
       "    let outputDiv = document.currentScript.previousElementSibling;\n",
       "    if (outputDiv.id !== \"altair-viz-3eb8aee0597b4b5d8b60c961ce532e79\") {\n",
       "      outputDiv = document.getElementById(\"altair-viz-3eb8aee0597b4b5d8b60c961ce532e79\");\n",
       "    }\n",
       "    const paths = {\n",
       "      \"vega\": \"https://cdn.jsdelivr.net/npm//vega@5?noext\",\n",
       "      \"vega-lib\": \"https://cdn.jsdelivr.net/npm//vega-lib?noext\",\n",
       "      \"vega-lite\": \"https://cdn.jsdelivr.net/npm//vega-lite@4.8.1?noext\",\n",
       "      \"vega-embed\": \"https://cdn.jsdelivr.net/npm//vega-embed@6?noext\",\n",
       "    };\n",
       "\n",
       "    function loadScript(lib) {\n",
       "      return new Promise(function(resolve, reject) {\n",
       "        var s = document.createElement('script');\n",
       "        s.src = paths[lib];\n",
       "        s.async = true;\n",
       "        s.onload = () => resolve(paths[lib]);\n",
       "        s.onerror = () => reject(`Error loading script: ${paths[lib]}`);\n",
       "        document.getElementsByTagName(\"head\")[0].appendChild(s);\n",
       "      });\n",
       "    }\n",
       "\n",
       "    function showError(err) {\n",
       "      outputDiv.innerHTML = `<div class=\"error\" style=\"color:red;\">${err}</div>`;\n",
       "      throw err;\n",
       "    }\n",
       "\n",
       "    function displayChart(vegaEmbed) {\n",
       "      vegaEmbed(outputDiv, spec, embedOpt)\n",
       "        .catch(err => showError(`Javascript Error: ${err.message}<br>This usually means there's a typo in your chart specification. See the javascript console for the full traceback.`));\n",
       "    }\n",
       "\n",
       "    if(typeof define === \"function\" && define.amd) {\n",
       "      requirejs.config({paths});\n",
       "      require([\"vega-embed\"], displayChart, err => showError(`Error loading script: ${err.message}`));\n",
       "    } else if (typeof vegaEmbed === \"function\") {\n",
       "      displayChart(vegaEmbed);\n",
       "    } else {\n",
       "      loadScript(\"vega\")\n",
       "        .then(() => loadScript(\"vega-lite\"))\n",
       "        .then(() => loadScript(\"vega-embed\"))\n",
       "        .catch(showError)\n",
       "        .then(() => displayChart(vegaEmbed));\n",
       "    }\n",
       "  })({\"config\": {\"view\": {\"continuousWidth\": 400, \"continuousHeight\": 300}}, \"data\": {\"name\": \"data-50a04bf5df6b77c41765200d1b07adab\"}, \"mark\": \"line\", \"encoding\": {\"color\": {\"type\": \"nominal\", \"field\": \"Indicator\"}, \"tooltip\": {\"type\": \"nominal\", \"field\": \"Indicator\"}, \"x\": {\"type\": \"nominal\", \"field\": \"Time\"}, \"y\": {\"type\": \"quantitative\", \"field\": \"Value\"}}, \"height\": 600, \"selection\": {\"Indicator\": {\"type\": \"single\", \"fields\": [\"Indicator\"], \"bind\": {\"input\": \"select\", \"options\": [\"Nominal house price indices, s.a.\", \"Standardised price-rent ratio\", \"Price to income ratio\", \"Rent prices, s.a.\", \"Price to rent ratio\", \"Standardised price-income ratio\", \"Real house price indices, s.a.\"]}}}, \"transform\": [{\"filter\": {\"selection\": \"Indicator\"}}], \"width\": 700, \"$schema\": \"https://vega.github.io/schema/vega-lite/v4.8.1.json\", \"datasets\": {\"data-50a04bf5df6b77c41765200d1b07adab\": [{\"Country\": \"Portugal\", \"IND\": \"HPI_RPI\", \"Indicator\": \"Price to rent ratio\", \"Time\": \"2005\", \"Value\": 138.466982914498}, {\"Country\": \"Portugal\", \"IND\": \"HPI_RPI\", \"Indicator\": \"Price to rent ratio\", \"Time\": \"2006\", \"Value\": 137.894228669277}, {\"Country\": \"Portugal\", \"IND\": \"HPI_RPI\", \"Indicator\": \"Price to rent ratio\", \"Time\": \"2007\", \"Value\": 134.91048706747299}, {\"Country\": \"Portugal\", \"IND\": \"HPI_RPI\", \"Indicator\": \"Price to rent ratio\", \"Time\": \"2008\", \"Value\": 122.694365234763}, {\"Country\": \"Portugal\", \"IND\": \"HPI_RPI\", \"Indicator\": \"Price to rent ratio\", \"Time\": \"2009\", \"Value\": 119.71022934455}, {\"Country\": \"Portugal\", \"IND\": \"HPI_RPI\", \"Indicator\": \"Price to rent ratio\", \"Time\": \"2010\", \"Value\": 118.163753929748}, {\"Country\": \"Portugal\", \"IND\": \"HPI_RPI\", \"Indicator\": \"Price to rent ratio\", \"Time\": \"2011\", \"Value\": 111.3341094344}, {\"Country\": \"Portugal\", \"IND\": \"HPI_RPI\", \"Indicator\": \"Price to rent ratio\", \"Time\": \"2012\", \"Value\": 101.428486154081}, {\"Country\": \"Portugal\", \"IND\": \"HPI_RPI\", \"Indicator\": \"Price to rent ratio\", \"Time\": \"2013\", \"Value\": 98.2792977784717}, {\"Country\": \"Portugal\", \"IND\": \"HPI_RPI\", \"Indicator\": \"Price to rent ratio\", \"Time\": \"2014\", \"Value\": 98.1109724983679}, {\"Country\": \"Portugal\", \"IND\": \"HPI_RPI\", \"Indicator\": \"Price to rent ratio\", \"Time\": \"2015\", \"Value\": 100.0}, {\"Country\": \"Portugal\", \"IND\": \"HPI_RPI\", \"Indicator\": \"Price to rent ratio\", \"Time\": \"2016\", \"Value\": 105.31433142846501}, {\"Country\": \"Portugal\", \"IND\": \"HPI_RPI\", \"Indicator\": \"Price to rent ratio\", \"Time\": \"2017\", \"Value\": 113.916099263536}, {\"Country\": \"Portugal\", \"IND\": \"HPI_RPI\", \"Indicator\": \"Price to rent ratio\", \"Time\": \"2018\", \"Value\": 123.281653507817}, {\"Country\": \"Portugal\", \"IND\": \"HPI_RPI\", \"Indicator\": \"Price to rent ratio\", \"Time\": \"2019\", \"Value\": 131.009457602466}, {\"Country\": \"Portugal\", \"IND\": \"RHP\", \"Indicator\": \"Real house price indices, s.a.\", \"Time\": \"2005\", \"Value\": 128.25409269985002}, {\"Country\": \"Portugal\", \"IND\": \"RHP\", \"Indicator\": \"Real house price indices, s.a.\", \"Time\": \"2006\", \"Value\": 126.49210247210199}, {\"Country\": \"Portugal\", \"IND\": \"RHP\", \"Indicator\": \"Real house price indices, s.a.\", \"Time\": \"2007\", \"Value\": 122.92728787771601}, {\"Country\": \"Portugal\", \"IND\": \"RHP\", \"Indicator\": \"Real house price indices, s.a.\", \"Time\": \"2008\", \"Value\": 112.032554708845}, {\"Country\": \"Portugal\", \"IND\": \"RHP\", \"Indicator\": \"Real house price indices, s.a.\", \"Time\": \"2009\", \"Value\": 114.481526987347}, {\"Country\": \"Portugal\", \"IND\": \"RHP\", \"Indicator\": \"Real house price indices, s.a.\", \"Time\": \"2010\", \"Value\": 113.282901334472}, {\"Country\": \"Portugal\", \"IND\": \"RHP\", \"Indicator\": \"Real house price indices, s.a.\", \"Time\": \"2011\", \"Value\": 105.915558563868}, {\"Country\": \"Portugal\", \"IND\": \"RHP\", \"Indicator\": \"Real house price indices, s.a.\", \"Time\": \"2012\", \"Value\": 96.6691682394816}, {\"Country\": \"Portugal\", \"IND\": \"RHP\", \"Indicator\": \"Real house price indices, s.a.\", \"Time\": \"2013\", \"Value\": 94.1181901496921}, {\"Country\": \"Portugal\", \"IND\": \"RHP\", \"Indicator\": \"Real house price indices, s.a.\", \"Time\": \"2014\", \"Value\": 97.89531043166349}, {\"Country\": \"Portugal\", \"IND\": \"RHP\", \"Indicator\": \"Real house price indices, s.a.\", \"Time\": \"2015\", \"Value\": 100.0}, {\"Country\": \"Portugal\", \"IND\": \"RHP\", \"Indicator\": \"Real house price indices, s.a.\", \"Time\": \"2016\", \"Value\": 106.061328903256}, {\"Country\": \"Portugal\", \"IND\": \"RHP\", \"Indicator\": \"Real house price indices, s.a.\", \"Time\": \"2017\", \"Value\": 114.071155710954}, {\"Country\": \"Portugal\", \"IND\": \"RHP\", \"Indicator\": \"Real house price indices, s.a.\", \"Time\": \"2018\", \"Value\": 123.862460660652}, {\"Country\": \"Portugal\", \"IND\": \"RHP\", \"Indicator\": \"Real house price indices, s.a.\", \"Time\": \"2019\", \"Value\": 134.62127583352301}, {\"Country\": \"Portugal\", \"IND\": \"HPI_YDH_AVG\", \"Indicator\": \"Standardised price-income ratio\", \"Time\": \"2005\", \"Value\": 104.9156797555}, {\"Country\": \"Portugal\", \"IND\": \"HPI_YDH_AVG\", \"Indicator\": \"Standardised price-income ratio\", \"Time\": \"2006\", \"Value\": 104.12389121656}, {\"Country\": \"Portugal\", \"IND\": \"HPI_YDH_AVG\", \"Indicator\": \"Standardised price-income ratio\", \"Time\": \"2007\", \"Value\": 100.044699540088}, {\"Country\": \"Portugal\", \"IND\": \"HPI_YDH_AVG\", \"Indicator\": \"Standardised price-income ratio\", \"Time\": \"2008\", \"Value\": 90.3619828772941}, {\"Country\": \"Portugal\", \"IND\": \"HPI_YDH_AVG\", \"Indicator\": \"Standardised price-income ratio\", \"Time\": \"2009\", \"Value\": 90.089729700991}, {\"Country\": \"Portugal\", \"IND\": \"HPI_YDH_AVG\", \"Indicator\": \"Standardised price-income ratio\", \"Time\": \"2010\", \"Value\": 89.5339046927455}, {\"Country\": \"Portugal\", \"IND\": \"HPI_YDH_AVG\", \"Indicator\": \"Standardised price-income ratio\", \"Time\": \"2011\", \"Value\": 87.01437680162441}, {\"Country\": \"Portugal\", \"IND\": \"HPI_YDH_AVG\", \"Indicator\": \"Standardised price-income ratio\", \"Time\": \"2012\", \"Value\": 82.5501875068882}, {\"Country\": \"Portugal\", \"IND\": \"HPI_YDH_AVG\", \"Indicator\": \"Standardised price-income ratio\", \"Time\": \"2013\", \"Value\": 81.2557992083403}, {\"Country\": \"Portugal\", \"IND\": \"HPI_YDH_AVG\", \"Indicator\": \"Standardised price-income ratio\", \"Time\": \"2014\", \"Value\": 84.69781390046471}, {\"Country\": \"Portugal\", \"IND\": \"HPI_YDH_AVG\", \"Indicator\": \"Standardised price-income ratio\", \"Time\": \"2015\", \"Value\": 83.9732925166554}, {\"Country\": \"Portugal\", \"IND\": \"HPI_YDH_AVG\", \"Indicator\": \"Standardised price-income ratio\", \"Time\": \"2016\", \"Value\": 86.5601767635115}, {\"Country\": \"Portugal\", \"IND\": \"HPI_YDH_AVG\", \"Indicator\": \"Standardised price-income ratio\", \"Time\": \"2017\", \"Value\": 91.84057586184}, {\"Country\": \"Portugal\", \"IND\": \"HPI_YDH_AVG\", \"Indicator\": \"Standardised price-income ratio\", \"Time\": \"2018\", \"Value\": 97.35121897194142}, {\"Country\": \"Portugal\", \"IND\": \"HPI_YDH_AVG\", \"Indicator\": \"Standardised price-income ratio\", \"Time\": \"2019\", \"Value\": 102.89455607066}, {\"Country\": \"Portugal\", \"IND\": \"HPI\", \"Indicator\": \"Nominal house price indices, s.a.\", \"Time\": \"2005\", \"Value\": 110.622749382584}, {\"Country\": \"Portugal\", \"IND\": \"HPI\", \"Indicator\": \"Nominal house price indices, s.a.\", \"Time\": \"2006\", \"Value\": 112.954456136583}, {\"Country\": \"Portugal\", \"IND\": \"HPI\", \"Indicator\": \"Nominal house price indices, s.a.\", \"Time\": \"2007\", \"Value\": 113.467885482659}, {\"Country\": \"Portugal\", \"IND\": \"HPI\", \"Indicator\": \"Nominal house price indices, s.a.\", \"Time\": \"2008\", \"Value\": 106.30824089981701}, {\"Country\": \"Portugal\", \"IND\": \"HPI\", \"Indicator\": \"Nominal house price indices, s.a.\", \"Time\": \"2009\", \"Value\": 106.5375}, {\"Country\": \"Portugal\", \"IND\": \"HPI\", \"Indicator\": \"Nominal house price indices, s.a.\", \"Time\": \"2010\", \"Value\": 107.3575}, {\"Country\": \"Portugal\", \"IND\": \"HPI\", \"Indicator\": \"Nominal house price indices, s.a.\", \"Time\": \"2011\", \"Value\": 102.0925}, {\"Country\": \"Portugal\", \"IND\": \"HPI\", \"Indicator\": \"Nominal house price indices, s.a.\", \"Time\": \"2012\", \"Value\": 94.8725}, {\"Country\": \"Portugal\", \"IND\": \"HPI\", \"Indicator\": \"Nominal house price indices, s.a.\", \"Time\": \"2013\", \"Value\": 93.085}, {\"Country\": \"Portugal\", \"IND\": \"HPI\", \"Indicator\": \"Nominal house price indices, s.a.\", \"Time\": \"2014\", \"Value\": 97.0375}, {\"Country\": \"Portugal\", \"IND\": \"HPI\", \"Indicator\": \"Nominal house price indices, s.a.\", \"Time\": \"2015\", \"Value\": 100.0}, {\"Country\": \"Portugal\", \"IND\": \"HPI\", \"Indicator\": \"Nominal house price indices, s.a.\", \"Time\": \"2016\", \"Value\": 107.115}, {\"Country\": \"Portugal\", \"IND\": \"HPI\", \"Indicator\": \"Nominal house price indices, s.a.\", \"Time\": \"2017\", \"Value\": 117.015}, {\"Country\": \"Portugal\", \"IND\": \"HPI\", \"Indicator\": \"Nominal house price indices, s.a.\", \"Time\": \"2018\", \"Value\": 129.0325}, {\"Country\": \"Portugal\", \"IND\": \"HPI\", \"Indicator\": \"Nominal house price indices, s.a.\", \"Time\": \"2019\", \"Value\": 141.462500004499}, {\"Country\": \"Portugal\", \"IND\": \"HPI_RPI_AVG\", \"Indicator\": \"Standardised price-rent ratio\", \"Time\": \"2005\", \"Value\": 106.510830640427}, {\"Country\": \"Portugal\", \"IND\": \"HPI_RPI_AVG\", \"Indicator\": \"Standardised price-rent ratio\", \"Time\": \"2006\", \"Value\": 106.070259688946}, {\"Country\": \"Portugal\", \"IND\": \"HPI_RPI_AVG\", \"Indicator\": \"Standardised price-rent ratio\", \"Time\": \"2007\", \"Value\": 103.775121961992}, {\"Country\": \"Portugal\", \"IND\": \"HPI_RPI_AVG\", \"Indicator\": \"Standardised price-rent ratio\", \"Time\": \"2008\", \"Value\": 94.3783021843122}, {\"Country\": \"Portugal\", \"IND\": \"HPI_RPI_AVG\", \"Indicator\": \"Standardised price-rent ratio\", \"Time\": \"2009\", \"Value\": 92.08286116494111}, {\"Country\": \"Portugal\", \"IND\": \"HPI_RPI_AVG\", \"Indicator\": \"Standardised price-rent ratio\", \"Time\": \"2010\", \"Value\": 90.8932896329516}, {\"Country\": \"Portugal\", \"IND\": \"HPI_RPI_AVG\", \"Indicator\": \"Standardised price-rent ratio\", \"Time\": \"2011\", \"Value\": 85.6398270899887}, {\"Country\": \"Portugal\", \"IND\": \"HPI_RPI_AVG\", \"Indicator\": \"Standardised price-rent ratio\", \"Time\": \"2012\", \"Value\": 78.0202766282779}, {\"Country\": \"Portugal\", \"IND\": \"HPI_RPI_AVG\", \"Indicator\": \"Standardised price-rent ratio\", \"Time\": \"2013\", \"Value\": 75.59787482050208}, {\"Country\": \"Portugal\", \"IND\": \"HPI_RPI_AVG\", \"Indicator\": \"Standardised price-rent ratio\", \"Time\": \"2014\", \"Value\": 75.4683965504895}, {\"Country\": \"Portugal\", \"IND\": \"HPI_RPI_AVG\", \"Indicator\": \"Standardised price-rent ratio\", \"Time\": \"2015\", \"Value\": 76.9214641631903}, {\"Country\": \"Portugal\", \"IND\": \"HPI_RPI_AVG\", \"Indicator\": \"Standardised price-rent ratio\", \"Time\": \"2016\", \"Value\": 81.0093257084502}, {\"Country\": \"Portugal\", \"IND\": \"HPI_RPI_AVG\", \"Indicator\": \"Standardised price-rent ratio\", \"Time\": \"2017\", \"Value\": 87.62593147110519}, {\"Country\": \"Portugal\", \"IND\": \"HPI_RPI_AVG\", \"Indicator\": \"Standardised price-rent ratio\", \"Time\": \"2018\", \"Value\": 94.83005292280409}, {\"Country\": \"Portugal\", \"IND\": \"HPI_RPI_AVG\", \"Indicator\": \"Standardised price-rent ratio\", \"Time\": \"2019\", \"Value\": 100.77439298007099}, {\"Country\": \"Portugal\", \"IND\": \"RPI\", \"Indicator\": \"Rent prices, s.a.\", \"Time\": \"2005\", \"Value\": 79.89009}, {\"Country\": \"Portugal\", \"IND\": \"RPI\", \"Indicator\": \"Rent prices, s.a.\", \"Time\": \"2006\", \"Value\": 81.9191475}, {\"Country\": \"Portugal\", \"IND\": \"RPI\", \"Indicator\": \"Rent prices, s.a.\", \"Time\": \"2007\", \"Value\": 84.1190075}, {\"Country\": \"Portugal\", \"IND\": \"RPI\", \"Indicator\": \"Rent prices, s.a.\", \"Time\": \"2008\", \"Value\": 86.6675875}, {\"Country\": \"Portugal\", \"IND\": \"RPI\", \"Indicator\": \"Rent prices, s.a.\", \"Time\": \"2009\", \"Value\": 89.00076}, {\"Country\": \"Portugal\", \"IND\": \"RPI\", \"Indicator\": \"Rent prices, s.a.\", \"Time\": \"2010\", \"Value\": 90.8615}, {\"Country\": \"Portugal\", \"IND\": \"RPI\", \"Indicator\": \"Rent prices, s.a.\", \"Time\": \"2011\", \"Value\": 91.71321}, {\"Country\": \"Portugal\", \"IND\": \"RPI\", \"Indicator\": \"Rent prices, s.a.\", \"Time\": \"2012\", \"Value\": 93.5516525}, {\"Country\": \"Portugal\", \"IND\": \"RPI\", \"Indicator\": \"Rent prices, s.a.\", \"Time\": \"2013\", \"Value\": 94.7166775}, {\"Country\": \"Portugal\", \"IND\": \"RPI\", \"Indicator\": \"Rent prices, s.a.\", \"Time\": \"2014\", \"Value\": 98.9102025}, {\"Country\": \"Portugal\", \"IND\": \"RPI\", \"Indicator\": \"Rent prices, s.a.\", \"Time\": \"2015\", \"Value\": 100.0}, {\"Country\": \"Portugal\", \"IND\": \"RPI\", \"Indicator\": \"Rent prices, s.a.\", \"Time\": \"2016\", \"Value\": 101.70465}, {\"Country\": \"Portugal\", \"IND\": \"RPI\", \"Indicator\": \"Rent prices, s.a.\", \"Time\": \"2017\", \"Value\": 102.71635}, {\"Country\": \"Portugal\", \"IND\": \"RPI\", \"Indicator\": \"Rent prices, s.a.\", \"Time\": \"2018\", \"Value\": 104.656925}, {\"Country\": \"Portugal\", \"IND\": \"RPI\", \"Indicator\": \"Rent prices, s.a.\", \"Time\": \"2019\", \"Value\": 107.970224999097}, {\"Country\": \"Portugal\", \"IND\": \"HPI_YDH\", \"Indicator\": \"Price to income ratio\", \"Time\": \"2005\", \"Value\": 124.939342749591}, {\"Country\": \"Portugal\", \"IND\": \"HPI_YDH\", \"Indicator\": \"Price to income ratio\", \"Time\": \"2006\", \"Value\": 123.996437552937}, {\"Country\": \"Portugal\", \"IND\": \"HPI_YDH\", \"Indicator\": \"Price to income ratio\", \"Time\": \"2007\", \"Value\": 119.138712490338}, {\"Country\": \"Portugal\", \"IND\": \"HPI_YDH\", \"Indicator\": \"Price to income ratio\", \"Time\": \"2008\", \"Value\": 107.60800269844299}, {\"Country\": \"Portugal\", \"IND\": \"HPI_YDH\", \"Indicator\": \"Price to income ratio\", \"Time\": \"2009\", \"Value\": 107.28378869165199}, {\"Country\": \"Portugal\", \"IND\": \"HPI_YDH\", \"Indicator\": \"Price to income ratio\", \"Time\": \"2010\", \"Value\": 106.621881802464}, {\"Country\": \"Portugal\", \"IND\": \"HPI_YDH\", \"Indicator\": \"Price to income ratio\", \"Time\": \"2011\", \"Value\": 103.62148987354}, {\"Country\": \"Portugal\", \"IND\": \"HPI_YDH\", \"Indicator\": \"Price to income ratio\", \"Time\": \"2012\", \"Value\": 98.30528854220529}, {\"Country\": \"Portugal\", \"IND\": \"HPI_YDH\", \"Indicator\": \"Price to income ratio\", \"Time\": \"2013\", \"Value\": 96.7638600001588}, {\"Country\": \"Portugal\", \"IND\": \"HPI_YDH\", \"Indicator\": \"Price to income ratio\", \"Time\": \"2014\", \"Value\": 100.86279978085399}, {\"Country\": \"Portugal\", \"IND\": \"HPI_YDH\", \"Indicator\": \"Price to income ratio\", \"Time\": \"2015\", \"Value\": 100.0}, {\"Country\": \"Portugal\", \"IND\": \"HPI_YDH\", \"Indicator\": \"Price to income ratio\", \"Time\": \"2016\", \"Value\": 103.080603569692}, {\"Country\": \"Portugal\", \"IND\": \"HPI_YDH\", \"Indicator\": \"Price to income ratio\", \"Time\": \"2017\", \"Value\": 109.36879227836}, {\"Country\": \"Portugal\", \"IND\": \"HPI_YDH\", \"Indicator\": \"Price to income ratio\", \"Time\": \"2018\", \"Value\": 115.93116817782601}, {\"Country\": \"Portugal\", \"IND\": \"HPI_YDH\", \"Indicator\": \"Price to income ratio\", \"Time\": \"2019\", \"Value\": 122.532477871166}]}}, {\"mode\": \"vega-lite\"});\n",
       "</script>"
      ],
      "text/plain": [
       "alt.Chart(...)"
      ]
     },
     "execution_count": 26,
     "metadata": {},
     "output_type": "execute_result"
    }
   ],
   "source": [
    "#Visualization of all housing parameters for Portugal\n",
    "input_dropdown = alt.binding_select(options=['Nominal house price indices, s.a.','Standardised price-rent ratio', 'Price to income ratio','Rent prices, s.a.','Price to rent ratio','Standardised price-income ratio','Real house price indices, s.a.'])\n",
    "selection = alt.selection_single(fields=['Indicator'], bind=input_dropdown, name='Indicator')\n",
    "color = alt.condition(selection,\n",
    "                    alt.Color('Indicator:N', legend=None),\n",
    "                    alt.value('lightgray'))\n",
    "\n",
    "alt.Chart(housing_portugal).mark_line().encode(\n",
    "    x='Time',\n",
    "    y='Value',\n",
    "    color='Indicator:N',\n",
    "    tooltip='Indicator:N'\n",
    ").add_selection(\n",
    "    selection\n",
    ").transform_filter(\n",
    "    selection\n",
    ").properties(\n",
    "    width=700,\n",
    "    height=600\n",
    ")"
   ]
  },
  {
   "cell_type": "code",
   "execution_count": 27,
   "metadata": {
    "hideCode": false,
    "hideOutput": true,
    "hidePrompt": false,
    "slideshow": {
     "slide_type": "skip"
    }
   },
   "outputs": [],
   "source": [
    "# Following this part, all the code related to the housing indicators are the same as above and thus, won't appear anymore."
   ]
  },
  {
   "cell_type": "markdown",
   "metadata": {
    "hideCode": false,
    "hideOutput": true,
    "hidePrompt": false,
    "slideshow": {
     "slide_type": "skip"
    }
   },
   "source": [
    "### Spain"
   ]
  },
  {
   "cell_type": "code",
   "execution_count": 28,
   "metadata": {
    "hideCode": false,
    "hideOutput": true,
    "hidePrompt": false,
    "slideshow": {
     "slide_type": "skip"
    }
   },
   "outputs": [
    {
     "data": {
      "text/html": [
       "<div>\n",
       "<style scoped>\n",
       "    .dataframe tbody tr th:only-of-type {\n",
       "        vertical-align: middle;\n",
       "    }\n",
       "\n",
       "    .dataframe tbody tr th {\n",
       "        vertical-align: top;\n",
       "    }\n",
       "\n",
       "    .dataframe thead th {\n",
       "        text-align: right;\n",
       "    }\n",
       "</style>\n",
       "<table border=\"1\" class=\"dataframe\">\n",
       "  <thead>\n",
       "    <tr style=\"text-align: right;\">\n",
       "      <th></th>\n",
       "      <th>Country</th>\n",
       "      <th>IND</th>\n",
       "      <th>Indicator</th>\n",
       "      <th>Time</th>\n",
       "      <th>Value</th>\n",
       "    </tr>\n",
       "  </thead>\n",
       "  <tbody>\n",
       "    <tr>\n",
       "      <th>299</th>\n",
       "      <td>Spain</td>\n",
       "      <td>RHP</td>\n",
       "      <td>Real house price indices, s.a.</td>\n",
       "      <td>2005</td>\n",
       "      <td>140.883992</td>\n",
       "    </tr>\n",
       "    <tr>\n",
       "      <th>304</th>\n",
       "      <td>Spain</td>\n",
       "      <td>RHP</td>\n",
       "      <td>Real house price indices, s.a.</td>\n",
       "      <td>2006</td>\n",
       "      <td>154.591433</td>\n",
       "    </tr>\n",
       "    <tr>\n",
       "      <th>309</th>\n",
       "      <td>Spain</td>\n",
       "      <td>RHP</td>\n",
       "      <td>Real house price indices, s.a.</td>\n",
       "      <td>2007</td>\n",
       "      <td>164.245886</td>\n",
       "    </tr>\n",
       "    <tr>\n",
       "      <th>314</th>\n",
       "      <td>Spain</td>\n",
       "      <td>RHP</td>\n",
       "      <td>Real house price indices, s.a.</td>\n",
       "      <td>2008</td>\n",
       "      <td>156.297547</td>\n",
       "    </tr>\n",
       "    <tr>\n",
       "      <th>319</th>\n",
       "      <td>Spain</td>\n",
       "      <td>RHP</td>\n",
       "      <td>Real house price indices, s.a.</td>\n",
       "      <td>2009</td>\n",
       "      <td>147.370284</td>\n",
       "    </tr>\n",
       "  </tbody>\n",
       "</table>\n",
       "</div>"
      ],
      "text/plain": [
       "    Country  IND                       Indicator  Time       Value\n",
       "299   Spain  RHP  Real house price indices, s.a.  2005  140.883992\n",
       "304   Spain  RHP  Real house price indices, s.a.  2006  154.591433\n",
       "309   Spain  RHP  Real house price indices, s.a.  2007  164.245886\n",
       "314   Spain  RHP  Real house price indices, s.a.  2008  156.297547\n",
       "319   Spain  RHP  Real house price indices, s.a.  2009  147.370284"
      ]
     },
     "execution_count": 28,
     "metadata": {},
     "output_type": "execute_result"
    }
   ],
   "source": [
    "#Retrieve first 5 columns of the dataframe\n",
    "housing_spain.head()"
   ]
  },
  {
   "cell_type": "code",
   "execution_count": 29,
   "metadata": {
    "hideCode": false,
    "hideOutput": true,
    "hidePrompt": false,
    "slideshow": {
     "slide_type": "skip"
    }
   },
   "outputs": [
    {
     "name": "stdout",
     "output_type": "stream",
     "text": [
      "<class 'pandas.core.frame.DataFrame'>\n",
      "Int64Index: 105 entries, 299 to 2499\n",
      "Data columns (total 5 columns):\n",
      " #   Column     Non-Null Count  Dtype  \n",
      "---  ------     --------------  -----  \n",
      " 0   Country    105 non-null    object \n",
      " 1   IND        105 non-null    object \n",
      " 2   Indicator  105 non-null    object \n",
      " 3   Time       105 non-null    object \n",
      " 4   Value      105 non-null    float64\n",
      "dtypes: float64(1), object(4)\n",
      "memory usage: 4.9+ KB\n"
     ]
    }
   ],
   "source": [
    "housing_spain.info()"
   ]
  },
  {
   "cell_type": "code",
   "execution_count": 30,
   "metadata": {
    "hideCode": false,
    "hideOutput": true,
    "hidePrompt": false,
    "slideshow": {
     "slide_type": "skip"
    }
   },
   "outputs": [
    {
     "data": {
      "text/html": [
       "\n",
       "<div id=\"altair-viz-0d5303f5be804f8abfcd0e2acb8e172c\"></div>\n",
       "<script type=\"text/javascript\">\n",
       "  (function(spec, embedOpt){\n",
       "    let outputDiv = document.currentScript.previousElementSibling;\n",
       "    if (outputDiv.id !== \"altair-viz-0d5303f5be804f8abfcd0e2acb8e172c\") {\n",
       "      outputDiv = document.getElementById(\"altair-viz-0d5303f5be804f8abfcd0e2acb8e172c\");\n",
       "    }\n",
       "    const paths = {\n",
       "      \"vega\": \"https://cdn.jsdelivr.net/npm//vega@5?noext\",\n",
       "      \"vega-lib\": \"https://cdn.jsdelivr.net/npm//vega-lib?noext\",\n",
       "      \"vega-lite\": \"https://cdn.jsdelivr.net/npm//vega-lite@4.8.1?noext\",\n",
       "      \"vega-embed\": \"https://cdn.jsdelivr.net/npm//vega-embed@6?noext\",\n",
       "    };\n",
       "\n",
       "    function loadScript(lib) {\n",
       "      return new Promise(function(resolve, reject) {\n",
       "        var s = document.createElement('script');\n",
       "        s.src = paths[lib];\n",
       "        s.async = true;\n",
       "        s.onload = () => resolve(paths[lib]);\n",
       "        s.onerror = () => reject(`Error loading script: ${paths[lib]}`);\n",
       "        document.getElementsByTagName(\"head\")[0].appendChild(s);\n",
       "      });\n",
       "    }\n",
       "\n",
       "    function showError(err) {\n",
       "      outputDiv.innerHTML = `<div class=\"error\" style=\"color:red;\">${err}</div>`;\n",
       "      throw err;\n",
       "    }\n",
       "\n",
       "    function displayChart(vegaEmbed) {\n",
       "      vegaEmbed(outputDiv, spec, embedOpt)\n",
       "        .catch(err => showError(`Javascript Error: ${err.message}<br>This usually means there's a typo in your chart specification. See the javascript console for the full traceback.`));\n",
       "    }\n",
       "\n",
       "    if(typeof define === \"function\" && define.amd) {\n",
       "      requirejs.config({paths});\n",
       "      require([\"vega-embed\"], displayChart, err => showError(`Error loading script: ${err.message}`));\n",
       "    } else if (typeof vegaEmbed === \"function\") {\n",
       "      displayChart(vegaEmbed);\n",
       "    } else {\n",
       "      loadScript(\"vega\")\n",
       "        .then(() => loadScript(\"vega-lite\"))\n",
       "        .then(() => loadScript(\"vega-embed\"))\n",
       "        .catch(showError)\n",
       "        .then(() => displayChart(vegaEmbed));\n",
       "    }\n",
       "  })({\"config\": {\"view\": {\"continuousWidth\": 400, \"continuousHeight\": 300}}, \"data\": {\"name\": \"data-247825a2c74819c4e8ebb0db372e38d1\"}, \"mark\": \"line\", \"encoding\": {\"color\": {\"type\": \"nominal\", \"field\": \"Indicator\"}, \"tooltip\": {\"type\": \"nominal\", \"field\": \"Indicator\"}, \"x\": {\"type\": \"nominal\", \"field\": \"Time\"}, \"y\": {\"type\": \"quantitative\", \"field\": \"Value\"}}, \"height\": 600, \"selection\": {\"Indicator\": {\"type\": \"single\", \"fields\": [\"Indicator\"], \"bind\": {\"input\": \"select\", \"options\": [\"Nominal house price indices, s.a.\", \"Standardised price-rent ratio\", \"Price to income ratio\", \"Rent prices, s.a.\", \"Price to rent ratio\", \"Standardised price-income ratio\", \"Real house price indices, s.a.\"]}}}, \"transform\": [{\"filter\": {\"selection\": \"Indicator\"}}], \"width\": 700, \"$schema\": \"https://vega.github.io/schema/vega-lite/v4.8.1.json\", \"datasets\": {\"data-247825a2c74819c4e8ebb0db372e38d1\": [{\"Country\": \"Spain\", \"IND\": \"RHP\", \"Indicator\": \"Real house price indices, s.a.\", \"Time\": \"2005\", \"Value\": 140.883992449951}, {\"Country\": \"Spain\", \"IND\": \"RHP\", \"Indicator\": \"Real house price indices, s.a.\", \"Time\": \"2006\", \"Value\": 154.591433011351}, {\"Country\": \"Spain\", \"IND\": \"RHP\", \"Indicator\": \"Real house price indices, s.a.\", \"Time\": \"2007\", \"Value\": 164.24588572867202}, {\"Country\": \"Spain\", \"IND\": \"RHP\", \"Indicator\": \"Real house price indices, s.a.\", \"Time\": \"2008\", \"Value\": 156.297547253611}, {\"Country\": \"Spain\", \"IND\": \"RHP\", \"Indicator\": \"Real house price indices, s.a.\", \"Time\": \"2009\", \"Value\": 147.370283893756}, {\"Country\": \"Spain\", \"IND\": \"RHP\", \"Indicator\": \"Real house price indices, s.a.\", \"Time\": \"2010\", \"Value\": 141.963946747876}, {\"Country\": \"Spain\", \"IND\": \"RHP\", \"Indicator\": \"Real house price indices, s.a.\", \"Time\": \"2011\", \"Value\": 128.101508605275}, {\"Country\": \"Spain\", \"IND\": \"RHP\", \"Indicator\": \"Real house price indices, s.a.\", \"Time\": \"2012\", \"Value\": 106.99436213963101}, {\"Country\": \"Spain\", \"IND\": \"RHP\", \"Indicator\": \"Real house price indices, s.a.\", \"Time\": \"2013\", \"Value\": 96.279168992165}, {\"Country\": \"Spain\", \"IND\": \"RHP\", \"Indicator\": \"Real house price indices, s.a.\", \"Time\": \"2014\", \"Value\": 96.45476334395781}, {\"Country\": \"Spain\", \"IND\": \"RHP\", \"Indicator\": \"Real house price indices, s.a.\", \"Time\": \"2015\", \"Value\": 100.0}, {\"Country\": \"Spain\", \"IND\": \"RHP\", \"Indicator\": \"Real house price indices, s.a.\", \"Time\": \"2016\", \"Value\": 104.45007328823401}, {\"Country\": \"Spain\", \"IND\": \"RHP\", \"Indicator\": \"Real house price indices, s.a.\", \"Time\": \"2017\", \"Value\": 109.24618852298401}, {\"Country\": \"Spain\", \"IND\": \"RHP\", \"Indicator\": \"Real house price indices, s.a.\", \"Time\": \"2018\", \"Value\": 114.891296510757}, {\"Country\": \"Spain\", \"IND\": \"RHP\", \"Indicator\": \"Real house price indices, s.a.\", \"Time\": \"2019\", \"Value\": 119.64850784747401}, {\"Country\": \"Spain\", \"IND\": \"HPI_RPI\", \"Indicator\": \"Price to rent ratio\", \"Time\": \"2005\", \"Value\": 141.410259487748}, {\"Country\": \"Spain\", \"IND\": \"HPI_RPI\", \"Indicator\": \"Price to rent ratio\", \"Time\": \"2006\", \"Value\": 153.929796555461}, {\"Country\": \"Spain\", \"IND\": \"HPI_RPI\", \"Indicator\": \"Price to rent ratio\", \"Time\": \"2007\", \"Value\": 162.0039844309}, {\"Country\": \"Spain\", \"IND\": \"HPI_RPI\", \"Indicator\": \"Price to rent ratio\", \"Time\": \"2008\", \"Value\": 153.246231031466}, {\"Country\": \"Spain\", \"IND\": \"HPI_RPI\", \"Indicator\": \"Price to rent ratio\", \"Time\": \"2009\", \"Value\": 138.81017373768}, {\"Country\": \"Spain\", \"IND\": \"HPI_RPI\", \"Indicator\": \"Price to rent ratio\", \"Time\": \"2010\", \"Value\": 134.855565480866}, {\"Country\": \"Spain\", \"IND\": \"HPI_RPI\", \"Indicator\": \"Price to rent ratio\", \"Time\": \"2011\", \"Value\": 123.27653313591401}, {\"Country\": \"Spain\", \"IND\": \"HPI_RPI\", \"Indicator\": \"Price to rent ratio\", \"Time\": \"2012\", \"Value\": 104.476660951059}, {\"Country\": \"Spain\", \"IND\": \"HPI_RPI\", \"Indicator\": \"Price to rent ratio\", \"Time\": \"2013\", \"Value\": 95.11458638649981}, {\"Country\": \"Spain\", \"IND\": \"HPI_RPI\", \"Indicator\": \"Price to rent ratio\", \"Time\": \"2014\", \"Value\": 96.073388645595}, {\"Country\": \"Spain\", \"IND\": \"HPI_RPI\", \"Indicator\": \"Price to rent ratio\", \"Time\": \"2015\", \"Value\": 100.0}, {\"Country\": \"Spain\", \"IND\": \"HPI_RPI\", \"Indicator\": \"Price to rent ratio\", \"Time\": \"2016\", \"Value\": 104.712532466866}, {\"Country\": \"Spain\", \"IND\": \"HPI_RPI\", \"Indicator\": \"Price to rent ratio\", \"Time\": \"2017\", \"Value\": 110.74153886863998}, {\"Country\": \"Spain\", \"IND\": \"HPI_RPI\", \"Indicator\": \"Price to rent ratio\", \"Time\": \"2018\", \"Value\": 116.713992766042}, {\"Country\": \"Spain\", \"IND\": \"HPI_RPI\", \"Indicator\": \"Price to rent ratio\", \"Time\": \"2019\", \"Value\": 120.895545218426}, {\"Country\": \"Spain\", \"IND\": \"HPI_YDH_AVG\", \"Indicator\": \"Standardised price-income ratio\", \"Time\": \"2005\", \"Value\": 128.515095034923}, {\"Country\": \"Spain\", \"IND\": \"HPI_YDH_AVG\", \"Indicator\": \"Standardised price-income ratio\", \"Time\": \"2006\", \"Value\": 140.44309915361902}, {\"Country\": \"Spain\", \"IND\": \"HPI_YDH_AVG\", \"Indicator\": \"Standardised price-income ratio\", \"Time\": \"2007\", \"Value\": 149.60618832677798}, {\"Country\": \"Spain\", \"IND\": \"HPI_YDH_AVG\", \"Indicator\": \"Standardised price-income ratio\", \"Time\": \"2008\", \"Value\": 142.23638578645202}, {\"Country\": \"Spain\", \"IND\": \"HPI_YDH_AVG\", \"Indicator\": \"Standardised price-income ratio\", \"Time\": \"2009\", \"Value\": 134.778203351838}, {\"Country\": \"Spain\", \"IND\": \"HPI_YDH_AVG\", \"Indicator\": \"Standardised price-income ratio\", \"Time\": \"2010\", \"Value\": 132.38771721788999}, {\"Country\": \"Spain\", \"IND\": \"HPI_YDH_AVG\", \"Indicator\": \"Standardised price-income ratio\", \"Time\": \"2011\", \"Value\": 121.674353703239}, {\"Country\": \"Spain\", \"IND\": \"HPI_YDH_AVG\", \"Indicator\": \"Standardised price-income ratio\", \"Time\": \"2012\", \"Value\": 109.37295224929301}, {\"Country\": \"Spain\", \"IND\": \"HPI_YDH_AVG\", \"Indicator\": \"Standardised price-income ratio\", \"Time\": \"2013\", \"Value\": 99.0687249672508}, {\"Country\": \"Spain\", \"IND\": \"HPI_YDH_AVG\", \"Indicator\": \"Standardised price-income ratio\", \"Time\": \"2014\", \"Value\": 99.1185481839362}, {\"Country\": \"Spain\", \"IND\": \"HPI_YDH_AVG\", \"Indicator\": \"Standardised price-income ratio\", \"Time\": \"2015\", \"Value\": 98.66133581706329}, {\"Country\": \"Spain\", \"IND\": \"HPI_YDH_AVG\", \"Indicator\": \"Standardised price-income ratio\", \"Time\": \"2016\", \"Value\": 100.638276828572}, {\"Country\": \"Spain\", \"IND\": \"HPI_YDH_AVG\", \"Indicator\": \"Standardised price-income ratio\", \"Time\": \"2017\", \"Value\": 103.76721388223801}, {\"Country\": \"Spain\", \"IND\": \"HPI_YDH_AVG\", \"Indicator\": \"Standardised price-income ratio\", \"Time\": \"2018\", \"Value\": 107.971558392577}, {\"Country\": \"Spain\", \"IND\": \"HPI_YDH_AVG\", \"Indicator\": \"Standardised price-income ratio\", \"Time\": \"2019\", \"Value\": 111.680265769463}, {\"Country\": \"Spain\", \"IND\": \"HPI_RPI_AVG\", \"Indicator\": \"Standardised price-rent ratio\", \"Time\": \"2005\", \"Value\": 147.348731387166}, {\"Country\": \"Spain\", \"IND\": \"HPI_RPI_AVG\", \"Indicator\": \"Standardised price-rent ratio\", \"Time\": \"2006\", \"Value\": 160.394021814923}, {\"Country\": \"Spain\", \"IND\": \"HPI_RPI_AVG\", \"Indicator\": \"Standardised price-rent ratio\", \"Time\": \"2007\", \"Value\": 168.807282244097}, {\"Country\": \"Spain\", \"IND\": \"HPI_RPI_AVG\", \"Indicator\": \"Standardised price-rent ratio\", \"Time\": \"2008\", \"Value\": 159.681750207859}, {\"Country\": \"Spain\", \"IND\": \"HPI_RPI_AVG\", \"Indicator\": \"Standardised price-rent ratio\", \"Time\": \"2009\", \"Value\": 144.639455991179}, {\"Country\": \"Spain\", \"IND\": \"HPI_RPI_AVG\", \"Indicator\": \"Standardised price-rent ratio\", \"Time\": \"2010\", \"Value\": 140.518775413365}, {\"Country\": \"Spain\", \"IND\": \"HPI_RPI_AVG\", \"Indicator\": \"Standardised price-rent ratio\", \"Time\": \"2011\", \"Value\": 128.45348585870198}, {\"Country\": \"Spain\", \"IND\": \"HPI_RPI_AVG\", \"Indicator\": \"Standardised price-rent ratio\", \"Time\": \"2012\", \"Value\": 108.86411994767201}, {\"Country\": \"Spain\", \"IND\": \"HPI_RPI_AVG\", \"Indicator\": \"Standardised price-rent ratio\", \"Time\": \"2013\", \"Value\": 99.10888850097959}, {\"Country\": \"Spain\", \"IND\": \"HPI_RPI_AVG\", \"Indicator\": \"Standardised price-rent ratio\", \"Time\": \"2014\", \"Value\": 100.107955308725}, {\"Country\": \"Spain\", \"IND\": \"HPI_RPI_AVG\", \"Indicator\": \"Standardised price-rent ratio\", \"Time\": \"2015\", \"Value\": 104.199463264497}, {\"Country\": \"Spain\", \"IND\": \"HPI_RPI_AVG\", \"Indicator\": \"Standardised price-rent ratio\", \"Time\": \"2016\", \"Value\": 109.10989680113701}, {\"Country\": \"Spain\", \"IND\": \"HPI_RPI_AVG\", \"Indicator\": \"Standardised price-rent ratio\", \"Time\": \"2017\", \"Value\": 115.392089111967}, {\"Country\": \"Spain\", \"IND\": \"HPI_RPI_AVG\", \"Indicator\": \"Standardised price-rent ratio\", \"Time\": \"2018\", \"Value\": 121.61535401678002}, {\"Country\": \"Spain\", \"IND\": \"HPI_RPI_AVG\", \"Indicator\": \"Standardised price-rent ratio\", \"Time\": \"2019\", \"Value\": 125.972509228288}, {\"Country\": \"Spain\", \"IND\": \"HPI\", \"Indicator\": \"Nominal house price indices, s.a.\", \"Time\": \"2005\", \"Value\": 119.27174793054701}, {\"Country\": \"Spain\", \"IND\": \"HPI\", \"Indicator\": \"Nominal house price indices, s.a.\", \"Time\": \"2006\", \"Value\": 135.500411248971}, {\"Country\": \"Spain\", \"IND\": \"HPI\", \"Indicator\": \"Nominal house price indices, s.a.\", \"Time\": \"2007\", \"Value\": 148.79112802218}, {\"Country\": \"Spain\", \"IND\": \"HPI\", \"Indicator\": \"Nominal house price indices, s.a.\", \"Time\": \"2008\", \"Value\": 146.666133334666}, {\"Country\": \"Spain\", \"IND\": \"HPI\", \"Indicator\": \"Nominal house price indices, s.a.\", \"Time\": \"2009\", \"Value\": 136.975157562106}, {\"Country\": \"Spain\", \"IND\": \"HPI\", \"Indicator\": \"Nominal house price indices, s.a.\", \"Time\": \"2010\", \"Value\": 134.555163612091}, {\"Country\": \"Spain\", \"IND\": \"HPI\", \"Indicator\": \"Nominal house price indices, s.a.\", \"Time\": \"2011\", \"Value\": 124.270189324526}, {\"Country\": \"Spain\", \"IND\": \"HPI\", \"Indicator\": \"Nominal house price indices, s.a.\", \"Time\": \"2012\", \"Value\": 105.905235236912}, {\"Country\": \"Spain\", \"IND\": \"HPI\", \"Indicator\": \"Nominal house price indices, s.a.\", \"Time\": \"2013\", \"Value\": 96.23925940185129}, {\"Country\": \"Spain\", \"IND\": \"HPI\", \"Indicator\": \"Nominal house price indices, s.a.\", \"Time\": \"2014\", \"Value\": 96.53925865185309}, {\"Country\": \"Spain\", \"IND\": \"HPI\", \"Indicator\": \"Nominal house price indices, s.a.\", \"Time\": \"2015\", \"Value\": 100.0}, {\"Country\": \"Spain\", \"IND\": \"HPI\", \"Indicator\": \"Nominal house price indices, s.a.\", \"Time\": \"2016\", \"Value\": 104.62273844315399}, {\"Country\": \"Spain\", \"IND\": \"HPI\", \"Indicator\": \"Nominal house price indices, s.a.\", \"Time\": \"2017\", \"Value\": 111.105222236944}, {\"Country\": \"Spain\", \"IND\": \"HPI\", \"Indicator\": \"Nominal house price indices, s.a.\", \"Time\": \"2018\", \"Value\": 118.580203549491}, {\"Country\": \"Spain\", \"IND\": \"HPI\", \"Indicator\": \"Nominal house price indices, s.a.\", \"Time\": \"2019\", \"Value\": 124.715188215102}, {\"Country\": \"Spain\", \"IND\": \"RPI\", \"Indicator\": \"Rent prices, s.a.\", \"Time\": \"2005\", \"Value\": 84.3212997562276}, {\"Country\": \"Spain\", \"IND\": \"RPI\", \"Indicator\": \"Rent prices, s.a.\", \"Time\": \"2006\", \"Value\": 87.99715039950149}, {\"Country\": \"Spain\", \"IND\": \"RPI\", \"Indicator\": \"Rent prices, s.a.\", \"Time\": \"2007\", \"Value\": 91.84143857225192}, {\"Country\": \"Spain\", \"IND\": \"RPI\", \"Indicator\": \"Rent prices, s.a.\", \"Time\": \"2008\", \"Value\": 95.7398467544733}, {\"Country\": \"Spain\", \"IND\": \"RPI\", \"Indicator\": \"Rent prices, s.a.\", \"Time\": \"2009\", \"Value\": 98.6824247694245}, {\"Country\": \"Spain\", \"IND\": \"RPI\", \"Indicator\": \"Rent prices, s.a.\", \"Time\": \"2010\", \"Value\": 99.7787099612743}, {\"Country\": \"Spain\", \"IND\": \"RPI\", \"Indicator\": \"Rent prices, s.a.\", \"Time\": \"2011\", \"Value\": 100.814067642462}, {\"Country\": \"Spain\", \"IND\": \"RPI\", \"Indicator\": \"Rent prices, s.a.\", \"Time\": \"2012\", \"Value\": 101.368142739425}, {\"Country\": \"Spain\", \"IND\": \"RPI\", \"Indicator\": \"Rent prices, s.a.\", \"Time\": \"2013\", \"Value\": 101.179792706464}, {\"Country\": \"Spain\", \"IND\": \"RPI\", \"Indicator\": \"Rent prices, s.a.\", \"Time\": \"2014\", \"Value\": 100.48426758474702}, {\"Country\": \"Spain\", \"IND\": \"RPI\", \"Indicator\": \"Rent prices, s.a.\", \"Time\": \"2015\", \"Value\": 100.0}, {\"Country\": \"Spain\", \"IND\": \"RPI\", \"Indicator\": \"Rent prices, s.a.\", \"Time\": \"2016\", \"Value\": 99.9120949846167}, {\"Country\": \"Spain\", \"IND\": \"RPI\", \"Indicator\": \"Rent prices, s.a.\", \"Time\": \"2017\", \"Value\": 100.322317556406}, {\"Country\": \"Spain\", \"IND\": \"RPI\", \"Indicator\": \"Rent prices, s.a.\", \"Time\": \"2018\", \"Value\": 101.59021777828801}, {\"Country\": \"Spain\", \"IND\": \"RPI\", \"Indicator\": \"Rent prices, s.a.\", \"Time\": \"2019\", \"Value\": 103.155318052144}, {\"Country\": \"Spain\", \"IND\": \"HPI_YDH\", \"Indicator\": \"Price to income ratio\", \"Time\": \"2005\", \"Value\": 130.258823246843}, {\"Country\": \"Spain\", \"IND\": \"HPI_YDH\", \"Indicator\": \"Price to income ratio\", \"Time\": \"2006\", \"Value\": 142.348669811269}, {\"Country\": \"Spain\", \"IND\": \"HPI_YDH\", \"Indicator\": \"Price to income ratio\", \"Time\": \"2007\", \"Value\": 151.636086302517}, {\"Country\": \"Spain\", \"IND\": \"HPI_YDH\", \"Indicator\": \"Price to income ratio\", \"Time\": \"2008\", \"Value\": 144.16628825113898}, {\"Country\": \"Spain\", \"IND\": \"HPI_YDH\", \"Indicator\": \"Price to income ratio\", \"Time\": \"2009\", \"Value\": 136.606911142722}, {\"Country\": \"Spain\", \"IND\": \"HPI_YDH\", \"Indicator\": \"Price to income ratio\", \"Time\": \"2010\", \"Value\": 134.183990234393}, {\"Country\": \"Spain\", \"IND\": \"HPI_YDH\", \"Indicator\": \"Price to income ratio\", \"Time\": \"2011\", \"Value\": 123.325264852329}, {\"Country\": \"Spain\", \"IND\": \"HPI_YDH\", \"Indicator\": \"Price to income ratio\", \"Time\": \"2012\", \"Value\": 110.85695459474701}, {\"Country\": \"Spain\", \"IND\": \"HPI_YDH\", \"Indicator\": \"Price to income ratio\", \"Time\": \"2013\", \"Value\": 100.412916718402}, {\"Country\": \"Spain\", \"IND\": \"HPI_YDH\", \"Indicator\": \"Price to income ratio\", \"Time\": \"2014\", \"Value\": 100.463415950216}, {\"Country\": \"Spain\", \"IND\": \"HPI_YDH\", \"Indicator\": \"Price to income ratio\", \"Time\": \"2015\", \"Value\": 100.0}, {\"Country\": \"Spain\", \"IND\": \"HPI_YDH\", \"Indicator\": \"Price to income ratio\", \"Time\": \"2016\", \"Value\": 102.003764691748}, {\"Country\": \"Spain\", \"IND\": \"HPI_YDH\", \"Indicator\": \"Price to income ratio\", \"Time\": \"2017\", \"Value\": 105.175156025296}, {\"Country\": \"Spain\", \"IND\": \"HPI_YDH\", \"Indicator\": \"Price to income ratio\", \"Time\": \"2018\", \"Value\": 109.436546240137}, {\"Country\": \"Spain\", \"IND\": \"HPI_YDH\", \"Indicator\": \"Price to income ratio\", \"Time\": \"2019\", \"Value\": 113.19557438036199}]}}, {\"mode\": \"vega-lite\"});\n",
       "</script>"
      ],
      "text/plain": [
       "alt.Chart(...)"
      ]
     },
     "execution_count": 30,
     "metadata": {},
     "output_type": "execute_result"
    }
   ],
   "source": [
    "#Visualization of all housing parameters for Spain\n",
    "input_dropdown = alt.binding_select(options=['Nominal house price indices, s.a.','Standardised price-rent ratio', 'Price to income ratio','Rent prices, s.a.','Price to rent ratio','Standardised price-income ratio','Real house price indices, s.a.'])\n",
    "selection = alt.selection_single(fields=['Indicator'], bind=input_dropdown, name='Indicator')\n",
    "color = alt.condition(selection,\n",
    "                    alt.Color('Indicator:N', legend=None),\n",
    "                    alt.value('lightgray'))\n",
    "\n",
    "alt.Chart(housing_spain).mark_line().encode(\n",
    "    x='Time',\n",
    "    y='Value',\n",
    "    color='Indicator:N',\n",
    "    tooltip='Indicator:N'\n",
    ").add_selection(\n",
    "    selection\n",
    ").transform_filter(\n",
    "    selection\n",
    ").properties(\n",
    "    width=700,\n",
    "    height=600\n",
    ")"
   ]
  },
  {
   "cell_type": "markdown",
   "metadata": {
    "hideCode": false,
    "hideOutput": true,
    "hidePrompt": false,
    "slideshow": {
     "slide_type": "skip"
    }
   },
   "source": [
    "### Slovenia"
   ]
  },
  {
   "cell_type": "code",
   "execution_count": 31,
   "metadata": {
    "hideCode": false,
    "hideOutput": true,
    "hidePrompt": false,
    "slideshow": {
     "slide_type": "skip"
    }
   },
   "outputs": [
    {
     "data": {
      "text/html": [
       "<div>\n",
       "<style scoped>\n",
       "    .dataframe tbody tr th:only-of-type {\n",
       "        vertical-align: middle;\n",
       "    }\n",
       "\n",
       "    .dataframe tbody tr th {\n",
       "        vertical-align: top;\n",
       "    }\n",
       "\n",
       "    .dataframe thead th {\n",
       "        text-align: right;\n",
       "    }\n",
       "</style>\n",
       "<table border=\"1\" class=\"dataframe\">\n",
       "  <thead>\n",
       "    <tr style=\"text-align: right;\">\n",
       "      <th></th>\n",
       "      <th>Country</th>\n",
       "      <th>IND</th>\n",
       "      <th>Indicator</th>\n",
       "      <th>Time</th>\n",
       "      <th>Value</th>\n",
       "    </tr>\n",
       "  </thead>\n",
       "  <tbody>\n",
       "    <tr>\n",
       "      <th>1069</th>\n",
       "      <td>Slovenia</td>\n",
       "      <td>RPI</td>\n",
       "      <td>Rent prices, s.a.</td>\n",
       "      <td>2005</td>\n",
       "      <td>92.508256</td>\n",
       "    </tr>\n",
       "  </tbody>\n",
       "</table>\n",
       "</div>"
      ],
      "text/plain": [
       "       Country  IND          Indicator  Time      Value\n",
       "1069  Slovenia  RPI  Rent prices, s.a.  2005  92.508256"
      ]
     },
     "execution_count": 31,
     "metadata": {},
     "output_type": "execute_result"
    }
   ],
   "source": [
    "housing_slovenia[housing_slovenia.Time == str(2005)]"
   ]
  },
  {
   "cell_type": "code",
   "execution_count": 32,
   "metadata": {
    "hideCode": false,
    "hideOutput": true,
    "hidePrompt": false,
    "slideshow": {
     "slide_type": "skip"
    }
   },
   "outputs": [
    {
     "name": "stdout",
     "output_type": "stream",
     "text": [
      "<class 'pandas.core.frame.DataFrame'>\n",
      "Int64Index: 67 entries, 155 to 2422\n",
      "Data columns (total 5 columns):\n",
      " #   Column     Non-Null Count  Dtype  \n",
      "---  ------     --------------  -----  \n",
      " 0   Country    67 non-null     object \n",
      " 1   IND        67 non-null     object \n",
      " 2   Indicator  67 non-null     object \n",
      " 3   Time       67 non-null     int64  \n",
      " 4   Value      67 non-null     float64\n",
      "dtypes: float64(1), int64(1), object(3)\n",
      "memory usage: 3.1+ KB\n"
     ]
    }
   ],
   "source": [
    "#Change the Time column into a numeric type in order to sort it later on\n",
    "housing_slovenia = housing_slovenia.astype({\"Time\": int}) \n",
    "\n",
    "housing_slovenia.info()"
   ]
  },
  {
   "cell_type": "code",
   "execution_count": 33,
   "metadata": {
    "hideCode": false,
    "hideOutput": true,
    "hidePrompt": false,
    "slideshow": {
     "slide_type": "skip"
    }
   },
   "outputs": [],
   "source": [
    "#Sort the years in ascending order to make sure that the graph appears correctly\n",
    "housing_slovenia.sort_values(by=['Time'], inplace=True)"
   ]
  },
  {
   "cell_type": "code",
   "execution_count": 34,
   "metadata": {
    "hideCode": false,
    "hideOutput": true,
    "hidePrompt": false,
    "slideshow": {
     "slide_type": "skip"
    }
   },
   "outputs": [
    {
     "data": {
      "text/html": [
       "\n",
       "<div id=\"altair-viz-2170f60d8c5746f1b42470da1f704497\"></div>\n",
       "<script type=\"text/javascript\">\n",
       "  (function(spec, embedOpt){\n",
       "    let outputDiv = document.currentScript.previousElementSibling;\n",
       "    if (outputDiv.id !== \"altair-viz-2170f60d8c5746f1b42470da1f704497\") {\n",
       "      outputDiv = document.getElementById(\"altair-viz-2170f60d8c5746f1b42470da1f704497\");\n",
       "    }\n",
       "    const paths = {\n",
       "      \"vega\": \"https://cdn.jsdelivr.net/npm//vega@5?noext\",\n",
       "      \"vega-lib\": \"https://cdn.jsdelivr.net/npm//vega-lib?noext\",\n",
       "      \"vega-lite\": \"https://cdn.jsdelivr.net/npm//vega-lite@4.8.1?noext\",\n",
       "      \"vega-embed\": \"https://cdn.jsdelivr.net/npm//vega-embed@6?noext\",\n",
       "    };\n",
       "\n",
       "    function loadScript(lib) {\n",
       "      return new Promise(function(resolve, reject) {\n",
       "        var s = document.createElement('script');\n",
       "        s.src = paths[lib];\n",
       "        s.async = true;\n",
       "        s.onload = () => resolve(paths[lib]);\n",
       "        s.onerror = () => reject(`Error loading script: ${paths[lib]}`);\n",
       "        document.getElementsByTagName(\"head\")[0].appendChild(s);\n",
       "      });\n",
       "    }\n",
       "\n",
       "    function showError(err) {\n",
       "      outputDiv.innerHTML = `<div class=\"error\" style=\"color:red;\">${err}</div>`;\n",
       "      throw err;\n",
       "    }\n",
       "\n",
       "    function displayChart(vegaEmbed) {\n",
       "      vegaEmbed(outputDiv, spec, embedOpt)\n",
       "        .catch(err => showError(`Javascript Error: ${err.message}<br>This usually means there's a typo in your chart specification. See the javascript console for the full traceback.`));\n",
       "    }\n",
       "\n",
       "    if(typeof define === \"function\" && define.amd) {\n",
       "      requirejs.config({paths});\n",
       "      require([\"vega-embed\"], displayChart, err => showError(`Error loading script: ${err.message}`));\n",
       "    } else if (typeof vegaEmbed === \"function\") {\n",
       "      displayChart(vegaEmbed);\n",
       "    } else {\n",
       "      loadScript(\"vega\")\n",
       "        .then(() => loadScript(\"vega-lite\"))\n",
       "        .then(() => loadScript(\"vega-embed\"))\n",
       "        .catch(showError)\n",
       "        .then(() => displayChart(vegaEmbed));\n",
       "    }\n",
       "  })({\"config\": {\"view\": {\"continuousWidth\": 400, \"continuousHeight\": 300}}, \"data\": {\"name\": \"data-afe0d31ac304b59cc4c7dcc0d28f2a4b\"}, \"mark\": \"line\", \"encoding\": {\"color\": {\"type\": \"nominal\", \"field\": \"Indicator\"}, \"tooltip\": {\"type\": \"nominal\", \"field\": \"Indicator\"}, \"x\": {\"type\": \"quantitative\", \"field\": \"Time\"}, \"y\": {\"type\": \"quantitative\", \"field\": \"Value\"}}, \"height\": 600, \"selection\": {\"Indicator\": {\"type\": \"single\", \"fields\": [\"Indicator\"], \"bind\": {\"input\": \"select\", \"options\": [\"Nominal house price indices, s.a.\", \"Standardised price-rent ratio\", \"Price to income ratio\", \"Rent prices, s.a.\", \"Price to rent ratio\", \"Standardised price-income ratio\", \"Real house price indices, s.a.\"]}}}, \"transform\": [{\"filter\": {\"selection\": \"Indicator\"}}], \"width\": 700, \"$schema\": \"https://vega.github.io/schema/vega-lite/v4.8.1.json\", \"datasets\": {\"data-afe0d31ac304b59cc4c7dcc0d28f2a4b\": [{\"Country\": \"Slovenia\", \"IND\": \"RPI\", \"Indicator\": \"Rent prices, s.a.\", \"Time\": 2005, \"Value\": 92.50825644229009}, {\"Country\": \"Slovenia\", \"IND\": \"RPI\", \"Indicator\": \"Rent prices, s.a.\", \"Time\": 2006, \"Value\": 95.49744580418329}, {\"Country\": \"Slovenia\", \"IND\": \"HPI_RPI\", \"Indicator\": \"Price to rent ratio\", \"Time\": 2007, \"Value\": 122.83942197453001}, {\"Country\": \"Slovenia\", \"IND\": \"RPI\", \"Indicator\": \"Rent prices, s.a.\", \"Time\": 2007, \"Value\": 98.33997147076771}, {\"Country\": \"Slovenia\", \"IND\": \"RHP\", \"Indicator\": \"Real house price indices, s.a.\", \"Time\": 2007, \"Value\": 136.628089203374}, {\"Country\": \"Slovenia\", \"IND\": \"HPI\", \"Indicator\": \"Nominal house price indices, s.a.\", \"Time\": 2007, \"Value\": 120.845000008216}, {\"Country\": \"Slovenia\", \"IND\": \"HPI_YDH\", \"Indicator\": \"Price to income ratio\", \"Time\": 2007, \"Value\": 131.539999513023}, {\"Country\": \"Slovenia\", \"IND\": \"HPI\", \"Indicator\": \"Nominal house price indices, s.a.\", \"Time\": 2008, \"Value\": 129.3075}, {\"Country\": \"Slovenia\", \"IND\": \"RHP\", \"Indicator\": \"Real house price indices, s.a.\", \"Time\": 2008, \"Value\": 138.46160613979401}, {\"Country\": \"Slovenia\", \"IND\": \"HPI_RPI\", \"Indicator\": \"Price to rent ratio\", \"Time\": 2008, \"Value\": 124.54637371742399}, {\"Country\": \"Slovenia\", \"IND\": \"RPI\", \"Indicator\": \"Rent prices, s.a.\", \"Time\": 2008, \"Value\": 103.82002113317199}, {\"Country\": \"Slovenia\", \"IND\": \"HPI_YDH\", \"Indicator\": \"Price to income ratio\", \"Time\": 2008, \"Value\": 130.10462811575002}, {\"Country\": \"Slovenia\", \"IND\": \"HPI_YDH\", \"Indicator\": \"Price to income ratio\", \"Time\": 2009, \"Value\": 119.00813060623899}, {\"Country\": \"Slovenia\", \"IND\": \"HPI_RPI\", \"Indicator\": \"Price to rent ratio\", \"Time\": 2009, \"Value\": 113.280660975445}, {\"Country\": \"Slovenia\", \"IND\": \"HPI\", \"Indicator\": \"Nominal house price indices, s.a.\", \"Time\": 2009, \"Value\": 117.055}, {\"Country\": \"Slovenia\", \"IND\": \"RPI\", \"Indicator\": \"Rent prices, s.a.\", \"Time\": 2009, \"Value\": 103.319192051416}, {\"Country\": \"Slovenia\", \"IND\": \"RHP\", \"Indicator\": \"Real house price indices, s.a.\", \"Time\": 2009, \"Value\": 124.294427822782}, {\"Country\": \"Slovenia\", \"IND\": \"RPI\", \"Indicator\": \"Rent prices, s.a.\", \"Time\": 2010, \"Value\": 101.876680294944}, {\"Country\": \"Slovenia\", \"IND\": \"HPI_RPI\", \"Indicator\": \"Price to rent ratio\", \"Time\": 2010, \"Value\": 115.03420505970101}, {\"Country\": \"Slovenia\", \"IND\": \"HPI_YDH\", \"Indicator\": \"Price to income ratio\", \"Time\": 2010, \"Value\": 118.57748664757099}, {\"Country\": \"Slovenia\", \"IND\": \"RHP\", \"Indicator\": \"Real house price indices, s.a.\", \"Time\": 2010, \"Value\": 122.66460206430901}, {\"Country\": \"Slovenia\", \"IND\": \"HPI\", \"Indicator\": \"Nominal house price indices, s.a.\", \"Time\": 2010, \"Value\": 117.205}, {\"Country\": \"Slovenia\", \"IND\": \"HPI_RPI\", \"Indicator\": \"Price to rent ratio\", \"Time\": 2011, \"Value\": 118.60562044563801}, {\"Country\": \"Slovenia\", \"IND\": \"RPI\", \"Indicator\": \"Rent prices, s.a.\", \"Time\": 2011, \"Value\": 101.48832712986601}, {\"Country\": \"Slovenia\", \"IND\": \"HPI\", \"Indicator\": \"Nominal house price indices, s.a.\", \"Time\": 2011, \"Value\": 120.385}, {\"Country\": \"Slovenia\", \"IND\": \"HPI_YDH\", \"Indicator\": \"Price to income ratio\", \"Time\": 2011, \"Value\": 119.62046038640699}, {\"Country\": \"Slovenia\", \"IND\": \"RHP\", \"Indicator\": \"Real house price indices, s.a.\", \"Time\": 2011, \"Value\": 123.794945811297}, {\"Country\": \"Slovenia\", \"IND\": \"RHP\", \"Indicator\": \"Real house price indices, s.a.\", \"Time\": 2012, \"Value\": 113.32391610876199}, {\"Country\": \"Slovenia\", \"IND\": \"HPI_RPI\", \"Indicator\": \"Price to rent ratio\", \"Time\": 2012, \"Value\": 112.258595769898}, {\"Country\": \"Slovenia\", \"IND\": \"HPI_YDH\", \"Indicator\": \"Price to income ratio\", \"Time\": 2012, \"Value\": 114.675526101068}, {\"Country\": \"Slovenia\", \"IND\": \"HPI\", \"Indicator\": \"Nominal house price indices, s.a.\", \"Time\": 2012, \"Value\": 112.09}, {\"Country\": \"Slovenia\", \"IND\": \"RPI\", \"Indicator\": \"Rent prices, s.a.\", \"Time\": 2012, \"Value\": 99.8333036414249}, {\"Country\": \"Slovenia\", \"IND\": \"RPI\", \"Indicator\": \"Rent prices, s.a.\", \"Time\": 2013, \"Value\": 98.775805022811}, {\"Country\": \"Slovenia\", \"IND\": \"HPI\", \"Indicator\": \"Nominal house price indices, s.a.\", \"Time\": 2013, \"Value\": 106.21}, {\"Country\": \"Slovenia\", \"IND\": \"HPI_YDH\", \"Indicator\": \"Price to income ratio\", \"Time\": 2013, \"Value\": 108.889385293641}, {\"Country\": \"Slovenia\", \"IND\": \"HPI_RPI\", \"Indicator\": \"Price to rent ratio\", \"Time\": 2013, \"Value\": 107.50938509652501}, {\"Country\": \"Slovenia\", \"IND\": \"RHP\", \"Indicator\": \"Real house price indices, s.a.\", \"Time\": 2013, \"Value\": 105.138271089691}, {\"Country\": \"Slovenia\", \"IND\": \"HPI\", \"Indicator\": \"Nominal house price indices, s.a.\", \"Time\": 2014, \"Value\": 99.2024999999999}, {\"Country\": \"Slovenia\", \"IND\": \"RHP\", \"Indicator\": \"Real house price indices, s.a.\", \"Time\": 2014, \"Value\": 98.608275432505}, {\"Country\": \"Slovenia\", \"IND\": \"RPI\", \"Indicator\": \"Rent prices, s.a.\", \"Time\": 2014, \"Value\": 98.0524666276031}, {\"Country\": \"Slovenia\", \"IND\": \"HPI_RPI\", \"Indicator\": \"Price to rent ratio\", \"Time\": 2014, \"Value\": 101.16788971534599}, {\"Country\": \"Slovenia\", \"IND\": \"HPI_YDH\", \"Indicator\": \"Price to income ratio\", \"Time\": 2014, \"Value\": 100.79686990181}, {\"Country\": \"Slovenia\", \"IND\": \"RPI\", \"Indicator\": \"Rent prices, s.a.\", \"Time\": 2015, \"Value\": 100.0}, {\"Country\": \"Slovenia\", \"IND\": \"HPI_YDH\", \"Indicator\": \"Price to income ratio\", \"Time\": 2015, \"Value\": 100.0}, {\"Country\": \"Slovenia\", \"IND\": \"HPI_RPI\", \"Indicator\": \"Price to rent ratio\", \"Time\": 2015, \"Value\": 100.0}, {\"Country\": \"Slovenia\", \"IND\": \"RHP\", \"Indicator\": \"Real house price indices, s.a.\", \"Time\": 2015, \"Value\": 100.0}, {\"Country\": \"Slovenia\", \"IND\": \"HPI\", \"Indicator\": \"Nominal house price indices, s.a.\", \"Time\": 2015, \"Value\": 100.0}, {\"Country\": \"Slovenia\", \"IND\": \"RHP\", \"Indicator\": \"Real house price indices, s.a.\", \"Time\": 2016, \"Value\": 103.631562301768}, {\"Country\": \"Slovenia\", \"IND\": \"HPI\", \"Indicator\": \"Nominal house price indices, s.a.\", \"Time\": 2016, \"Value\": 103.2525}, {\"Country\": \"Slovenia\", \"IND\": \"HPI_YDH\", \"Indicator\": \"Price to income ratio\", \"Time\": 2016, \"Value\": 98.8284830191527}, {\"Country\": \"Slovenia\", \"IND\": \"HPI_RPI\", \"Indicator\": \"Price to rent ratio\", \"Time\": 2016, \"Value\": 101.587484238453}, {\"Country\": \"Slovenia\", \"IND\": \"RPI\", \"Indicator\": \"Rent prices, s.a.\", \"Time\": 2016, \"Value\": 101.620853209953}, {\"Country\": \"Slovenia\", \"IND\": \"HPI_YDH\", \"Indicator\": \"Price to income ratio\", \"Time\": 2017, \"Value\": 101.923038431733}, {\"Country\": \"Slovenia\", \"IND\": \"RHP\", \"Indicator\": \"Real house price indices, s.a.\", \"Time\": 2017, \"Value\": 110.410642570056}, {\"Country\": \"Slovenia\", \"IND\": \"HPI_RPI\", \"Indicator\": \"Price to rent ratio\", \"Time\": 2017, \"Value\": 104.481980905101}, {\"Country\": \"Slovenia\", \"IND\": \"RPI\", \"Indicator\": \"Rent prices, s.a.\", \"Time\": 2017, \"Value\": 106.96337175148001}, {\"Country\": \"Slovenia\", \"IND\": \"HPI\", \"Indicator\": \"Nominal house price indices, s.a.\", \"Time\": 2017, \"Value\": 111.785}, {\"Country\": \"Slovenia\", \"IND\": \"RPI\", \"Indicator\": \"Rent prices, s.a.\", \"Time\": 2018, \"Value\": 113.627576064745}, {\"Country\": \"Slovenia\", \"IND\": \"HPI_RPI\", \"Indicator\": \"Price to rent ratio\", \"Time\": 2018, \"Value\": 106.949867855725}, {\"Country\": \"Slovenia\", \"IND\": \"HPI\", \"Indicator\": \"Nominal house price indices, s.a.\", \"Time\": 2018, \"Value\": 121.5475}, {\"Country\": \"Slovenia\", \"IND\": \"HPI_YDH\", \"Indicator\": \"Price to income ratio\", \"Time\": 2018, \"Value\": 104.646989833549}, {\"Country\": \"Slovenia\", \"IND\": \"RHP\", \"Indicator\": \"Real house price indices, s.a.\", \"Time\": 2018, \"Value\": 117.73025937700199}, {\"Country\": \"Slovenia\", \"IND\": \"RPI\", \"Indicator\": \"Rent prices, s.a.\", \"Time\": 2019, \"Value\": 118.445965328761}, {\"Country\": \"Slovenia\", \"IND\": \"HPI\", \"Indicator\": \"Nominal house price indices, s.a.\", \"Time\": 2019, \"Value\": 129.689999996186}, {\"Country\": \"Slovenia\", \"IND\": \"HPI_YDH\", \"Indicator\": \"Price to income ratio\", \"Time\": 2019, \"Value\": 106.306410259431}, {\"Country\": \"Slovenia\", \"IND\": \"HPI_RPI\", \"Indicator\": \"Price to rent ratio\", \"Time\": 2019, \"Value\": 109.49256553373002}, {\"Country\": \"Slovenia\", \"IND\": \"RHP\", \"Indicator\": \"Real house price indices, s.a.\", \"Time\": 2019, \"Value\": 123.95789874907801}]}}, {\"mode\": \"vega-lite\"});\n",
       "</script>"
      ],
      "text/plain": [
       "alt.Chart(...)"
      ]
     },
     "execution_count": 34,
     "metadata": {},
     "output_type": "execute_result"
    }
   ],
   "source": [
    "#Visualization of all housing parameters for Slovenia\n",
    "input_dropdown = alt.binding_select(options=['Nominal house price indices, s.a.','Standardised price-rent ratio', 'Price to income ratio','Rent prices, s.a.','Price to rent ratio','Standardised price-income ratio','Real house price indices, s.a.'])\n",
    "selection = alt.selection_single(fields=['Indicator'], bind=input_dropdown, name='Indicator')\n",
    "color = alt.condition(selection,\n",
    "                    alt.Color('Indicator:N', legend=None),\n",
    "                    alt.value('lightgray'))\n",
    "\n",
    "alt.Chart(housing_slovenia).mark_line().encode(\n",
    "    x='Time',\n",
    "    y='Value',\n",
    "    color='Indicator:N',\n",
    "    tooltip='Indicator:N'\n",
    ").add_selection(\n",
    "    selection\n",
    ").transform_filter(\n",
    "    selection\n",
    ").properties(\n",
    "    width=700,\n",
    "    height=600\n",
    ")"
   ]
  },
  {
   "cell_type": "markdown",
   "metadata": {
    "hideCode": false,
    "hidePrompt": false,
    "slideshow": {
     "slide_type": "slide"
    }
   },
   "source": [
    "### Financial Data Cleaning"
   ]
  },
  {
   "cell_type": "code",
   "execution_count": 35,
   "metadata": {
    "hideCode": false,
    "hidePrompt": false,
    "slideshow": {
     "slide_type": "subslide"
    }
   },
   "outputs": [
    {
     "data": {
      "text/html": [
       "<div>\n",
       "<style scoped>\n",
       "    .dataframe tbody tr th:only-of-type {\n",
       "        vertical-align: middle;\n",
       "    }\n",
       "\n",
       "    .dataframe tbody tr th {\n",
       "        vertical-align: top;\n",
       "    }\n",
       "\n",
       "    .dataframe thead th {\n",
       "        text-align: right;\n",
       "    }\n",
       "</style>\n",
       "<table border=\"1\" class=\"dataframe\">\n",
       "  <thead>\n",
       "    <tr style=\"text-align: right;\">\n",
       "      <th></th>\n",
       "      <th>LOCATION</th>\n",
       "      <th>Country</th>\n",
       "      <th>VARIABLE</th>\n",
       "      <th>Variable</th>\n",
       "      <th>EDITION</th>\n",
       "      <th>Edition</th>\n",
       "      <th>FREQUENCY</th>\n",
       "      <th>Frequency</th>\n",
       "      <th>TIME</th>\n",
       "      <th>Time</th>\n",
       "      <th>Unit Code</th>\n",
       "      <th>Unit</th>\n",
       "      <th>PowerCode Code</th>\n",
       "      <th>PowerCode</th>\n",
       "      <th>Reference Period Code</th>\n",
       "      <th>Reference Period</th>\n",
       "      <th>Value</th>\n",
       "      <th>Flag Codes</th>\n",
       "      <th>Flags</th>\n",
       "    </tr>\n",
       "  </thead>\n",
       "  <tbody>\n",
       "    <tr>\n",
       "      <th>0</th>\n",
       "      <td>GRC</td>\n",
       "      <td>Greece</td>\n",
       "      <td>CQ_ISKV</td>\n",
       "      <td>Change in inventories, contributions to change...</td>\n",
       "      <td>EO107_1</td>\n",
       "      <td>EO107_1 Single-hit scenario</td>\n",
       "      <td>A</td>\n",
       "      <td>Annual</td>\n",
       "      <td>2005</td>\n",
       "      <td>2005</td>\n",
       "      <td>PC</td>\n",
       "      <td>Percentage</td>\n",
       "      <td>0</td>\n",
       "      <td>Units</td>\n",
       "      <td>2010.0</td>\n",
       "      <td>2010.0</td>\n",
       "      <td>0.205935</td>\n",
       "      <td>NaN</td>\n",
       "      <td>NaN</td>\n",
       "    </tr>\n",
       "    <tr>\n",
       "      <th>1</th>\n",
       "      <td>GRC</td>\n",
       "      <td>Greece</td>\n",
       "      <td>CQ_ISKV</td>\n",
       "      <td>Change in inventories, contributions to change...</td>\n",
       "      <td>EO107_1</td>\n",
       "      <td>EO107_1 Single-hit scenario</td>\n",
       "      <td>A</td>\n",
       "      <td>Annual</td>\n",
       "      <td>2006</td>\n",
       "      <td>2006</td>\n",
       "      <td>PC</td>\n",
       "      <td>Percentage</td>\n",
       "      <td>0</td>\n",
       "      <td>Units</td>\n",
       "      <td>2010.0</td>\n",
       "      <td>2010.0</td>\n",
       "      <td>1.238916</td>\n",
       "      <td>NaN</td>\n",
       "      <td>NaN</td>\n",
       "    </tr>\n",
       "    <tr>\n",
       "      <th>2</th>\n",
       "      <td>GRC</td>\n",
       "      <td>Greece</td>\n",
       "      <td>CQ_ISKV</td>\n",
       "      <td>Change in inventories, contributions to change...</td>\n",
       "      <td>EO107_1</td>\n",
       "      <td>EO107_1 Single-hit scenario</td>\n",
       "      <td>A</td>\n",
       "      <td>Annual</td>\n",
       "      <td>2007</td>\n",
       "      <td>2007</td>\n",
       "      <td>PC</td>\n",
       "      <td>Percentage</td>\n",
       "      <td>0</td>\n",
       "      <td>Units</td>\n",
       "      <td>2010.0</td>\n",
       "      <td>2010.0</td>\n",
       "      <td>-1.532022</td>\n",
       "      <td>NaN</td>\n",
       "      <td>NaN</td>\n",
       "    </tr>\n",
       "    <tr>\n",
       "      <th>3</th>\n",
       "      <td>GRC</td>\n",
       "      <td>Greece</td>\n",
       "      <td>CQ_ISKV</td>\n",
       "      <td>Change in inventories, contributions to change...</td>\n",
       "      <td>EO107_1</td>\n",
       "      <td>EO107_1 Single-hit scenario</td>\n",
       "      <td>A</td>\n",
       "      <td>Annual</td>\n",
       "      <td>2008</td>\n",
       "      <td>2008</td>\n",
       "      <td>PC</td>\n",
       "      <td>Percentage</td>\n",
       "      <td>0</td>\n",
       "      <td>Units</td>\n",
       "      <td>2010.0</td>\n",
       "      <td>2010.0</td>\n",
       "      <td>-0.628778</td>\n",
       "      <td>NaN</td>\n",
       "      <td>NaN</td>\n",
       "    </tr>\n",
       "    <tr>\n",
       "      <th>4</th>\n",
       "      <td>GRC</td>\n",
       "      <td>Greece</td>\n",
       "      <td>CQ_ISKV</td>\n",
       "      <td>Change in inventories, contributions to change...</td>\n",
       "      <td>EO107_1</td>\n",
       "      <td>EO107_1 Single-hit scenario</td>\n",
       "      <td>A</td>\n",
       "      <td>Annual</td>\n",
       "      <td>2009</td>\n",
       "      <td>2009</td>\n",
       "      <td>PC</td>\n",
       "      <td>Percentage</td>\n",
       "      <td>0</td>\n",
       "      <td>Units</td>\n",
       "      <td>2010.0</td>\n",
       "      <td>2010.0</td>\n",
       "      <td>-3.271774</td>\n",
       "      <td>NaN</td>\n",
       "      <td>NaN</td>\n",
       "    </tr>\n",
       "  </tbody>\n",
       "</table>\n",
       "</div>"
      ],
      "text/plain": [
       "  LOCATION Country VARIABLE  \\\n",
       "0      GRC  Greece  CQ_ISKV   \n",
       "1      GRC  Greece  CQ_ISKV   \n",
       "2      GRC  Greece  CQ_ISKV   \n",
       "3      GRC  Greece  CQ_ISKV   \n",
       "4      GRC  Greece  CQ_ISKV   \n",
       "\n",
       "                                            Variable  EDITION  \\\n",
       "0  Change in inventories, contributions to change...  EO107_1   \n",
       "1  Change in inventories, contributions to change...  EO107_1   \n",
       "2  Change in inventories, contributions to change...  EO107_1   \n",
       "3  Change in inventories, contributions to change...  EO107_1   \n",
       "4  Change in inventories, contributions to change...  EO107_1   \n",
       "\n",
       "                       Edition FREQUENCY Frequency  TIME  Time Unit Code  \\\n",
       "0  EO107_1 Single-hit scenario         A    Annual  2005  2005        PC   \n",
       "1  EO107_1 Single-hit scenario         A    Annual  2006  2006        PC   \n",
       "2  EO107_1 Single-hit scenario         A    Annual  2007  2007        PC   \n",
       "3  EO107_1 Single-hit scenario         A    Annual  2008  2008        PC   \n",
       "4  EO107_1 Single-hit scenario         A    Annual  2009  2009        PC   \n",
       "\n",
       "         Unit  PowerCode Code PowerCode  Reference Period Code  \\\n",
       "0  Percentage               0     Units                 2010.0   \n",
       "1  Percentage               0     Units                 2010.0   \n",
       "2  Percentage               0     Units                 2010.0   \n",
       "3  Percentage               0     Units                 2010.0   \n",
       "4  Percentage               0     Units                 2010.0   \n",
       "\n",
       "   Reference Period     Value  Flag Codes  Flags  \n",
       "0            2010.0  0.205935         NaN    NaN  \n",
       "1            2010.0  1.238916         NaN    NaN  \n",
       "2            2010.0 -1.532022         NaN    NaN  \n",
       "3            2010.0 -0.628778         NaN    NaN  \n",
       "4            2010.0 -3.271774         NaN    NaN  "
      ]
     },
     "execution_count": 35,
     "metadata": {},
     "output_type": "execute_result"
    }
   ],
   "source": [
    "#information about the dataset\n",
    "financial.head()"
   ]
  },
  {
   "cell_type": "code",
   "execution_count": 36,
   "metadata": {
    "hideCode": false,
    "hideOutput": true,
    "hidePrompt": false,
    "slideshow": {
     "slide_type": "skip"
    }
   },
   "outputs": [
    {
     "data": {
      "text/plain": [
       "(3584, 19)"
      ]
     },
     "execution_count": 36,
     "metadata": {},
     "output_type": "execute_result"
    }
   ],
   "source": [
    "#Check number of rows and columns\n",
    "financial.shape"
   ]
  },
  {
   "cell_type": "code",
   "execution_count": 37,
   "metadata": {
    "hideCode": false,
    "hideOutput": true,
    "hidePrompt": false,
    "slideshow": {
     "slide_type": "skip"
    }
   },
   "outputs": [
    {
     "name": "stdout",
     "output_type": "stream",
     "text": [
      "<class 'pandas.core.frame.DataFrame'>\n",
      "RangeIndex: 3584 entries, 0 to 3583\n",
      "Data columns (total 19 columns):\n",
      " #   Column                 Non-Null Count  Dtype  \n",
      "---  ------                 --------------  -----  \n",
      " 0   LOCATION               3584 non-null   object \n",
      " 1   Country                3584 non-null   object \n",
      " 2   VARIABLE               3584 non-null   object \n",
      " 3   Variable               3584 non-null   object \n",
      " 4   EDITION                3584 non-null   object \n",
      " 5   Edition                3584 non-null   object \n",
      " 6   FREQUENCY              3584 non-null   object \n",
      " 7   Frequency              3584 non-null   object \n",
      " 8   TIME                   3584 non-null   int64  \n",
      " 9   Time                   3584 non-null   int64  \n",
      " 10  Unit Code              3584 non-null   object \n",
      " 11  Unit                   3584 non-null   object \n",
      " 12  PowerCode Code         3584 non-null   int64  \n",
      " 13  PowerCode              3584 non-null   object \n",
      " 14  Reference Period Code  2240 non-null   float64\n",
      " 15  Reference Period       2240 non-null   float64\n",
      " 16  Value                  3584 non-null   float64\n",
      " 17  Flag Codes             0 non-null      float64\n",
      " 18  Flags                  0 non-null      float64\n",
      "dtypes: float64(5), int64(3), object(11)\n",
      "memory usage: 532.1+ KB\n"
     ]
    }
   ],
   "source": [
    "#Retrieve information to understand the dataframe and check for missing values\n",
    "financial.info()"
   ]
  },
  {
   "cell_type": "code",
   "execution_count": 38,
   "metadata": {
    "hideCode": false,
    "hideOutput": true,
    "hidePrompt": false,
    "slideshow": {
     "slide_type": "skip"
    }
   },
   "outputs": [
    {
     "data": {
      "text/plain": [
       "9856"
      ]
     },
     "execution_count": 38,
     "metadata": {},
     "output_type": "execute_result"
    }
   ],
   "source": [
    "#Check number of missing values\n",
    "financial.isna().sum().sum()"
   ]
  },
  {
   "cell_type": "code",
   "execution_count": 39,
   "metadata": {
    "hideCode": false,
    "hideOutput": true,
    "hidePrompt": false,
    "slideshow": {
     "slide_type": "skip"
    }
   },
   "outputs": [
    {
     "data": {
      "text/plain": [
       "array(['Change in inventories, contributions to changes in real GDP',\n",
       "       'Long-term interest rate on government bonds',\n",
       "       'Consumer price index, harmonised', 'Short-term interest rate',\n",
       "       'Exports of goods and services, volume (national accounts basis)',\n",
       "       'Exports of goods and services, volume, growth (national accounts basis)',\n",
       "       'Core inflation index, harmonised',\n",
       "       'Government final consumption expenditure, volume, growth',\n",
       "       'Labour force',\n",
       "       'Exports of goods and services, deflator (national accounts basis)',\n",
       "       'Gross domestic product, market prices, deflator, growth',\n",
       "       'Government final consumption expenditure, volume',\n",
       "       'Gross domestic product, nominal value, growth',\n",
       "       'Current account balance as a percentage of GDP',\n",
       "       'Total employment (labour force survey basis)',\n",
       "       'Gross domestic product, volume, growth',\n",
       "       'Gross fixed capital formation, total, volume, growth',\n",
       "       'Gross capital formation, total, volume',\n",
       "       'Harmonised core inflation',\n",
       "       'Gross domestic product, market prices, deflator',\n",
       "       'Harmonised headline inflation',\n",
       "       'Exchange rate, national currency per USD', 'Unemployment rate',\n",
       "       'Exchange rate, USD per national currency',\n",
       "       'Imports of goods and services, volume, growth (national accounts basis)',\n",
       "       'Gross domestic product, nominal value, market prices',\n",
       "       'Imports of goods and services, deflator (national accounts basis)',\n",
       "       'Gross domestic product, volume in USD, at constant purchasing power parities',\n",
       "       'Private final consumption expenditure, volume, growth',\n",
       "       'Gross domestic product, volume in USD, constant exchange rates',\n",
       "       'Exports of goods and services, volume in USD (national accounts basis)',\n",
       "       'Gross domestic product, volume, market prices',\n",
       "       'General government gross financial assets as a percentage of GDP',\n",
       "       'Purchasing power parity, national currency per USD',\n",
       "       'Goods and services trade, volume in USD',\n",
       "       'General government gross financial liabilities as a percentage of GDP',\n",
       "       'Imports of goods and services, volume in USD (national accounts basis)',\n",
       "       'Gross fixed capital formation, total, volume',\n",
       "       'General government net lending as a percentage of GDP',\n",
       "       'Imports of goods and services, volume (national accounts basis)',\n",
       "       'General government primary balance as a percentage of GDP',\n",
       "       'Net exports, contributions to changes in real GDP',\n",
       "       'Gross public debt, Maastricht criterion as a percentage of GDP',\n",
       "       'Private final consumption expenditure, volume',\n",
       "       'Net disposable income of households and non-profit institutions serving households',\n",
       "       'Gross disposable income of household and non-profit institutions serving households'],\n",
       "      dtype=object)"
      ]
     },
     "execution_count": 39,
     "metadata": {},
     "output_type": "execute_result"
    }
   ],
   "source": [
    "#Get all variable names\n",
    "financial['Variable'].unique()"
   ]
  },
  {
   "cell_type": "code",
   "execution_count": 40,
   "metadata": {
    "hideCode": false,
    "hideOutput": true,
    "hidePrompt": false,
    "slideshow": {
     "slide_type": "skip"
    }
   },
   "outputs": [
    {
     "data": {
      "text/html": [
       "<div>\n",
       "<style scoped>\n",
       "    .dataframe tbody tr th:only-of-type {\n",
       "        vertical-align: middle;\n",
       "    }\n",
       "\n",
       "    .dataframe tbody tr th {\n",
       "        vertical-align: top;\n",
       "    }\n",
       "\n",
       "    .dataframe thead th {\n",
       "        text-align: right;\n",
       "    }\n",
       "</style>\n",
       "<table border=\"1\" class=\"dataframe\">\n",
       "  <thead>\n",
       "    <tr style=\"text-align: right;\">\n",
       "      <th></th>\n",
       "      <th>LOCATION</th>\n",
       "      <th>Country</th>\n",
       "      <th>VARIABLE</th>\n",
       "      <th>Variable</th>\n",
       "      <th>EDITION</th>\n",
       "      <th>Edition</th>\n",
       "      <th>FREQUENCY</th>\n",
       "      <th>Frequency</th>\n",
       "      <th>TIME</th>\n",
       "      <th>Time</th>\n",
       "      <th>Unit Code</th>\n",
       "      <th>Unit</th>\n",
       "      <th>PowerCode Code</th>\n",
       "      <th>PowerCode</th>\n",
       "      <th>Reference Period Code</th>\n",
       "      <th>Reference Period</th>\n",
       "      <th>Value</th>\n",
       "    </tr>\n",
       "  </thead>\n",
       "  <tbody>\n",
       "    <tr>\n",
       "      <th>0</th>\n",
       "      <td>GRC</td>\n",
       "      <td>Greece</td>\n",
       "      <td>CQ_ISKV</td>\n",
       "      <td>Change in inventories, contributions to change...</td>\n",
       "      <td>EO107_1</td>\n",
       "      <td>EO107_1 Single-hit scenario</td>\n",
       "      <td>A</td>\n",
       "      <td>Annual</td>\n",
       "      <td>2005</td>\n",
       "      <td>2005</td>\n",
       "      <td>PC</td>\n",
       "      <td>Percentage</td>\n",
       "      <td>0</td>\n",
       "      <td>Units</td>\n",
       "      <td>2010.0</td>\n",
       "      <td>2010.0</td>\n",
       "      <td>0.205935</td>\n",
       "    </tr>\n",
       "    <tr>\n",
       "      <th>1</th>\n",
       "      <td>GRC</td>\n",
       "      <td>Greece</td>\n",
       "      <td>CQ_ISKV</td>\n",
       "      <td>Change in inventories, contributions to change...</td>\n",
       "      <td>EO107_1</td>\n",
       "      <td>EO107_1 Single-hit scenario</td>\n",
       "      <td>A</td>\n",
       "      <td>Annual</td>\n",
       "      <td>2006</td>\n",
       "      <td>2006</td>\n",
       "      <td>PC</td>\n",
       "      <td>Percentage</td>\n",
       "      <td>0</td>\n",
       "      <td>Units</td>\n",
       "      <td>2010.0</td>\n",
       "      <td>2010.0</td>\n",
       "      <td>1.238916</td>\n",
       "    </tr>\n",
       "    <tr>\n",
       "      <th>2</th>\n",
       "      <td>GRC</td>\n",
       "      <td>Greece</td>\n",
       "      <td>CQ_ISKV</td>\n",
       "      <td>Change in inventories, contributions to change...</td>\n",
       "      <td>EO107_1</td>\n",
       "      <td>EO107_1 Single-hit scenario</td>\n",
       "      <td>A</td>\n",
       "      <td>Annual</td>\n",
       "      <td>2007</td>\n",
       "      <td>2007</td>\n",
       "      <td>PC</td>\n",
       "      <td>Percentage</td>\n",
       "      <td>0</td>\n",
       "      <td>Units</td>\n",
       "      <td>2010.0</td>\n",
       "      <td>2010.0</td>\n",
       "      <td>-1.532022</td>\n",
       "    </tr>\n",
       "    <tr>\n",
       "      <th>3</th>\n",
       "      <td>GRC</td>\n",
       "      <td>Greece</td>\n",
       "      <td>CQ_ISKV</td>\n",
       "      <td>Change in inventories, contributions to change...</td>\n",
       "      <td>EO107_1</td>\n",
       "      <td>EO107_1 Single-hit scenario</td>\n",
       "      <td>A</td>\n",
       "      <td>Annual</td>\n",
       "      <td>2008</td>\n",
       "      <td>2008</td>\n",
       "      <td>PC</td>\n",
       "      <td>Percentage</td>\n",
       "      <td>0</td>\n",
       "      <td>Units</td>\n",
       "      <td>2010.0</td>\n",
       "      <td>2010.0</td>\n",
       "      <td>-0.628778</td>\n",
       "    </tr>\n",
       "    <tr>\n",
       "      <th>4</th>\n",
       "      <td>GRC</td>\n",
       "      <td>Greece</td>\n",
       "      <td>CQ_ISKV</td>\n",
       "      <td>Change in inventories, contributions to change...</td>\n",
       "      <td>EO107_1</td>\n",
       "      <td>EO107_1 Single-hit scenario</td>\n",
       "      <td>A</td>\n",
       "      <td>Annual</td>\n",
       "      <td>2009</td>\n",
       "      <td>2009</td>\n",
       "      <td>PC</td>\n",
       "      <td>Percentage</td>\n",
       "      <td>0</td>\n",
       "      <td>Units</td>\n",
       "      <td>2010.0</td>\n",
       "      <td>2010.0</td>\n",
       "      <td>-3.271774</td>\n",
       "    </tr>\n",
       "  </tbody>\n",
       "</table>\n",
       "</div>"
      ],
      "text/plain": [
       "  LOCATION Country VARIABLE  \\\n",
       "0      GRC  Greece  CQ_ISKV   \n",
       "1      GRC  Greece  CQ_ISKV   \n",
       "2      GRC  Greece  CQ_ISKV   \n",
       "3      GRC  Greece  CQ_ISKV   \n",
       "4      GRC  Greece  CQ_ISKV   \n",
       "\n",
       "                                            Variable  EDITION  \\\n",
       "0  Change in inventories, contributions to change...  EO107_1   \n",
       "1  Change in inventories, contributions to change...  EO107_1   \n",
       "2  Change in inventories, contributions to change...  EO107_1   \n",
       "3  Change in inventories, contributions to change...  EO107_1   \n",
       "4  Change in inventories, contributions to change...  EO107_1   \n",
       "\n",
       "                       Edition FREQUENCY Frequency  TIME  Time Unit Code  \\\n",
       "0  EO107_1 Single-hit scenario         A    Annual  2005  2005        PC   \n",
       "1  EO107_1 Single-hit scenario         A    Annual  2006  2006        PC   \n",
       "2  EO107_1 Single-hit scenario         A    Annual  2007  2007        PC   \n",
       "3  EO107_1 Single-hit scenario         A    Annual  2008  2008        PC   \n",
       "4  EO107_1 Single-hit scenario         A    Annual  2009  2009        PC   \n",
       "\n",
       "         Unit  PowerCode Code PowerCode  Reference Period Code  \\\n",
       "0  Percentage               0     Units                 2010.0   \n",
       "1  Percentage               0     Units                 2010.0   \n",
       "2  Percentage               0     Units                 2010.0   \n",
       "3  Percentage               0     Units                 2010.0   \n",
       "4  Percentage               0     Units                 2010.0   \n",
       "\n",
       "   Reference Period     Value  \n",
       "0            2010.0  0.205935  \n",
       "1            2010.0  1.238916  \n",
       "2            2010.0 -1.532022  \n",
       "3            2010.0 -0.628778  \n",
       "4            2010.0 -3.271774  "
      ]
     },
     "execution_count": 40,
     "metadata": {},
     "output_type": "execute_result"
    }
   ],
   "source": [
    "#Delete all the columns that are containing solely missing values)\n",
    "financial = financial.dropna(axis = 1, how = 'all')\n",
    "\n",
    "financial.head()"
   ]
  },
  {
   "cell_type": "code",
   "execution_count": 41,
   "metadata": {
    "hideCode": false,
    "hideOutput": true,
    "hidePrompt": false,
    "scrolled": false,
    "slideshow": {
     "slide_type": "skip"
    }
   },
   "outputs": [
    {
     "data": {
      "text/html": [
       "<div>\n",
       "<style scoped>\n",
       "    .dataframe tbody tr th:only-of-type {\n",
       "        vertical-align: middle;\n",
       "    }\n",
       "\n",
       "    .dataframe tbody tr th {\n",
       "        vertical-align: top;\n",
       "    }\n",
       "\n",
       "    .dataframe thead th {\n",
       "        text-align: right;\n",
       "    }\n",
       "</style>\n",
       "<table border=\"1\" class=\"dataframe\">\n",
       "  <thead>\n",
       "    <tr style=\"text-align: right;\">\n",
       "      <th></th>\n",
       "      <th>LOCATION</th>\n",
       "      <th>Country</th>\n",
       "      <th>VARIABLE</th>\n",
       "      <th>Variable</th>\n",
       "      <th>EDITION</th>\n",
       "      <th>Edition</th>\n",
       "      <th>FREQUENCY</th>\n",
       "      <th>Frequency</th>\n",
       "      <th>TIME</th>\n",
       "      <th>Time</th>\n",
       "      <th>Unit Code</th>\n",
       "      <th>Unit</th>\n",
       "      <th>PowerCode Code</th>\n",
       "      <th>PowerCode</th>\n",
       "      <th>Reference Period Code</th>\n",
       "      <th>Reference Period</th>\n",
       "      <th>Value</th>\n",
       "    </tr>\n",
       "  </thead>\n",
       "  <tbody>\n",
       "    <tr>\n",
       "      <th>336</th>\n",
       "      <td>GRC</td>\n",
       "      <td>Greece</td>\n",
       "      <td>EXCHUD</td>\n",
       "      <td>Exchange rate, national currency per USD</td>\n",
       "      <td>EO107_1</td>\n",
       "      <td>EO107_1 Single-hit scenario</td>\n",
       "      <td>A</td>\n",
       "      <td>Annual</td>\n",
       "      <td>2005</td>\n",
       "      <td>2005</td>\n",
       "      <td>EUR</td>\n",
       "      <td>Euro</td>\n",
       "      <td>0</td>\n",
       "      <td>Units</td>\n",
       "      <td>NaN</td>\n",
       "      <td>NaN</td>\n",
       "      <td>0.804619</td>\n",
       "    </tr>\n",
       "    <tr>\n",
       "      <th>337</th>\n",
       "      <td>GRC</td>\n",
       "      <td>Greece</td>\n",
       "      <td>EXCHUD</td>\n",
       "      <td>Exchange rate, national currency per USD</td>\n",
       "      <td>EO107_1</td>\n",
       "      <td>EO107_1 Single-hit scenario</td>\n",
       "      <td>A</td>\n",
       "      <td>Annual</td>\n",
       "      <td>2006</td>\n",
       "      <td>2006</td>\n",
       "      <td>EUR</td>\n",
       "      <td>Euro</td>\n",
       "      <td>0</td>\n",
       "      <td>Units</td>\n",
       "      <td>NaN</td>\n",
       "      <td>NaN</td>\n",
       "      <td>0.796697</td>\n",
       "    </tr>\n",
       "    <tr>\n",
       "      <th>338</th>\n",
       "      <td>GRC</td>\n",
       "      <td>Greece</td>\n",
       "      <td>EXCHUD</td>\n",
       "      <td>Exchange rate, national currency per USD</td>\n",
       "      <td>EO107_1</td>\n",
       "      <td>EO107_1 Single-hit scenario</td>\n",
       "      <td>A</td>\n",
       "      <td>Annual</td>\n",
       "      <td>2007</td>\n",
       "      <td>2007</td>\n",
       "      <td>EUR</td>\n",
       "      <td>Euro</td>\n",
       "      <td>0</td>\n",
       "      <td>Units</td>\n",
       "      <td>NaN</td>\n",
       "      <td>NaN</td>\n",
       "      <td>0.730485</td>\n",
       "    </tr>\n",
       "    <tr>\n",
       "      <th>339</th>\n",
       "      <td>GRC</td>\n",
       "      <td>Greece</td>\n",
       "      <td>EXCHUD</td>\n",
       "      <td>Exchange rate, national currency per USD</td>\n",
       "      <td>EO107_1</td>\n",
       "      <td>EO107_1 Single-hit scenario</td>\n",
       "      <td>A</td>\n",
       "      <td>Annual</td>\n",
       "      <td>2008</td>\n",
       "      <td>2008</td>\n",
       "      <td>EUR</td>\n",
       "      <td>Euro</td>\n",
       "      <td>0</td>\n",
       "      <td>Units</td>\n",
       "      <td>NaN</td>\n",
       "      <td>NaN</td>\n",
       "      <td>0.683982</td>\n",
       "    </tr>\n",
       "    <tr>\n",
       "      <th>340</th>\n",
       "      <td>GRC</td>\n",
       "      <td>Greece</td>\n",
       "      <td>EXCHUD</td>\n",
       "      <td>Exchange rate, national currency per USD</td>\n",
       "      <td>EO107_1</td>\n",
       "      <td>EO107_1 Single-hit scenario</td>\n",
       "      <td>A</td>\n",
       "      <td>Annual</td>\n",
       "      <td>2009</td>\n",
       "      <td>2009</td>\n",
       "      <td>EUR</td>\n",
       "      <td>Euro</td>\n",
       "      <td>0</td>\n",
       "      <td>Units</td>\n",
       "      <td>NaN</td>\n",
       "      <td>NaN</td>\n",
       "      <td>0.719800</td>\n",
       "    </tr>\n",
       "  </tbody>\n",
       "</table>\n",
       "</div>"
      ],
      "text/plain": [
       "    LOCATION Country VARIABLE                                  Variable  \\\n",
       "336      GRC  Greece   EXCHUD  Exchange rate, national currency per USD   \n",
       "337      GRC  Greece   EXCHUD  Exchange rate, national currency per USD   \n",
       "338      GRC  Greece   EXCHUD  Exchange rate, national currency per USD   \n",
       "339      GRC  Greece   EXCHUD  Exchange rate, national currency per USD   \n",
       "340      GRC  Greece   EXCHUD  Exchange rate, national currency per USD   \n",
       "\n",
       "     EDITION                      Edition FREQUENCY Frequency  TIME  Time  \\\n",
       "336  EO107_1  EO107_1 Single-hit scenario         A    Annual  2005  2005   \n",
       "337  EO107_1  EO107_1 Single-hit scenario         A    Annual  2006  2006   \n",
       "338  EO107_1  EO107_1 Single-hit scenario         A    Annual  2007  2007   \n",
       "339  EO107_1  EO107_1 Single-hit scenario         A    Annual  2008  2008   \n",
       "340  EO107_1  EO107_1 Single-hit scenario         A    Annual  2009  2009   \n",
       "\n",
       "    Unit Code  Unit  PowerCode Code PowerCode  Reference Period Code  \\\n",
       "336       EUR  Euro               0     Units                    NaN   \n",
       "337       EUR  Euro               0     Units                    NaN   \n",
       "338       EUR  Euro               0     Units                    NaN   \n",
       "339       EUR  Euro               0     Units                    NaN   \n",
       "340       EUR  Euro               0     Units                    NaN   \n",
       "\n",
       "     Reference Period     Value  \n",
       "336               NaN  0.804619  \n",
       "337               NaN  0.796697  \n",
       "338               NaN  0.730485  \n",
       "339               NaN  0.683982  \n",
       "340               NaN  0.719800  "
      ]
     },
     "execution_count": 41,
     "metadata": {},
     "output_type": "execute_result"
    }
   ],
   "source": [
    "#Create a new dataframe including the exchange rate from EUR to USD\n",
    "exchange_total = financial.loc[financial['Variable'] == 'Exchange rate, national currency per USD']\n",
    "\n",
    "exchange_total.head()"
   ]
  },
  {
   "cell_type": "markdown",
   "metadata": {
    "hideCode": false,
    "hidePrompt": false,
    "slideshow": {
     "slide_type": "slide"
    }
   },
   "source": [
    "##### Visualization of the EUR to USD exchange rate using Seaborn"
   ]
  },
  {
   "cell_type": "code",
   "execution_count": 42,
   "metadata": {
    "hideCode": false,
    "hidePrompt": false,
    "scrolled": false,
    "slideshow": {
     "slide_type": "subslide"
    }
   },
   "outputs": [
    {
     "data": {
      "image/png": "[encoded data removed]",
      "text/plain": [
       "<Figure size 1080x576 with 1 Axes>"
      ]
     },
     "metadata": {
      "needs_background": "light"
     },
     "output_type": "display_data"
    }
   ],
   "source": [
    "#Visualization of the EUR to USD exchange rate using Seaborn\n",
    "fig_dims = (15, 8)\n",
    "fig, ax = plt.subplots(figsize=fig_dims)\n",
    "\n",
    "sns.lineplot(x=\"Time\", y=\"Value\", hue = \"Variable\", ax=ax, data=exchange_total)\n",
    "plt.show()"
   ]
  },
  {
   "cell_type": "code",
   "execution_count": 43,
   "metadata": {
    "hideCode": false,
    "hideOutput": true,
    "hidePrompt": false,
    "slideshow": {
     "slide_type": "skip"
    }
   },
   "outputs": [
    {
     "data": {
      "text/html": [
       "<div>\n",
       "<style scoped>\n",
       "    .dataframe tbody tr th:only-of-type {\n",
       "        vertical-align: middle;\n",
       "    }\n",
       "\n",
       "    .dataframe tbody tr th {\n",
       "        vertical-align: top;\n",
       "    }\n",
       "\n",
       "    .dataframe thead th {\n",
       "        text-align: right;\n",
       "    }\n",
       "</style>\n",
       "<table border=\"1\" class=\"dataframe\">\n",
       "  <thead>\n",
       "    <tr style=\"text-align: right;\">\n",
       "      <th></th>\n",
       "      <th>LOCATION</th>\n",
       "      <th>Country</th>\n",
       "      <th>VARIABLE</th>\n",
       "      <th>Variable</th>\n",
       "      <th>EDITION</th>\n",
       "      <th>Edition</th>\n",
       "      <th>FREQUENCY</th>\n",
       "      <th>Frequency</th>\n",
       "      <th>TIME</th>\n",
       "      <th>Time</th>\n",
       "      <th>Unit Code</th>\n",
       "      <th>Unit</th>\n",
       "      <th>PowerCode Code</th>\n",
       "      <th>PowerCode</th>\n",
       "      <th>Reference Period Code</th>\n",
       "      <th>Reference Period</th>\n",
       "      <th>Value</th>\n",
       "    </tr>\n",
       "  </thead>\n",
       "  <tbody>\n",
       "    <tr>\n",
       "      <th>400</th>\n",
       "      <td>GRC</td>\n",
       "      <td>Greece</td>\n",
       "      <td>GDP</td>\n",
       "      <td>Gross domestic product, nominal value, market ...</td>\n",
       "      <td>EO107_1</td>\n",
       "      <td>EO107_1 Single-hit scenario</td>\n",
       "      <td>A</td>\n",
       "      <td>Annual</td>\n",
       "      <td>2005</td>\n",
       "      <td>2005</td>\n",
       "      <td>EUR</td>\n",
       "      <td>Euro</td>\n",
       "      <td>0</td>\n",
       "      <td>Units</td>\n",
       "      <td>NaN</td>\n",
       "      <td>NaN</td>\n",
       "      <td>1.992423e+11</td>\n",
       "    </tr>\n",
       "    <tr>\n",
       "      <th>401</th>\n",
       "      <td>GRC</td>\n",
       "      <td>Greece</td>\n",
       "      <td>GDP</td>\n",
       "      <td>Gross domestic product, nominal value, market ...</td>\n",
       "      <td>EO107_1</td>\n",
       "      <td>EO107_1 Single-hit scenario</td>\n",
       "      <td>A</td>\n",
       "      <td>Annual</td>\n",
       "      <td>2006</td>\n",
       "      <td>2006</td>\n",
       "      <td>EUR</td>\n",
       "      <td>Euro</td>\n",
       "      <td>0</td>\n",
       "      <td>Units</td>\n",
       "      <td>NaN</td>\n",
       "      <td>NaN</td>\n",
       "      <td>2.178616e+11</td>\n",
       "    </tr>\n",
       "    <tr>\n",
       "      <th>402</th>\n",
       "      <td>GRC</td>\n",
       "      <td>Greece</td>\n",
       "      <td>GDP</td>\n",
       "      <td>Gross domestic product, nominal value, market ...</td>\n",
       "      <td>EO107_1</td>\n",
       "      <td>EO107_1 Single-hit scenario</td>\n",
       "      <td>A</td>\n",
       "      <td>Annual</td>\n",
       "      <td>2007</td>\n",
       "      <td>2007</td>\n",
       "      <td>EUR</td>\n",
       "      <td>Euro</td>\n",
       "      <td>0</td>\n",
       "      <td>Units</td>\n",
       "      <td>NaN</td>\n",
       "      <td>NaN</td>\n",
       "      <td>2.326946e+11</td>\n",
       "    </tr>\n",
       "    <tr>\n",
       "      <th>403</th>\n",
       "      <td>GRC</td>\n",
       "      <td>Greece</td>\n",
       "      <td>GDP</td>\n",
       "      <td>Gross domestic product, nominal value, market ...</td>\n",
       "      <td>EO107_1</td>\n",
       "      <td>EO107_1 Single-hit scenario</td>\n",
       "      <td>A</td>\n",
       "      <td>Annual</td>\n",
       "      <td>2008</td>\n",
       "      <td>2008</td>\n",
       "      <td>EUR</td>\n",
       "      <td>Euro</td>\n",
       "      <td>0</td>\n",
       "      <td>Units</td>\n",
       "      <td>NaN</td>\n",
       "      <td>NaN</td>\n",
       "      <td>2.419904e+11</td>\n",
       "    </tr>\n",
       "    <tr>\n",
       "      <th>404</th>\n",
       "      <td>GRC</td>\n",
       "      <td>Greece</td>\n",
       "      <td>GDP</td>\n",
       "      <td>Gross domestic product, nominal value, market ...</td>\n",
       "      <td>EO107_1</td>\n",
       "      <td>EO107_1 Single-hit scenario</td>\n",
       "      <td>A</td>\n",
       "      <td>Annual</td>\n",
       "      <td>2009</td>\n",
       "      <td>2009</td>\n",
       "      <td>EUR</td>\n",
       "      <td>Euro</td>\n",
       "      <td>0</td>\n",
       "      <td>Units</td>\n",
       "      <td>NaN</td>\n",
       "      <td>NaN</td>\n",
       "      <td>2.375342e+11</td>\n",
       "    </tr>\n",
       "  </tbody>\n",
       "</table>\n",
       "</div>"
      ],
      "text/plain": [
       "    LOCATION Country VARIABLE  \\\n",
       "400      GRC  Greece      GDP   \n",
       "401      GRC  Greece      GDP   \n",
       "402      GRC  Greece      GDP   \n",
       "403      GRC  Greece      GDP   \n",
       "404      GRC  Greece      GDP   \n",
       "\n",
       "                                              Variable  EDITION  \\\n",
       "400  Gross domestic product, nominal value, market ...  EO107_1   \n",
       "401  Gross domestic product, nominal value, market ...  EO107_1   \n",
       "402  Gross domestic product, nominal value, market ...  EO107_1   \n",
       "403  Gross domestic product, nominal value, market ...  EO107_1   \n",
       "404  Gross domestic product, nominal value, market ...  EO107_1   \n",
       "\n",
       "                         Edition FREQUENCY Frequency  TIME  Time Unit Code  \\\n",
       "400  EO107_1 Single-hit scenario         A    Annual  2005  2005       EUR   \n",
       "401  EO107_1 Single-hit scenario         A    Annual  2006  2006       EUR   \n",
       "402  EO107_1 Single-hit scenario         A    Annual  2007  2007       EUR   \n",
       "403  EO107_1 Single-hit scenario         A    Annual  2008  2008       EUR   \n",
       "404  EO107_1 Single-hit scenario         A    Annual  2009  2009       EUR   \n",
       "\n",
       "     Unit  PowerCode Code PowerCode  Reference Period Code  Reference Period  \\\n",
       "400  Euro               0     Units                    NaN               NaN   \n",
       "401  Euro               0     Units                    NaN               NaN   \n",
       "402  Euro               0     Units                    NaN               NaN   \n",
       "403  Euro               0     Units                    NaN               NaN   \n",
       "404  Euro               0     Units                    NaN               NaN   \n",
       "\n",
       "            Value  \n",
       "400  1.992423e+11  \n",
       "401  2.178616e+11  \n",
       "402  2.326946e+11  \n",
       "403  2.419904e+11  \n",
       "404  2.375342e+11  "
      ]
     },
     "execution_count": 43,
     "metadata": {},
     "output_type": "execute_result"
    }
   ],
   "source": [
    "#Create a dataframe solely containing information about GDP\n",
    "gdp_filtered = financial.loc[financial['Variable'] == 'Gross domestic product, nominal value, market prices']\n",
    "\n",
    "gdp_filtered.head()"
   ]
  },
  {
   "cell_type": "code",
   "execution_count": 44,
   "metadata": {
    "hideCode": false,
    "hideOutput": true,
    "hidePrompt": false,
    "slideshow": {
     "slide_type": "skip"
    }
   },
   "outputs": [],
   "source": [
    "gdp_filtered = gdp_filtered.drop(['LOCATION','VARIABLE','EDITION','Edition','FREQUENCY','Frequency','TIME','Unit Code','Unit','PowerCode Code','PowerCode','Reference Period Code','Reference Period'], axis = 1)"
   ]
  },
  {
   "cell_type": "markdown",
   "metadata": {
    "hideCode": false,
    "hidePrompt": false,
    "slideshow": {
     "slide_type": "slide"
    }
   },
   "source": [
    "##### Visualization of the GDP per country using Altair"
   ]
  },
  {
   "cell_type": "code",
   "execution_count": 45,
   "metadata": {
    "hideCode": false,
    "hidePrompt": false,
    "slideshow": {
     "slide_type": "subslide"
    }
   },
   "outputs": [
    {
     "data": {
      "text/html": [
       "\n",
       "<div id=\"altair-viz-b6311f1a5f6440ab9598dc88f84fceb3\"></div>\n",
       "<script type=\"text/javascript\">\n",
       "  (function(spec, embedOpt){\n",
       "    let outputDiv = document.currentScript.previousElementSibling;\n",
       "    if (outputDiv.id !== \"altair-viz-b6311f1a5f6440ab9598dc88f84fceb3\") {\n",
       "      outputDiv = document.getElementById(\"altair-viz-b6311f1a5f6440ab9598dc88f84fceb3\");\n",
       "    }\n",
       "    const paths = {\n",
       "      \"vega\": \"https://cdn.jsdelivr.net/npm//vega@5?noext\",\n",
       "      \"vega-lib\": \"https://cdn.jsdelivr.net/npm//vega-lib?noext\",\n",
       "      \"vega-lite\": \"https://cdn.jsdelivr.net/npm//vega-lite@4.8.1?noext\",\n",
       "      \"vega-embed\": \"https://cdn.jsdelivr.net/npm//vega-embed@6?noext\",\n",
       "    };\n",
       "\n",
       "    function loadScript(lib) {\n",
       "      return new Promise(function(resolve, reject) {\n",
       "        var s = document.createElement('script');\n",
       "        s.src = paths[lib];\n",
       "        s.async = true;\n",
       "        s.onload = () => resolve(paths[lib]);\n",
       "        s.onerror = () => reject(`Error loading script: ${paths[lib]}`);\n",
       "        document.getElementsByTagName(\"head\")[0].appendChild(s);\n",
       "      });\n",
       "    }\n",
       "\n",
       "    function showError(err) {\n",
       "      outputDiv.innerHTML = `<div class=\"error\" style=\"color:red;\">${err}</div>`;\n",
       "      throw err;\n",
       "    }\n",
       "\n",
       "    function displayChart(vegaEmbed) {\n",
       "      vegaEmbed(outputDiv, spec, embedOpt)\n",
       "        .catch(err => showError(`Javascript Error: ${err.message}<br>This usually means there's a typo in your chart specification. See the javascript console for the full traceback.`));\n",
       "    }\n",
       "\n",
       "    if(typeof define === \"function\" && define.amd) {\n",
       "      requirejs.config({paths});\n",
       "      require([\"vega-embed\"], displayChart, err => showError(`Error loading script: ${err.message}`));\n",
       "    } else if (typeof vegaEmbed === \"function\") {\n",
       "      displayChart(vegaEmbed);\n",
       "    } else {\n",
       "      loadScript(\"vega\")\n",
       "        .then(() => loadScript(\"vega-lite\"))\n",
       "        .then(() => loadScript(\"vega-embed\"))\n",
       "        .catch(showError)\n",
       "        .then(() => displayChart(vegaEmbed));\n",
       "    }\n",
       "  })({\"config\": {\"view\": {\"continuousWidth\": 400, \"continuousHeight\": 300}}, \"data\": {\"name\": \"data-e129603302b61cd574ca3779de60035b\"}, \"mark\": \"line\", \"encoding\": {\"color\": {\"type\": \"nominal\", \"field\": \"Country\"}, \"tooltip\": {\"type\": \"nominal\", \"field\": \"Country\"}, \"x\": {\"type\": \"quantitative\", \"field\": \"Time\"}, \"y\": {\"type\": \"quantitative\", \"field\": \"Value\"}}, \"height\": 600, \"selection\": {\"Country\": {\"type\": \"single\", \"fields\": [\"Country\"], \"bind\": {\"input\": \"select\", \"options\": [\"Greece\", \"Italy\", \"Portugal\", \"Slovenia\", \"Spain\"]}}}, \"transform\": [{\"filter\": {\"selection\": \"Country\"}}], \"width\": 700, \"$schema\": \"https://vega.github.io/schema/vega-lite/v4.8.1.json\", \"datasets\": {\"data-e129603302b61cd574ca3779de60035b\": [{\"Country\": \"Greece\", \"Variable\": \"Gross domestic product, nominal value, market prices\", \"Time\": 2005, \"Value\": 199242300000.0}, {\"Country\": \"Greece\", \"Variable\": \"Gross domestic product, nominal value, market prices\", \"Time\": 2006, \"Value\": 217861600000.0}, {\"Country\": \"Greece\", \"Variable\": \"Gross domestic product, nominal value, market prices\", \"Time\": 2007, \"Value\": 232694600000.0}, {\"Country\": \"Greece\", \"Variable\": \"Gross domestic product, nominal value, market prices\", \"Time\": 2008, \"Value\": 241990400000.0}, {\"Country\": \"Greece\", \"Variable\": \"Gross domestic product, nominal value, market prices\", \"Time\": 2009, \"Value\": 237534200000.0}, {\"Country\": \"Greece\", \"Variable\": \"Gross domestic product, nominal value, market prices\", \"Time\": 2010, \"Value\": 226031400000.0}, {\"Country\": \"Greece\", \"Variable\": \"Gross domestic product, nominal value, market prices\", \"Time\": 2011, \"Value\": 207028900000.0}, {\"Country\": \"Greece\", \"Variable\": \"Gross domestic product, nominal value, market prices\", \"Time\": 2012, \"Value\": 191203900000.0}, {\"Country\": \"Greece\", \"Variable\": \"Gross domestic product, nominal value, market prices\", \"Time\": 2013, \"Value\": 180654300000.0}, {\"Country\": \"Greece\", \"Variable\": \"Gross domestic product, nominal value, market prices\", \"Time\": 2014, \"Value\": 178656500000.0}, {\"Country\": \"Greece\", \"Variable\": \"Gross domestic product, nominal value, market prices\", \"Time\": 2015, \"Value\": 177258400000.0}, {\"Country\": \"Greece\", \"Variable\": \"Gross domestic product, nominal value, market prices\", \"Time\": 2016, \"Value\": 176487900000.0}, {\"Country\": \"Greece\", \"Variable\": \"Gross domestic product, nominal value, market prices\", \"Time\": 2017, \"Value\": 180217600000.0}, {\"Country\": \"Greece\", \"Variable\": \"Gross domestic product, nominal value, market prices\", \"Time\": 2018, \"Value\": 184713600000.0}, {\"Country\": \"Greece\", \"Variable\": \"Gross domestic product, nominal value, market prices\", \"Time\": 2019, \"Value\": 187536043718.137}, {\"Country\": \"Greece\", \"Variable\": \"Gross domestic product, nominal value, market prices\", \"Time\": 2020, \"Value\": 170356622288.13}, {\"Country\": \"Italy\", \"Variable\": \"Gross domestic product, nominal value, market prices\", \"Time\": 2005, \"Value\": 1494102300000.0}, {\"Country\": \"Italy\", \"Variable\": \"Gross domestic product, nominal value, market prices\", \"Time\": 2006, \"Value\": 1554532300000.0}, {\"Country\": \"Italy\", \"Variable\": \"Gross domestic product, nominal value, market prices\", \"Time\": 2007, \"Value\": 1614475500000.0}, {\"Country\": \"Italy\", \"Variable\": \"Gross domestic product, nominal value, market prices\", \"Time\": 2008, \"Value\": 1637292800000.0}, {\"Country\": \"Italy\", \"Variable\": \"Gross domestic product, nominal value, market prices\", \"Time\": 2009, \"Value\": 1576144700000.0}, {\"Country\": \"Italy\", \"Variable\": \"Gross domestic product, nominal value, market prices\", \"Time\": 2010, \"Value\": 1609547100000.0}, {\"Country\": \"Italy\", \"Variable\": \"Gross domestic product, nominal value, market prices\", \"Time\": 2011, \"Value\": 1649243900000.0}, {\"Country\": \"Italy\", \"Variable\": \"Gross domestic product, nominal value, market prices\", \"Time\": 2012, \"Value\": 1624275900000.0}, {\"Country\": \"Italy\", \"Variable\": \"Gross domestic product, nominal value, market prices\", \"Time\": 2013, \"Value\": 1612346700000.0}, {\"Country\": \"Italy\", \"Variable\": \"Gross domestic product, nominal value, market prices\", \"Time\": 2014, \"Value\": 1628221800000.0}, {\"Country\": \"Italy\", \"Variable\": \"Gross domestic product, nominal value, market prices\", \"Time\": 2015, \"Value\": 1654211300000.0}, {\"Country\": \"Italy\", \"Variable\": \"Gross domestic product, nominal value, market prices\", \"Time\": 2016, \"Value\": 1696492000000.0}, {\"Country\": \"Italy\", \"Variable\": \"Gross domestic product, nominal value, market prices\", \"Time\": 2017, \"Value\": 1738396500000.0}, {\"Country\": \"Italy\", \"Variable\": \"Gross domestic product, nominal value, market prices\", \"Time\": 2018, \"Value\": 1765865900000.0}, {\"Country\": \"Italy\", \"Variable\": \"Gross domestic product, nominal value, market prices\", \"Time\": 2019, \"Value\": 1787308700000.0}, {\"Country\": \"Italy\", \"Variable\": \"Gross domestic product, nominal value, market prices\", \"Time\": 2020, \"Value\": 1594721753767.54}, {\"Country\": \"Portugal\", \"Variable\": \"Gross domestic product, nominal value, market prices\", \"Time\": 2005, \"Value\": 158552704000.0}, {\"Country\": \"Portugal\", \"Variable\": \"Gross domestic product, nominal value, market prices\", \"Time\": 2006, \"Value\": 166260469000.0}, {\"Country\": \"Portugal\", \"Variable\": \"Gross domestic product, nominal value, market prices\", \"Time\": 2007, \"Value\": 175483401000.0}, {\"Country\": \"Portugal\", \"Variable\": \"Gross domestic product, nominal value, market prices\", \"Time\": 2008, \"Value\": 179102781000.0}, {\"Country\": \"Portugal\", \"Variable\": \"Gross domestic product, nominal value, market prices\", \"Time\": 2009, \"Value\": 175416437000.0}, {\"Country\": \"Portugal\", \"Variable\": \"Gross domestic product, nominal value, market prices\", \"Time\": 2010, \"Value\": 179610779000.0}, {\"Country\": \"Portugal\", \"Variable\": \"Gross domestic product, nominal value, market prices\", \"Time\": 2011, \"Value\": 176096171000.0}, {\"Country\": \"Portugal\", \"Variable\": \"Gross domestic product, nominal value, market prices\", \"Time\": 2012, \"Value\": 168295569000.0}, {\"Country\": \"Portugal\", \"Variable\": \"Gross domestic product, nominal value, market prices\", \"Time\": 2013, \"Value\": 170492269000.0}, {\"Country\": \"Portugal\", \"Variable\": \"Gross domestic product, nominal value, market prices\", \"Time\": 2014, \"Value\": 173053691000.0}, {\"Country\": \"Portugal\", \"Variable\": \"Gross domestic product, nominal value, market prices\", \"Time\": 2015, \"Value\": 179713159000.0}, {\"Country\": \"Portugal\", \"Variable\": \"Gross domestic product, nominal value, market prices\", \"Time\": 2016, \"Value\": 186489811000.0}, {\"Country\": \"Portugal\", \"Variable\": \"Gross domestic product, nominal value, market prices\", \"Time\": 2017, \"Value\": 195947210000.0}, {\"Country\": \"Portugal\", \"Variable\": \"Gross domestic product, nominal value, market prices\", \"Time\": 2018, \"Value\": 204304761000.0}, {\"Country\": \"Portugal\", \"Variable\": \"Gross domestic product, nominal value, market prices\", \"Time\": 2019, \"Value\": 212319328000.0}, {\"Country\": \"Portugal\", \"Variable\": \"Gross domestic product, nominal value, market prices\", \"Time\": 2020, \"Value\": 195748317056.151}, {\"Country\": \"Spain\", \"Variable\": \"Gross domestic product, nominal value, market prices\", \"Time\": 2005, \"Value\": 927357000000.0}, {\"Country\": \"Spain\", \"Variable\": \"Gross domestic product, nominal value, market prices\", \"Time\": 2006, \"Value\": 1003823000000.0}, {\"Country\": \"Spain\", \"Variable\": \"Gross domestic product, nominal value, market prices\", \"Time\": 2007, \"Value\": 1075539000000.0}, {\"Country\": \"Spain\", \"Variable\": \"Gross domestic product, nominal value, market prices\", \"Time\": 2008, \"Value\": 1109541000000.0}, {\"Country\": \"Spain\", \"Variable\": \"Gross domestic product, nominal value, market prices\", \"Time\": 2009, \"Value\": 1069323000000.0}, {\"Country\": \"Spain\", \"Variable\": \"Gross domestic product, nominal value, market prices\", \"Time\": 2010, \"Value\": 1072709000000.0}, {\"Country\": \"Spain\", \"Variable\": \"Gross domestic product, nominal value, market prices\", \"Time\": 2011, \"Value\": 1063763000000.0}, {\"Country\": \"Spain\", \"Variable\": \"Gross domestic product, nominal value, market prices\", \"Time\": 2012, \"Value\": 1031099000000.0}, {\"Country\": \"Spain\", \"Variable\": \"Gross domestic product, nominal value, market prices\", \"Time\": 2013, \"Value\": 1020348000000.0}, {\"Country\": \"Spain\", \"Variable\": \"Gross domestic product, nominal value, market prices\", \"Time\": 2014, \"Value\": 1032158000000.0}, {\"Country\": \"Spain\", \"Variable\": \"Gross domestic product, nominal value, market prices\", \"Time\": 2015, \"Value\": 1077590000000.0}, {\"Country\": \"Spain\", \"Variable\": \"Gross domestic product, nominal value, market prices\", \"Time\": 2016, \"Value\": 1113840000000.0}, {\"Country\": \"Spain\", \"Variable\": \"Gross domestic product, nominal value, market prices\", \"Time\": 2017, \"Value\": 1161878000000.0}, {\"Country\": \"Spain\", \"Variable\": \"Gross domestic product, nominal value, market prices\", \"Time\": 2018, \"Value\": 1202193000000.0}, {\"Country\": \"Spain\", \"Variable\": \"Gross domestic product, nominal value, market prices\", \"Time\": 2019, \"Value\": 1245331000000.0}, {\"Country\": \"Spain\", \"Variable\": \"Gross domestic product, nominal value, market prices\", \"Time\": 2020, \"Value\": 1115007552086.38}, {\"Country\": \"Slovenia\", \"Variable\": \"Gross domestic product, nominal value, market prices\", \"Time\": 2005, \"Value\": 29113563310.0}, {\"Country\": \"Slovenia\", \"Variable\": \"Gross domestic product, nominal value, market prices\", \"Time\": 2006, \"Value\": 31470340920.0}, {\"Country\": \"Slovenia\", \"Variable\": \"Gross domestic product, nominal value, market prices\", \"Time\": 2007, \"Value\": 35073456200.0}, {\"Country\": \"Slovenia\", \"Variable\": \"Gross domestic product, nominal value, market prices\", \"Time\": 2008, \"Value\": 37925697676.0}, {\"Country\": \"Slovenia\", \"Variable\": \"Gross domestic product, nominal value, market prices\", \"Time\": 2009, \"Value\": 36254927070.0}, {\"Country\": \"Slovenia\", \"Variable\": \"Gross domestic product, nominal value, market prices\", \"Time\": 2010, \"Value\": 36363909427.0}, {\"Country\": \"Slovenia\", \"Variable\": \"Gross domestic product, nominal value, market prices\", \"Time\": 2011, \"Value\": 37058569458.0}, {\"Country\": \"Slovenia\", \"Variable\": \"Gross domestic product, nominal value, market prices\", \"Time\": 2012, \"Value\": 36253272036.0}, {\"Country\": \"Slovenia\", \"Variable\": \"Gross domestic product, nominal value, market prices\", \"Time\": 2013, \"Value\": 36454332674.0}, {\"Country\": \"Slovenia\", \"Variable\": \"Gross domestic product, nominal value, market prices\", \"Time\": 2014, \"Value\": 37634292005.0}, {\"Country\": \"Slovenia\", \"Variable\": \"Gross domestic product, nominal value, market prices\", \"Time\": 2015, \"Value\": 38852640732.0}, {\"Country\": \"Slovenia\", \"Variable\": \"Gross domestic product, nominal value, market prices\", \"Time\": 2016, \"Value\": 40366558194.0}, {\"Country\": \"Slovenia\", \"Variable\": \"Gross domestic product, nominal value, market prices\", \"Time\": 2017, \"Value\": 42987059923.0}, {\"Country\": \"Slovenia\", \"Variable\": \"Gross domestic product, nominal value, market prices\", \"Time\": 2018, \"Value\": 45754817940.0}, {\"Country\": \"Slovenia\", \"Variable\": \"Gross domestic product, nominal value, market prices\", \"Time\": 2019, \"Value\": 48006595079.0}, {\"Country\": \"Slovenia\", \"Variable\": \"Gross domestic product, nominal value, market prices\", \"Time\": 2020, \"Value\": 44571033232.7039}]}}, {\"mode\": \"vega-lite\"});\n",
       "</script>"
      ],
      "text/plain": [
       "alt.Chart(...)"
      ]
     },
     "execution_count": 45,
     "metadata": {},
     "output_type": "execute_result"
    }
   ],
   "source": [
    "#Visualization of the GDP per country using Altair\n",
    "input_dropdown = alt.binding_select(options=['Greece','Italy','Portugal','Slovenia','Spain'])\n",
    "selection = alt.selection_single(fields=['Country'], bind=input_dropdown, name='Country')\n",
    "color = alt.condition(selection,\n",
    "                    alt.Color('Country:N', legend=None),\n",
    "                    alt.value('lightgray'))\n",
    "\n",
    "alt.Chart(gdp_filtered).mark_line().encode(\n",
    "    x='Time',\n",
    "    y='Value',\n",
    "    color='Country:N',\n",
    "    tooltip='Country:N'\n",
    ").add_selection(\n",
    "    selection\n",
    ").transform_filter(\n",
    "    selection\n",
    ").properties(\n",
    "    width=700,\n",
    "    height=600\n",
    ")"
   ]
  },
  {
   "cell_type": "code",
   "execution_count": 46,
   "metadata": {
    "hideCode": false,
    "hideOutput": true,
    "hidePrompt": false,
    "slideshow": {
     "slide_type": "skip"
    }
   },
   "outputs": [],
   "source": [
    "#Create a filter by country to run the analysis for each country\n",
    "ex_italy_filter = exchange_total[exchange_total['Country'] == 'Italy']\n",
    "ex_greece_filter = exchange_total[exchange_total['Country'] == 'Greece']\n",
    "ex_portugal_filter = exchange_total[exchange_total['Country'] == 'Portugal']\n",
    "ex_spain_filter = exchange_total[exchange_total['Country'] == 'Spain']\n",
    "ex_slovenia_filter = exchange_total[exchange_total['Country'] == 'Slovenia']"
   ]
  },
  {
   "cell_type": "code",
   "execution_count": 47,
   "metadata": {
    "hideCode": false,
    "hideOutput": true,
    "hidePrompt": false,
    "slideshow": {
     "slide_type": "skip"
    }
   },
   "outputs": [],
   "source": [
    "#Create a filter by country to run the analysis for each country\n",
    "gdp_italy_filter = gdp_filtered[gdp_filtered['Country'] == 'Italy']\n",
    "gdp_greece_filter = gdp_filtered[gdp_filtered['Country'] == 'Greece']\n",
    "gdp_portugal_filter = gdp_filtered[gdp_filtered['Country'] == 'Portugal']\n",
    "gdp_spain_filter = gdp_filtered[gdp_filtered['Country'] == 'Spain']\n",
    "gdp_slovenia_filter = gdp_filtered[gdp_filtered['Country'] == 'Slovenia']"
   ]
  },
  {
   "cell_type": "markdown",
   "metadata": {
    "hideCode": false,
    "hideOutput": false,
    "hidePrompt": false,
    "slideshow": {
     "slide_type": "skip"
    }
   },
   "source": [
    "#### GDP Data"
   ]
  },
  {
   "cell_type": "markdown",
   "metadata": {
    "hideCode": false,
    "hideOutput": false,
    "hidePrompt": false,
    "slideshow": {
     "slide_type": "skip"
    }
   },
   "source": [
    "##### Italy"
   ]
  },
  {
   "cell_type": "code",
   "execution_count": 48,
   "metadata": {
    "hideCode": false,
    "hideOutput": true,
    "hidePrompt": false,
    "slideshow": {
     "slide_type": "skip"
    }
   },
   "outputs": [
    {
     "data": {
      "text/html": [
       "<div>\n",
       "<style scoped>\n",
       "    .dataframe tbody tr th:only-of-type {\n",
       "        vertical-align: middle;\n",
       "    }\n",
       "\n",
       "    .dataframe tbody tr th {\n",
       "        vertical-align: top;\n",
       "    }\n",
       "\n",
       "    .dataframe thead th {\n",
       "        text-align: right;\n",
       "    }\n",
       "</style>\n",
       "<table border=\"1\" class=\"dataframe\">\n",
       "  <thead>\n",
       "    <tr style=\"text-align: right;\">\n",
       "      <th></th>\n",
       "      <th>Country</th>\n",
       "      <th>Variable</th>\n",
       "      <th>Time</th>\n",
       "      <th>Value</th>\n",
       "    </tr>\n",
       "  </thead>\n",
       "  <tbody>\n",
       "    <tr>\n",
       "      <th>1120</th>\n",
       "      <td>Italy</td>\n",
       "      <td>Gross domestic product, nominal value, market ...</td>\n",
       "      <td>2005</td>\n",
       "      <td>1.494102e+12</td>\n",
       "    </tr>\n",
       "    <tr>\n",
       "      <th>1121</th>\n",
       "      <td>Italy</td>\n",
       "      <td>Gross domestic product, nominal value, market ...</td>\n",
       "      <td>2006</td>\n",
       "      <td>1.554532e+12</td>\n",
       "    </tr>\n",
       "    <tr>\n",
       "      <th>1122</th>\n",
       "      <td>Italy</td>\n",
       "      <td>Gross domestic product, nominal value, market ...</td>\n",
       "      <td>2007</td>\n",
       "      <td>1.614476e+12</td>\n",
       "    </tr>\n",
       "    <tr>\n",
       "      <th>1123</th>\n",
       "      <td>Italy</td>\n",
       "      <td>Gross domestic product, nominal value, market ...</td>\n",
       "      <td>2008</td>\n",
       "      <td>1.637293e+12</td>\n",
       "    </tr>\n",
       "    <tr>\n",
       "      <th>1124</th>\n",
       "      <td>Italy</td>\n",
       "      <td>Gross domestic product, nominal value, market ...</td>\n",
       "      <td>2009</td>\n",
       "      <td>1.576145e+12</td>\n",
       "    </tr>\n",
       "  </tbody>\n",
       "</table>\n",
       "</div>"
      ],
      "text/plain": [
       "     Country                                           Variable  Time  \\\n",
       "1120   Italy  Gross domestic product, nominal value, market ...  2005   \n",
       "1121   Italy  Gross domestic product, nominal value, market ...  2006   \n",
       "1122   Italy  Gross domestic product, nominal value, market ...  2007   \n",
       "1123   Italy  Gross domestic product, nominal value, market ...  2008   \n",
       "1124   Italy  Gross domestic product, nominal value, market ...  2009   \n",
       "\n",
       "             Value  \n",
       "1120  1.494102e+12  \n",
       "1121  1.554532e+12  \n",
       "1122  1.614476e+12  \n",
       "1123  1.637293e+12  \n",
       "1124  1.576145e+12  "
      ]
     },
     "execution_count": 48,
     "metadata": {},
     "output_type": "execute_result"
    }
   ],
   "source": [
    "#Retrieve the first five columns of the dataframe GDP Italy to understand how to clean it\n",
    "gdp_italy_filter.head()"
   ]
  },
  {
   "cell_type": "code",
   "execution_count": 49,
   "metadata": {
    "hideCode": false,
    "hideOutput": true,
    "hidePrompt": false,
    "slideshow": {
     "slide_type": "skip"
    }
   },
   "outputs": [
    {
     "data": {
      "image/png": "[encoded data removed]",
      "text/plain": [
       "<Figure size 1080x576 with 1 Axes>"
      ]
     },
     "metadata": {
      "needs_background": "light"
     },
     "output_type": "display_data"
    }
   ],
   "source": [
    "#Visualization of the GDP for Italy using Seaborn\n",
    "figdims = (11, 8)\n",
    "fig, ax = plt.subplots(figsize=fig_dims)\n",
    "\n",
    "sns.lineplot(x=\"Time\", y=\"Value\", hue = 'Variable', ax=ax, data=gdp_italy_filter)\n",
    "plt.show()"
   ]
  },
  {
   "cell_type": "markdown",
   "metadata": {
    "hideCode": false,
    "hideOutput": true,
    "hidePrompt": false,
    "slideshow": {
     "slide_type": "skip"
    }
   },
   "source": [
    "##### Greece"
   ]
  },
  {
   "cell_type": "code",
   "execution_count": 50,
   "metadata": {
    "hideCode": false,
    "hideOutput": true,
    "hidePrompt": false,
    "slideshow": {
     "slide_type": "skip"
    }
   },
   "outputs": [
    {
     "data": {
      "text/html": [
       "<div>\n",
       "<style scoped>\n",
       "    .dataframe tbody tr th:only-of-type {\n",
       "        vertical-align: middle;\n",
       "    }\n",
       "\n",
       "    .dataframe tbody tr th {\n",
       "        vertical-align: top;\n",
       "    }\n",
       "\n",
       "    .dataframe thead th {\n",
       "        text-align: right;\n",
       "    }\n",
       "</style>\n",
       "<table border=\"1\" class=\"dataframe\">\n",
       "  <thead>\n",
       "    <tr style=\"text-align: right;\">\n",
       "      <th></th>\n",
       "      <th>Country</th>\n",
       "      <th>Variable</th>\n",
       "      <th>Time</th>\n",
       "      <th>Value</th>\n",
       "    </tr>\n",
       "  </thead>\n",
       "  <tbody>\n",
       "    <tr>\n",
       "      <th>400</th>\n",
       "      <td>Greece</td>\n",
       "      <td>Gross domestic product, nominal value, market ...</td>\n",
       "      <td>2005</td>\n",
       "      <td>1.992423e+11</td>\n",
       "    </tr>\n",
       "    <tr>\n",
       "      <th>401</th>\n",
       "      <td>Greece</td>\n",
       "      <td>Gross domestic product, nominal value, market ...</td>\n",
       "      <td>2006</td>\n",
       "      <td>2.178616e+11</td>\n",
       "    </tr>\n",
       "    <tr>\n",
       "      <th>402</th>\n",
       "      <td>Greece</td>\n",
       "      <td>Gross domestic product, nominal value, market ...</td>\n",
       "      <td>2007</td>\n",
       "      <td>2.326946e+11</td>\n",
       "    </tr>\n",
       "    <tr>\n",
       "      <th>403</th>\n",
       "      <td>Greece</td>\n",
       "      <td>Gross domestic product, nominal value, market ...</td>\n",
       "      <td>2008</td>\n",
       "      <td>2.419904e+11</td>\n",
       "    </tr>\n",
       "    <tr>\n",
       "      <th>404</th>\n",
       "      <td>Greece</td>\n",
       "      <td>Gross domestic product, nominal value, market ...</td>\n",
       "      <td>2009</td>\n",
       "      <td>2.375342e+11</td>\n",
       "    </tr>\n",
       "  </tbody>\n",
       "</table>\n",
       "</div>"
      ],
      "text/plain": [
       "    Country                                           Variable  Time  \\\n",
       "400  Greece  Gross domestic product, nominal value, market ...  2005   \n",
       "401  Greece  Gross domestic product, nominal value, market ...  2006   \n",
       "402  Greece  Gross domestic product, nominal value, market ...  2007   \n",
       "403  Greece  Gross domestic product, nominal value, market ...  2008   \n",
       "404  Greece  Gross domestic product, nominal value, market ...  2009   \n",
       "\n",
       "            Value  \n",
       "400  1.992423e+11  \n",
       "401  2.178616e+11  \n",
       "402  2.326946e+11  \n",
       "403  2.419904e+11  \n",
       "404  2.375342e+11  "
      ]
     },
     "execution_count": 50,
     "metadata": {},
     "output_type": "execute_result"
    }
   ],
   "source": [
    "gdp_greece_filter.head()"
   ]
  },
  {
   "cell_type": "code",
   "execution_count": 51,
   "metadata": {
    "hideCode": false,
    "hideOutput": true,
    "hidePrompt": false,
    "slideshow": {
     "slide_type": "skip"
    }
   },
   "outputs": [
    {
     "data": {
      "image/png": "[encoded data removed]",
      "text/plain": [
       "<Figure size 792x576 with 1 Axes>"
      ]
     },
     "metadata": {
      "needs_background": "light"
     },
     "output_type": "display_data"
    }
   ],
   "source": [
    "fig_dims = (11, 8)\n",
    "fig, ax = plt.subplots(figsize=fig_dims)\n",
    "\n",
    "sns.lineplot(x=\"Time\", y=\"Value\", hue = 'Variable', ax=ax, data=gdp_greece_filter)\n",
    "plt.show()"
   ]
  },
  {
   "cell_type": "markdown",
   "metadata": {
    "hideCode": false,
    "hidePrompt": false,
    "slideshow": {
     "slide_type": "skip"
    }
   },
   "source": [
    "##### Portugal"
   ]
  },
  {
   "cell_type": "code",
   "execution_count": 52,
   "metadata": {
    "hideCode": false,
    "hideOutput": true,
    "hidePrompt": false,
    "slideshow": {
     "slide_type": "skip"
    }
   },
   "outputs": [
    {
     "data": {
      "text/html": [
       "<div>\n",
       "<style scoped>\n",
       "    .dataframe tbody tr th:only-of-type {\n",
       "        vertical-align: middle;\n",
       "    }\n",
       "\n",
       "    .dataframe tbody tr th {\n",
       "        vertical-align: top;\n",
       "    }\n",
       "\n",
       "    .dataframe thead th {\n",
       "        text-align: right;\n",
       "    }\n",
       "</style>\n",
       "<table border=\"1\" class=\"dataframe\">\n",
       "  <thead>\n",
       "    <tr style=\"text-align: right;\">\n",
       "      <th></th>\n",
       "      <th>Country</th>\n",
       "      <th>Variable</th>\n",
       "      <th>Time</th>\n",
       "      <th>Value</th>\n",
       "    </tr>\n",
       "  </thead>\n",
       "  <tbody>\n",
       "    <tr>\n",
       "      <th>1840</th>\n",
       "      <td>Portugal</td>\n",
       "      <td>Gross domestic product, nominal value, market ...</td>\n",
       "      <td>2005</td>\n",
       "      <td>1.585527e+11</td>\n",
       "    </tr>\n",
       "    <tr>\n",
       "      <th>1841</th>\n",
       "      <td>Portugal</td>\n",
       "      <td>Gross domestic product, nominal value, market ...</td>\n",
       "      <td>2006</td>\n",
       "      <td>1.662605e+11</td>\n",
       "    </tr>\n",
       "    <tr>\n",
       "      <th>1842</th>\n",
       "      <td>Portugal</td>\n",
       "      <td>Gross domestic product, nominal value, market ...</td>\n",
       "      <td>2007</td>\n",
       "      <td>1.754834e+11</td>\n",
       "    </tr>\n",
       "    <tr>\n",
       "      <th>1843</th>\n",
       "      <td>Portugal</td>\n",
       "      <td>Gross domestic product, nominal value, market ...</td>\n",
       "      <td>2008</td>\n",
       "      <td>1.791028e+11</td>\n",
       "    </tr>\n",
       "    <tr>\n",
       "      <th>1844</th>\n",
       "      <td>Portugal</td>\n",
       "      <td>Gross domestic product, nominal value, market ...</td>\n",
       "      <td>2009</td>\n",
       "      <td>1.754164e+11</td>\n",
       "    </tr>\n",
       "  </tbody>\n",
       "</table>\n",
       "</div>"
      ],
      "text/plain": [
       "       Country                                           Variable  Time  \\\n",
       "1840  Portugal  Gross domestic product, nominal value, market ...  2005   \n",
       "1841  Portugal  Gross domestic product, nominal value, market ...  2006   \n",
       "1842  Portugal  Gross domestic product, nominal value, market ...  2007   \n",
       "1843  Portugal  Gross domestic product, nominal value, market ...  2008   \n",
       "1844  Portugal  Gross domestic product, nominal value, market ...  2009   \n",
       "\n",
       "             Value  \n",
       "1840  1.585527e+11  \n",
       "1841  1.662605e+11  \n",
       "1842  1.754834e+11  \n",
       "1843  1.791028e+11  \n",
       "1844  1.754164e+11  "
      ]
     },
     "execution_count": 52,
     "metadata": {},
     "output_type": "execute_result"
    }
   ],
   "source": [
    "gdp_portugal_filter.head()"
   ]
  },
  {
   "cell_type": "code",
   "execution_count": 53,
   "metadata": {
    "hideCode": false,
    "hideOutput": true,
    "hidePrompt": false,
    "slideshow": {
     "slide_type": "skip"
    }
   },
   "outputs": [
    {
     "data": {
      "image/png": "[encoded data removed]",
      "text/plain": [
       "<Figure size 792x576 with 1 Axes>"
      ]
     },
     "metadata": {
      "needs_background": "light"
     },
     "output_type": "display_data"
    }
   ],
   "source": [
    "fig_dims = (11, 8)\n",
    "fig, ax = plt.subplots(figsize=fig_dims)\n",
    "\n",
    "sns.lineplot(x=\"Time\", y=\"Value\", hue = 'Variable', ax=ax, data=gdp_portugal_filter)\n",
    "plt.show()"
   ]
  },
  {
   "cell_type": "markdown",
   "metadata": {
    "hideCode": false,
    "hideOutput": false,
    "hidePrompt": false,
    "slideshow": {
     "slide_type": "skip"
    }
   },
   "source": [
    "##### Spain"
   ]
  },
  {
   "cell_type": "code",
   "execution_count": 54,
   "metadata": {
    "hideCode": false,
    "hideOutput": true,
    "hidePrompt": false,
    "slideshow": {
     "slide_type": "skip"
    }
   },
   "outputs": [
    {
     "data": {
      "text/html": [
       "<div>\n",
       "<style scoped>\n",
       "    .dataframe tbody tr th:only-of-type {\n",
       "        vertical-align: middle;\n",
       "    }\n",
       "\n",
       "    .dataframe tbody tr th {\n",
       "        vertical-align: top;\n",
       "    }\n",
       "\n",
       "    .dataframe thead th {\n",
       "        text-align: right;\n",
       "    }\n",
       "</style>\n",
       "<table border=\"1\" class=\"dataframe\">\n",
       "  <thead>\n",
       "    <tr style=\"text-align: right;\">\n",
       "      <th></th>\n",
       "      <th>Country</th>\n",
       "      <th>Variable</th>\n",
       "      <th>Time</th>\n",
       "      <th>Value</th>\n",
       "    </tr>\n",
       "  </thead>\n",
       "  <tbody>\n",
       "    <tr>\n",
       "      <th>2560</th>\n",
       "      <td>Spain</td>\n",
       "      <td>Gross domestic product, nominal value, market ...</td>\n",
       "      <td>2005</td>\n",
       "      <td>9.273570e+11</td>\n",
       "    </tr>\n",
       "    <tr>\n",
       "      <th>2561</th>\n",
       "      <td>Spain</td>\n",
       "      <td>Gross domestic product, nominal value, market ...</td>\n",
       "      <td>2006</td>\n",
       "      <td>1.003823e+12</td>\n",
       "    </tr>\n",
       "    <tr>\n",
       "      <th>2562</th>\n",
       "      <td>Spain</td>\n",
       "      <td>Gross domestic product, nominal value, market ...</td>\n",
       "      <td>2007</td>\n",
       "      <td>1.075539e+12</td>\n",
       "    </tr>\n",
       "    <tr>\n",
       "      <th>2563</th>\n",
       "      <td>Spain</td>\n",
       "      <td>Gross domestic product, nominal value, market ...</td>\n",
       "      <td>2008</td>\n",
       "      <td>1.109541e+12</td>\n",
       "    </tr>\n",
       "    <tr>\n",
       "      <th>2564</th>\n",
       "      <td>Spain</td>\n",
       "      <td>Gross domestic product, nominal value, market ...</td>\n",
       "      <td>2009</td>\n",
       "      <td>1.069323e+12</td>\n",
       "    </tr>\n",
       "  </tbody>\n",
       "</table>\n",
       "</div>"
      ],
      "text/plain": [
       "     Country                                           Variable  Time  \\\n",
       "2560   Spain  Gross domestic product, nominal value, market ...  2005   \n",
       "2561   Spain  Gross domestic product, nominal value, market ...  2006   \n",
       "2562   Spain  Gross domestic product, nominal value, market ...  2007   \n",
       "2563   Spain  Gross domestic product, nominal value, market ...  2008   \n",
       "2564   Spain  Gross domestic product, nominal value, market ...  2009   \n",
       "\n",
       "             Value  \n",
       "2560  9.273570e+11  \n",
       "2561  1.003823e+12  \n",
       "2562  1.075539e+12  \n",
       "2563  1.109541e+12  \n",
       "2564  1.069323e+12  "
      ]
     },
     "execution_count": 54,
     "metadata": {},
     "output_type": "execute_result"
    }
   ],
   "source": [
    "gdp_spain_filter.head()"
   ]
  },
  {
   "cell_type": "code",
   "execution_count": 55,
   "metadata": {
    "hideCode": false,
    "hideOutput": true,
    "hidePrompt": false,
    "slideshow": {
     "slide_type": "skip"
    }
   },
   "outputs": [
    {
     "data": {
      "image/png": "[encoded data removed]",
      "text/plain": [
       "<Figure size 792x576 with 1 Axes>"
      ]
     },
     "metadata": {
      "needs_background": "light"
     },
     "output_type": "display_data"
    }
   ],
   "source": [
    "fig_dims = (11, 8)\n",
    "fig, ax = plt.subplots(figsize=fig_dims)\n",
    "\n",
    "sns.lineplot(x=\"Time\", y=\"Value\", hue = 'Variable', ax=ax, data=gdp_spain_filter)\n",
    "plt.show()"
   ]
  },
  {
   "cell_type": "markdown",
   "metadata": {
    "hideCode": false,
    "hideOutput": true,
    "hidePrompt": false,
    "slideshow": {
     "slide_type": "skip"
    }
   },
   "source": [
    "##### Slovenia"
   ]
  },
  {
   "cell_type": "code",
   "execution_count": 56,
   "metadata": {
    "hideCode": false,
    "hideOutput": true,
    "hidePrompt": false,
    "slideshow": {
     "slide_type": "skip"
    }
   },
   "outputs": [
    {
     "data": {
      "text/html": [
       "<div>\n",
       "<style scoped>\n",
       "    .dataframe tbody tr th:only-of-type {\n",
       "        vertical-align: middle;\n",
       "    }\n",
       "\n",
       "    .dataframe tbody tr th {\n",
       "        vertical-align: top;\n",
       "    }\n",
       "\n",
       "    .dataframe thead th {\n",
       "        text-align: right;\n",
       "    }\n",
       "</style>\n",
       "<table border=\"1\" class=\"dataframe\">\n",
       "  <thead>\n",
       "    <tr style=\"text-align: right;\">\n",
       "      <th></th>\n",
       "      <th>Country</th>\n",
       "      <th>Variable</th>\n",
       "      <th>Time</th>\n",
       "      <th>Value</th>\n",
       "    </tr>\n",
       "  </thead>\n",
       "  <tbody>\n",
       "    <tr>\n",
       "      <th>2560</th>\n",
       "      <td>Spain</td>\n",
       "      <td>Gross domestic product, nominal value, market ...</td>\n",
       "      <td>2005</td>\n",
       "      <td>9.273570e+11</td>\n",
       "    </tr>\n",
       "    <tr>\n",
       "      <th>2561</th>\n",
       "      <td>Spain</td>\n",
       "      <td>Gross domestic product, nominal value, market ...</td>\n",
       "      <td>2006</td>\n",
       "      <td>1.003823e+12</td>\n",
       "    </tr>\n",
       "    <tr>\n",
       "      <th>2562</th>\n",
       "      <td>Spain</td>\n",
       "      <td>Gross domestic product, nominal value, market ...</td>\n",
       "      <td>2007</td>\n",
       "      <td>1.075539e+12</td>\n",
       "    </tr>\n",
       "    <tr>\n",
       "      <th>2563</th>\n",
       "      <td>Spain</td>\n",
       "      <td>Gross domestic product, nominal value, market ...</td>\n",
       "      <td>2008</td>\n",
       "      <td>1.109541e+12</td>\n",
       "    </tr>\n",
       "    <tr>\n",
       "      <th>2564</th>\n",
       "      <td>Spain</td>\n",
       "      <td>Gross domestic product, nominal value, market ...</td>\n",
       "      <td>2009</td>\n",
       "      <td>1.069323e+12</td>\n",
       "    </tr>\n",
       "  </tbody>\n",
       "</table>\n",
       "</div>"
      ],
      "text/plain": [
       "     Country                                           Variable  Time  \\\n",
       "2560   Spain  Gross domestic product, nominal value, market ...  2005   \n",
       "2561   Spain  Gross domestic product, nominal value, market ...  2006   \n",
       "2562   Spain  Gross domestic product, nominal value, market ...  2007   \n",
       "2563   Spain  Gross domestic product, nominal value, market ...  2008   \n",
       "2564   Spain  Gross domestic product, nominal value, market ...  2009   \n",
       "\n",
       "             Value  \n",
       "2560  9.273570e+11  \n",
       "2561  1.003823e+12  \n",
       "2562  1.075539e+12  \n",
       "2563  1.109541e+12  \n",
       "2564  1.069323e+12  "
      ]
     },
     "execution_count": 56,
     "metadata": {},
     "output_type": "execute_result"
    }
   ],
   "source": [
    "gdp_spain_filter.head()"
   ]
  },
  {
   "cell_type": "code",
   "execution_count": 57,
   "metadata": {
    "hideCode": false,
    "hideOutput": true,
    "hidePrompt": false,
    "slideshow": {
     "slide_type": "skip"
    }
   },
   "outputs": [
    {
     "data": {
      "image/png": "[encoded data removed]",
      "text/plain": [
       "<Figure size 792x576 with 1 Axes>"
      ]
     },
     "metadata": {
      "needs_background": "light"
     },
     "output_type": "display_data"
    }
   ],
   "source": [
    "fig_dims = (11, 8)\n",
    "fig, ax = plt.subplots(figsize=fig_dims)\n",
    "\n",
    "sns.lineplot(x=\"Time\", y=\"Value\", hue = 'Variable', ax=ax, data=gdp_slovenia_filter)\n",
    "plt.show()"
   ]
  },
  {
   "cell_type": "markdown",
   "metadata": {
    "hideCode": false,
    "hidePrompt": false,
    "slideshow": {
     "slide_type": "slide"
    }
   },
   "source": [
    "### Population"
   ]
  },
  {
   "cell_type": "code",
   "execution_count": 58,
   "metadata": {
    "hideCode": false,
    "hideOutput": true,
    "hidePrompt": false,
    "slideshow": {
     "slide_type": "skip"
    }
   },
   "outputs": [
    {
     "data": {
      "text/html": [
       "<div>\n",
       "<style scoped>\n",
       "    .dataframe tbody tr th:only-of-type {\n",
       "        vertical-align: middle;\n",
       "    }\n",
       "\n",
       "    .dataframe tbody tr th {\n",
       "        vertical-align: top;\n",
       "    }\n",
       "\n",
       "    .dataframe thead th {\n",
       "        text-align: right;\n",
       "    }\n",
       "</style>\n",
       "<table border=\"1\" class=\"dataframe\">\n",
       "  <thead>\n",
       "    <tr style=\"text-align: right;\">\n",
       "      <th></th>\n",
       "      <th>LOCATION</th>\n",
       "      <th>Country</th>\n",
       "      <th>SEX</th>\n",
       "      <th>Sex</th>\n",
       "      <th>AGE</th>\n",
       "      <th>Age</th>\n",
       "      <th>TIME</th>\n",
       "      <th>Time</th>\n",
       "      <th>Value</th>\n",
       "      <th>Flag Codes</th>\n",
       "      <th>Flags</th>\n",
       "    </tr>\n",
       "  </thead>\n",
       "  <tbody>\n",
       "    <tr>\n",
       "      <th>14</th>\n",
       "      <td>ITA</td>\n",
       "      <td>Italy</td>\n",
       "      <td>T</td>\n",
       "      <td>Total</td>\n",
       "      <td>TOTAL</td>\n",
       "      <td>Total</td>\n",
       "      <td>2005</td>\n",
       "      <td>2005</td>\n",
       "      <td>57969482</td>\n",
       "      <td>NaN</td>\n",
       "      <td>NaN</td>\n",
       "    </tr>\n",
       "    <tr>\n",
       "      <th>15</th>\n",
       "      <td>ITA</td>\n",
       "      <td>Italy</td>\n",
       "      <td>T</td>\n",
       "      <td>Total</td>\n",
       "      <td>TOTAL</td>\n",
       "      <td>Total</td>\n",
       "      <td>2006</td>\n",
       "      <td>2006</td>\n",
       "      <td>58143980</td>\n",
       "      <td>NaN</td>\n",
       "      <td>NaN</td>\n",
       "    </tr>\n",
       "    <tr>\n",
       "      <th>16</th>\n",
       "      <td>ITA</td>\n",
       "      <td>Italy</td>\n",
       "      <td>T</td>\n",
       "      <td>Total</td>\n",
       "      <td>TOTAL</td>\n",
       "      <td>Total</td>\n",
       "      <td>2007</td>\n",
       "      <td>2007</td>\n",
       "      <td>58438309</td>\n",
       "      <td>NaN</td>\n",
       "      <td>NaN</td>\n",
       "    </tr>\n",
       "    <tr>\n",
       "      <th>17</th>\n",
       "      <td>ITA</td>\n",
       "      <td>Italy</td>\n",
       "      <td>T</td>\n",
       "      <td>Total</td>\n",
       "      <td>TOTAL</td>\n",
       "      <td>Total</td>\n",
       "      <td>2008</td>\n",
       "      <td>2008</td>\n",
       "      <td>58826733</td>\n",
       "      <td>NaN</td>\n",
       "      <td>NaN</td>\n",
       "    </tr>\n",
       "    <tr>\n",
       "      <th>18</th>\n",
       "      <td>ITA</td>\n",
       "      <td>Italy</td>\n",
       "      <td>T</td>\n",
       "      <td>Total</td>\n",
       "      <td>TOTAL</td>\n",
       "      <td>Total</td>\n",
       "      <td>2009</td>\n",
       "      <td>2009</td>\n",
       "      <td>59095367</td>\n",
       "      <td>NaN</td>\n",
       "      <td>NaN</td>\n",
       "    </tr>\n",
       "  </tbody>\n",
       "</table>\n",
       "</div>"
      ],
      "text/plain": [
       "   LOCATION Country SEX    Sex    AGE    Age  TIME  Time     Value  \\\n",
       "14      ITA   Italy   T  Total  TOTAL  Total  2005  2005  57969482   \n",
       "15      ITA   Italy   T  Total  TOTAL  Total  2006  2006  58143980   \n",
       "16      ITA   Italy   T  Total  TOTAL  Total  2007  2007  58438309   \n",
       "17      ITA   Italy   T  Total  TOTAL  Total  2008  2008  58826733   \n",
       "18      ITA   Italy   T  Total  TOTAL  Total  2009  2009  59095367   \n",
       "\n",
       "    Flag Codes  Flags  \n",
       "14         NaN    NaN  \n",
       "15         NaN    NaN  \n",
       "16         NaN    NaN  \n",
       "17         NaN    NaN  \n",
       "18         NaN    NaN  "
      ]
     },
     "execution_count": 58,
     "metadata": {},
     "output_type": "execute_result"
    }
   ],
   "source": [
    "#Check if countries are being retrieved correctly\n",
    "population[population.Country == 'Italy'].head()"
   ]
  },
  {
   "cell_type": "code",
   "execution_count": 59,
   "metadata": {
    "hideCode": false,
    "hideOutput": true,
    "hidePrompt": false,
    "slideshow": {
     "slide_type": "skip"
    }
   },
   "outputs": [
    {
     "data": {
      "text/html": [
       "<div>\n",
       "<style scoped>\n",
       "    .dataframe tbody tr th:only-of-type {\n",
       "        vertical-align: middle;\n",
       "    }\n",
       "\n",
       "    .dataframe tbody tr th {\n",
       "        vertical-align: top;\n",
       "    }\n",
       "\n",
       "    .dataframe thead th {\n",
       "        text-align: right;\n",
       "    }\n",
       "</style>\n",
       "<table border=\"1\" class=\"dataframe\">\n",
       "  <thead>\n",
       "    <tr style=\"text-align: right;\">\n",
       "      <th></th>\n",
       "      <th>LOCATION</th>\n",
       "      <th>Country</th>\n",
       "      <th>SEX</th>\n",
       "      <th>Sex</th>\n",
       "      <th>AGE</th>\n",
       "      <th>Age</th>\n",
       "      <th>TIME</th>\n",
       "      <th>Time</th>\n",
       "      <th>Value</th>\n",
       "      <th>Flag Codes</th>\n",
       "      <th>Flags</th>\n",
       "    </tr>\n",
       "  </thead>\n",
       "  <tbody>\n",
       "    <tr>\n",
       "      <th>42</th>\n",
       "      <td>ESP</td>\n",
       "      <td>Spain</td>\n",
       "      <td>T</td>\n",
       "      <td>Total</td>\n",
       "      <td>TOTAL</td>\n",
       "      <td>Total</td>\n",
       "      <td>2005</td>\n",
       "      <td>2005</td>\n",
       "      <td>43662613</td>\n",
       "      <td>NaN</td>\n",
       "      <td>NaN</td>\n",
       "    </tr>\n",
       "    <tr>\n",
       "      <th>43</th>\n",
       "      <td>ESP</td>\n",
       "      <td>Spain</td>\n",
       "      <td>T</td>\n",
       "      <td>Total</td>\n",
       "      <td>TOTAL</td>\n",
       "      <td>Total</td>\n",
       "      <td>2006</td>\n",
       "      <td>2006</td>\n",
       "      <td>44360521</td>\n",
       "      <td>NaN</td>\n",
       "      <td>NaN</td>\n",
       "    </tr>\n",
       "    <tr>\n",
       "      <th>44</th>\n",
       "      <td>ESP</td>\n",
       "      <td>Spain</td>\n",
       "      <td>T</td>\n",
       "      <td>Total</td>\n",
       "      <td>TOTAL</td>\n",
       "      <td>Total</td>\n",
       "      <td>2007</td>\n",
       "      <td>2007</td>\n",
       "      <td>45236004</td>\n",
       "      <td>NaN</td>\n",
       "      <td>NaN</td>\n",
       "    </tr>\n",
       "    <tr>\n",
       "      <th>45</th>\n",
       "      <td>ESP</td>\n",
       "      <td>Spain</td>\n",
       "      <td>T</td>\n",
       "      <td>Total</td>\n",
       "      <td>TOTAL</td>\n",
       "      <td>Total</td>\n",
       "      <td>2008</td>\n",
       "      <td>2008</td>\n",
       "      <td>45983169</td>\n",
       "      <td>NaN</td>\n",
       "      <td>NaN</td>\n",
       "    </tr>\n",
       "    <tr>\n",
       "      <th>46</th>\n",
       "      <td>ESP</td>\n",
       "      <td>Spain</td>\n",
       "      <td>T</td>\n",
       "      <td>Total</td>\n",
       "      <td>TOTAL</td>\n",
       "      <td>Total</td>\n",
       "      <td>2009</td>\n",
       "      <td>2009</td>\n",
       "      <td>46367550</td>\n",
       "      <td>NaN</td>\n",
       "      <td>NaN</td>\n",
       "    </tr>\n",
       "  </tbody>\n",
       "</table>\n",
       "</div>"
      ],
      "text/plain": [
       "   LOCATION Country SEX    Sex    AGE    Age  TIME  Time     Value  \\\n",
       "42      ESP   Spain   T  Total  TOTAL  Total  2005  2005  43662613   \n",
       "43      ESP   Spain   T  Total  TOTAL  Total  2006  2006  44360521   \n",
       "44      ESP   Spain   T  Total  TOTAL  Total  2007  2007  45236004   \n",
       "45      ESP   Spain   T  Total  TOTAL  Total  2008  2008  45983169   \n",
       "46      ESP   Spain   T  Total  TOTAL  Total  2009  2009  46367550   \n",
       "\n",
       "    Flag Codes  Flags  \n",
       "42         NaN    NaN  \n",
       "43         NaN    NaN  \n",
       "44         NaN    NaN  \n",
       "45         NaN    NaN  \n",
       "46         NaN    NaN  "
      ]
     },
     "execution_count": 59,
     "metadata": {},
     "output_type": "execute_result"
    }
   ],
   "source": [
    "#Check if countries are being retrieved correctly\n",
    "population[population.Country == 'Spain'].head()"
   ]
  },
  {
   "cell_type": "code",
   "execution_count": 60,
   "metadata": {
    "hideCode": false,
    "hideOutput": true,
    "hidePrompt": false,
    "slideshow": {
     "slide_type": "skip"
    }
   },
   "outputs": [
    {
     "name": "stdout",
     "output_type": "stream",
     "text": [
      "<class 'pandas.core.frame.DataFrame'>\n",
      "RangeIndex: 280 entries, 0 to 279\n",
      "Data columns (total 11 columns):\n",
      " #   Column      Non-Null Count  Dtype  \n",
      "---  ------      --------------  -----  \n",
      " 0   LOCATION    280 non-null    object \n",
      " 1   Country     280 non-null    object \n",
      " 2   SEX         280 non-null    object \n",
      " 3   Sex         280 non-null    object \n",
      " 4   AGE         280 non-null    object \n",
      " 5   Age         280 non-null    object \n",
      " 6   TIME        280 non-null    int64  \n",
      " 7   Time        280 non-null    int64  \n",
      " 8   Value       280 non-null    int64  \n",
      " 9   Flag Codes  0 non-null      float64\n",
      " 10  Flags       0 non-null      float64\n",
      "dtypes: float64(2), int64(3), object(6)\n",
      "memory usage: 24.2+ KB\n"
     ]
    }
   ],
   "source": [
    "population.info()"
   ]
  },
  {
   "cell_type": "code",
   "execution_count": 61,
   "metadata": {
    "hideCode": false,
    "hideOutput": true,
    "hidePrompt": false,
    "slideshow": {
     "slide_type": "skip"
    }
   },
   "outputs": [
    {
     "data": {
      "text/plain": [
       "(280, 11)"
      ]
     },
     "execution_count": 61,
     "metadata": {},
     "output_type": "execute_result"
    }
   ],
   "source": [
    "#Check the number of rows and columns\n",
    "population.shape"
   ]
  },
  {
   "cell_type": "code",
   "execution_count": 62,
   "metadata": {
    "hideCode": false,
    "hideOutput": true,
    "hidePrompt": false,
    "slideshow": {
     "slide_type": "skip"
    }
   },
   "outputs": [
    {
     "data": {
      "text/plain": [
       "560"
      ]
     },
     "execution_count": 62,
     "metadata": {},
     "output_type": "execute_result"
    }
   ],
   "source": [
    "#Check number of missing values\n",
    "population.isna().sum().sum()"
   ]
  },
  {
   "cell_type": "code",
   "execution_count": 63,
   "metadata": {
    "hideCode": false,
    "hideOutput": true,
    "hidePrompt": false,
    "slideshow": {
     "slide_type": "skip"
    }
   },
   "outputs": [
    {
     "data": {
      "text/html": [
       "<div>\n",
       "<style scoped>\n",
       "    .dataframe tbody tr th:only-of-type {\n",
       "        vertical-align: middle;\n",
       "    }\n",
       "\n",
       "    .dataframe tbody tr th {\n",
       "        vertical-align: top;\n",
       "    }\n",
       "\n",
       "    .dataframe thead th {\n",
       "        text-align: right;\n",
       "    }\n",
       "</style>\n",
       "<table border=\"1\" class=\"dataframe\">\n",
       "  <thead>\n",
       "    <tr style=\"text-align: right;\">\n",
       "      <th></th>\n",
       "      <th>LOCATION</th>\n",
       "      <th>Country</th>\n",
       "      <th>SEX</th>\n",
       "      <th>Sex</th>\n",
       "      <th>AGE</th>\n",
       "      <th>Age</th>\n",
       "      <th>TIME</th>\n",
       "      <th>Time</th>\n",
       "      <th>Value</th>\n",
       "      <th>Flag Codes</th>\n",
       "      <th>Flags</th>\n",
       "    </tr>\n",
       "  </thead>\n",
       "  <tbody>\n",
       "    <tr>\n",
       "      <th>0</th>\n",
       "      <td>GRC</td>\n",
       "      <td>Greece</td>\n",
       "      <td>T</td>\n",
       "      <td>Total</td>\n",
       "      <td>TOTAL</td>\n",
       "      <td>Total</td>\n",
       "      <td>2005</td>\n",
       "      <td>2005</td>\n",
       "      <td>10987316</td>\n",
       "      <td>NaN</td>\n",
       "      <td>NaN</td>\n",
       "    </tr>\n",
       "    <tr>\n",
       "      <th>1</th>\n",
       "      <td>GRC</td>\n",
       "      <td>Greece</td>\n",
       "      <td>T</td>\n",
       "      <td>Total</td>\n",
       "      <td>TOTAL</td>\n",
       "      <td>Total</td>\n",
       "      <td>2006</td>\n",
       "      <td>2006</td>\n",
       "      <td>11020366</td>\n",
       "      <td>NaN</td>\n",
       "      <td>NaN</td>\n",
       "    </tr>\n",
       "    <tr>\n",
       "      <th>2</th>\n",
       "      <td>GRC</td>\n",
       "      <td>Greece</td>\n",
       "      <td>T</td>\n",
       "      <td>Total</td>\n",
       "      <td>TOTAL</td>\n",
       "      <td>Total</td>\n",
       "      <td>2007</td>\n",
       "      <td>2007</td>\n",
       "      <td>11048466</td>\n",
       "      <td>NaN</td>\n",
       "      <td>NaN</td>\n",
       "    </tr>\n",
       "    <tr>\n",
       "      <th>3</th>\n",
       "      <td>GRC</td>\n",
       "      <td>Greece</td>\n",
       "      <td>T</td>\n",
       "      <td>Total</td>\n",
       "      <td>TOTAL</td>\n",
       "      <td>Total</td>\n",
       "      <td>2008</td>\n",
       "      <td>2008</td>\n",
       "      <td>11077839</td>\n",
       "      <td>NaN</td>\n",
       "      <td>NaN</td>\n",
       "    </tr>\n",
       "    <tr>\n",
       "      <th>4</th>\n",
       "      <td>GRC</td>\n",
       "      <td>Greece</td>\n",
       "      <td>T</td>\n",
       "      <td>Total</td>\n",
       "      <td>TOTAL</td>\n",
       "      <td>Total</td>\n",
       "      <td>2009</td>\n",
       "      <td>2009</td>\n",
       "      <td>11107017</td>\n",
       "      <td>NaN</td>\n",
       "      <td>NaN</td>\n",
       "    </tr>\n",
       "  </tbody>\n",
       "</table>\n",
       "</div>"
      ],
      "text/plain": [
       "  LOCATION Country SEX    Sex    AGE    Age  TIME  Time     Value  Flag Codes  \\\n",
       "0      GRC  Greece   T  Total  TOTAL  Total  2005  2005  10987316         NaN   \n",
       "1      GRC  Greece   T  Total  TOTAL  Total  2006  2006  11020366         NaN   \n",
       "2      GRC  Greece   T  Total  TOTAL  Total  2007  2007  11048466         NaN   \n",
       "3      GRC  Greece   T  Total  TOTAL  Total  2008  2008  11077839         NaN   \n",
       "4      GRC  Greece   T  Total  TOTAL  Total  2009  2009  11107017         NaN   \n",
       "\n",
       "   Flags  \n",
       "0    NaN  \n",
       "1    NaN  \n",
       "2    NaN  \n",
       "3    NaN  \n",
       "4    NaN  "
      ]
     },
     "execution_count": 63,
     "metadata": {},
     "output_type": "execute_result"
    }
   ],
   "source": [
    "population.head()"
   ]
  },
  {
   "cell_type": "code",
   "execution_count": 64,
   "metadata": {
    "hideCode": false,
    "hidePrompt": false,
    "slideshow": {
     "slide_type": "subslide"
    }
   },
   "outputs": [
    {
     "data": {
      "text/html": [
       "<div>\n",
       "<style scoped>\n",
       "    .dataframe tbody tr th:only-of-type {\n",
       "        vertical-align: middle;\n",
       "    }\n",
       "\n",
       "    .dataframe tbody tr th {\n",
       "        vertical-align: top;\n",
       "    }\n",
       "\n",
       "    .dataframe thead th {\n",
       "        text-align: right;\n",
       "    }\n",
       "</style>\n",
       "<table border=\"1\" class=\"dataframe\">\n",
       "  <thead>\n",
       "    <tr style=\"text-align: right;\">\n",
       "      <th></th>\n",
       "      <th>LOCATION</th>\n",
       "      <th>Country</th>\n",
       "      <th>SEX</th>\n",
       "      <th>Sex</th>\n",
       "      <th>AGE</th>\n",
       "      <th>Age</th>\n",
       "      <th>TIME</th>\n",
       "      <th>Time</th>\n",
       "      <th>Value</th>\n",
       "    </tr>\n",
       "  </thead>\n",
       "  <tbody>\n",
       "    <tr>\n",
       "      <th>0</th>\n",
       "      <td>GRC</td>\n",
       "      <td>Greece</td>\n",
       "      <td>T</td>\n",
       "      <td>Total</td>\n",
       "      <td>TOTAL</td>\n",
       "      <td>Total</td>\n",
       "      <td>2005</td>\n",
       "      <td>2005</td>\n",
       "      <td>10987316</td>\n",
       "    </tr>\n",
       "    <tr>\n",
       "      <th>1</th>\n",
       "      <td>GRC</td>\n",
       "      <td>Greece</td>\n",
       "      <td>T</td>\n",
       "      <td>Total</td>\n",
       "      <td>TOTAL</td>\n",
       "      <td>Total</td>\n",
       "      <td>2006</td>\n",
       "      <td>2006</td>\n",
       "      <td>11020366</td>\n",
       "    </tr>\n",
       "    <tr>\n",
       "      <th>2</th>\n",
       "      <td>GRC</td>\n",
       "      <td>Greece</td>\n",
       "      <td>T</td>\n",
       "      <td>Total</td>\n",
       "      <td>TOTAL</td>\n",
       "      <td>Total</td>\n",
       "      <td>2007</td>\n",
       "      <td>2007</td>\n",
       "      <td>11048466</td>\n",
       "    </tr>\n",
       "    <tr>\n",
       "      <th>3</th>\n",
       "      <td>GRC</td>\n",
       "      <td>Greece</td>\n",
       "      <td>T</td>\n",
       "      <td>Total</td>\n",
       "      <td>TOTAL</td>\n",
       "      <td>Total</td>\n",
       "      <td>2008</td>\n",
       "      <td>2008</td>\n",
       "      <td>11077839</td>\n",
       "    </tr>\n",
       "    <tr>\n",
       "      <th>4</th>\n",
       "      <td>GRC</td>\n",
       "      <td>Greece</td>\n",
       "      <td>T</td>\n",
       "      <td>Total</td>\n",
       "      <td>TOTAL</td>\n",
       "      <td>Total</td>\n",
       "      <td>2009</td>\n",
       "      <td>2009</td>\n",
       "      <td>11107017</td>\n",
       "    </tr>\n",
       "  </tbody>\n",
       "</table>\n",
       "</div>"
      ],
      "text/plain": [
       "  LOCATION Country SEX    Sex    AGE    Age  TIME  Time     Value\n",
       "0      GRC  Greece   T  Total  TOTAL  Total  2005  2005  10987316\n",
       "1      GRC  Greece   T  Total  TOTAL  Total  2006  2006  11020366\n",
       "2      GRC  Greece   T  Total  TOTAL  Total  2007  2007  11048466\n",
       "3      GRC  Greece   T  Total  TOTAL  Total  2008  2008  11077839\n",
       "4      GRC  Greece   T  Total  TOTAL  Total  2009  2009  11107017"
      ]
     },
     "execution_count": 64,
     "metadata": {},
     "output_type": "execute_result"
    }
   ],
   "source": [
    "#Delete all the columns that are containing solely missing values)\n",
    "population = population.dropna(axis = 1, how = 'all')\n",
    "\n",
    "population_total = population[population['Age'] == 'Total']\n",
    "\n",
    "population_total.head()"
   ]
  },
  {
   "cell_type": "markdown",
   "metadata": {
    "hideCode": false,
    "hidePrompt": false,
    "slideshow": {
     "slide_type": "slide"
    }
   },
   "source": [
    "##### Visualization of the population per country using Altair"
   ]
  },
  {
   "cell_type": "code",
   "execution_count": 65,
   "metadata": {
    "hideCode": false,
    "hidePrompt": false,
    "slideshow": {
     "slide_type": "subslide"
    }
   },
   "outputs": [
    {
     "data": {
      "text/html": [
       "\n",
       "<div id=\"altair-viz-1ebd6e561b2448708edcfd6a8010d7f6\"></div>\n",
       "<script type=\"text/javascript\">\n",
       "  (function(spec, embedOpt){\n",
       "    let outputDiv = document.currentScript.previousElementSibling;\n",
       "    if (outputDiv.id !== \"altair-viz-1ebd6e561b2448708edcfd6a8010d7f6\") {\n",
       "      outputDiv = document.getElementById(\"altair-viz-1ebd6e561b2448708edcfd6a8010d7f6\");\n",
       "    }\n",
       "    const paths = {\n",
       "      \"vega\": \"https://cdn.jsdelivr.net/npm//vega@5?noext\",\n",
       "      \"vega-lib\": \"https://cdn.jsdelivr.net/npm//vega-lib?noext\",\n",
       "      \"vega-lite\": \"https://cdn.jsdelivr.net/npm//vega-lite@4.8.1?noext\",\n",
       "      \"vega-embed\": \"https://cdn.jsdelivr.net/npm//vega-embed@6?noext\",\n",
       "    };\n",
       "\n",
       "    function loadScript(lib) {\n",
       "      return new Promise(function(resolve, reject) {\n",
       "        var s = document.createElement('script');\n",
       "        s.src = paths[lib];\n",
       "        s.async = true;\n",
       "        s.onload = () => resolve(paths[lib]);\n",
       "        s.onerror = () => reject(`Error loading script: ${paths[lib]}`);\n",
       "        document.getElementsByTagName(\"head\")[0].appendChild(s);\n",
       "      });\n",
       "    }\n",
       "\n",
       "    function showError(err) {\n",
       "      outputDiv.innerHTML = `<div class=\"error\" style=\"color:red;\">${err}</div>`;\n",
       "      throw err;\n",
       "    }\n",
       "\n",
       "    function displayChart(vegaEmbed) {\n",
       "      vegaEmbed(outputDiv, spec, embedOpt)\n",
       "        .catch(err => showError(`Javascript Error: ${err.message}<br>This usually means there's a typo in your chart specification. See the javascript console for the full traceback.`));\n",
       "    }\n",
       "\n",
       "    if(typeof define === \"function\" && define.amd) {\n",
       "      requirejs.config({paths});\n",
       "      require([\"vega-embed\"], displayChart, err => showError(`Error loading script: ${err.message}`));\n",
       "    } else if (typeof vegaEmbed === \"function\") {\n",
       "      displayChart(vegaEmbed);\n",
       "    } else {\n",
       "      loadScript(\"vega\")\n",
       "        .then(() => loadScript(\"vega-lite\"))\n",
       "        .then(() => loadScript(\"vega-embed\"))\n",
       "        .catch(showError)\n",
       "        .then(() => displayChart(vegaEmbed));\n",
       "    }\n",
       "  })({\"config\": {\"view\": {\"continuousWidth\": 400, \"continuousHeight\": 300}}, \"data\": {\"name\": \"data-82b2f08ec9d20f922d9a67d03740e36b\"}, \"mark\": \"line\", \"encoding\": {\"color\": {\"type\": \"nominal\", \"field\": \"Country\"}, \"tooltip\": {\"type\": \"nominal\", \"field\": \"Country\"}, \"x\": {\"type\": \"quantitative\", \"field\": \"Time\"}, \"y\": {\"type\": \"quantitative\", \"field\": \"Value\"}}, \"height\": 600, \"width\": 700, \"$schema\": \"https://vega.github.io/schema/vega-lite/v4.8.1.json\", \"datasets\": {\"data-82b2f08ec9d20f922d9a67d03740e36b\": [{\"LOCATION\": \"GRC\", \"Country\": \"Greece\", \"SEX\": \"T\", \"Sex\": \"Total\", \"AGE\": \"TOTAL\", \"Age\": \"Total\", \"TIME\": 2005, \"Time\": 2005, \"Value\": 10987316}, {\"LOCATION\": \"GRC\", \"Country\": \"Greece\", \"SEX\": \"T\", \"Sex\": \"Total\", \"AGE\": \"TOTAL\", \"Age\": \"Total\", \"TIME\": 2006, \"Time\": 2006, \"Value\": 11020366}, {\"LOCATION\": \"GRC\", \"Country\": \"Greece\", \"SEX\": \"T\", \"Sex\": \"Total\", \"AGE\": \"TOTAL\", \"Age\": \"Total\", \"TIME\": 2007, \"Time\": 2007, \"Value\": 11048466}, {\"LOCATION\": \"GRC\", \"Country\": \"Greece\", \"SEX\": \"T\", \"Sex\": \"Total\", \"AGE\": \"TOTAL\", \"Age\": \"Total\", \"TIME\": 2008, \"Time\": 2008, \"Value\": 11077839}, {\"LOCATION\": \"GRC\", \"Country\": \"Greece\", \"SEX\": \"T\", \"Sex\": \"Total\", \"AGE\": \"TOTAL\", \"Age\": \"Total\", \"TIME\": 2009, \"Time\": 2009, \"Value\": 11107017}, {\"LOCATION\": \"GRC\", \"Country\": \"Greece\", \"SEX\": \"T\", \"Sex\": \"Total\", \"AGE\": \"TOTAL\", \"Age\": \"Total\", \"TIME\": 2010, \"Time\": 2010, \"Value\": 11121344}, {\"LOCATION\": \"GRC\", \"Country\": \"Greece\", \"SEX\": \"T\", \"Sex\": \"Total\", \"AGE\": \"TOTAL\", \"Age\": \"Total\", \"TIME\": 2011, \"Time\": 2011, \"Value\": 11104900}, {\"LOCATION\": \"GRC\", \"Country\": \"Greece\", \"SEX\": \"T\", \"Sex\": \"Total\", \"AGE\": \"TOTAL\", \"Age\": \"Total\", \"TIME\": 2012, \"Time\": 2012, \"Value\": 11045010}, {\"LOCATION\": \"GRC\", \"Country\": \"Greece\", \"SEX\": \"T\", \"Sex\": \"Total\", \"AGE\": \"TOTAL\", \"Age\": \"Total\", \"TIME\": 2013, \"Time\": 2013, \"Value\": 10965209}, {\"LOCATION\": \"GRC\", \"Country\": \"Greece\", \"SEX\": \"T\", \"Sex\": \"Total\", \"AGE\": \"TOTAL\", \"Age\": \"Total\", \"TIME\": 2014, \"Time\": 2014, \"Value\": 10892415}, {\"LOCATION\": \"GRC\", \"Country\": \"Greece\", \"SEX\": \"T\", \"Sex\": \"Total\", \"AGE\": \"TOTAL\", \"Age\": \"Total\", \"TIME\": 2015, \"Time\": 2015, \"Value\": 10820883}, {\"LOCATION\": \"GRC\", \"Country\": \"Greece\", \"SEX\": \"T\", \"Sex\": \"Total\", \"AGE\": \"TOTAL\", \"Age\": \"Total\", \"TIME\": 2016, \"Time\": 2016, \"Value\": 10775971}, {\"LOCATION\": \"GRC\", \"Country\": \"Greece\", \"SEX\": \"T\", \"Sex\": \"Total\", \"AGE\": \"TOTAL\", \"Age\": \"Total\", \"TIME\": 2017, \"Time\": 2017, \"Value\": 10754679}, {\"LOCATION\": \"GRC\", \"Country\": \"Greece\", \"SEX\": \"T\", \"Sex\": \"Total\", \"AGE\": \"TOTAL\", \"Age\": \"Total\", \"TIME\": 2018, \"Time\": 2018, \"Value\": 10725886}, {\"LOCATION\": \"ITA\", \"Country\": \"Italy\", \"SEX\": \"T\", \"Sex\": \"Total\", \"AGE\": \"TOTAL\", \"Age\": \"Total\", \"TIME\": 2005, \"Time\": 2005, \"Value\": 57969482}, {\"LOCATION\": \"ITA\", \"Country\": \"Italy\", \"SEX\": \"T\", \"Sex\": \"Total\", \"AGE\": \"TOTAL\", \"Age\": \"Total\", \"TIME\": 2006, \"Time\": 2006, \"Value\": 58143980}, {\"LOCATION\": \"ITA\", \"Country\": \"Italy\", \"SEX\": \"T\", \"Sex\": \"Total\", \"AGE\": \"TOTAL\", \"Age\": \"Total\", \"TIME\": 2007, \"Time\": 2007, \"Value\": 58438309}, {\"LOCATION\": \"ITA\", \"Country\": \"Italy\", \"SEX\": \"T\", \"Sex\": \"Total\", \"AGE\": \"TOTAL\", \"Age\": \"Total\", \"TIME\": 2008, \"Time\": 2008, \"Value\": 58826733}, {\"LOCATION\": \"ITA\", \"Country\": \"Italy\", \"SEX\": \"T\", \"Sex\": \"Total\", \"AGE\": \"TOTAL\", \"Age\": \"Total\", \"TIME\": 2009, \"Time\": 2009, \"Value\": 59095367}, {\"LOCATION\": \"ITA\", \"Country\": \"Italy\", \"SEX\": \"T\", \"Sex\": \"Total\", \"AGE\": \"TOTAL\", \"Age\": \"Total\", \"TIME\": 2010, \"Time\": 2010, \"Value\": 59277414}, {\"LOCATION\": \"ITA\", \"Country\": \"Italy\", \"SEX\": \"T\", \"Sex\": \"Total\", \"AGE\": \"TOTAL\", \"Age\": \"Total\", \"TIME\": 2011, \"Time\": 2011, \"Value\": 59379446}, {\"LOCATION\": \"ITA\", \"Country\": \"Italy\", \"SEX\": \"T\", \"Sex\": \"Total\", \"AGE\": \"TOTAL\", \"Age\": \"Total\", \"TIME\": 2012, \"Time\": 2012, \"Value\": 59539725}, {\"LOCATION\": \"ITA\", \"Country\": \"Italy\", \"SEX\": \"T\", \"Sex\": \"Total\", \"AGE\": \"TOTAL\", \"Age\": \"Total\", \"TIME\": 2013, \"Time\": 2013, \"Value\": 60233944}, {\"LOCATION\": \"ITA\", \"Country\": \"Italy\", \"SEX\": \"T\", \"Sex\": \"Total\", \"AGE\": \"TOTAL\", \"Age\": \"Total\", \"TIME\": 2014, \"Time\": 2014, \"Value\": 60789144}, {\"LOCATION\": \"ITA\", \"Country\": \"Italy\", \"SEX\": \"T\", \"Sex\": \"Total\", \"AGE\": \"TOTAL\", \"Age\": \"Total\", \"TIME\": 2015, \"Time\": 2015, \"Value\": 60730585}, {\"LOCATION\": \"ITA\", \"Country\": \"Italy\", \"SEX\": \"T\", \"Sex\": \"Total\", \"AGE\": \"TOTAL\", \"Age\": \"Total\", \"TIME\": 2016, \"Time\": 2016, \"Value\": 60627494}, {\"LOCATION\": \"ITA\", \"Country\": \"Italy\", \"SEX\": \"T\", \"Sex\": \"Total\", \"AGE\": \"TOTAL\", \"Age\": \"Total\", \"TIME\": 2017, \"Time\": 2017, \"Value\": 60536713}, {\"LOCATION\": \"ITA\", \"Country\": \"Italy\", \"SEX\": \"T\", \"Sex\": \"Total\", \"AGE\": \"TOTAL\", \"Age\": \"Total\", \"TIME\": 2018, \"Time\": 2018, \"Value\": 60421797}, {\"LOCATION\": \"PRT\", \"Country\": \"Portugal\", \"SEX\": \"T\", \"Sex\": \"Total\", \"AGE\": \"TOTAL\", \"Age\": \"Total\", \"TIME\": 2005, \"Time\": 2005, \"Value\": 10503330}, {\"LOCATION\": \"PRT\", \"Country\": \"Portugal\", \"SEX\": \"T\", \"Sex\": \"Total\", \"AGE\": \"TOTAL\", \"Age\": \"Total\", \"TIME\": 2006, \"Time\": 2006, \"Value\": 10522288}, {\"LOCATION\": \"PRT\", \"Country\": \"Portugal\", \"SEX\": \"T\", \"Sex\": \"Total\", \"AGE\": \"TOTAL\", \"Age\": \"Total\", \"TIME\": 2007, \"Time\": 2007, \"Value\": 10542964}, {\"LOCATION\": \"PRT\", \"Country\": \"Portugal\", \"SEX\": \"T\", \"Sex\": \"Total\", \"AGE\": \"TOTAL\", \"Age\": \"Total\", \"TIME\": 2008, \"Time\": 2008, \"Value\": 10558177}, {\"LOCATION\": \"PRT\", \"Country\": \"Portugal\", \"SEX\": \"T\", \"Sex\": \"Total\", \"AGE\": \"TOTAL\", \"Age\": \"Total\", \"TIME\": 2009, \"Time\": 2009, \"Value\": 10568247}, {\"LOCATION\": \"PRT\", \"Country\": \"Portugal\", \"SEX\": \"T\", \"Sex\": \"Total\", \"AGE\": \"TOTAL\", \"Age\": \"Total\", \"TIME\": 2010, \"Time\": 2010, \"Value\": 10573100}, {\"LOCATION\": \"PRT\", \"Country\": \"Portugal\", \"SEX\": \"T\", \"Sex\": \"Total\", \"AGE\": \"TOTAL\", \"Age\": \"Total\", \"TIME\": 2011, \"Time\": 2011, \"Value\": 10557560}, {\"LOCATION\": \"PRT\", \"Country\": \"Portugal\", \"SEX\": \"T\", \"Sex\": \"Total\", \"AGE\": \"TOTAL\", \"Age\": \"Total\", \"TIME\": 2012, \"Time\": 2012, \"Value\": 10514844}, {\"LOCATION\": \"PRT\", \"Country\": \"Portugal\", \"SEX\": \"T\", \"Sex\": \"Total\", \"AGE\": \"TOTAL\", \"Age\": \"Total\", \"TIME\": 2013, \"Time\": 2013, \"Value\": 10457295}, {\"LOCATION\": \"PRT\", \"Country\": \"Portugal\", \"SEX\": \"T\", \"Sex\": \"Total\", \"AGE\": \"TOTAL\", \"Age\": \"Total\", \"TIME\": 2014, \"Time\": 2014, \"Value\": 10401062}, {\"LOCATION\": \"PRT\", \"Country\": \"Portugal\", \"SEX\": \"T\", \"Sex\": \"Total\", \"AGE\": \"TOTAL\", \"Age\": \"Total\", \"TIME\": 2015, \"Time\": 2015, \"Value\": 10358076}, {\"LOCATION\": \"PRT\", \"Country\": \"Portugal\", \"SEX\": \"T\", \"Sex\": \"Total\", \"AGE\": \"TOTAL\", \"Age\": \"Total\", \"TIME\": 2016, \"Time\": 2016, \"Value\": 10325452}, {\"LOCATION\": \"PRT\", \"Country\": \"Portugal\", \"SEX\": \"T\", \"Sex\": \"Total\", \"AGE\": \"TOTAL\", \"Age\": \"Total\", \"TIME\": 2017, \"Time\": 2017, \"Value\": 10300300}, {\"LOCATION\": \"PRT\", \"Country\": \"Portugal\", \"SEX\": \"T\", \"Sex\": \"Total\", \"AGE\": \"TOTAL\", \"Age\": \"Total\", \"TIME\": 2018, \"Time\": 2018, \"Value\": 10283822}, {\"LOCATION\": \"ESP\", \"Country\": \"Spain\", \"SEX\": \"T\", \"Sex\": \"Total\", \"AGE\": \"TOTAL\", \"Age\": \"Total\", \"TIME\": 2005, \"Time\": 2005, \"Value\": 43662613}, {\"LOCATION\": \"ESP\", \"Country\": \"Spain\", \"SEX\": \"T\", \"Sex\": \"Total\", \"AGE\": \"TOTAL\", \"Age\": \"Total\", \"TIME\": 2006, \"Time\": 2006, \"Value\": 44360521}, {\"LOCATION\": \"ESP\", \"Country\": \"Spain\", \"SEX\": \"T\", \"Sex\": \"Total\", \"AGE\": \"TOTAL\", \"Age\": \"Total\", \"TIME\": 2007, \"Time\": 2007, \"Value\": 45236004}, {\"LOCATION\": \"ESP\", \"Country\": \"Spain\", \"SEX\": \"T\", \"Sex\": \"Total\", \"AGE\": \"TOTAL\", \"Age\": \"Total\", \"TIME\": 2008, \"Time\": 2008, \"Value\": 45983169}, {\"LOCATION\": \"ESP\", \"Country\": \"Spain\", \"SEX\": \"T\", \"Sex\": \"Total\", \"AGE\": \"TOTAL\", \"Age\": \"Total\", \"TIME\": 2009, \"Time\": 2009, \"Value\": 46367550}, {\"LOCATION\": \"ESP\", \"Country\": \"Spain\", \"SEX\": \"T\", \"Sex\": \"Total\", \"AGE\": \"TOTAL\", \"Age\": \"Total\", \"TIME\": 2010, \"Time\": 2010, \"Value\": 46562483}, {\"LOCATION\": \"ESP\", \"Country\": \"Spain\", \"SEX\": \"T\", \"Sex\": \"Total\", \"AGE\": \"TOTAL\", \"Age\": \"Total\", \"TIME\": 2011, \"Time\": 2011, \"Value\": 46736257}, {\"LOCATION\": \"ESP\", \"Country\": \"Spain\", \"SEX\": \"T\", \"Sex\": \"Total\", \"AGE\": \"TOTAL\", \"Age\": \"Total\", \"TIME\": 2012, \"Time\": 2012, \"Value\": 46766403}, {\"LOCATION\": \"ESP\", \"Country\": \"Spain\", \"SEX\": \"T\", \"Sex\": \"Total\", \"AGE\": \"TOTAL\", \"Age\": \"Total\", \"TIME\": 2013, \"Time\": 2013, \"Value\": 46593236}, {\"LOCATION\": \"ESP\", \"Country\": \"Spain\", \"SEX\": \"T\", \"Sex\": \"Total\", \"AGE\": \"TOTAL\", \"Age\": \"Total\", \"TIME\": 2014, \"Time\": 2014, \"Value\": 46455123}, {\"LOCATION\": \"ESP\", \"Country\": \"Spain\", \"SEX\": \"T\", \"Sex\": \"Total\", \"AGE\": \"TOTAL\", \"Age\": \"Total\", \"TIME\": 2015, \"Time\": 2015, \"Value\": 46410149}, {\"LOCATION\": \"ESP\", \"Country\": \"Spain\", \"SEX\": \"T\", \"Sex\": \"Total\", \"AGE\": \"TOTAL\", \"Age\": \"Total\", \"TIME\": 2016, \"Time\": 2016, \"Value\": 46449874}, {\"LOCATION\": \"ESP\", \"Country\": \"Spain\", \"SEX\": \"T\", \"Sex\": \"Total\", \"AGE\": \"TOTAL\", \"Age\": \"Total\", \"TIME\": 2017, \"Time\": 2017, \"Value\": 46532869}, {\"LOCATION\": \"ESP\", \"Country\": \"Spain\", \"SEX\": \"T\", \"Sex\": \"Total\", \"AGE\": \"TOTAL\", \"Age\": \"Total\", \"TIME\": 2018, \"Time\": 2018, \"Value\": 46733038}, {\"LOCATION\": \"SVN\", \"Country\": \"Slovenia\", \"SEX\": \"T\", \"Sex\": \"Total\", \"AGE\": \"TOTAL\", \"Age\": \"Total\", \"TIME\": 2005, \"Time\": 2005, \"Value\": 2001114}, {\"LOCATION\": \"SVN\", \"Country\": \"Slovenia\", \"SEX\": \"T\", \"Sex\": \"Total\", \"AGE\": \"TOTAL\", \"Age\": \"Total\", \"TIME\": 2006, \"Time\": 2006, \"Value\": 2008516}, {\"LOCATION\": \"SVN\", \"Country\": \"Slovenia\", \"SEX\": \"T\", \"Sex\": \"Total\", \"AGE\": \"TOTAL\", \"Age\": \"Total\", \"TIME\": 2007, \"Time\": 2007, \"Value\": 2019406}, {\"LOCATION\": \"SVN\", \"Country\": \"Slovenia\", \"SEX\": \"T\", \"Sex\": \"Total\", \"AGE\": \"TOTAL\", \"Age\": \"Total\", \"TIME\": 2008, \"Time\": 2008, \"Value\": 2022629}, {\"LOCATION\": \"SVN\", \"Country\": \"Slovenia\", \"SEX\": \"T\", \"Sex\": \"Total\", \"AGE\": \"TOTAL\", \"Age\": \"Total\", \"TIME\": 2009, \"Time\": 2009, \"Value\": 2042335}, {\"LOCATION\": \"SVN\", \"Country\": \"Slovenia\", \"SEX\": \"T\", \"Sex\": \"Total\", \"AGE\": \"TOTAL\", \"Age\": \"Total\", \"TIME\": 2010, \"Time\": 2010, \"Value\": 2049261}, {\"LOCATION\": \"SVN\", \"Country\": \"Slovenia\", \"SEX\": \"T\", \"Sex\": \"Total\", \"AGE\": \"TOTAL\", \"Age\": \"Total\", \"TIME\": 2011, \"Time\": 2011, \"Value\": 2052496}, {\"LOCATION\": \"SVN\", \"Country\": \"Slovenia\", \"SEX\": \"T\", \"Sex\": \"Total\", \"AGE\": \"TOTAL\", \"Age\": \"Total\", \"TIME\": 2012, \"Time\": 2012, \"Value\": 2056262}, {\"LOCATION\": \"SVN\", \"Country\": \"Slovenia\", \"SEX\": \"T\", \"Sex\": \"Total\", \"AGE\": \"TOTAL\", \"Age\": \"Total\", \"TIME\": 2013, \"Time\": 2013, \"Value\": 2059114}, {\"LOCATION\": \"SVN\", \"Country\": \"Slovenia\", \"SEX\": \"T\", \"Sex\": \"Total\", \"AGE\": \"TOTAL\", \"Age\": \"Total\", \"TIME\": 2014, \"Time\": 2014, \"Value\": 2061623}, {\"LOCATION\": \"SVN\", \"Country\": \"Slovenia\", \"SEX\": \"T\", \"Sex\": \"Total\", \"AGE\": \"TOTAL\", \"Age\": \"Total\", \"TIME\": 2015, \"Time\": 2015, \"Value\": 2063077}, {\"LOCATION\": \"SVN\", \"Country\": \"Slovenia\", \"SEX\": \"T\", \"Sex\": \"Total\", \"AGE\": \"TOTAL\", \"Age\": \"Total\", \"TIME\": 2016, \"Time\": 2016, \"Value\": 2064241}, {\"LOCATION\": \"SVN\", \"Country\": \"Slovenia\", \"SEX\": \"T\", \"Sex\": \"Total\", \"AGE\": \"TOTAL\", \"Age\": \"Total\", \"TIME\": 2017, \"Time\": 2017, \"Value\": 2066161}, {\"LOCATION\": \"SVN\", \"Country\": \"Slovenia\", \"SEX\": \"T\", \"Sex\": \"Total\", \"AGE\": \"TOTAL\", \"Age\": \"Total\", \"TIME\": 2018, \"Time\": 2018, \"Value\": 2070050}]}}, {\"mode\": \"vega-lite\"});\n",
       "</script>"
      ],
      "text/plain": [
       "alt.Chart(...)"
      ]
     },
     "execution_count": 65,
     "metadata": {},
     "output_type": "execute_result"
    }
   ],
   "source": [
    "#Visualization of the population per country using Altair\n",
    "\n",
    "input_dropdown = alt.binding_select(options=['Greece','Italy','Portugal','Slovenia','Spain'])\n",
    "selection = alt.selection_single(fields=['Country'], bind=input_dropdown, name='Country')\n",
    "color = alt.condition(selection,\n",
    "                    alt.Color('Country:N', legend=None),\n",
    "                    alt.value('lightgray'))\n",
    "\n",
    "alt.Chart(population_total).mark_line().encode(\n",
    "    x='Time',\n",
    "    y='Value',\n",
    "    color='Country:N',\n",
    "    tooltip='Country:N'\n",
    ").properties(\n",
    "    width=700,\n",
    "    height=600\n",
    ")"
   ]
  },
  {
   "cell_type": "code",
   "execution_count": 66,
   "metadata": {
    "hideCode": false,
    "hideOutput": false,
    "hidePrompt": false,
    "slideshow": {
     "slide_type": "slide"
    }
   },
   "outputs": [],
   "source": [
    "#Create a filter by country to run the analysis for each country\n",
    "pop_italy_filter = population[population['Country'] == 'Italy']\n",
    "pop_greece_filter = population[population['Country'] == 'Greece']\n",
    "pop_portugal_filter = population[population['Country'] == 'Portugal']\n",
    "pop_spain_filter = population[population['Country'] == 'Spain']\n",
    "pop_slovenia_filter = population[population['Country'] == 'Slovenia']"
   ]
  },
  {
   "cell_type": "markdown",
   "metadata": {
    "hideCode": false,
    "hidePrompt": false,
    "slideshow": {
     "slide_type": "slide"
    }
   },
   "source": [
    "#### Italy"
   ]
  },
  {
   "cell_type": "code",
   "execution_count": 67,
   "metadata": {
    "hideCode": false,
    "hideOutput": true,
    "hidePrompt": false,
    "slideshow": {
     "slide_type": "skip"
    }
   },
   "outputs": [
    {
     "name": "stdout",
     "output_type": "stream",
     "text": [
      "<class 'pandas.core.frame.DataFrame'>\n",
      "Int64Index: 56 entries, 14 to 237\n",
      "Data columns (total 9 columns):\n",
      " #   Column    Non-Null Count  Dtype \n",
      "---  ------    --------------  ----- \n",
      " 0   LOCATION  56 non-null     object\n",
      " 1   Country   56 non-null     object\n",
      " 2   SEX       56 non-null     object\n",
      " 3   Sex       56 non-null     object\n",
      " 4   AGE       56 non-null     object\n",
      " 5   Age       56 non-null     object\n",
      " 6   TIME      56 non-null     int64 \n",
      " 7   Time      56 non-null     int64 \n",
      " 8   Value     56 non-null     int64 \n",
      "dtypes: int64(3), object(6)\n",
      "memory usage: 4.4+ KB\n"
     ]
    }
   ],
   "source": [
    "pop_italy_filter.info()"
   ]
  },
  {
   "cell_type": "code",
   "execution_count": 68,
   "metadata": {},
   "outputs": [
    {
     "data": {
      "text/html": [
       "<div>\n",
       "<style scoped>\n",
       "    .dataframe tbody tr th:only-of-type {\n",
       "        vertical-align: middle;\n",
       "    }\n",
       "\n",
       "    .dataframe tbody tr th {\n",
       "        vertical-align: top;\n",
       "    }\n",
       "\n",
       "    .dataframe thead th {\n",
       "        text-align: right;\n",
       "    }\n",
       "</style>\n",
       "<table border=\"1\" class=\"dataframe\">\n",
       "  <thead>\n",
       "    <tr style=\"text-align: right;\">\n",
       "      <th></th>\n",
       "      <th>Country</th>\n",
       "      <th>Sex</th>\n",
       "      <th>Age</th>\n",
       "      <th>Time</th>\n",
       "      <th>Value</th>\n",
       "    </tr>\n",
       "  </thead>\n",
       "  <tbody>\n",
       "    <tr>\n",
       "      <th>14</th>\n",
       "      <td>Italy</td>\n",
       "      <td>Total</td>\n",
       "      <td>Total</td>\n",
       "      <td>2005</td>\n",
       "      <td>57969482</td>\n",
       "    </tr>\n",
       "    <tr>\n",
       "      <th>15</th>\n",
       "      <td>Italy</td>\n",
       "      <td>Total</td>\n",
       "      <td>Total</td>\n",
       "      <td>2006</td>\n",
       "      <td>58143980</td>\n",
       "    </tr>\n",
       "    <tr>\n",
       "      <th>16</th>\n",
       "      <td>Italy</td>\n",
       "      <td>Total</td>\n",
       "      <td>Total</td>\n",
       "      <td>2007</td>\n",
       "      <td>58438309</td>\n",
       "    </tr>\n",
       "    <tr>\n",
       "      <th>17</th>\n",
       "      <td>Italy</td>\n",
       "      <td>Total</td>\n",
       "      <td>Total</td>\n",
       "      <td>2008</td>\n",
       "      <td>58826733</td>\n",
       "    </tr>\n",
       "    <tr>\n",
       "      <th>18</th>\n",
       "      <td>Italy</td>\n",
       "      <td>Total</td>\n",
       "      <td>Total</td>\n",
       "      <td>2009</td>\n",
       "      <td>59095367</td>\n",
       "    </tr>\n",
       "    <tr>\n",
       "      <th>19</th>\n",
       "      <td>Italy</td>\n",
       "      <td>Total</td>\n",
       "      <td>Total</td>\n",
       "      <td>2010</td>\n",
       "      <td>59277414</td>\n",
       "    </tr>\n",
       "    <tr>\n",
       "      <th>20</th>\n",
       "      <td>Italy</td>\n",
       "      <td>Total</td>\n",
       "      <td>Total</td>\n",
       "      <td>2011</td>\n",
       "      <td>59379446</td>\n",
       "    </tr>\n",
       "    <tr>\n",
       "      <th>21</th>\n",
       "      <td>Italy</td>\n",
       "      <td>Total</td>\n",
       "      <td>Total</td>\n",
       "      <td>2012</td>\n",
       "      <td>59539725</td>\n",
       "    </tr>\n",
       "    <tr>\n",
       "      <th>22</th>\n",
       "      <td>Italy</td>\n",
       "      <td>Total</td>\n",
       "      <td>Total</td>\n",
       "      <td>2013</td>\n",
       "      <td>60233944</td>\n",
       "    </tr>\n",
       "    <tr>\n",
       "      <th>23</th>\n",
       "      <td>Italy</td>\n",
       "      <td>Total</td>\n",
       "      <td>Total</td>\n",
       "      <td>2014</td>\n",
       "      <td>60789144</td>\n",
       "    </tr>\n",
       "    <tr>\n",
       "      <th>24</th>\n",
       "      <td>Italy</td>\n",
       "      <td>Total</td>\n",
       "      <td>Total</td>\n",
       "      <td>2015</td>\n",
       "      <td>60730585</td>\n",
       "    </tr>\n",
       "    <tr>\n",
       "      <th>25</th>\n",
       "      <td>Italy</td>\n",
       "      <td>Total</td>\n",
       "      <td>Total</td>\n",
       "      <td>2016</td>\n",
       "      <td>60627494</td>\n",
       "    </tr>\n",
       "    <tr>\n",
       "      <th>26</th>\n",
       "      <td>Italy</td>\n",
       "      <td>Total</td>\n",
       "      <td>Total</td>\n",
       "      <td>2017</td>\n",
       "      <td>60536713</td>\n",
       "    </tr>\n",
       "    <tr>\n",
       "      <th>27</th>\n",
       "      <td>Italy</td>\n",
       "      <td>Total</td>\n",
       "      <td>Total</td>\n",
       "      <td>2018</td>\n",
       "      <td>60421797</td>\n",
       "    </tr>\n",
       "    <tr>\n",
       "      <th>84</th>\n",
       "      <td>Italy</td>\n",
       "      <td>Total</td>\n",
       "      <td>Under 20</td>\n",
       "      <td>2005</td>\n",
       "      <td>11036167</td>\n",
       "    </tr>\n",
       "  </tbody>\n",
       "</table>\n",
       "</div>"
      ],
      "text/plain": [
       "   Country    Sex       Age  Time     Value\n",
       "14   Italy  Total     Total  2005  57969482\n",
       "15   Italy  Total     Total  2006  58143980\n",
       "16   Italy  Total     Total  2007  58438309\n",
       "17   Italy  Total     Total  2008  58826733\n",
       "18   Italy  Total     Total  2009  59095367\n",
       "19   Italy  Total     Total  2010  59277414\n",
       "20   Italy  Total     Total  2011  59379446\n",
       "21   Italy  Total     Total  2012  59539725\n",
       "22   Italy  Total     Total  2013  60233944\n",
       "23   Italy  Total     Total  2014  60789144\n",
       "24   Italy  Total     Total  2015  60730585\n",
       "25   Italy  Total     Total  2016  60627494\n",
       "26   Italy  Total     Total  2017  60536713\n",
       "27   Italy  Total     Total  2018  60421797\n",
       "84   Italy  Total  Under 20  2005  11036167"
      ]
     },
     "execution_count": 68,
     "metadata": {},
     "output_type": "execute_result"
    }
   ],
   "source": [
    "#Create a clean version of the dataset per country\n",
    "population_italy1 = pop_italy_filter.drop(['LOCATION','SEX','AGE','TIME'], axis=1)\n",
    "\n",
    "population_italy1.head(15)"
   ]
  },
  {
   "cell_type": "code",
   "execution_count": 69,
   "metadata": {
    "hideCode": false,
    "hideOutput": true,
    "hidePrompt": false,
    "slideshow": {
     "slide_type": "skip"
    }
   },
   "outputs": [],
   "source": [
    "#Creation of two different dataframes to seperate total population and age groups\n",
    "pop_total_italy = population_italy1[population_italy1.Age == 'Total']\n",
    "pop_categories_italy = population_italy1[~population_italy1.Age.str.contains('Total')] \n"
   ]
  },
  {
   "cell_type": "markdown",
   "metadata": {
    "hideCode": false,
    "hidePrompt": false,
    "slideshow": {
     "slide_type": "subslide"
    }
   },
   "source": [
    "##### Visualization of the population for Italy per age group"
   ]
  },
  {
   "cell_type": "code",
   "execution_count": 70,
   "metadata": {
    "hideCode": false,
    "hidePrompt": false,
    "slideshow": {
     "slide_type": "subslide"
    }
   },
   "outputs": [
    {
     "data": {
      "text/html": [
       "\n",
       "<div id=\"altair-viz-6c6120fa7ada4df58aa5b2009c2badb0\"></div>\n",
       "<script type=\"text/javascript\">\n",
       "  (function(spec, embedOpt){\n",
       "    let outputDiv = document.currentScript.previousElementSibling;\n",
       "    if (outputDiv.id !== \"altair-viz-6c6120fa7ada4df58aa5b2009c2badb0\") {\n",
       "      outputDiv = document.getElementById(\"altair-viz-6c6120fa7ada4df58aa5b2009c2badb0\");\n",
       "    }\n",
       "    const paths = {\n",
       "      \"vega\": \"https://cdn.jsdelivr.net/npm//vega@5?noext\",\n",
       "      \"vega-lib\": \"https://cdn.jsdelivr.net/npm//vega-lib?noext\",\n",
       "      \"vega-lite\": \"https://cdn.jsdelivr.net/npm//vega-lite@4.8.1?noext\",\n",
       "      \"vega-embed\": \"https://cdn.jsdelivr.net/npm//vega-embed@6?noext\",\n",
       "    };\n",
       "\n",
       "    function loadScript(lib) {\n",
       "      return new Promise(function(resolve, reject) {\n",
       "        var s = document.createElement('script');\n",
       "        s.src = paths[lib];\n",
       "        s.async = true;\n",
       "        s.onload = () => resolve(paths[lib]);\n",
       "        s.onerror = () => reject(`Error loading script: ${paths[lib]}`);\n",
       "        document.getElementsByTagName(\"head\")[0].appendChild(s);\n",
       "      });\n",
       "    }\n",
       "\n",
       "    function showError(err) {\n",
       "      outputDiv.innerHTML = `<div class=\"error\" style=\"color:red;\">${err}</div>`;\n",
       "      throw err;\n",
       "    }\n",
       "\n",
       "    function displayChart(vegaEmbed) {\n",
       "      vegaEmbed(outputDiv, spec, embedOpt)\n",
       "        .catch(err => showError(`Javascript Error: ${err.message}<br>This usually means there's a typo in your chart specification. See the javascript console for the full traceback.`));\n",
       "    }\n",
       "\n",
       "    if(typeof define === \"function\" && define.amd) {\n",
       "      requirejs.config({paths});\n",
       "      require([\"vega-embed\"], displayChart, err => showError(`Error loading script: ${err.message}`));\n",
       "    } else if (typeof vegaEmbed === \"function\") {\n",
       "      displayChart(vegaEmbed);\n",
       "    } else {\n",
       "      loadScript(\"vega\")\n",
       "        .then(() => loadScript(\"vega-lite\"))\n",
       "        .then(() => loadScript(\"vega-embed\"))\n",
       "        .catch(showError)\n",
       "        .then(() => displayChart(vegaEmbed));\n",
       "    }\n",
       "  })({\"config\": {\"view\": {\"continuousWidth\": 400, \"continuousHeight\": 300}}, \"data\": {\"name\": \"data-cd839f62ba210cb208dd0cba9f59029e\"}, \"mark\": \"bar\", \"encoding\": {\"color\": {\"type\": \"nominal\", \"field\": \"Age\"}, \"column\": {\"type\": \"nominal\", \"field\": \"Age\"}, \"x\": {\"type\": \"ordinal\", \"field\": \"Time\"}, \"y\": {\"type\": \"quantitative\", \"field\": \"Value\"}}, \"height\": 200, \"width\": 200, \"$schema\": \"https://vega.github.io/schema/vega-lite/v4.8.1.json\", \"datasets\": {\"data-cd839f62ba210cb208dd0cba9f59029e\": [{\"Country\": \"Italy\", \"Sex\": \"Total\", \"Age\": \"Under 20\", \"Time\": 2005, \"Value\": 11036167}, {\"Country\": \"Italy\", \"Sex\": \"Total\", \"Age\": \"Under 20\", \"Time\": 2006, \"Value\": 11075222}, {\"Country\": \"Italy\", \"Sex\": \"Total\", \"Age\": \"Under 20\", \"Time\": 2007, \"Value\": 11137854}, {\"Country\": \"Italy\", \"Sex\": \"Total\", \"Age\": \"Under 20\", \"Time\": 2008, \"Value\": 11206693}, {\"Country\": \"Italy\", \"Sex\": \"Total\", \"Age\": \"Under 20\", \"Time\": 2009, \"Value\": 11245119}, {\"Country\": \"Italy\", \"Sex\": \"Total\", \"Age\": \"Under 20\", \"Time\": 2010, \"Value\": 11247248}, {\"Country\": \"Italy\", \"Sex\": \"Total\", \"Age\": \"Under 20\", \"Time\": 2011, \"Value\": 11206974}, {\"Country\": \"Italy\", \"Sex\": \"Total\", \"Age\": \"Under 20\", \"Time\": 2012, \"Value\": 11174122}, {\"Country\": \"Italy\", \"Sex\": \"Total\", \"Age\": \"Under 20\", \"Time\": 2013, \"Value\": 11241729}, {\"Country\": \"Italy\", \"Sex\": \"Total\", \"Age\": \"Under 20\", \"Time\": 2014, \"Value\": 11278861}, {\"Country\": \"Italy\", \"Sex\": \"Total\", \"Age\": \"Under 20\", \"Time\": 2015, \"Value\": 11205237}, {\"Country\": \"Italy\", \"Sex\": \"Total\", \"Age\": \"Under 20\", \"Time\": 2016, \"Value\": 11117396}, {\"Country\": \"Italy\", \"Sex\": \"Total\", \"Age\": \"Under 20\", \"Time\": 2017, \"Value\": 11024821}, {\"Country\": \"Italy\", \"Sex\": \"Total\", \"Age\": \"Under 20\", \"Time\": 2018, \"Value\": 10923776}, {\"Country\": \"Italy\", \"Sex\": \"Total\", \"Age\": \"20 to 64\", \"Time\": 2005, \"Value\": 35519803}, {\"Country\": \"Italy\", \"Sex\": \"Total\", \"Age\": \"20 to 64\", \"Time\": 2006, \"Value\": 35455453}, {\"Country\": \"Italy\", \"Sex\": \"Total\", \"Age\": \"20 to 64\", \"Time\": 2007, \"Value\": 35529768}, {\"Country\": \"Italy\", \"Sex\": \"Total\", \"Age\": \"20 to 64\", \"Time\": 2008, \"Value\": 35711246}, {\"Country\": \"Italy\", \"Sex\": \"Total\", \"Age\": \"20 to 64\", \"Time\": 2009, \"Value\": 35821093}, {\"Country\": \"Italy\", \"Sex\": \"Total\", \"Age\": \"20 to 64\", \"Time\": 2010, \"Value\": 35902631}, {\"Country\": \"Italy\", \"Sex\": \"Total\", \"Age\": \"20 to 64\", \"Time\": 2011, \"Value\": 35901415}, {\"Country\": \"Italy\", \"Sex\": \"Total\", \"Age\": \"20 to 64\", \"Time\": 2012, \"Value\": 35860273}, {\"Country\": \"Italy\", \"Sex\": \"Total\", \"Age\": \"20 to 64\", \"Time\": 2013, \"Value\": 36164830}, {\"Country\": \"Italy\", \"Sex\": \"Total\", \"Age\": \"20 to 64\", \"Time\": 2014, \"Value\": 36393274}, {\"Country\": \"Italy\", \"Sex\": \"Total\", \"Age\": \"20 to 64\", \"Time\": 2015, \"Value\": 36230934}, {\"Country\": \"Italy\", \"Sex\": \"Total\", \"Age\": \"20 to 64\", \"Time\": 2016, \"Value\": 36060950}, {\"Country\": \"Italy\", \"Sex\": \"Total\", \"Age\": \"20 to 64\", \"Time\": 2017, \"Value\": 35925434}, {\"Country\": \"Italy\", \"Sex\": \"Total\", \"Age\": \"20 to 64\", \"Time\": 2018, \"Value\": 35797278}, {\"Country\": \"Italy\", \"Sex\": \"Total\", \"Age\": \"65 and over\", \"Time\": 2005, \"Value\": 11413512}, {\"Country\": \"Italy\", \"Sex\": \"Total\", \"Age\": \"65 and over\", \"Time\": 2006, \"Value\": 11613305}, {\"Country\": \"Italy\", \"Sex\": \"Total\", \"Age\": \"65 and over\", \"Time\": 2007, \"Value\": 11770687}, {\"Country\": \"Italy\", \"Sex\": \"Total\", \"Age\": \"65 and over\", \"Time\": 2008, \"Value\": 11908794}, {\"Country\": \"Italy\", \"Sex\": \"Total\", \"Age\": \"65 and over\", \"Time\": 2009, \"Value\": 12029155}, {\"Country\": \"Italy\", \"Sex\": \"Total\", \"Age\": \"65 and over\", \"Time\": 2010, \"Value\": 12127535}, {\"Country\": \"Italy\", \"Sex\": \"Total\", \"Age\": \"65 and over\", \"Time\": 2011, \"Value\": 12271057}, {\"Country\": \"Italy\", \"Sex\": \"Total\", \"Age\": \"65 and over\", \"Time\": 2012, \"Value\": 12505330}, {\"Country\": \"Italy\", \"Sex\": \"Total\", \"Age\": \"65 and over\", \"Time\": 2013, \"Value\": 12827385}, {\"Country\": \"Italy\", \"Sex\": \"Total\", \"Age\": \"65 and over\", \"Time\": 2014, \"Value\": 13117009}, {\"Country\": \"Italy\", \"Sex\": \"Total\", \"Age\": \"65 and over\", \"Time\": 2015, \"Value\": 13294414}, {\"Country\": \"Italy\", \"Sex\": \"Total\", \"Age\": \"65 and over\", \"Time\": 2016, \"Value\": 13449148}, {\"Country\": \"Italy\", \"Sex\": \"Total\", \"Age\": \"65 and over\", \"Time\": 2017, \"Value\": 13586458}, {\"Country\": \"Italy\", \"Sex\": \"Total\", \"Age\": \"65 and over\", \"Time\": 2018, \"Value\": 13700743}]}}, {\"mode\": \"vega-lite\"});\n",
       "</script>"
      ],
      "text/plain": [
       "alt.Chart(...)"
      ]
     },
     "execution_count": 70,
     "metadata": {},
     "output_type": "execute_result"
    }
   ],
   "source": [
    "#Visualization of the population per age group\n",
    "alt.Chart(pop_categories_italy).mark_bar().encode(\n",
    "    x='Time:O',\n",
    "    y='Value:Q',\n",
    "    color='Age:N',\n",
    "    column='Age:N'\n",
    ").properties(\n",
    "    width=200,\n",
    "    height=200\n",
    ")"
   ]
  },
  {
   "cell_type": "markdown",
   "metadata": {
    "hideCode": false,
    "hidePrompt": false,
    "slideshow": {
     "slide_type": "slide"
    }
   },
   "source": [
    "##### Visualization of the total population for Italy"
   ]
  },
  {
   "cell_type": "code",
   "execution_count": 71,
   "metadata": {
    "hideCode": false,
    "hidePrompt": false,
    "slideshow": {
     "slide_type": "subslide"
    }
   },
   "outputs": [
    {
     "data": {
      "image/png": "[encoded data removed]",
      "text/plain": [
       "<Figure size 792x576 with 1 Axes>"
      ]
     },
     "metadata": {
      "needs_background": "light"
     },
     "output_type": "display_data"
    }
   ],
   "source": [
    "#Visualization of the total population for Italy\n",
    "fig_dims = (11, 8)\n",
    "fig, ax = plt.subplots(figsize=fig_dims)\n",
    "\n",
    "sns.lineplot(x=\"Time\", y=\"Value\", ax=ax, data=pop_total_italy)\n",
    "plt.show()"
   ]
  },
  {
   "cell_type": "markdown",
   "metadata": {
    "hideCode": false,
    "hidePrompt": false,
    "slideshow": {
     "slide_type": "skip"
    }
   },
   "source": [
    "#### Greece"
   ]
  },
  {
   "cell_type": "code",
   "execution_count": 72,
   "metadata": {
    "hideCode": false,
    "hideOutput": true,
    "hidePrompt": false,
    "slideshow": {
     "slide_type": "skip"
    }
   },
   "outputs": [
    {
     "name": "stdout",
     "output_type": "stream",
     "text": [
      "<class 'pandas.core.frame.DataFrame'>\n",
      "Int64Index: 56 entries, 0 to 223\n",
      "Data columns (total 9 columns):\n",
      " #   Column    Non-Null Count  Dtype \n",
      "---  ------    --------------  ----- \n",
      " 0   LOCATION  56 non-null     object\n",
      " 1   Country   56 non-null     object\n",
      " 2   SEX       56 non-null     object\n",
      " 3   Sex       56 non-null     object\n",
      " 4   AGE       56 non-null     object\n",
      " 5   Age       56 non-null     object\n",
      " 6   TIME      56 non-null     int64 \n",
      " 7   Time      56 non-null     int64 \n",
      " 8   Value     56 non-null     int64 \n",
      "dtypes: int64(3), object(6)\n",
      "memory usage: 4.4+ KB\n"
     ]
    }
   ],
   "source": [
    "pop_greece_filter.info()"
   ]
  },
  {
   "cell_type": "code",
   "execution_count": 73,
   "metadata": {
    "hideCode": false,
    "hideOutput": true,
    "hidePrompt": false,
    "slideshow": {
     "slide_type": "skip"
    }
   },
   "outputs": [
    {
     "data": {
      "text/html": [
       "<div>\n",
       "<style scoped>\n",
       "    .dataframe tbody tr th:only-of-type {\n",
       "        vertical-align: middle;\n",
       "    }\n",
       "\n",
       "    .dataframe tbody tr th {\n",
       "        vertical-align: top;\n",
       "    }\n",
       "\n",
       "    .dataframe thead th {\n",
       "        text-align: right;\n",
       "    }\n",
       "</style>\n",
       "<table border=\"1\" class=\"dataframe\">\n",
       "  <thead>\n",
       "    <tr style=\"text-align: right;\">\n",
       "      <th></th>\n",
       "      <th>Country</th>\n",
       "      <th>Sex</th>\n",
       "      <th>Age</th>\n",
       "      <th>Time</th>\n",
       "      <th>Value</th>\n",
       "    </tr>\n",
       "  </thead>\n",
       "  <tbody>\n",
       "    <tr>\n",
       "      <th>0</th>\n",
       "      <td>Greece</td>\n",
       "      <td>Total</td>\n",
       "      <td>Total</td>\n",
       "      <td>2005</td>\n",
       "      <td>10987316</td>\n",
       "    </tr>\n",
       "    <tr>\n",
       "      <th>1</th>\n",
       "      <td>Greece</td>\n",
       "      <td>Total</td>\n",
       "      <td>Total</td>\n",
       "      <td>2006</td>\n",
       "      <td>11020366</td>\n",
       "    </tr>\n",
       "    <tr>\n",
       "      <th>2</th>\n",
       "      <td>Greece</td>\n",
       "      <td>Total</td>\n",
       "      <td>Total</td>\n",
       "      <td>2007</td>\n",
       "      <td>11048466</td>\n",
       "    </tr>\n",
       "    <tr>\n",
       "      <th>3</th>\n",
       "      <td>Greece</td>\n",
       "      <td>Total</td>\n",
       "      <td>Total</td>\n",
       "      <td>2008</td>\n",
       "      <td>11077839</td>\n",
       "    </tr>\n",
       "    <tr>\n",
       "      <th>4</th>\n",
       "      <td>Greece</td>\n",
       "      <td>Total</td>\n",
       "      <td>Total</td>\n",
       "      <td>2009</td>\n",
       "      <td>11107017</td>\n",
       "    </tr>\n",
       "    <tr>\n",
       "      <th>5</th>\n",
       "      <td>Greece</td>\n",
       "      <td>Total</td>\n",
       "      <td>Total</td>\n",
       "      <td>2010</td>\n",
       "      <td>11121344</td>\n",
       "    </tr>\n",
       "    <tr>\n",
       "      <th>6</th>\n",
       "      <td>Greece</td>\n",
       "      <td>Total</td>\n",
       "      <td>Total</td>\n",
       "      <td>2011</td>\n",
       "      <td>11104900</td>\n",
       "    </tr>\n",
       "    <tr>\n",
       "      <th>7</th>\n",
       "      <td>Greece</td>\n",
       "      <td>Total</td>\n",
       "      <td>Total</td>\n",
       "      <td>2012</td>\n",
       "      <td>11045010</td>\n",
       "    </tr>\n",
       "    <tr>\n",
       "      <th>8</th>\n",
       "      <td>Greece</td>\n",
       "      <td>Total</td>\n",
       "      <td>Total</td>\n",
       "      <td>2013</td>\n",
       "      <td>10965209</td>\n",
       "    </tr>\n",
       "    <tr>\n",
       "      <th>9</th>\n",
       "      <td>Greece</td>\n",
       "      <td>Total</td>\n",
       "      <td>Total</td>\n",
       "      <td>2014</td>\n",
       "      <td>10892415</td>\n",
       "    </tr>\n",
       "    <tr>\n",
       "      <th>10</th>\n",
       "      <td>Greece</td>\n",
       "      <td>Total</td>\n",
       "      <td>Total</td>\n",
       "      <td>2015</td>\n",
       "      <td>10820883</td>\n",
       "    </tr>\n",
       "    <tr>\n",
       "      <th>11</th>\n",
       "      <td>Greece</td>\n",
       "      <td>Total</td>\n",
       "      <td>Total</td>\n",
       "      <td>2016</td>\n",
       "      <td>10775971</td>\n",
       "    </tr>\n",
       "    <tr>\n",
       "      <th>12</th>\n",
       "      <td>Greece</td>\n",
       "      <td>Total</td>\n",
       "      <td>Total</td>\n",
       "      <td>2017</td>\n",
       "      <td>10754679</td>\n",
       "    </tr>\n",
       "    <tr>\n",
       "      <th>13</th>\n",
       "      <td>Greece</td>\n",
       "      <td>Total</td>\n",
       "      <td>Total</td>\n",
       "      <td>2018</td>\n",
       "      <td>10725886</td>\n",
       "    </tr>\n",
       "    <tr>\n",
       "      <th>70</th>\n",
       "      <td>Greece</td>\n",
       "      <td>Total</td>\n",
       "      <td>Under 20</td>\n",
       "      <td>2005</td>\n",
       "      <td>2283039</td>\n",
       "    </tr>\n",
       "  </tbody>\n",
       "</table>\n",
       "</div>"
      ],
      "text/plain": [
       "   Country    Sex       Age  Time     Value\n",
       "0   Greece  Total     Total  2005  10987316\n",
       "1   Greece  Total     Total  2006  11020366\n",
       "2   Greece  Total     Total  2007  11048466\n",
       "3   Greece  Total     Total  2008  11077839\n",
       "4   Greece  Total     Total  2009  11107017\n",
       "5   Greece  Total     Total  2010  11121344\n",
       "6   Greece  Total     Total  2011  11104900\n",
       "7   Greece  Total     Total  2012  11045010\n",
       "8   Greece  Total     Total  2013  10965209\n",
       "9   Greece  Total     Total  2014  10892415\n",
       "10  Greece  Total     Total  2015  10820883\n",
       "11  Greece  Total     Total  2016  10775971\n",
       "12  Greece  Total     Total  2017  10754679\n",
       "13  Greece  Total     Total  2018  10725886\n",
       "70  Greece  Total  Under 20  2005   2283039"
      ]
     },
     "execution_count": 73,
     "metadata": {},
     "output_type": "execute_result"
    }
   ],
   "source": [
    "#Create a clean version of the dataset per country\n",
    "population_greece1 = pop_greece_filter.drop(['LOCATION','SEX','AGE','TIME'], axis=1)\n",
    "\n",
    "population_greece1.head(15)"
   ]
  },
  {
   "cell_type": "code",
   "execution_count": 74,
   "metadata": {
    "hideCode": false,
    "hideOutput": true,
    "hidePrompt": false,
    "slideshow": {
     "slide_type": "skip"
    }
   },
   "outputs": [],
   "source": [
    "#Creation of two different dataframes to seperate total population and age groups\n",
    "pop_total_greece = population_greece1[population_greece1.Age == 'Total']\n",
    "pop_categories_greece = population_greece1[~population_greece1.Age.str.contains('Total')] "
   ]
  },
  {
   "cell_type": "code",
   "execution_count": 75,
   "metadata": {
    "hideCode": false,
    "hideOutput": true,
    "hidePrompt": false,
    "slideshow": {
     "slide_type": "skip"
    }
   },
   "outputs": [
    {
     "data": {
      "text/html": [
       "\n",
       "<div id=\"altair-viz-d86d9c4bde664168ab27e4b0375b6129\"></div>\n",
       "<script type=\"text/javascript\">\n",
       "  (function(spec, embedOpt){\n",
       "    let outputDiv = document.currentScript.previousElementSibling;\n",
       "    if (outputDiv.id !== \"altair-viz-d86d9c4bde664168ab27e4b0375b6129\") {\n",
       "      outputDiv = document.getElementById(\"altair-viz-d86d9c4bde664168ab27e4b0375b6129\");\n",
       "    }\n",
       "    const paths = {\n",
       "      \"vega\": \"https://cdn.jsdelivr.net/npm//vega@5?noext\",\n",
       "      \"vega-lib\": \"https://cdn.jsdelivr.net/npm//vega-lib?noext\",\n",
       "      \"vega-lite\": \"https://cdn.jsdelivr.net/npm//vega-lite@4.8.1?noext\",\n",
       "      \"vega-embed\": \"https://cdn.jsdelivr.net/npm//vega-embed@6?noext\",\n",
       "    };\n",
       "\n",
       "    function loadScript(lib) {\n",
       "      return new Promise(function(resolve, reject) {\n",
       "        var s = document.createElement('script');\n",
       "        s.src = paths[lib];\n",
       "        s.async = true;\n",
       "        s.onload = () => resolve(paths[lib]);\n",
       "        s.onerror = () => reject(`Error loading script: ${paths[lib]}`);\n",
       "        document.getElementsByTagName(\"head\")[0].appendChild(s);\n",
       "      });\n",
       "    }\n",
       "\n",
       "    function showError(err) {\n",
       "      outputDiv.innerHTML = `<div class=\"error\" style=\"color:red;\">${err}</div>`;\n",
       "      throw err;\n",
       "    }\n",
       "\n",
       "    function displayChart(vegaEmbed) {\n",
       "      vegaEmbed(outputDiv, spec, embedOpt)\n",
       "        .catch(err => showError(`Javascript Error: ${err.message}<br>This usually means there's a typo in your chart specification. See the javascript console for the full traceback.`));\n",
       "    }\n",
       "\n",
       "    if(typeof define === \"function\" && define.amd) {\n",
       "      requirejs.config({paths});\n",
       "      require([\"vega-embed\"], displayChart, err => showError(`Error loading script: ${err.message}`));\n",
       "    } else if (typeof vegaEmbed === \"function\") {\n",
       "      displayChart(vegaEmbed);\n",
       "    } else {\n",
       "      loadScript(\"vega\")\n",
       "        .then(() => loadScript(\"vega-lite\"))\n",
       "        .then(() => loadScript(\"vega-embed\"))\n",
       "        .catch(showError)\n",
       "        .then(() => displayChart(vegaEmbed));\n",
       "    }\n",
       "  })({\"config\": {\"view\": {\"continuousWidth\": 400, \"continuousHeight\": 300}}, \"data\": {\"name\": \"data-6a24a414b9137021e63db3b9e050e749\"}, \"mark\": \"bar\", \"encoding\": {\"color\": {\"type\": \"nominal\", \"field\": \"Age\"}, \"column\": {\"type\": \"nominal\", \"field\": \"Age\"}, \"x\": {\"type\": \"ordinal\", \"field\": \"Time\"}, \"y\": {\"type\": \"quantitative\", \"field\": \"Value\"}}, \"height\": 200, \"width\": 200, \"$schema\": \"https://vega.github.io/schema/vega-lite/v4.8.1.json\", \"datasets\": {\"data-6a24a414b9137021e63db3b9e050e749\": [{\"Country\": \"Greece\", \"Sex\": \"Total\", \"Age\": \"Under 20\", \"Time\": 2005, \"Value\": 2283039}, {\"Country\": \"Greece\", \"Sex\": \"Total\", \"Age\": \"Under 20\", \"Time\": 2006, \"Value\": 2262029}, {\"Country\": \"Greece\", \"Sex\": \"Total\", \"Age\": \"Under 20\", \"Time\": 2007, \"Value\": 2245606}, {\"Country\": \"Greece\", \"Sex\": \"Total\", \"Age\": \"Under 20\", \"Time\": 2008, \"Value\": 2231852}, {\"Country\": \"Greece\", \"Sex\": \"Total\", \"Age\": \"Under 20\", \"Time\": 2009, \"Value\": 2219499}, {\"Country\": \"Greece\", \"Sex\": \"Total\", \"Age\": \"Under 20\", \"Time\": 2010, \"Value\": 2207055}, {\"Country\": \"Greece\", \"Sex\": \"Total\", \"Age\": \"Under 20\", \"Time\": 2011, \"Value\": 2191723}, {\"Country\": \"Greece\", \"Sex\": \"Total\", \"Age\": \"Under 20\", \"Time\": 2012, \"Value\": 2172715}, {\"Country\": \"Greece\", \"Sex\": \"Total\", \"Age\": \"Under 20\", \"Time\": 2013, \"Value\": 2152963}, {\"Country\": \"Greece\", \"Sex\": \"Total\", \"Age\": \"Under 20\", \"Time\": 2014, \"Value\": 2129845}, {\"Country\": \"Greece\", \"Sex\": \"Total\", \"Age\": \"Under 20\", \"Time\": 2015, \"Value\": 2103536}, {\"Country\": \"Greece\", \"Sex\": \"Total\", \"Age\": \"Under 20\", \"Time\": 2016, \"Value\": 2092102}, {\"Country\": \"Greece\", \"Sex\": \"Total\", \"Age\": \"Under 20\", \"Time\": 2017, \"Value\": 2090472}, {\"Country\": \"Greece\", \"Sex\": \"Total\", \"Age\": \"Under 20\", \"Time\": 2018, \"Value\": 2085292}, {\"Country\": \"Greece\", \"Sex\": \"Total\", \"Age\": \"20 to 64\", \"Time\": 2005, \"Value\": 6686010}, {\"Country\": \"Greece\", \"Sex\": \"Total\", \"Age\": \"20 to 64\", \"Time\": 2006, \"Value\": 6717298}, {\"Country\": \"Greece\", \"Sex\": \"Total\", \"Age\": \"20 to 64\", \"Time\": 2007, \"Value\": 6745107}, {\"Country\": \"Greece\", \"Sex\": \"Total\", \"Age\": \"20 to 64\", \"Time\": 2008, \"Value\": 6772400}, {\"Country\": \"Greece\", \"Sex\": \"Total\", \"Age\": \"20 to 64\", \"Time\": 2009, \"Value\": 6791057}, {\"Country\": \"Greece\", \"Sex\": \"Total\", \"Age\": \"20 to 64\", \"Time\": 2010, \"Value\": 6786381}, {\"Country\": \"Greece\", \"Sex\": \"Total\", \"Age\": \"20 to 64\", \"Time\": 2011, \"Value\": 6750092}, {\"Country\": \"Greece\", \"Sex\": \"Total\", \"Age\": \"20 to 64\", \"Time\": 2012, \"Value\": 6678189}, {\"Country\": \"Greece\", \"Sex\": \"Total\", \"Age\": \"20 to 64\", \"Time\": 2013, \"Value\": 6589105}, {\"Country\": \"Greece\", \"Sex\": \"Total\", \"Age\": \"20 to 64\", \"Time\": 2014, \"Value\": 6508771}, {\"Country\": \"Greece\", \"Sex\": \"Total\", \"Age\": \"20 to 64\", \"Time\": 2015, \"Value\": 6436384}, {\"Country\": \"Greece\", \"Sex\": \"Total\", \"Age\": \"20 to 64\", \"Time\": 2016, \"Value\": 6377572}, {\"Country\": \"Greece\", \"Sex\": \"Total\", \"Age\": \"20 to 64\", \"Time\": 2017, \"Value\": 6334256}, {\"Country\": \"Greece\", \"Sex\": \"Total\", \"Age\": \"20 to 64\", \"Time\": 2018, \"Value\": 6292253}, {\"Country\": \"Greece\", \"Sex\": \"Total\", \"Age\": \"65 and over\", \"Time\": 2005, \"Value\": 2018267}, {\"Country\": \"Greece\", \"Sex\": \"Total\", \"Age\": \"65 and over\", \"Time\": 2006, \"Value\": 2041039}, {\"Country\": \"Greece\", \"Sex\": \"Total\", \"Age\": \"65 and over\", \"Time\": 2007, \"Value\": 2057753}, {\"Country\": \"Greece\", \"Sex\": \"Total\", \"Age\": \"65 and over\", \"Time\": 2008, \"Value\": 2073587}, {\"Country\": \"Greece\", \"Sex\": \"Total\", \"Age\": \"65 and over\", \"Time\": 2009, \"Value\": 2096461}, {\"Country\": \"Greece\", \"Sex\": \"Total\", \"Age\": \"65 and over\", \"Time\": 2010, \"Value\": 2127908}, {\"Country\": \"Greece\", \"Sex\": \"Total\", \"Age\": \"65 and over\", \"Time\": 2011, \"Value\": 2163085}, {\"Country\": \"Greece\", \"Sex\": \"Total\", \"Age\": \"65 and over\", \"Time\": 2012, \"Value\": 2194106}, {\"Country\": \"Greece\", \"Sex\": \"Total\", \"Age\": \"65 and over\", \"Time\": 2013, \"Value\": 2223141}, {\"Country\": \"Greece\", \"Sex\": \"Total\", \"Age\": \"65 and over\", \"Time\": 2014, \"Value\": 2253799}, {\"Country\": \"Greece\", \"Sex\": \"Total\", \"Age\": \"65 and over\", \"Time\": 2015, \"Value\": 2280963}, {\"Country\": \"Greece\", \"Sex\": \"Total\", \"Age\": \"65 and over\", \"Time\": 2016, \"Value\": 2306297}, {\"Country\": \"Greece\", \"Sex\": \"Total\", \"Age\": \"65 and over\", \"Time\": 2017, \"Value\": 2329952}, {\"Country\": \"Greece\", \"Sex\": \"Total\", \"Age\": \"65 and over\", \"Time\": 2018, \"Value\": 2348341}]}}, {\"mode\": \"vega-lite\"});\n",
       "</script>"
      ],
      "text/plain": [
       "alt.Chart(...)"
      ]
     },
     "execution_count": 75,
     "metadata": {},
     "output_type": "execute_result"
    }
   ],
   "source": [
    "#Visualization of the population per age group\n",
    "alt.Chart(pop_categories_greece).mark_bar().encode(\n",
    "    x='Time:O',\n",
    "    y='Value:Q',\n",
    "    color='Age:N',\n",
    "    column='Age:N'\n",
    ").properties(\n",
    "    width=200,\n",
    "    height=200\n",
    ")"
   ]
  },
  {
   "cell_type": "code",
   "execution_count": 76,
   "metadata": {
    "hideCode": false,
    "hidePrompt": false,
    "slideshow": {
     "slide_type": "skip"
    }
   },
   "outputs": [
    {
     "data": {
      "image/png": "[encoded data removed]",
      "text/plain": [
       "<Figure size 792x576 with 1 Axes>"
      ]
     },
     "metadata": {
      "needs_background": "light"
     },
     "output_type": "display_data"
    }
   ],
   "source": [
    "fig_dims = (11, 8)\n",
    "fig, ax = plt.subplots(figsize=fig_dims)\n",
    "\n",
    "sns.lineplot(x=\"Time\", y=\"Value\", ax=ax, data=pop_total_greece)\n",
    "plt.show()"
   ]
  },
  {
   "cell_type": "markdown",
   "metadata": {
    "hideCode": false,
    "hidePrompt": false,
    "slideshow": {
     "slide_type": "skip"
    }
   },
   "source": [
    "#### Portugal"
   ]
  },
  {
   "cell_type": "code",
   "execution_count": 77,
   "metadata": {
    "hideCode": false,
    "hidePrompt": false,
    "slideshow": {
     "slide_type": "skip"
    }
   },
   "outputs": [
    {
     "name": "stdout",
     "output_type": "stream",
     "text": [
      "<class 'pandas.core.frame.DataFrame'>\n",
      "Int64Index: 56 entries, 28 to 251\n",
      "Data columns (total 9 columns):\n",
      " #   Column    Non-Null Count  Dtype \n",
      "---  ------    --------------  ----- \n",
      " 0   LOCATION  56 non-null     object\n",
      " 1   Country   56 non-null     object\n",
      " 2   SEX       56 non-null     object\n",
      " 3   Sex       56 non-null     object\n",
      " 4   AGE       56 non-null     object\n",
      " 5   Age       56 non-null     object\n",
      " 6   TIME      56 non-null     int64 \n",
      " 7   Time      56 non-null     int64 \n",
      " 8   Value     56 non-null     int64 \n",
      "dtypes: int64(3), object(6)\n",
      "memory usage: 4.4+ KB\n"
     ]
    }
   ],
   "source": [
    "pop_portugal_filter.info()"
   ]
  },
  {
   "cell_type": "code",
   "execution_count": 78,
   "metadata": {
    "hideCode": false,
    "hidePrompt": false,
    "slideshow": {
     "slide_type": "skip"
    }
   },
   "outputs": [
    {
     "data": {
      "text/html": [
       "<div>\n",
       "<style scoped>\n",
       "    .dataframe tbody tr th:only-of-type {\n",
       "        vertical-align: middle;\n",
       "    }\n",
       "\n",
       "    .dataframe tbody tr th {\n",
       "        vertical-align: top;\n",
       "    }\n",
       "\n",
       "    .dataframe thead th {\n",
       "        text-align: right;\n",
       "    }\n",
       "</style>\n",
       "<table border=\"1\" class=\"dataframe\">\n",
       "  <thead>\n",
       "    <tr style=\"text-align: right;\">\n",
       "      <th></th>\n",
       "      <th>Country</th>\n",
       "      <th>Sex</th>\n",
       "      <th>Age</th>\n",
       "      <th>Time</th>\n",
       "      <th>Value</th>\n",
       "    </tr>\n",
       "  </thead>\n",
       "  <tbody>\n",
       "    <tr>\n",
       "      <th>28</th>\n",
       "      <td>Portugal</td>\n",
       "      <td>Total</td>\n",
       "      <td>Total</td>\n",
       "      <td>2005</td>\n",
       "      <td>10503330</td>\n",
       "    </tr>\n",
       "    <tr>\n",
       "      <th>29</th>\n",
       "      <td>Portugal</td>\n",
       "      <td>Total</td>\n",
       "      <td>Total</td>\n",
       "      <td>2006</td>\n",
       "      <td>10522288</td>\n",
       "    </tr>\n",
       "    <tr>\n",
       "      <th>30</th>\n",
       "      <td>Portugal</td>\n",
       "      <td>Total</td>\n",
       "      <td>Total</td>\n",
       "      <td>2007</td>\n",
       "      <td>10542964</td>\n",
       "    </tr>\n",
       "    <tr>\n",
       "      <th>31</th>\n",
       "      <td>Portugal</td>\n",
       "      <td>Total</td>\n",
       "      <td>Total</td>\n",
       "      <td>2008</td>\n",
       "      <td>10558177</td>\n",
       "    </tr>\n",
       "    <tr>\n",
       "      <th>32</th>\n",
       "      <td>Portugal</td>\n",
       "      <td>Total</td>\n",
       "      <td>Total</td>\n",
       "      <td>2009</td>\n",
       "      <td>10568247</td>\n",
       "    </tr>\n",
       "    <tr>\n",
       "      <th>33</th>\n",
       "      <td>Portugal</td>\n",
       "      <td>Total</td>\n",
       "      <td>Total</td>\n",
       "      <td>2010</td>\n",
       "      <td>10573100</td>\n",
       "    </tr>\n",
       "    <tr>\n",
       "      <th>34</th>\n",
       "      <td>Portugal</td>\n",
       "      <td>Total</td>\n",
       "      <td>Total</td>\n",
       "      <td>2011</td>\n",
       "      <td>10557560</td>\n",
       "    </tr>\n",
       "    <tr>\n",
       "      <th>35</th>\n",
       "      <td>Portugal</td>\n",
       "      <td>Total</td>\n",
       "      <td>Total</td>\n",
       "      <td>2012</td>\n",
       "      <td>10514844</td>\n",
       "    </tr>\n",
       "    <tr>\n",
       "      <th>36</th>\n",
       "      <td>Portugal</td>\n",
       "      <td>Total</td>\n",
       "      <td>Total</td>\n",
       "      <td>2013</td>\n",
       "      <td>10457295</td>\n",
       "    </tr>\n",
       "    <tr>\n",
       "      <th>37</th>\n",
       "      <td>Portugal</td>\n",
       "      <td>Total</td>\n",
       "      <td>Total</td>\n",
       "      <td>2014</td>\n",
       "      <td>10401062</td>\n",
       "    </tr>\n",
       "    <tr>\n",
       "      <th>38</th>\n",
       "      <td>Portugal</td>\n",
       "      <td>Total</td>\n",
       "      <td>Total</td>\n",
       "      <td>2015</td>\n",
       "      <td>10358076</td>\n",
       "    </tr>\n",
       "    <tr>\n",
       "      <th>39</th>\n",
       "      <td>Portugal</td>\n",
       "      <td>Total</td>\n",
       "      <td>Total</td>\n",
       "      <td>2016</td>\n",
       "      <td>10325452</td>\n",
       "    </tr>\n",
       "    <tr>\n",
       "      <th>40</th>\n",
       "      <td>Portugal</td>\n",
       "      <td>Total</td>\n",
       "      <td>Total</td>\n",
       "      <td>2017</td>\n",
       "      <td>10300300</td>\n",
       "    </tr>\n",
       "    <tr>\n",
       "      <th>41</th>\n",
       "      <td>Portugal</td>\n",
       "      <td>Total</td>\n",
       "      <td>Total</td>\n",
       "      <td>2018</td>\n",
       "      <td>10283822</td>\n",
       "    </tr>\n",
       "    <tr>\n",
       "      <th>98</th>\n",
       "      <td>Portugal</td>\n",
       "      <td>Total</td>\n",
       "      <td>Under 20</td>\n",
       "      <td>2005</td>\n",
       "      <td>2261483</td>\n",
       "    </tr>\n",
       "  </tbody>\n",
       "</table>\n",
       "</div>"
      ],
      "text/plain": [
       "     Country    Sex       Age  Time     Value\n",
       "28  Portugal  Total     Total  2005  10503330\n",
       "29  Portugal  Total     Total  2006  10522288\n",
       "30  Portugal  Total     Total  2007  10542964\n",
       "31  Portugal  Total     Total  2008  10558177\n",
       "32  Portugal  Total     Total  2009  10568247\n",
       "33  Portugal  Total     Total  2010  10573100\n",
       "34  Portugal  Total     Total  2011  10557560\n",
       "35  Portugal  Total     Total  2012  10514844\n",
       "36  Portugal  Total     Total  2013  10457295\n",
       "37  Portugal  Total     Total  2014  10401062\n",
       "38  Portugal  Total     Total  2015  10358076\n",
       "39  Portugal  Total     Total  2016  10325452\n",
       "40  Portugal  Total     Total  2017  10300300\n",
       "41  Portugal  Total     Total  2018  10283822\n",
       "98  Portugal  Total  Under 20  2005   2261483"
      ]
     },
     "execution_count": 78,
     "metadata": {},
     "output_type": "execute_result"
    }
   ],
   "source": [
    "#Create a clean version of the dataset per country\n",
    "population_portugal1 = pop_portugal_filter.drop(['LOCATION','SEX','AGE','TIME'], axis=1)\n",
    "\n",
    "population_portugal1.head(15)"
   ]
  },
  {
   "cell_type": "code",
   "execution_count": 79,
   "metadata": {
    "hideCode": false,
    "hidePrompt": false,
    "slideshow": {
     "slide_type": "skip"
    }
   },
   "outputs": [],
   "source": [
    "#Creation of two different dataframes to seperate total population and age groups\n",
    "pop_total_portugal = population_portugal1[population_portugal1.Age == 'Total']\n",
    "pop_categories_portugal = population_portugal1[~population_portugal1.Age.str.contains('Total')] "
   ]
  },
  {
   "cell_type": "code",
   "execution_count": 80,
   "metadata": {
    "hideCode": false,
    "hidePrompt": false,
    "slideshow": {
     "slide_type": "skip"
    }
   },
   "outputs": [
    {
     "data": {
      "text/html": [
       "\n",
       "<div id=\"altair-viz-2a135daef6494243acee1f97ca4c1cfd\"></div>\n",
       "<script type=\"text/javascript\">\n",
       "  (function(spec, embedOpt){\n",
       "    let outputDiv = document.currentScript.previousElementSibling;\n",
       "    if (outputDiv.id !== \"altair-viz-2a135daef6494243acee1f97ca4c1cfd\") {\n",
       "      outputDiv = document.getElementById(\"altair-viz-2a135daef6494243acee1f97ca4c1cfd\");\n",
       "    }\n",
       "    const paths = {\n",
       "      \"vega\": \"https://cdn.jsdelivr.net/npm//vega@5?noext\",\n",
       "      \"vega-lib\": \"https://cdn.jsdelivr.net/npm//vega-lib?noext\",\n",
       "      \"vega-lite\": \"https://cdn.jsdelivr.net/npm//vega-lite@4.8.1?noext\",\n",
       "      \"vega-embed\": \"https://cdn.jsdelivr.net/npm//vega-embed@6?noext\",\n",
       "    };\n",
       "\n",
       "    function loadScript(lib) {\n",
       "      return new Promise(function(resolve, reject) {\n",
       "        var s = document.createElement('script');\n",
       "        s.src = paths[lib];\n",
       "        s.async = true;\n",
       "        s.onload = () => resolve(paths[lib]);\n",
       "        s.onerror = () => reject(`Error loading script: ${paths[lib]}`);\n",
       "        document.getElementsByTagName(\"head\")[0].appendChild(s);\n",
       "      });\n",
       "    }\n",
       "\n",
       "    function showError(err) {\n",
       "      outputDiv.innerHTML = `<div class=\"error\" style=\"color:red;\">${err}</div>`;\n",
       "      throw err;\n",
       "    }\n",
       "\n",
       "    function displayChart(vegaEmbed) {\n",
       "      vegaEmbed(outputDiv, spec, embedOpt)\n",
       "        .catch(err => showError(`Javascript Error: ${err.message}<br>This usually means there's a typo in your chart specification. See the javascript console for the full traceback.`));\n",
       "    }\n",
       "\n",
       "    if(typeof define === \"function\" && define.amd) {\n",
       "      requirejs.config({paths});\n",
       "      require([\"vega-embed\"], displayChart, err => showError(`Error loading script: ${err.message}`));\n",
       "    } else if (typeof vegaEmbed === \"function\") {\n",
       "      displayChart(vegaEmbed);\n",
       "    } else {\n",
       "      loadScript(\"vega\")\n",
       "        .then(() => loadScript(\"vega-lite\"))\n",
       "        .then(() => loadScript(\"vega-embed\"))\n",
       "        .catch(showError)\n",
       "        .then(() => displayChart(vegaEmbed));\n",
       "    }\n",
       "  })({\"config\": {\"view\": {\"continuousWidth\": 400, \"continuousHeight\": 300}}, \"data\": {\"name\": \"data-f6952791668865bdb4383aadaedb7192\"}, \"mark\": \"bar\", \"encoding\": {\"color\": {\"type\": \"nominal\", \"field\": \"Age\"}, \"column\": {\"type\": \"nominal\", \"field\": \"Age\"}, \"x\": {\"type\": \"ordinal\", \"field\": \"Time\"}, \"y\": {\"type\": \"quantitative\", \"field\": \"Value\"}}, \"height\": 200, \"width\": 200, \"$schema\": \"https://vega.github.io/schema/vega-lite/v4.8.1.json\", \"datasets\": {\"data-f6952791668865bdb4383aadaedb7192\": [{\"Country\": \"Portugal\", \"Sex\": \"Total\", \"Age\": \"Under 20\", \"Time\": 2005, \"Value\": 2261483}, {\"Country\": \"Portugal\", \"Sex\": \"Total\", \"Age\": \"Under 20\", \"Time\": 2006, \"Value\": 2246401}, {\"Country\": \"Portugal\", \"Sex\": \"Total\", \"Age\": \"Under 20\", \"Time\": 2007, \"Value\": 2232037}, {\"Country\": \"Portugal\", \"Sex\": \"Total\", \"Age\": \"Under 20\", \"Time\": 2008, \"Value\": 2217440}, {\"Country\": \"Portugal\", \"Sex\": \"Total\", \"Age\": \"Under 20\", \"Time\": 2009, \"Value\": 2201039}, {\"Country\": \"Portugal\", \"Sex\": \"Total\", \"Age\": \"Under 20\", \"Time\": 2010, \"Value\": 2177284}, {\"Country\": \"Portugal\", \"Sex\": \"Total\", \"Age\": \"Under 20\", \"Time\": 2011, \"Value\": 2147054}, {\"Country\": \"Portugal\", \"Sex\": \"Total\", \"Age\": \"Under 20\", \"Time\": 2012, \"Value\": 2116599}, {\"Country\": \"Portugal\", \"Sex\": \"Total\", \"Age\": \"Under 20\", \"Time\": 2013, \"Value\": 2085366}, {\"Country\": \"Portugal\", \"Sex\": \"Total\", \"Age\": \"Under 20\", \"Time\": 2014, \"Value\": 2055969}, {\"Country\": \"Portugal\", \"Sex\": \"Total\", \"Age\": \"Under 20\", \"Time\": 2015, \"Value\": 2031905}, {\"Country\": \"Portugal\", \"Sex\": \"Total\", \"Age\": \"Under 20\", \"Time\": 2016, \"Value\": 2010888}, {\"Country\": \"Portugal\", \"Sex\": \"Total\", \"Age\": \"Under 20\", \"Time\": 2017, \"Value\": 1990194}, {\"Country\": \"Portugal\", \"Sex\": \"Total\", \"Age\": \"Under 20\", \"Time\": 2018, \"Value\": 1970059}, {\"Country\": \"Portugal\", \"Sex\": \"Total\", \"Age\": \"20 to 64\", \"Time\": 2005, \"Value\": 6427810}, {\"Country\": \"Portugal\", \"Sex\": \"Total\", \"Age\": \"20 to 64\", \"Time\": 2006, \"Value\": 6439730}, {\"Country\": \"Portugal\", \"Sex\": \"Total\", \"Age\": \"20 to 64\", \"Time\": 2007, \"Value\": 6451908}, {\"Country\": \"Portugal\", \"Sex\": \"Total\", \"Age\": \"20 to 64\", \"Time\": 2008, \"Value\": 6456406}, {\"Country\": \"Portugal\", \"Sex\": \"Total\", \"Age\": \"20 to 64\", \"Time\": 2009, \"Value\": 6452859}, {\"Country\": \"Portugal\", \"Sex\": \"Total\", \"Age\": \"20 to 64\", \"Time\": 2010, \"Value\": 6442407}, {\"Country\": \"Portugal\", \"Sex\": \"Total\", \"Age\": \"20 to 64\", \"Time\": 2011, \"Value\": 6418472}, {\"Country\": \"Portugal\", \"Sex\": \"Total\", \"Age\": \"20 to 64\", \"Time\": 2012, \"Value\": 6378119}, {\"Country\": \"Portugal\", \"Sex\": \"Total\", \"Age\": \"20 to 64\", \"Time\": 2013, \"Value\": 6320705}, {\"Country\": \"Portugal\", \"Sex\": \"Total\", \"Age\": \"20 to 64\", \"Time\": 2014, \"Value\": 6257588}, {\"Country\": \"Portugal\", \"Sex\": \"Total\", \"Age\": \"20 to 64\", \"Time\": 2015, \"Value\": 6203176}, {\"Country\": \"Portugal\", \"Sex\": \"Total\", \"Age\": \"20 to 64\", \"Time\": 2016, \"Value\": 6155832}, {\"Country\": \"Portugal\", \"Sex\": \"Total\", \"Age\": \"20 to 64\", \"Time\": 2017, \"Value\": 6115149}, {\"Country\": \"Portugal\", \"Sex\": \"Total\", \"Age\": \"20 to 64\", \"Time\": 2018, \"Value\": 6085014}, {\"Country\": \"Portugal\", \"Sex\": \"Total\", \"Age\": \"65 and over\", \"Time\": 2005, \"Value\": 1814038}, {\"Country\": \"Portugal\", \"Sex\": \"Total\", \"Age\": \"65 and over\", \"Time\": 2006, \"Value\": 1836158}, {\"Country\": \"Portugal\", \"Sex\": \"Total\", \"Age\": \"65 and over\", \"Time\": 2007, \"Value\": 1859020}, {\"Country\": \"Portugal\", \"Sex\": \"Total\", \"Age\": \"65 and over\", \"Time\": 2008, \"Value\": 1884332}, {\"Country\": \"Portugal\", \"Sex\": \"Total\", \"Age\": \"65 and over\", \"Time\": 2009, \"Value\": 1914350}, {\"Country\": \"Portugal\", \"Sex\": \"Total\", \"Age\": \"65 and over\", \"Time\": 2010, \"Value\": 1953409}, {\"Country\": \"Portugal\", \"Sex\": \"Total\", \"Age\": \"65 and over\", \"Time\": 2011, \"Value\": 1992034}, {\"Country\": \"Portugal\", \"Sex\": \"Total\", \"Age\": \"65 and over\", \"Time\": 2012, \"Value\": 2020126}, {\"Country\": \"Portugal\", \"Sex\": \"Total\", \"Age\": \"65 and over\", \"Time\": 2013, \"Value\": 2051225}, {\"Country\": \"Portugal\", \"Sex\": \"Total\", \"Age\": \"65 and over\", \"Time\": 2014, \"Value\": 2087505}, {\"Country\": \"Portugal\", \"Sex\": \"Total\", \"Age\": \"65 and over\", \"Time\": 2015, \"Value\": 2122996}, {\"Country\": \"Portugal\", \"Sex\": \"Total\", \"Age\": \"65 and over\", \"Time\": 2016, \"Value\": 2158732}, {\"Country\": \"Portugal\", \"Sex\": \"Total\", \"Age\": \"65 and over\", \"Time\": 2017, \"Value\": 2194957}, {\"Country\": \"Portugal\", \"Sex\": \"Total\", \"Age\": \"65 and over\", \"Time\": 2018, \"Value\": 2228750}]}}, {\"mode\": \"vega-lite\"});\n",
       "</script>"
      ],
      "text/plain": [
       "alt.Chart(...)"
      ]
     },
     "execution_count": 80,
     "metadata": {},
     "output_type": "execute_result"
    }
   ],
   "source": [
    "#Visualization of the population per age group\n",
    "alt.Chart(pop_categories_portugal).mark_bar().encode(\n",
    "    x='Time:O',\n",
    "    y='Value:Q',\n",
    "    color='Age:N',\n",
    "    column='Age:N'\n",
    ").properties(\n",
    "    width=200,\n",
    "    height=200\n",
    ")"
   ]
  },
  {
   "cell_type": "code",
   "execution_count": 81,
   "metadata": {
    "hideCode": false,
    "hidePrompt": false,
    "slideshow": {
     "slide_type": "skip"
    }
   },
   "outputs": [
    {
     "data": {
      "image/png": "[encoded data removed]",
      "text/plain": [
       "<Figure size 792x576 with 1 Axes>"
      ]
     },
     "metadata": {
      "needs_background": "light"
     },
     "output_type": "display_data"
    }
   ],
   "source": [
    "fig_dims = (11, 8)\n",
    "fig, ax = plt.subplots(figsize=fig_dims)\n",
    "\n",
    "sns.lineplot(x=\"Time\", y=\"Value\", ax=ax, data=pop_total_portugal)\n",
    "plt.show()"
   ]
  },
  {
   "cell_type": "markdown",
   "metadata": {
    "hideCode": false,
    "hidePrompt": false,
    "slideshow": {
     "slide_type": "skip"
    }
   },
   "source": [
    "#### Spain"
   ]
  },
  {
   "cell_type": "code",
   "execution_count": 82,
   "metadata": {
    "hideCode": false,
    "hidePrompt": false,
    "slideshow": {
     "slide_type": "skip"
    }
   },
   "outputs": [
    {
     "name": "stdout",
     "output_type": "stream",
     "text": [
      "<class 'pandas.core.frame.DataFrame'>\n",
      "Int64Index: 56 entries, 42 to 265\n",
      "Data columns (total 9 columns):\n",
      " #   Column    Non-Null Count  Dtype \n",
      "---  ------    --------------  ----- \n",
      " 0   LOCATION  56 non-null     object\n",
      " 1   Country   56 non-null     object\n",
      " 2   SEX       56 non-null     object\n",
      " 3   Sex       56 non-null     object\n",
      " 4   AGE       56 non-null     object\n",
      " 5   Age       56 non-null     object\n",
      " 6   TIME      56 non-null     int64 \n",
      " 7   Time      56 non-null     int64 \n",
      " 8   Value     56 non-null     int64 \n",
      "dtypes: int64(3), object(6)\n",
      "memory usage: 4.4+ KB\n"
     ]
    }
   ],
   "source": [
    "pop_spain_filter.info()"
   ]
  },
  {
   "cell_type": "code",
   "execution_count": 83,
   "metadata": {
    "hideCode": false,
    "hidePrompt": false,
    "slideshow": {
     "slide_type": "skip"
    }
   },
   "outputs": [
    {
     "data": {
      "text/html": [
       "<div>\n",
       "<style scoped>\n",
       "    .dataframe tbody tr th:only-of-type {\n",
       "        vertical-align: middle;\n",
       "    }\n",
       "\n",
       "    .dataframe tbody tr th {\n",
       "        vertical-align: top;\n",
       "    }\n",
       "\n",
       "    .dataframe thead th {\n",
       "        text-align: right;\n",
       "    }\n",
       "</style>\n",
       "<table border=\"1\" class=\"dataframe\">\n",
       "  <thead>\n",
       "    <tr style=\"text-align: right;\">\n",
       "      <th></th>\n",
       "      <th>LOCATION</th>\n",
       "      <th>Country</th>\n",
       "      <th>SEX</th>\n",
       "      <th>Sex</th>\n",
       "      <th>AGE</th>\n",
       "      <th>Age</th>\n",
       "      <th>TIME</th>\n",
       "      <th>Time</th>\n",
       "      <th>Value</th>\n",
       "    </tr>\n",
       "  </thead>\n",
       "  <tbody>\n",
       "    <tr>\n",
       "      <th>42</th>\n",
       "      <td>ESP</td>\n",
       "      <td>Spain</td>\n",
       "      <td>T</td>\n",
       "      <td>Total</td>\n",
       "      <td>TOTAL</td>\n",
       "      <td>Total</td>\n",
       "      <td>2005</td>\n",
       "      <td>2005</td>\n",
       "      <td>43662613</td>\n",
       "    </tr>\n",
       "    <tr>\n",
       "      <th>43</th>\n",
       "      <td>ESP</td>\n",
       "      <td>Spain</td>\n",
       "      <td>T</td>\n",
       "      <td>Total</td>\n",
       "      <td>TOTAL</td>\n",
       "      <td>Total</td>\n",
       "      <td>2006</td>\n",
       "      <td>2006</td>\n",
       "      <td>44360521</td>\n",
       "    </tr>\n",
       "    <tr>\n",
       "      <th>44</th>\n",
       "      <td>ESP</td>\n",
       "      <td>Spain</td>\n",
       "      <td>T</td>\n",
       "      <td>Total</td>\n",
       "      <td>TOTAL</td>\n",
       "      <td>Total</td>\n",
       "      <td>2007</td>\n",
       "      <td>2007</td>\n",
       "      <td>45236004</td>\n",
       "    </tr>\n",
       "    <tr>\n",
       "      <th>45</th>\n",
       "      <td>ESP</td>\n",
       "      <td>Spain</td>\n",
       "      <td>T</td>\n",
       "      <td>Total</td>\n",
       "      <td>TOTAL</td>\n",
       "      <td>Total</td>\n",
       "      <td>2008</td>\n",
       "      <td>2008</td>\n",
       "      <td>45983169</td>\n",
       "    </tr>\n",
       "    <tr>\n",
       "      <th>46</th>\n",
       "      <td>ESP</td>\n",
       "      <td>Spain</td>\n",
       "      <td>T</td>\n",
       "      <td>Total</td>\n",
       "      <td>TOTAL</td>\n",
       "      <td>Total</td>\n",
       "      <td>2009</td>\n",
       "      <td>2009</td>\n",
       "      <td>46367550</td>\n",
       "    </tr>\n",
       "  </tbody>\n",
       "</table>\n",
       "</div>"
      ],
      "text/plain": [
       "   LOCATION Country SEX    Sex    AGE    Age  TIME  Time     Value\n",
       "42      ESP   Spain   T  Total  TOTAL  Total  2005  2005  43662613\n",
       "43      ESP   Spain   T  Total  TOTAL  Total  2006  2006  44360521\n",
       "44      ESP   Spain   T  Total  TOTAL  Total  2007  2007  45236004\n",
       "45      ESP   Spain   T  Total  TOTAL  Total  2008  2008  45983169\n",
       "46      ESP   Spain   T  Total  TOTAL  Total  2009  2009  46367550"
      ]
     },
     "execution_count": 83,
     "metadata": {},
     "output_type": "execute_result"
    }
   ],
   "source": [
    "pop_spain_filter.head()"
   ]
  },
  {
   "cell_type": "code",
   "execution_count": 84,
   "metadata": {
    "hideCode": false,
    "hidePrompt": false,
    "slideshow": {
     "slide_type": "skip"
    }
   },
   "outputs": [
    {
     "data": {
      "text/html": [
       "<div>\n",
       "<style scoped>\n",
       "    .dataframe tbody tr th:only-of-type {\n",
       "        vertical-align: middle;\n",
       "    }\n",
       "\n",
       "    .dataframe tbody tr th {\n",
       "        vertical-align: top;\n",
       "    }\n",
       "\n",
       "    .dataframe thead th {\n",
       "        text-align: right;\n",
       "    }\n",
       "</style>\n",
       "<table border=\"1\" class=\"dataframe\">\n",
       "  <thead>\n",
       "    <tr style=\"text-align: right;\">\n",
       "      <th></th>\n",
       "      <th>Country</th>\n",
       "      <th>Sex</th>\n",
       "      <th>Age</th>\n",
       "      <th>Time</th>\n",
       "      <th>Value</th>\n",
       "    </tr>\n",
       "  </thead>\n",
       "  <tbody>\n",
       "    <tr>\n",
       "      <th>42</th>\n",
       "      <td>Spain</td>\n",
       "      <td>Total</td>\n",
       "      <td>Total</td>\n",
       "      <td>2005</td>\n",
       "      <td>43662613</td>\n",
       "    </tr>\n",
       "    <tr>\n",
       "      <th>43</th>\n",
       "      <td>Spain</td>\n",
       "      <td>Total</td>\n",
       "      <td>Total</td>\n",
       "      <td>2006</td>\n",
       "      <td>44360521</td>\n",
       "    </tr>\n",
       "    <tr>\n",
       "      <th>44</th>\n",
       "      <td>Spain</td>\n",
       "      <td>Total</td>\n",
       "      <td>Total</td>\n",
       "      <td>2007</td>\n",
       "      <td>45236004</td>\n",
       "    </tr>\n",
       "    <tr>\n",
       "      <th>45</th>\n",
       "      <td>Spain</td>\n",
       "      <td>Total</td>\n",
       "      <td>Total</td>\n",
       "      <td>2008</td>\n",
       "      <td>45983169</td>\n",
       "    </tr>\n",
       "    <tr>\n",
       "      <th>46</th>\n",
       "      <td>Spain</td>\n",
       "      <td>Total</td>\n",
       "      <td>Total</td>\n",
       "      <td>2009</td>\n",
       "      <td>46367550</td>\n",
       "    </tr>\n",
       "    <tr>\n",
       "      <th>47</th>\n",
       "      <td>Spain</td>\n",
       "      <td>Total</td>\n",
       "      <td>Total</td>\n",
       "      <td>2010</td>\n",
       "      <td>46562483</td>\n",
       "    </tr>\n",
       "    <tr>\n",
       "      <th>48</th>\n",
       "      <td>Spain</td>\n",
       "      <td>Total</td>\n",
       "      <td>Total</td>\n",
       "      <td>2011</td>\n",
       "      <td>46736257</td>\n",
       "    </tr>\n",
       "    <tr>\n",
       "      <th>49</th>\n",
       "      <td>Spain</td>\n",
       "      <td>Total</td>\n",
       "      <td>Total</td>\n",
       "      <td>2012</td>\n",
       "      <td>46766403</td>\n",
       "    </tr>\n",
       "    <tr>\n",
       "      <th>50</th>\n",
       "      <td>Spain</td>\n",
       "      <td>Total</td>\n",
       "      <td>Total</td>\n",
       "      <td>2013</td>\n",
       "      <td>46593236</td>\n",
       "    </tr>\n",
       "    <tr>\n",
       "      <th>51</th>\n",
       "      <td>Spain</td>\n",
       "      <td>Total</td>\n",
       "      <td>Total</td>\n",
       "      <td>2014</td>\n",
       "      <td>46455123</td>\n",
       "    </tr>\n",
       "    <tr>\n",
       "      <th>52</th>\n",
       "      <td>Spain</td>\n",
       "      <td>Total</td>\n",
       "      <td>Total</td>\n",
       "      <td>2015</td>\n",
       "      <td>46410149</td>\n",
       "    </tr>\n",
       "    <tr>\n",
       "      <th>53</th>\n",
       "      <td>Spain</td>\n",
       "      <td>Total</td>\n",
       "      <td>Total</td>\n",
       "      <td>2016</td>\n",
       "      <td>46449874</td>\n",
       "    </tr>\n",
       "    <tr>\n",
       "      <th>54</th>\n",
       "      <td>Spain</td>\n",
       "      <td>Total</td>\n",
       "      <td>Total</td>\n",
       "      <td>2017</td>\n",
       "      <td>46532869</td>\n",
       "    </tr>\n",
       "    <tr>\n",
       "      <th>55</th>\n",
       "      <td>Spain</td>\n",
       "      <td>Total</td>\n",
       "      <td>Total</td>\n",
       "      <td>2018</td>\n",
       "      <td>46733038</td>\n",
       "    </tr>\n",
       "    <tr>\n",
       "      <th>112</th>\n",
       "      <td>Spain</td>\n",
       "      <td>Total</td>\n",
       "      <td>Under 20</td>\n",
       "      <td>2005</td>\n",
       "      <td>8632833</td>\n",
       "    </tr>\n",
       "  </tbody>\n",
       "</table>\n",
       "</div>"
      ],
      "text/plain": [
       "    Country    Sex       Age  Time     Value\n",
       "42    Spain  Total     Total  2005  43662613\n",
       "43    Spain  Total     Total  2006  44360521\n",
       "44    Spain  Total     Total  2007  45236004\n",
       "45    Spain  Total     Total  2008  45983169\n",
       "46    Spain  Total     Total  2009  46367550\n",
       "47    Spain  Total     Total  2010  46562483\n",
       "48    Spain  Total     Total  2011  46736257\n",
       "49    Spain  Total     Total  2012  46766403\n",
       "50    Spain  Total     Total  2013  46593236\n",
       "51    Spain  Total     Total  2014  46455123\n",
       "52    Spain  Total     Total  2015  46410149\n",
       "53    Spain  Total     Total  2016  46449874\n",
       "54    Spain  Total     Total  2017  46532869\n",
       "55    Spain  Total     Total  2018  46733038\n",
       "112   Spain  Total  Under 20  2005   8632833"
      ]
     },
     "execution_count": 84,
     "metadata": {},
     "output_type": "execute_result"
    }
   ],
   "source": [
    "#Create a clean version of the dataset per country\n",
    "population_spain1 = pop_spain_filter.drop(['LOCATION','SEX','AGE','TIME'], axis=1)\n",
    "\n",
    "population_spain1.head(15)"
   ]
  },
  {
   "cell_type": "code",
   "execution_count": 85,
   "metadata": {
    "hideCode": false,
    "hidePrompt": false,
    "slideshow": {
     "slide_type": "skip"
    }
   },
   "outputs": [],
   "source": [
    "#Creation of two different dataframes to seperate total population and age groups\n",
    "pop_total_spain = population_spain1[population_spain1.Age == 'Total']\n",
    "pop_categories_spain = population_spain1[~population_spain1.Age.str.contains('Total')] "
   ]
  },
  {
   "cell_type": "code",
   "execution_count": 86,
   "metadata": {
    "hideCode": false,
    "hidePrompt": false,
    "slideshow": {
     "slide_type": "skip"
    }
   },
   "outputs": [
    {
     "data": {
      "text/html": [
       "\n",
       "<div id=\"altair-viz-bc5c70c24aeb47599a52fc152f697ee3\"></div>\n",
       "<script type=\"text/javascript\">\n",
       "  (function(spec, embedOpt){\n",
       "    let outputDiv = document.currentScript.previousElementSibling;\n",
       "    if (outputDiv.id !== \"altair-viz-bc5c70c24aeb47599a52fc152f697ee3\") {\n",
       "      outputDiv = document.getElementById(\"altair-viz-bc5c70c24aeb47599a52fc152f697ee3\");\n",
       "    }\n",
       "    const paths = {\n",
       "      \"vega\": \"https://cdn.jsdelivr.net/npm//vega@5?noext\",\n",
       "      \"vega-lib\": \"https://cdn.jsdelivr.net/npm//vega-lib?noext\",\n",
       "      \"vega-lite\": \"https://cdn.jsdelivr.net/npm//vega-lite@4.8.1?noext\",\n",
       "      \"vega-embed\": \"https://cdn.jsdelivr.net/npm//vega-embed@6?noext\",\n",
       "    };\n",
       "\n",
       "    function loadScript(lib) {\n",
       "      return new Promise(function(resolve, reject) {\n",
       "        var s = document.createElement('script');\n",
       "        s.src = paths[lib];\n",
       "        s.async = true;\n",
       "        s.onload = () => resolve(paths[lib]);\n",
       "        s.onerror = () => reject(`Error loading script: ${paths[lib]}`);\n",
       "        document.getElementsByTagName(\"head\")[0].appendChild(s);\n",
       "      });\n",
       "    }\n",
       "\n",
       "    function showError(err) {\n",
       "      outputDiv.innerHTML = `<div class=\"error\" style=\"color:red;\">${err}</div>`;\n",
       "      throw err;\n",
       "    }\n",
       "\n",
       "    function displayChart(vegaEmbed) {\n",
       "      vegaEmbed(outputDiv, spec, embedOpt)\n",
       "        .catch(err => showError(`Javascript Error: ${err.message}<br>This usually means there's a typo in your chart specification. See the javascript console for the full traceback.`));\n",
       "    }\n",
       "\n",
       "    if(typeof define === \"function\" && define.amd) {\n",
       "      requirejs.config({paths});\n",
       "      require([\"vega-embed\"], displayChart, err => showError(`Error loading script: ${err.message}`));\n",
       "    } else if (typeof vegaEmbed === \"function\") {\n",
       "      displayChart(vegaEmbed);\n",
       "    } else {\n",
       "      loadScript(\"vega\")\n",
       "        .then(() => loadScript(\"vega-lite\"))\n",
       "        .then(() => loadScript(\"vega-embed\"))\n",
       "        .catch(showError)\n",
       "        .then(() => displayChart(vegaEmbed));\n",
       "    }\n",
       "  })({\"config\": {\"view\": {\"continuousWidth\": 400, \"continuousHeight\": 300}}, \"data\": {\"name\": \"data-de4e1ef441fe4680ff9b349bd507863f\"}, \"mark\": \"bar\", \"encoding\": {\"color\": {\"type\": \"nominal\", \"field\": \"Age\"}, \"column\": {\"type\": \"nominal\", \"field\": \"Age\"}, \"x\": {\"type\": \"ordinal\", \"field\": \"Time\"}, \"y\": {\"type\": \"quantitative\", \"field\": \"Value\"}}, \"height\": 200, \"width\": 200, \"$schema\": \"https://vega.github.io/schema/vega-lite/v4.8.1.json\", \"datasets\": {\"data-de4e1ef441fe4680ff9b349bd507863f\": [{\"Country\": \"Spain\", \"Sex\": \"Total\", \"Age\": \"Under 20\", \"Time\": 2005, \"Value\": 8632833}, {\"Country\": \"Spain\", \"Sex\": \"Total\", \"Age\": \"Under 20\", \"Time\": 2006, \"Value\": 8748764}, {\"Country\": \"Spain\", \"Sex\": \"Total\", \"Age\": \"Under 20\", \"Time\": 2007, \"Value\": 8909247}, {\"Country\": \"Spain\", \"Sex\": \"Total\", \"Age\": \"Under 20\", \"Time\": 2008, \"Value\": 9072115}, {\"Country\": \"Spain\", \"Sex\": \"Total\", \"Age\": \"Under 20\", \"Time\": 2009, \"Value\": 9168642}, {\"Country\": \"Spain\", \"Sex\": \"Total\", \"Age\": \"Under 20\", \"Time\": 2010, \"Value\": 9210142}, {\"Country\": \"Spain\", \"Sex\": \"Total\", \"Age\": \"Under 20\", \"Time\": 2011, \"Value\": 9253054}, {\"Country\": \"Spain\", \"Sex\": \"Total\", \"Age\": \"Under 20\", \"Time\": 2012, \"Value\": 9264894}, {\"Country\": \"Spain\", \"Sex\": \"Total\", \"Age\": \"Under 20\", \"Time\": 2013, \"Value\": 9222597}, {\"Country\": \"Spain\", \"Sex\": \"Total\", \"Age\": \"Under 20\", \"Time\": 2014, \"Value\": 9195592}, {\"Country\": \"Spain\", \"Sex\": \"Total\", \"Age\": \"Under 20\", \"Time\": 2015, \"Value\": 9196393}, {\"Country\": \"Spain\", \"Sex\": \"Total\", \"Age\": \"Under 20\", \"Time\": 2016, \"Value\": 9207750}, {\"Country\": \"Spain\", \"Sex\": \"Total\", \"Age\": \"Under 20\", \"Time\": 2017, \"Value\": 9220534}, {\"Country\": \"Spain\", \"Sex\": \"Total\", \"Age\": \"Under 20\", \"Time\": 2018, \"Value\": 9237159}, {\"Country\": \"Spain\", \"Sex\": \"Total\", \"Age\": \"20 to 64\", \"Time\": 2005, \"Value\": 27799451}, {\"Country\": \"Spain\", \"Sex\": \"Total\", \"Age\": \"20 to 64\", \"Time\": 2006, \"Value\": 28249434}, {\"Country\": \"Spain\", \"Sex\": \"Total\", \"Age\": \"20 to 64\", \"Time\": 2007, \"Value\": 28875326}, {\"Country\": \"Spain\", \"Sex\": \"Total\", \"Age\": \"20 to 64\", \"Time\": 2008, \"Value\": 29333657}, {\"Country\": \"Spain\", \"Sex\": \"Total\", \"Age\": \"20 to 64\", \"Time\": 2009, \"Value\": 29471792}, {\"Country\": \"Spain\", \"Sex\": \"Total\", \"Age\": \"20 to 64\", \"Time\": 2010, \"Value\": 29459557}, {\"Country\": \"Spain\", \"Sex\": \"Total\", \"Age\": \"20 to 64\", \"Time\": 2011, \"Value\": 29431003}, {\"Country\": \"Spain\", \"Sex\": \"Total\", \"Age\": \"20 to 64\", \"Time\": 2012, \"Value\": 29321630}, {\"Country\": \"Spain\", \"Sex\": \"Total\", \"Age\": \"20 to 64\", \"Time\": 2013, \"Value\": 29025109}, {\"Country\": \"Spain\", \"Sex\": \"Total\", \"Age\": \"20 to 64\", \"Time\": 2014, \"Value\": 28749055}, {\"Country\": \"Spain\", \"Sex\": \"Total\", \"Age\": \"20 to 64\", \"Time\": 2015, \"Value\": 28582954}, {\"Country\": \"Spain\", \"Sex\": \"Total\", \"Age\": \"20 to 64\", \"Time\": 2016, \"Value\": 28489492}, {\"Country\": \"Spain\", \"Sex\": \"Total\", \"Age\": \"20 to 64\", \"Time\": 2017, \"Value\": 28433396}, {\"Country\": \"Spain\", \"Sex\": \"Total\", \"Age\": \"20 to 64\", \"Time\": 2018, \"Value\": 28478461}, {\"Country\": \"Spain\", \"Sex\": \"Total\", \"Age\": \"65 and over\", \"Time\": 2005, \"Value\": 7230328}, {\"Country\": \"Spain\", \"Sex\": \"Total\", \"Age\": \"65 and over\", \"Time\": 2006, \"Value\": 7362321}, {\"Country\": \"Spain\", \"Sex\": \"Total\", \"Age\": \"65 and over\", \"Time\": 2007, \"Value\": 7451435}, {\"Country\": \"Spain\", \"Sex\": \"Total\", \"Age\": \"65 and over\", \"Time\": 2008, \"Value\": 7577395}, {\"Country\": \"Spain\", \"Sex\": \"Total\", \"Age\": \"65 and over\", \"Time\": 2009, \"Value\": 7727114}, {\"Country\": \"Spain\", \"Sex\": \"Total\", \"Age\": \"65 and over\", \"Time\": 2010, \"Value\": 7892790}, {\"Country\": \"Spain\", \"Sex\": \"Total\", \"Age\": \"65 and over\", \"Time\": 2011, \"Value\": 8052204}, {\"Country\": \"Spain\", \"Sex\": \"Total\", \"Age\": \"65 and over\", \"Time\": 2012, \"Value\": 8179883}, {\"Country\": \"Spain\", \"Sex\": \"Total\", \"Age\": \"65 and over\", \"Time\": 2013, \"Value\": 8345531}, {\"Country\": \"Spain\", \"Sex\": \"Total\", \"Age\": \"65 and over\", \"Time\": 2014, \"Value\": 8510477}, {\"Country\": \"Spain\", \"Sex\": \"Total\", \"Age\": \"65 and over\", \"Time\": 2015, \"Value\": 8630798}, {\"Country\": \"Spain\", \"Sex\": \"Total\", \"Age\": \"65 and over\", \"Time\": 2016, \"Value\": 8752637}, {\"Country\": \"Spain\", \"Sex\": \"Total\", \"Age\": \"65 and over\", \"Time\": 2017, \"Value\": 8878945}, {\"Country\": \"Spain\", \"Sex\": \"Total\", \"Age\": \"65 and over\", \"Time\": 2018, \"Value\": 9017420}]}}, {\"mode\": \"vega-lite\"});\n",
       "</script>"
      ],
      "text/plain": [
       "alt.Chart(...)"
      ]
     },
     "execution_count": 86,
     "metadata": {},
     "output_type": "execute_result"
    }
   ],
   "source": [
    "#Visualization of the population per age group\n",
    "alt.Chart(pop_categories_spain).mark_bar().encode(\n",
    "    x='Time:O',\n",
    "    y='Value:Q',\n",
    "    color='Age:N',\n",
    "    column='Age:N'\n",
    ").properties(\n",
    "    width=200,\n",
    "    height=200\n",
    ")"
   ]
  },
  {
   "cell_type": "code",
   "execution_count": 87,
   "metadata": {
    "hideCode": false,
    "hidePrompt": false,
    "slideshow": {
     "slide_type": "skip"
    }
   },
   "outputs": [
    {
     "data": {
      "image/png": "[encoded data removed]",
      "text/plain": [
       "<Figure size 792x576 with 1 Axes>"
      ]
     },
     "metadata": {
      "needs_background": "light"
     },
     "output_type": "display_data"
    }
   ],
   "source": [
    "fig_dims = (11, 8)\n",
    "fig, ax = plt.subplots(figsize=fig_dims)\n",
    "\n",
    "sns.lineplot(x=\"Time\", y=\"Value\", ax=ax, data=pop_total_spain)\n",
    "plt.show()"
   ]
  },
  {
   "cell_type": "markdown",
   "metadata": {
    "hideCode": false,
    "hidePrompt": false,
    "slideshow": {
     "slide_type": "skip"
    }
   },
   "source": [
    "#### Slovenia"
   ]
  },
  {
   "cell_type": "code",
   "execution_count": 88,
   "metadata": {
    "hideCode": false,
    "hidePrompt": false,
    "slideshow": {
     "slide_type": "skip"
    }
   },
   "outputs": [
    {
     "name": "stdout",
     "output_type": "stream",
     "text": [
      "<class 'pandas.core.frame.DataFrame'>\n",
      "Int64Index: 56 entries, 56 to 279\n",
      "Data columns (total 9 columns):\n",
      " #   Column    Non-Null Count  Dtype \n",
      "---  ------    --------------  ----- \n",
      " 0   LOCATION  56 non-null     object\n",
      " 1   Country   56 non-null     object\n",
      " 2   SEX       56 non-null     object\n",
      " 3   Sex       56 non-null     object\n",
      " 4   AGE       56 non-null     object\n",
      " 5   Age       56 non-null     object\n",
      " 6   TIME      56 non-null     int64 \n",
      " 7   Time      56 non-null     int64 \n",
      " 8   Value     56 non-null     int64 \n",
      "dtypes: int64(3), object(6)\n",
      "memory usage: 4.4+ KB\n"
     ]
    }
   ],
   "source": [
    "pop_slovenia_filter.info()"
   ]
  },
  {
   "cell_type": "code",
   "execution_count": 89,
   "metadata": {
    "hideCode": false,
    "hidePrompt": false,
    "slideshow": {
     "slide_type": "skip"
    }
   },
   "outputs": [
    {
     "data": {
      "text/html": [
       "<div>\n",
       "<style scoped>\n",
       "    .dataframe tbody tr th:only-of-type {\n",
       "        vertical-align: middle;\n",
       "    }\n",
       "\n",
       "    .dataframe tbody tr th {\n",
       "        vertical-align: top;\n",
       "    }\n",
       "\n",
       "    .dataframe thead th {\n",
       "        text-align: right;\n",
       "    }\n",
       "</style>\n",
       "<table border=\"1\" class=\"dataframe\">\n",
       "  <thead>\n",
       "    <tr style=\"text-align: right;\">\n",
       "      <th></th>\n",
       "      <th>LOCATION</th>\n",
       "      <th>Country</th>\n",
       "      <th>SEX</th>\n",
       "      <th>Sex</th>\n",
       "      <th>AGE</th>\n",
       "      <th>Age</th>\n",
       "      <th>TIME</th>\n",
       "      <th>Time</th>\n",
       "      <th>Value</th>\n",
       "    </tr>\n",
       "  </thead>\n",
       "  <tbody>\n",
       "    <tr>\n",
       "      <th>56</th>\n",
       "      <td>SVN</td>\n",
       "      <td>Slovenia</td>\n",
       "      <td>T</td>\n",
       "      <td>Total</td>\n",
       "      <td>TOTAL</td>\n",
       "      <td>Total</td>\n",
       "      <td>2005</td>\n",
       "      <td>2005</td>\n",
       "      <td>2001114</td>\n",
       "    </tr>\n",
       "    <tr>\n",
       "      <th>57</th>\n",
       "      <td>SVN</td>\n",
       "      <td>Slovenia</td>\n",
       "      <td>T</td>\n",
       "      <td>Total</td>\n",
       "      <td>TOTAL</td>\n",
       "      <td>Total</td>\n",
       "      <td>2006</td>\n",
       "      <td>2006</td>\n",
       "      <td>2008516</td>\n",
       "    </tr>\n",
       "    <tr>\n",
       "      <th>58</th>\n",
       "      <td>SVN</td>\n",
       "      <td>Slovenia</td>\n",
       "      <td>T</td>\n",
       "      <td>Total</td>\n",
       "      <td>TOTAL</td>\n",
       "      <td>Total</td>\n",
       "      <td>2007</td>\n",
       "      <td>2007</td>\n",
       "      <td>2019406</td>\n",
       "    </tr>\n",
       "    <tr>\n",
       "      <th>59</th>\n",
       "      <td>SVN</td>\n",
       "      <td>Slovenia</td>\n",
       "      <td>T</td>\n",
       "      <td>Total</td>\n",
       "      <td>TOTAL</td>\n",
       "      <td>Total</td>\n",
       "      <td>2008</td>\n",
       "      <td>2008</td>\n",
       "      <td>2022629</td>\n",
       "    </tr>\n",
       "    <tr>\n",
       "      <th>60</th>\n",
       "      <td>SVN</td>\n",
       "      <td>Slovenia</td>\n",
       "      <td>T</td>\n",
       "      <td>Total</td>\n",
       "      <td>TOTAL</td>\n",
       "      <td>Total</td>\n",
       "      <td>2009</td>\n",
       "      <td>2009</td>\n",
       "      <td>2042335</td>\n",
       "    </tr>\n",
       "  </tbody>\n",
       "</table>\n",
       "</div>"
      ],
      "text/plain": [
       "   LOCATION   Country SEX    Sex    AGE    Age  TIME  Time    Value\n",
       "56      SVN  Slovenia   T  Total  TOTAL  Total  2005  2005  2001114\n",
       "57      SVN  Slovenia   T  Total  TOTAL  Total  2006  2006  2008516\n",
       "58      SVN  Slovenia   T  Total  TOTAL  Total  2007  2007  2019406\n",
       "59      SVN  Slovenia   T  Total  TOTAL  Total  2008  2008  2022629\n",
       "60      SVN  Slovenia   T  Total  TOTAL  Total  2009  2009  2042335"
      ]
     },
     "execution_count": 89,
     "metadata": {},
     "output_type": "execute_result"
    }
   ],
   "source": [
    "pop_slovenia_filter.head()"
   ]
  },
  {
   "cell_type": "code",
   "execution_count": 90,
   "metadata": {
    "hideCode": false,
    "hidePrompt": false,
    "slideshow": {
     "slide_type": "skip"
    }
   },
   "outputs": [
    {
     "data": {
      "text/html": [
       "<div>\n",
       "<style scoped>\n",
       "    .dataframe tbody tr th:only-of-type {\n",
       "        vertical-align: middle;\n",
       "    }\n",
       "\n",
       "    .dataframe tbody tr th {\n",
       "        vertical-align: top;\n",
       "    }\n",
       "\n",
       "    .dataframe thead th {\n",
       "        text-align: right;\n",
       "    }\n",
       "</style>\n",
       "<table border=\"1\" class=\"dataframe\">\n",
       "  <thead>\n",
       "    <tr style=\"text-align: right;\">\n",
       "      <th></th>\n",
       "      <th>Country</th>\n",
       "      <th>Sex</th>\n",
       "      <th>Age</th>\n",
       "      <th>Time</th>\n",
       "      <th>Value</th>\n",
       "    </tr>\n",
       "  </thead>\n",
       "  <tbody>\n",
       "    <tr>\n",
       "      <th>56</th>\n",
       "      <td>Slovenia</td>\n",
       "      <td>Total</td>\n",
       "      <td>Total</td>\n",
       "      <td>2005</td>\n",
       "      <td>2001114</td>\n",
       "    </tr>\n",
       "    <tr>\n",
       "      <th>57</th>\n",
       "      <td>Slovenia</td>\n",
       "      <td>Total</td>\n",
       "      <td>Total</td>\n",
       "      <td>2006</td>\n",
       "      <td>2008516</td>\n",
       "    </tr>\n",
       "    <tr>\n",
       "      <th>58</th>\n",
       "      <td>Slovenia</td>\n",
       "      <td>Total</td>\n",
       "      <td>Total</td>\n",
       "      <td>2007</td>\n",
       "      <td>2019406</td>\n",
       "    </tr>\n",
       "    <tr>\n",
       "      <th>59</th>\n",
       "      <td>Slovenia</td>\n",
       "      <td>Total</td>\n",
       "      <td>Total</td>\n",
       "      <td>2008</td>\n",
       "      <td>2022629</td>\n",
       "    </tr>\n",
       "    <tr>\n",
       "      <th>60</th>\n",
       "      <td>Slovenia</td>\n",
       "      <td>Total</td>\n",
       "      <td>Total</td>\n",
       "      <td>2009</td>\n",
       "      <td>2042335</td>\n",
       "    </tr>\n",
       "    <tr>\n",
       "      <th>61</th>\n",
       "      <td>Slovenia</td>\n",
       "      <td>Total</td>\n",
       "      <td>Total</td>\n",
       "      <td>2010</td>\n",
       "      <td>2049261</td>\n",
       "    </tr>\n",
       "    <tr>\n",
       "      <th>62</th>\n",
       "      <td>Slovenia</td>\n",
       "      <td>Total</td>\n",
       "      <td>Total</td>\n",
       "      <td>2011</td>\n",
       "      <td>2052496</td>\n",
       "    </tr>\n",
       "    <tr>\n",
       "      <th>63</th>\n",
       "      <td>Slovenia</td>\n",
       "      <td>Total</td>\n",
       "      <td>Total</td>\n",
       "      <td>2012</td>\n",
       "      <td>2056262</td>\n",
       "    </tr>\n",
       "    <tr>\n",
       "      <th>64</th>\n",
       "      <td>Slovenia</td>\n",
       "      <td>Total</td>\n",
       "      <td>Total</td>\n",
       "      <td>2013</td>\n",
       "      <td>2059114</td>\n",
       "    </tr>\n",
       "    <tr>\n",
       "      <th>65</th>\n",
       "      <td>Slovenia</td>\n",
       "      <td>Total</td>\n",
       "      <td>Total</td>\n",
       "      <td>2014</td>\n",
       "      <td>2061623</td>\n",
       "    </tr>\n",
       "    <tr>\n",
       "      <th>66</th>\n",
       "      <td>Slovenia</td>\n",
       "      <td>Total</td>\n",
       "      <td>Total</td>\n",
       "      <td>2015</td>\n",
       "      <td>2063077</td>\n",
       "    </tr>\n",
       "    <tr>\n",
       "      <th>67</th>\n",
       "      <td>Slovenia</td>\n",
       "      <td>Total</td>\n",
       "      <td>Total</td>\n",
       "      <td>2016</td>\n",
       "      <td>2064241</td>\n",
       "    </tr>\n",
       "    <tr>\n",
       "      <th>68</th>\n",
       "      <td>Slovenia</td>\n",
       "      <td>Total</td>\n",
       "      <td>Total</td>\n",
       "      <td>2017</td>\n",
       "      <td>2066161</td>\n",
       "    </tr>\n",
       "    <tr>\n",
       "      <th>69</th>\n",
       "      <td>Slovenia</td>\n",
       "      <td>Total</td>\n",
       "      <td>Total</td>\n",
       "      <td>2018</td>\n",
       "      <td>2070050</td>\n",
       "    </tr>\n",
       "    <tr>\n",
       "      <th>126</th>\n",
       "      <td>Slovenia</td>\n",
       "      <td>Total</td>\n",
       "      <td>Under 20</td>\n",
       "      <td>2005</td>\n",
       "      <td>408383</td>\n",
       "    </tr>\n",
       "  </tbody>\n",
       "</table>\n",
       "</div>"
      ],
      "text/plain": [
       "      Country    Sex       Age  Time    Value\n",
       "56   Slovenia  Total     Total  2005  2001114\n",
       "57   Slovenia  Total     Total  2006  2008516\n",
       "58   Slovenia  Total     Total  2007  2019406\n",
       "59   Slovenia  Total     Total  2008  2022629\n",
       "60   Slovenia  Total     Total  2009  2042335\n",
       "61   Slovenia  Total     Total  2010  2049261\n",
       "62   Slovenia  Total     Total  2011  2052496\n",
       "63   Slovenia  Total     Total  2012  2056262\n",
       "64   Slovenia  Total     Total  2013  2059114\n",
       "65   Slovenia  Total     Total  2014  2061623\n",
       "66   Slovenia  Total     Total  2015  2063077\n",
       "67   Slovenia  Total     Total  2016  2064241\n",
       "68   Slovenia  Total     Total  2017  2066161\n",
       "69   Slovenia  Total     Total  2018  2070050\n",
       "126  Slovenia  Total  Under 20  2005   408383"
      ]
     },
     "execution_count": 90,
     "metadata": {},
     "output_type": "execute_result"
    }
   ],
   "source": [
    "#Create a clean version of the dataset per country\n",
    "population_slovenia1 = pop_slovenia_filter.drop(['LOCATION','SEX','AGE','TIME'], axis=1)\n",
    "\n",
    "population_slovenia1.head(15)"
   ]
  },
  {
   "cell_type": "code",
   "execution_count": 91,
   "metadata": {
    "hideCode": false,
    "hidePrompt": false,
    "slideshow": {
     "slide_type": "skip"
    }
   },
   "outputs": [],
   "source": [
    "#Creation of two different dataframes to seperate total population and age groups\n",
    "pop_total_slovenia = population_slovenia1[population_slovenia1.Age == 'Total']\n",
    "pop_categories_slovenia = population_slovenia1[~population_slovenia1.Age.str.contains('Total')] "
   ]
  },
  {
   "cell_type": "code",
   "execution_count": 92,
   "metadata": {
    "hideCode": false,
    "hidePrompt": false,
    "slideshow": {
     "slide_type": "skip"
    }
   },
   "outputs": [
    {
     "data": {
      "text/html": [
       "\n",
       "<div id=\"altair-viz-f670654f93c74d3d813daa452543be33\"></div>\n",
       "<script type=\"text/javascript\">\n",
       "  (function(spec, embedOpt){\n",
       "    let outputDiv = document.currentScript.previousElementSibling;\n",
       "    if (outputDiv.id !== \"altair-viz-f670654f93c74d3d813daa452543be33\") {\n",
       "      outputDiv = document.getElementById(\"altair-viz-f670654f93c74d3d813daa452543be33\");\n",
       "    }\n",
       "    const paths = {\n",
       "      \"vega\": \"https://cdn.jsdelivr.net/npm//vega@5?noext\",\n",
       "      \"vega-lib\": \"https://cdn.jsdelivr.net/npm//vega-lib?noext\",\n",
       "      \"vega-lite\": \"https://cdn.jsdelivr.net/npm//vega-lite@4.8.1?noext\",\n",
       "      \"vega-embed\": \"https://cdn.jsdelivr.net/npm//vega-embed@6?noext\",\n",
       "    };\n",
       "\n",
       "    function loadScript(lib) {\n",
       "      return new Promise(function(resolve, reject) {\n",
       "        var s = document.createElement('script');\n",
       "        s.src = paths[lib];\n",
       "        s.async = true;\n",
       "        s.onload = () => resolve(paths[lib]);\n",
       "        s.onerror = () => reject(`Error loading script: ${paths[lib]}`);\n",
       "        document.getElementsByTagName(\"head\")[0].appendChild(s);\n",
       "      });\n",
       "    }\n",
       "\n",
       "    function showError(err) {\n",
       "      outputDiv.innerHTML = `<div class=\"error\" style=\"color:red;\">${err}</div>`;\n",
       "      throw err;\n",
       "    }\n",
       "\n",
       "    function displayChart(vegaEmbed) {\n",
       "      vegaEmbed(outputDiv, spec, embedOpt)\n",
       "        .catch(err => showError(`Javascript Error: ${err.message}<br>This usually means there's a typo in your chart specification. See the javascript console for the full traceback.`));\n",
       "    }\n",
       "\n",
       "    if(typeof define === \"function\" && define.amd) {\n",
       "      requirejs.config({paths});\n",
       "      require([\"vega-embed\"], displayChart, err => showError(`Error loading script: ${err.message}`));\n",
       "    } else if (typeof vegaEmbed === \"function\") {\n",
       "      displayChart(vegaEmbed);\n",
       "    } else {\n",
       "      loadScript(\"vega\")\n",
       "        .then(() => loadScript(\"vega-lite\"))\n",
       "        .then(() => loadScript(\"vega-embed\"))\n",
       "        .catch(showError)\n",
       "        .then(() => displayChart(vegaEmbed));\n",
       "    }\n",
       "  })({\"config\": {\"view\": {\"continuousWidth\": 400, \"continuousHeight\": 300}}, \"data\": {\"name\": \"data-da0784f362df7d2553b4248e065b890b\"}, \"mark\": \"bar\", \"encoding\": {\"color\": {\"type\": \"nominal\", \"field\": \"Age\"}, \"column\": {\"type\": \"nominal\", \"field\": \"Age\"}, \"x\": {\"type\": \"ordinal\", \"field\": \"Time\"}, \"y\": {\"type\": \"quantitative\", \"field\": \"Value\"}}, \"height\": 200, \"width\": 200, \"$schema\": \"https://vega.github.io/schema/vega-lite/v4.8.1.json\", \"datasets\": {\"data-da0784f362df7d2553b4248e065b890b\": [{\"Country\": \"Slovenia\", \"Sex\": \"Total\", \"Age\": \"Under 20\", \"Time\": 2005, \"Value\": 408383}, {\"Country\": \"Slovenia\", \"Sex\": \"Total\", \"Age\": \"Under 20\", \"Time\": 2006, \"Value\": 403028}, {\"Country\": \"Slovenia\", \"Sex\": \"Total\", \"Age\": \"Under 20\", \"Time\": 2007, \"Value\": 397958}, {\"Country\": \"Slovenia\", \"Sex\": \"Total\", \"Age\": \"Under 20\", \"Time\": 2008, \"Value\": 393216}, {\"Country\": \"Slovenia\", \"Sex\": \"Total\", \"Age\": \"Under 20\", \"Time\": 2009, \"Value\": 392987}, {\"Country\": \"Slovenia\", \"Sex\": \"Total\", \"Age\": \"Under 20\", \"Time\": 2010, \"Value\": 393342}, {\"Country\": \"Slovenia\", \"Sex\": \"Total\", \"Age\": \"Under 20\", \"Time\": 2011, \"Value\": 393025}, {\"Country\": \"Slovenia\", \"Sex\": \"Total\", \"Age\": \"Under 20\", \"Time\": 2012, \"Value\": 395083}, {\"Country\": \"Slovenia\", \"Sex\": \"Total\", \"Age\": \"Under 20\", \"Time\": 2013, \"Value\": 396752}, {\"Country\": \"Slovenia\", \"Sex\": \"Total\", \"Age\": \"Under 20\", \"Time\": 2014, \"Value\": 398194}, {\"Country\": \"Slovenia\", \"Sex\": \"Total\", \"Age\": \"Under 20\", \"Time\": 2015, \"Value\": 399900}, {\"Country\": \"Slovenia\", \"Sex\": \"Total\", \"Age\": \"Under 20\", \"Time\": 2016, \"Value\": 401476}, {\"Country\": \"Slovenia\", \"Sex\": \"Total\", \"Age\": \"Under 20\", \"Time\": 2017, \"Value\": 402561}, {\"Country\": \"Slovenia\", \"Sex\": \"Total\", \"Age\": \"Under 20\", \"Time\": 2018, \"Value\": 404430}, {\"Country\": \"Slovenia\", \"Sex\": \"Total\", \"Age\": \"20 to 64\", \"Time\": 2005, \"Value\": 1283194}, {\"Country\": \"Slovenia\", \"Sex\": \"Total\", \"Age\": \"20 to 64\", \"Time\": 2006, \"Value\": 1289150}, {\"Country\": \"Slovenia\", \"Sex\": \"Total\", \"Age\": \"20 to 64\", \"Time\": 2007, \"Value\": 1297886}, {\"Country\": \"Slovenia\", \"Sex\": \"Total\", \"Age\": \"20 to 64\", \"Time\": 2008, \"Value\": 1299138}, {\"Country\": \"Slovenia\", \"Sex\": \"Total\", \"Age\": \"20 to 64\", \"Time\": 2009, \"Value\": 1312488}, {\"Country\": \"Slovenia\", \"Sex\": \"Total\", \"Age\": \"20 to 64\", \"Time\": 2010, \"Value\": 1316712}, {\"Country\": \"Slovenia\", \"Sex\": \"Total\", \"Age\": \"20 to 64\", \"Time\": 2011, \"Value\": 1318279}, {\"Country\": \"Slovenia\", \"Sex\": \"Total\", \"Age\": \"20 to 64\", \"Time\": 2012, \"Value\": 1312499}, {\"Country\": \"Slovenia\", \"Sex\": \"Total\", \"Age\": \"20 to 64\", \"Time\": 2013, \"Value\": 1306503}, {\"Country\": \"Slovenia\", \"Sex\": \"Total\", \"Age\": \"20 to 64\", \"Time\": 2014, \"Value\": 1298969}, {\"Country\": \"Slovenia\", \"Sex\": \"Total\", \"Age\": \"20 to 64\", \"Time\": 2015, \"Value\": 1288689}, {\"Country\": \"Slovenia\", \"Sex\": \"Total\", \"Age\": \"20 to 64\", \"Time\": 2016, \"Value\": 1277193}, {\"Country\": \"Slovenia\", \"Sex\": \"Total\", \"Age\": \"20 to 64\", \"Time\": 2017, \"Value\": 1267971}, {\"Country\": \"Slovenia\", \"Sex\": \"Total\", \"Age\": \"20 to 64\", \"Time\": 2018, \"Value\": 1258287}, {\"Country\": \"Slovenia\", \"Sex\": \"Total\", \"Age\": \"65 and over\", \"Time\": 2005, \"Value\": 309537}, {\"Country\": \"Slovenia\", \"Sex\": \"Total\", \"Age\": \"65 and over\", \"Time\": 2006, \"Value\": 316338}, {\"Country\": \"Slovenia\", \"Sex\": \"Total\", \"Age\": \"65 and over\", \"Time\": 2007, \"Value\": 323562}, {\"Country\": \"Slovenia\", \"Sex\": \"Total\", \"Age\": \"65 and over\", \"Time\": 2008, \"Value\": 330275}, {\"Country\": \"Slovenia\", \"Sex\": \"Total\", \"Age\": \"65 and over\", \"Time\": 2009, \"Value\": 336860}, {\"Country\": \"Slovenia\", \"Sex\": \"Total\", \"Age\": \"65 and over\", \"Time\": 2010, \"Value\": 339207}, {\"Country\": \"Slovenia\", \"Sex\": \"Total\", \"Age\": \"65 and over\", \"Time\": 2011, \"Value\": 341192}, {\"Country\": \"Slovenia\", \"Sex\": \"Total\", \"Age\": \"65 and over\", \"Time\": 2012, \"Value\": 348680}, {\"Country\": \"Slovenia\", \"Sex\": \"Total\", \"Age\": \"65 and over\", \"Time\": 2013, \"Value\": 355859}, {\"Country\": \"Slovenia\", \"Sex\": \"Total\", \"Age\": \"65 and over\", \"Time\": 2014, \"Value\": 364460}, {\"Country\": \"Slovenia\", \"Sex\": \"Total\", \"Age\": \"65 and over\", \"Time\": 2015, \"Value\": 374488}, {\"Country\": \"Slovenia\", \"Sex\": \"Total\", \"Age\": \"65 and over\", \"Time\": 2016, \"Value\": 385572}, {\"Country\": \"Slovenia\", \"Sex\": \"Total\", \"Age\": \"65 and over\", \"Time\": 2017, \"Value\": 395629}, {\"Country\": \"Slovenia\", \"Sex\": \"Total\", \"Age\": \"65 and over\", \"Time\": 2018, \"Value\": 407333}]}}, {\"mode\": \"vega-lite\"});\n",
       "</script>"
      ],
      "text/plain": [
       "alt.Chart(...)"
      ]
     },
     "execution_count": 92,
     "metadata": {},
     "output_type": "execute_result"
    }
   ],
   "source": [
    "#Visualization of the population per age group\n",
    "alt.Chart(pop_categories_slovenia).mark_bar().encode(\n",
    "    x='Time:O',\n",
    "    y='Value:Q',\n",
    "    color='Age:N',\n",
    "    column='Age:N'\n",
    ").properties(\n",
    "    width=200,\n",
    "    height=200\n",
    ")"
   ]
  },
  {
   "cell_type": "code",
   "execution_count": 93,
   "metadata": {
    "hideCode": false,
    "hidePrompt": false,
    "slideshow": {
     "slide_type": "skip"
    }
   },
   "outputs": [
    {
     "data": {
      "image/png": "[encoded data removed]",
      "text/plain": [
       "<Figure size 792x576 with 1 Axes>"
      ]
     },
     "metadata": {
      "needs_background": "light"
     },
     "output_type": "display_data"
    }
   ],
   "source": [
    "fig_dims = (11, 8)\n",
    "fig, ax = plt.subplots(figsize=fig_dims)\n",
    "\n",
    "sns.lineplot(x=\"Time\", y=\"Value\", ax=ax, data=pop_total_slovenia)\n",
    "plt.show()"
   ]
  },
  {
   "cell_type": "markdown",
   "metadata": {
    "hideCode": false,
    "hidePrompt": false,
    "slideshow": {
     "slide_type": "slide"
    }
   },
   "source": [
    "## Merge Data"
   ]
  },
  {
   "cell_type": "code",
   "execution_count": 94,
   "metadata": {
    "hideCode": false,
    "hidePrompt": false,
    "slideshow": {
     "slide_type": "skip"
    }
   },
   "outputs": [
    {
     "name": "stdout",
     "output_type": "stream",
     "text": [
      "<class 'pandas.core.frame.DataFrame'>\n",
      "Int64Index: 73 entries, 299 to 2422\n",
      "Data columns (total 5 columns):\n",
      " #   Column     Non-Null Count  Dtype  \n",
      "---  ------     --------------  -----  \n",
      " 0   Country    73 non-null     object \n",
      " 1   IND        73 non-null     object \n",
      " 2   Indicator  73 non-null     object \n",
      " 3   Time       73 non-null     object \n",
      " 4   Value      73 non-null     float64\n",
      "dtypes: float64(1), object(4)\n",
      "memory usage: 3.4+ KB\n"
     ]
    }
   ],
   "source": [
    "#Housing parameters based on using the Real House Price indices\n",
    "housing_real_house_prices.info()"
   ]
  },
  {
   "cell_type": "code",
   "execution_count": 95,
   "metadata": {
    "hideCode": false,
    "hidePrompt": false,
    "slideshow": {
     "slide_type": "skip"
    }
   },
   "outputs": [],
   "source": [
    "#Convert the Time column from an object to an integer type\n",
    "housing_real_house_prices = housing_real_house_prices.astype({\"Time\": int})"
   ]
  },
  {
   "cell_type": "code",
   "execution_count": 96,
   "metadata": {
    "hideCode": false,
    "hidePrompt": false,
    "slideshow": {
     "slide_type": "skip"
    }
   },
   "outputs": [
    {
     "name": "stdout",
     "output_type": "stream",
     "text": [
      "<class 'pandas.core.frame.DataFrame'>\n",
      "RangeIndex: 3584 entries, 0 to 3583\n",
      "Data columns (total 17 columns):\n",
      " #   Column                 Non-Null Count  Dtype  \n",
      "---  ------                 --------------  -----  \n",
      " 0   LOCATION               3584 non-null   object \n",
      " 1   Country                3584 non-null   object \n",
      " 2   VARIABLE               3584 non-null   object \n",
      " 3   Variable               3584 non-null   object \n",
      " 4   EDITION                3584 non-null   object \n",
      " 5   Edition                3584 non-null   object \n",
      " 6   FREQUENCY              3584 non-null   object \n",
      " 7   Frequency              3584 non-null   object \n",
      " 8   TIME                   3584 non-null   int64  \n",
      " 9   Time                   3584 non-null   int64  \n",
      " 10  Unit Code              3584 non-null   object \n",
      " 11  Unit                   3584 non-null   object \n",
      " 12  PowerCode Code         3584 non-null   int64  \n",
      " 13  PowerCode              3584 non-null   object \n",
      " 14  Reference Period Code  2240 non-null   float64\n",
      " 15  Reference Period       2240 non-null   float64\n",
      " 16  Value                  3584 non-null   float64\n",
      "dtypes: float64(3), int64(3), object(11)\n",
      "memory usage: 476.1+ KB\n"
     ]
    }
   ],
   "source": [
    "financial.info()"
   ]
  },
  {
   "cell_type": "code",
   "execution_count": 97,
   "metadata": {
    "hideCode": false,
    "hidePrompt": false,
    "slideshow": {
     "slide_type": "skip"
    }
   },
   "outputs": [
    {
     "name": "stdout",
     "output_type": "stream",
     "text": [
      "<class 'pandas.core.frame.DataFrame'>\n",
      "RangeIndex: 280 entries, 0 to 279\n",
      "Data columns (total 9 columns):\n",
      " #   Column    Non-Null Count  Dtype \n",
      "---  ------    --------------  ----- \n",
      " 0   LOCATION  280 non-null    object\n",
      " 1   Country   280 non-null    object\n",
      " 2   SEX       280 non-null    object\n",
      " 3   Sex       280 non-null    object\n",
      " 4   AGE       280 non-null    object\n",
      " 5   Age       280 non-null    object\n",
      " 6   TIME      280 non-null    int64 \n",
      " 7   Time      280 non-null    int64 \n",
      " 8   Value     280 non-null    int64 \n",
      "dtypes: int64(3), object(6)\n",
      "memory usage: 19.8+ KB\n"
     ]
    }
   ],
   "source": [
    "population.info()"
   ]
  },
  {
   "cell_type": "code",
   "execution_count": 98,
   "metadata": {
    "hideCode": false,
    "hidePrompt": false,
    "slideshow": {
     "slide_type": "skip"
    }
   },
   "outputs": [
    {
     "data": {
      "text/html": [
       "<div>\n",
       "<style scoped>\n",
       "    .dataframe tbody tr th:only-of-type {\n",
       "        vertical-align: middle;\n",
       "    }\n",
       "\n",
       "    .dataframe tbody tr th {\n",
       "        vertical-align: top;\n",
       "    }\n",
       "\n",
       "    .dataframe thead th {\n",
       "        text-align: right;\n",
       "    }\n",
       "</style>\n",
       "<table border=\"1\" class=\"dataframe\">\n",
       "  <thead>\n",
       "    <tr style=\"text-align: right;\">\n",
       "      <th></th>\n",
       "      <th>Country</th>\n",
       "      <th>Time</th>\n",
       "      <th>Real house price indices, s.a.</th>\n",
       "    </tr>\n",
       "  </thead>\n",
       "  <tbody>\n",
       "    <tr>\n",
       "      <th>0</th>\n",
       "      <td>Greece</td>\n",
       "      <td>2005</td>\n",
       "      <td>156.169507</td>\n",
       "    </tr>\n",
       "    <tr>\n",
       "      <th>1</th>\n",
       "      <td>Greece</td>\n",
       "      <td>2006</td>\n",
       "      <td>170.923329</td>\n",
       "    </tr>\n",
       "    <tr>\n",
       "      <th>2</th>\n",
       "      <td>Greece</td>\n",
       "      <td>2007</td>\n",
       "      <td>175.175023</td>\n",
       "    </tr>\n",
       "    <tr>\n",
       "      <th>3</th>\n",
       "      <td>Greece</td>\n",
       "      <td>2008</td>\n",
       "      <td>170.327760</td>\n",
       "    </tr>\n",
       "    <tr>\n",
       "      <th>4</th>\n",
       "      <td>Greece</td>\n",
       "      <td>2009</td>\n",
       "      <td>161.469800</td>\n",
       "    </tr>\n",
       "    <tr>\n",
       "      <th>...</th>\n",
       "      <td>...</td>\n",
       "      <td>...</td>\n",
       "      <td>...</td>\n",
       "    </tr>\n",
       "    <tr>\n",
       "      <th>68</th>\n",
       "      <td>Spain</td>\n",
       "      <td>2015</td>\n",
       "      <td>100.000000</td>\n",
       "    </tr>\n",
       "    <tr>\n",
       "      <th>69</th>\n",
       "      <td>Spain</td>\n",
       "      <td>2016</td>\n",
       "      <td>104.450073</td>\n",
       "    </tr>\n",
       "    <tr>\n",
       "      <th>70</th>\n",
       "      <td>Spain</td>\n",
       "      <td>2017</td>\n",
       "      <td>109.246189</td>\n",
       "    </tr>\n",
       "    <tr>\n",
       "      <th>71</th>\n",
       "      <td>Spain</td>\n",
       "      <td>2018</td>\n",
       "      <td>114.891297</td>\n",
       "    </tr>\n",
       "    <tr>\n",
       "      <th>72</th>\n",
       "      <td>Spain</td>\n",
       "      <td>2019</td>\n",
       "      <td>119.648508</td>\n",
       "    </tr>\n",
       "  </tbody>\n",
       "</table>\n",
       "<p>73 rows × 3 columns</p>\n",
       "</div>"
      ],
      "text/plain": [
       "   Country  Time  Real house price indices, s.a.\n",
       "0   Greece  2005                      156.169507\n",
       "1   Greece  2006                      170.923329\n",
       "2   Greece  2007                      175.175023\n",
       "3   Greece  2008                      170.327760\n",
       "4   Greece  2009                      161.469800\n",
       "..     ...   ...                             ...\n",
       "68   Spain  2015                      100.000000\n",
       "69   Spain  2016                      104.450073\n",
       "70   Spain  2017                      109.246189\n",
       "71   Spain  2018                      114.891297\n",
       "72   Spain  2019                      119.648508\n",
       "\n",
       "[73 rows x 3 columns]"
      ]
     },
     "execution_count": 98,
     "metadata": {},
     "output_type": "execute_result"
    }
   ],
   "source": [
    "#Create a pivot table to prepare the data for a merge\n",
    "\n",
    "housing_pivot_real = housing_real_house_prices.pivot_table(values='Value', index = ['Country','Time'], columns = ['Indicator'])\n",
    "\n",
    "housing_pivot_real = pd.DataFrame(housing_pivot_real.to_records())\n",
    "\n",
    "housing_pivot_real"
   ]
  },
  {
   "cell_type": "markdown",
   "metadata": {
    "hideCode": false,
    "hidePrompt": false,
    "slideshow": {
     "slide_type": "slide"
    }
   },
   "source": [
    "##### Pivot Table joining all financial data"
   ]
  },
  {
   "cell_type": "code",
   "execution_count": 99,
   "metadata": {
    "hideCode": false,
    "hidePrompt": false,
    "slideshow": {
     "slide_type": "subslide"
    }
   },
   "outputs": [
    {
     "data": {
      "text/html": [
       "<div>\n",
       "<style scoped>\n",
       "    .dataframe tbody tr th:only-of-type {\n",
       "        vertical-align: middle;\n",
       "    }\n",
       "\n",
       "    .dataframe tbody tr th {\n",
       "        vertical-align: top;\n",
       "    }\n",
       "\n",
       "    .dataframe thead th {\n",
       "        text-align: right;\n",
       "    }\n",
       "</style>\n",
       "<table border=\"1\" class=\"dataframe\">\n",
       "  <thead>\n",
       "    <tr style=\"text-align: right;\">\n",
       "      <th></th>\n",
       "      <th>Country</th>\n",
       "      <th>Time</th>\n",
       "      <th>Change in inventories, contributions to changes in real GDP</th>\n",
       "      <th>Consumer price index, harmonised</th>\n",
       "      <th>Core inflation index, harmonised</th>\n",
       "      <th>Current account balance as a percentage of GDP</th>\n",
       "      <th>Exchange rate, USD per national currency</th>\n",
       "      <th>Exchange rate, national currency per USD</th>\n",
       "      <th>Exports of goods and services, deflator (national accounts basis)</th>\n",
       "      <th>Exports of goods and services, volume (national accounts basis)</th>\n",
       "      <th>...</th>\n",
       "      <th>Labour force</th>\n",
       "      <th>Long-term interest rate on government bonds</th>\n",
       "      <th>Net disposable income of households and non-profit institutions serving households</th>\n",
       "      <th>Net exports, contributions to changes in real GDP</th>\n",
       "      <th>Private final consumption expenditure, volume</th>\n",
       "      <th>Private final consumption expenditure, volume, growth</th>\n",
       "      <th>Purchasing power parity, national currency per USD</th>\n",
       "      <th>Short-term interest rate</th>\n",
       "      <th>Total employment (labour force survey basis)</th>\n",
       "      <th>Unemployment rate</th>\n",
       "    </tr>\n",
       "  </thead>\n",
       "  <tbody>\n",
       "    <tr>\n",
       "      <th>0</th>\n",
       "      <td>Greece</td>\n",
       "      <td>2005</td>\n",
       "      <td>0.205935</td>\n",
       "      <td>0.849730</td>\n",
       "      <td>0.875051</td>\n",
       "      <td>-8.870606</td>\n",
       "      <td>1.244458</td>\n",
       "      <td>0.804619</td>\n",
       "      <td>0.874575</td>\n",
       "      <td>4.855270e+10</td>\n",
       "      <td>...</td>\n",
       "      <td>4937100.0</td>\n",
       "      <td>3.585000</td>\n",
       "      <td>NaN</td>\n",
       "      <td>0.442226</td>\n",
       "      <td>1.539518e+11</td>\n",
       "      <td>3.224842</td>\n",
       "      <td>0.708976</td>\n",
       "      <td>2.184675</td>\n",
       "      <td>4443550.0</td>\n",
       "      <td>9.996759</td>\n",
       "    </tr>\n",
       "    <tr>\n",
       "      <th>1</th>\n",
       "      <td>Greece</td>\n",
       "      <td>2006</td>\n",
       "      <td>1.238916</td>\n",
       "      <td>0.877887</td>\n",
       "      <td>0.896413</td>\n",
       "      <td>-11.486191</td>\n",
       "      <td>1.256058</td>\n",
       "      <td>0.796697</td>\n",
       "      <td>0.903030</td>\n",
       "      <td>5.108360e+10</td>\n",
       "      <td>...</td>\n",
       "      <td>4975725.0</td>\n",
       "      <td>4.070000</td>\n",
       "      <td>NaN</td>\n",
       "      <td>-2.827255</td>\n",
       "      <td>1.582345e+11</td>\n",
       "      <td>2.781845</td>\n",
       "      <td>0.693291</td>\n",
       "      <td>3.079225</td>\n",
       "      <td>4527500.0</td>\n",
       "      <td>9.008235</td>\n",
       "    </tr>\n",
       "    <tr>\n",
       "      <th>2</th>\n",
       "      <td>Greece</td>\n",
       "      <td>2007</td>\n",
       "      <td>-1.532022</td>\n",
       "      <td>0.904129</td>\n",
       "      <td>0.924143</td>\n",
       "      <td>-15.187718</td>\n",
       "      <td>1.370785</td>\n",
       "      <td>0.730485</td>\n",
       "      <td>0.927366</td>\n",
       "      <td>5.650790e+10</td>\n",
       "      <td>...</td>\n",
       "      <td>4982400.0</td>\n",
       "      <td>4.500000</td>\n",
       "      <td>NaN</td>\n",
       "      <td>-2.661263</td>\n",
       "      <td>1.646845e+11</td>\n",
       "      <td>4.076229</td>\n",
       "      <td>0.719064</td>\n",
       "      <td>4.277608</td>\n",
       "      <td>4564050.0</td>\n",
       "      <td>8.396556</td>\n",
       "    </tr>\n",
       "    <tr>\n",
       "      <th>3</th>\n",
       "      <td>Greece</td>\n",
       "      <td>2008</td>\n",
       "      <td>-0.628778</td>\n",
       "      <td>0.942377</td>\n",
       "      <td>0.952990</td>\n",
       "      <td>-15.112583</td>\n",
       "      <td>1.468287</td>\n",
       "      <td>0.683982</td>\n",
       "      <td>0.966864</td>\n",
       "      <td>5.847030e+10</td>\n",
       "      <td>...</td>\n",
       "      <td>4998375.0</td>\n",
       "      <td>4.802500</td>\n",
       "      <td>NaN</td>\n",
       "      <td>0.319797</td>\n",
       "      <td>1.705866e+11</td>\n",
       "      <td>3.583883</td>\n",
       "      <td>0.707951</td>\n",
       "      <td>4.634233</td>\n",
       "      <td>4610500.0</td>\n",
       "      <td>7.760022</td>\n",
       "    </tr>\n",
       "    <tr>\n",
       "      <th>4</th>\n",
       "      <td>Greece</td>\n",
       "      <td>2009</td>\n",
       "      <td>-3.271774</td>\n",
       "      <td>0.955070</td>\n",
       "      <td>0.974554</td>\n",
       "      <td>-12.346012</td>\n",
       "      <td>1.392497</td>\n",
       "      <td>0.719800</td>\n",
       "      <td>0.946417</td>\n",
       "      <td>4.764200e+10</td>\n",
       "      <td>...</td>\n",
       "      <td>5040700.0</td>\n",
       "      <td>5.174167</td>\n",
       "      <td>NaN</td>\n",
       "      <td>2.994522</td>\n",
       "      <td>1.677377e+11</td>\n",
       "      <td>-1.670061</td>\n",
       "      <td>0.703755</td>\n",
       "      <td>1.228358</td>\n",
       "      <td>4556000.0</td>\n",
       "      <td>9.615728</td>\n",
       "    </tr>\n",
       "  </tbody>\n",
       "</table>\n",
       "<p>5 rows × 48 columns</p>\n",
       "</div>"
      ],
      "text/plain": [
       "  Country  Time  Change in inventories, contributions to changes in real GDP  \\\n",
       "0  Greece  2005                                           0.205935             \n",
       "1  Greece  2006                                           1.238916             \n",
       "2  Greece  2007                                          -1.532022             \n",
       "3  Greece  2008                                          -0.628778             \n",
       "4  Greece  2009                                          -3.271774             \n",
       "\n",
       "   Consumer price index, harmonised  Core inflation index, harmonised  \\\n",
       "0                          0.849730                          0.875051   \n",
       "1                          0.877887                          0.896413   \n",
       "2                          0.904129                          0.924143   \n",
       "3                          0.942377                          0.952990   \n",
       "4                          0.955070                          0.974554   \n",
       "\n",
       "   Current account balance as a percentage of GDP  \\\n",
       "0                                       -8.870606   \n",
       "1                                      -11.486191   \n",
       "2                                      -15.187718   \n",
       "3                                      -15.112583   \n",
       "4                                      -12.346012   \n",
       "\n",
       "   Exchange rate, USD per national currency  \\\n",
       "0                                  1.244458   \n",
       "1                                  1.256058   \n",
       "2                                  1.370785   \n",
       "3                                  1.468287   \n",
       "4                                  1.392497   \n",
       "\n",
       "   Exchange rate, national currency per USD  \\\n",
       "0                                  0.804619   \n",
       "1                                  0.796697   \n",
       "2                                  0.730485   \n",
       "3                                  0.683982   \n",
       "4                                  0.719800   \n",
       "\n",
       "   Exports of goods and services, deflator (national accounts basis)  \\\n",
       "0                                           0.874575                   \n",
       "1                                           0.903030                   \n",
       "2                                           0.927366                   \n",
       "3                                           0.966864                   \n",
       "4                                           0.946417                   \n",
       "\n",
       "   Exports of goods and services, volume (national accounts basis)  ...  \\\n",
       "0                                       4.855270e+10                ...   \n",
       "1                                       5.108360e+10                ...   \n",
       "2                                       5.650790e+10                ...   \n",
       "3                                       5.847030e+10                ...   \n",
       "4                                       4.764200e+10                ...   \n",
       "\n",
       "   Labour force  Long-term interest rate on government bonds  \\\n",
       "0     4937100.0                                     3.585000   \n",
       "1     4975725.0                                     4.070000   \n",
       "2     4982400.0                                     4.500000   \n",
       "3     4998375.0                                     4.802500   \n",
       "4     5040700.0                                     5.174167   \n",
       "\n",
       "   Net disposable income of households and non-profit institutions serving households  \\\n",
       "0                                                NaN                                    \n",
       "1                                                NaN                                    \n",
       "2                                                NaN                                    \n",
       "3                                                NaN                                    \n",
       "4                                                NaN                                    \n",
       "\n",
       "   Net exports, contributions to changes in real GDP  \\\n",
       "0                                           0.442226   \n",
       "1                                          -2.827255   \n",
       "2                                          -2.661263   \n",
       "3                                           0.319797   \n",
       "4                                           2.994522   \n",
       "\n",
       "   Private final consumption expenditure, volume  \\\n",
       "0                                   1.539518e+11   \n",
       "1                                   1.582345e+11   \n",
       "2                                   1.646845e+11   \n",
       "3                                   1.705866e+11   \n",
       "4                                   1.677377e+11   \n",
       "\n",
       "   Private final consumption expenditure, volume, growth  \\\n",
       "0                                           3.224842       \n",
       "1                                           2.781845       \n",
       "2                                           4.076229       \n",
       "3                                           3.583883       \n",
       "4                                          -1.670061       \n",
       "\n",
       "   Purchasing power parity, national currency per USD  \\\n",
       "0                                           0.708976    \n",
       "1                                           0.693291    \n",
       "2                                           0.719064    \n",
       "3                                           0.707951    \n",
       "4                                           0.703755    \n",
       "\n",
       "   Short-term interest rate  Total employment (labour force survey basis)  \\\n",
       "0                  2.184675                                     4443550.0   \n",
       "1                  3.079225                                     4527500.0   \n",
       "2                  4.277608                                     4564050.0   \n",
       "3                  4.634233                                     4610500.0   \n",
       "4                  1.228358                                     4556000.0   \n",
       "\n",
       "   Unemployment rate  \n",
       "0           9.996759  \n",
       "1           9.008235  \n",
       "2           8.396556  \n",
       "3           7.760022  \n",
       "4           9.615728  \n",
       "\n",
       "[5 rows x 48 columns]"
      ]
     },
     "execution_count": 99,
     "metadata": {},
     "output_type": "execute_result"
    }
   ],
   "source": [
    "#Create a pivot table to prepare the data for a merge\n",
    "financial_pivot = financial.pivot_table(values='Value', index=['Country','Time'], columns = ['Variable'])\n",
    "\n",
    "financial_pivot = pd.DataFrame(financial_pivot.to_records())\n",
    "\n",
    "financial_pivot.head()"
   ]
  },
  {
   "cell_type": "code",
   "execution_count": 100,
   "metadata": {
    "hideCode": false,
    "hidePrompt": false,
    "slideshow": {
     "slide_type": "skip"
    }
   },
   "outputs": [
    {
     "data": {
      "text/html": [
       "<div>\n",
       "<style scoped>\n",
       "    .dataframe tbody tr th:only-of-type {\n",
       "        vertical-align: middle;\n",
       "    }\n",
       "\n",
       "    .dataframe tbody tr th {\n",
       "        vertical-align: top;\n",
       "    }\n",
       "\n",
       "    .dataframe thead th {\n",
       "        text-align: right;\n",
       "    }\n",
       "</style>\n",
       "<table border=\"1\" class=\"dataframe\">\n",
       "  <thead>\n",
       "    <tr style=\"text-align: right;\">\n",
       "      <th></th>\n",
       "      <th>Country</th>\n",
       "      <th>Time</th>\n",
       "      <th>Total</th>\n",
       "    </tr>\n",
       "  </thead>\n",
       "  <tbody>\n",
       "    <tr>\n",
       "      <th>0</th>\n",
       "      <td>Greece</td>\n",
       "      <td>2005</td>\n",
       "      <td>10987316</td>\n",
       "    </tr>\n",
       "    <tr>\n",
       "      <th>1</th>\n",
       "      <td>Greece</td>\n",
       "      <td>2006</td>\n",
       "      <td>11020366</td>\n",
       "    </tr>\n",
       "    <tr>\n",
       "      <th>2</th>\n",
       "      <td>Greece</td>\n",
       "      <td>2007</td>\n",
       "      <td>11048466</td>\n",
       "    </tr>\n",
       "    <tr>\n",
       "      <th>3</th>\n",
       "      <td>Greece</td>\n",
       "      <td>2008</td>\n",
       "      <td>11077839</td>\n",
       "    </tr>\n",
       "    <tr>\n",
       "      <th>4</th>\n",
       "      <td>Greece</td>\n",
       "      <td>2009</td>\n",
       "      <td>11107017</td>\n",
       "    </tr>\n",
       "  </tbody>\n",
       "</table>\n",
       "</div>"
      ],
      "text/plain": [
       "  Country  Time     Total\n",
       "0  Greece  2005  10987316\n",
       "1  Greece  2006  11020366\n",
       "2  Greece  2007  11048466\n",
       "3  Greece  2008  11077839\n",
       "4  Greece  2009  11107017"
      ]
     },
     "execution_count": 100,
     "metadata": {},
     "output_type": "execute_result"
    }
   ],
   "source": [
    "#Create a pivot table to prepare the data for a merge\n",
    "population_pivot = population_total.pivot_table(values='Value', index = ['Country','Time'], columns = 'Age')\n",
    "\n",
    "population_pivot = pd.DataFrame(population_pivot.to_records())\n",
    "\n",
    "population_pivot.head()"
   ]
  },
  {
   "cell_type": "code",
   "execution_count": 101,
   "metadata": {
    "hideCode": false,
    "hidePrompt": false,
    "slideshow": {
     "slide_type": "skip"
    }
   },
   "outputs": [
    {
     "data": {
      "text/plain": [
       "Country                                                                         0\n",
       "Time                                                                            0\n",
       "Real house price indices, s.a.                                                  0\n",
       "Change in inventories, contributions to changes in real GDP                     0\n",
       "Consumer price index, harmonised                                                0\n",
       "Core inflation index, harmonised                                                0\n",
       "Current account balance as a percentage of GDP                                  0\n",
       "Exchange rate, USD per national currency                                        0\n",
       "Exchange rate, national currency per USD                                        0\n",
       "Exports of goods and services, deflator (national accounts basis)               0\n",
       "Exports of goods and services, volume (national accounts basis)                 0\n",
       "Exports of goods and services, volume in USD (national accounts basis)          0\n",
       "Exports of goods and services, volume, growth (national accounts basis)         0\n",
       "General government gross financial assets as a percentage of GDP                0\n",
       "General government gross financial liabilities as a percentage of GDP           0\n",
       "General government net lending as a percentage of GDP                           0\n",
       "General government primary balance as a percentage of GDP                       0\n",
       "Goods and services trade, volume in USD                                         0\n",
       "Government final consumption expenditure, volume                                0\n",
       "Government final consumption expenditure, volume, growth                        0\n",
       "Gross capital formation, total, volume                                          0\n",
       "Gross domestic product, market prices, deflator                                 0\n",
       "Gross domestic product, market prices, deflator, growth                         0\n",
       "Gross domestic product, nominal value, growth                                   0\n",
       "Gross domestic product, nominal value, market prices                            0\n",
       "Gross domestic product, volume in USD, at constant purchasing power parities    0\n",
       "Gross domestic product, volume in USD, constant exchange rates                  0\n",
       "Gross domestic product, volume, growth                                          0\n",
       "Gross domestic product, volume, market prices                                   0\n",
       "Gross fixed capital formation, total, volume                                    0\n",
       "Gross fixed capital formation, total, volume, growth                            0\n",
       "Gross public debt, Maastricht criterion as a percentage of GDP                  0\n",
       "Harmonised core inflation                                                       0\n",
       "Harmonised headline inflation                                                   0\n",
       "Imports of goods and services, deflator (national accounts basis)               0\n",
       "Imports of goods and services, volume (national accounts basis)                 0\n",
       "Imports of goods and services, volume in USD (national accounts basis)          0\n",
       "Imports of goods and services, volume, growth (national accounts basis)         0\n",
       "Labour force                                                                    0\n",
       "Long-term interest rate on government bonds                                     0\n",
       "Net exports, contributions to changes in real GDP                               0\n",
       "Private final consumption expenditure, volume                                   0\n",
       "Private final consumption expenditure, volume, growth                           0\n",
       "Purchasing power parity, national currency per USD                              0\n",
       "Short-term interest rate                                                        0\n",
       "Total employment (labour force survey basis)                                    0\n",
       "Unemployment rate                                                               0\n",
       "Total                                                                           0\n",
       "dtype: int64"
      ]
     },
     "execution_count": 101,
     "metadata": {},
     "output_type": "execute_result"
    }
   ],
   "source": [
    "#Merge the data using an inner join on 'Country' and 'Time' columns\n",
    "\n",
    "merged_dataset = pd.merge(housing_pivot_real, financial_pivot, on=['Country','Time'], how='inner')\n",
    "merged_dataset = pd.merge(merged_dataset, population_pivot, on=['Country','Time'], how='inner')\n",
    "\n",
    "#Drop columns containing missing values for a proper analysis\n",
    "merged_dataset = merged_dataset.dropna(axis=1)\n",
    "\n",
    "merged_dataset.isna().sum()"
   ]
  },
  {
   "cell_type": "markdown",
   "metadata": {
    "hideCode": false,
    "hidePrompt": false,
    "slideshow": {
     "slide_type": "slide"
    }
   },
   "source": [
    "##### Full merge of the Real House Price data for analysis"
   ]
  },
  {
   "cell_type": "code",
   "execution_count": 102,
   "metadata": {
    "hideCode": false,
    "hidePrompt": false,
    "scrolled": false,
    "slideshow": {
     "slide_type": "subslide"
    }
   },
   "outputs": [
    {
     "data": {
      "text/html": [
       "<div>\n",
       "<style scoped>\n",
       "    .dataframe tbody tr th:only-of-type {\n",
       "        vertical-align: middle;\n",
       "    }\n",
       "\n",
       "    .dataframe tbody tr th {\n",
       "        vertical-align: top;\n",
       "    }\n",
       "\n",
       "    .dataframe thead th {\n",
       "        text-align: right;\n",
       "    }\n",
       "</style>\n",
       "<table border=\"1\" class=\"dataframe\">\n",
       "  <thead>\n",
       "    <tr style=\"text-align: right;\">\n",
       "      <th></th>\n",
       "      <th>Country</th>\n",
       "      <th>Time</th>\n",
       "      <th>Real house price indices, s.a.</th>\n",
       "      <th>Change in inventories, contributions to changes in real GDP</th>\n",
       "      <th>Consumer price index, harmonised</th>\n",
       "      <th>Core inflation index, harmonised</th>\n",
       "      <th>Current account balance as a percentage of GDP</th>\n",
       "      <th>Exchange rate, USD per national currency</th>\n",
       "      <th>Exchange rate, national currency per USD</th>\n",
       "      <th>Exports of goods and services, deflator (national accounts basis)</th>\n",
       "      <th>...</th>\n",
       "      <th>Labour force</th>\n",
       "      <th>Long-term interest rate on government bonds</th>\n",
       "      <th>Net exports, contributions to changes in real GDP</th>\n",
       "      <th>Private final consumption expenditure, volume</th>\n",
       "      <th>Private final consumption expenditure, volume, growth</th>\n",
       "      <th>Purchasing power parity, national currency per USD</th>\n",
       "      <th>Short-term interest rate</th>\n",
       "      <th>Total employment (labour force survey basis)</th>\n",
       "      <th>Unemployment rate</th>\n",
       "      <th>Population</th>\n",
       "    </tr>\n",
       "  </thead>\n",
       "  <tbody>\n",
       "    <tr>\n",
       "      <th>0</th>\n",
       "      <td>Greece</td>\n",
       "      <td>2005</td>\n",
       "      <td>156.169507</td>\n",
       "      <td>0.205935</td>\n",
       "      <td>0.849730</td>\n",
       "      <td>0.875051</td>\n",
       "      <td>-8.870606</td>\n",
       "      <td>1.244458</td>\n",
       "      <td>0.804619</td>\n",
       "      <td>0.874575</td>\n",
       "      <td>...</td>\n",
       "      <td>4937100.0</td>\n",
       "      <td>3.585000</td>\n",
       "      <td>0.442226</td>\n",
       "      <td>1.539518e+11</td>\n",
       "      <td>3.224842</td>\n",
       "      <td>0.708976</td>\n",
       "      <td>2.184675</td>\n",
       "      <td>4443550.0</td>\n",
       "      <td>9.996759</td>\n",
       "      <td>10987316</td>\n",
       "    </tr>\n",
       "    <tr>\n",
       "      <th>1</th>\n",
       "      <td>Greece</td>\n",
       "      <td>2006</td>\n",
       "      <td>170.923329</td>\n",
       "      <td>1.238916</td>\n",
       "      <td>0.877887</td>\n",
       "      <td>0.896413</td>\n",
       "      <td>-11.486191</td>\n",
       "      <td>1.256058</td>\n",
       "      <td>0.796697</td>\n",
       "      <td>0.903030</td>\n",
       "      <td>...</td>\n",
       "      <td>4975725.0</td>\n",
       "      <td>4.070000</td>\n",
       "      <td>-2.827255</td>\n",
       "      <td>1.582345e+11</td>\n",
       "      <td>2.781845</td>\n",
       "      <td>0.693291</td>\n",
       "      <td>3.079225</td>\n",
       "      <td>4527500.0</td>\n",
       "      <td>9.008235</td>\n",
       "      <td>11020366</td>\n",
       "    </tr>\n",
       "    <tr>\n",
       "      <th>2</th>\n",
       "      <td>Greece</td>\n",
       "      <td>2007</td>\n",
       "      <td>175.175023</td>\n",
       "      <td>-1.532022</td>\n",
       "      <td>0.904129</td>\n",
       "      <td>0.924143</td>\n",
       "      <td>-15.187718</td>\n",
       "      <td>1.370785</td>\n",
       "      <td>0.730485</td>\n",
       "      <td>0.927366</td>\n",
       "      <td>...</td>\n",
       "      <td>4982400.0</td>\n",
       "      <td>4.500000</td>\n",
       "      <td>-2.661263</td>\n",
       "      <td>1.646845e+11</td>\n",
       "      <td>4.076229</td>\n",
       "      <td>0.719064</td>\n",
       "      <td>4.277608</td>\n",
       "      <td>4564050.0</td>\n",
       "      <td>8.396556</td>\n",
       "      <td>11048466</td>\n",
       "    </tr>\n",
       "    <tr>\n",
       "      <th>3</th>\n",
       "      <td>Greece</td>\n",
       "      <td>2008</td>\n",
       "      <td>170.327760</td>\n",
       "      <td>-0.628778</td>\n",
       "      <td>0.942377</td>\n",
       "      <td>0.952990</td>\n",
       "      <td>-15.112583</td>\n",
       "      <td>1.468287</td>\n",
       "      <td>0.683982</td>\n",
       "      <td>0.966864</td>\n",
       "      <td>...</td>\n",
       "      <td>4998375.0</td>\n",
       "      <td>4.802500</td>\n",
       "      <td>0.319797</td>\n",
       "      <td>1.705866e+11</td>\n",
       "      <td>3.583883</td>\n",
       "      <td>0.707951</td>\n",
       "      <td>4.634233</td>\n",
       "      <td>4610500.0</td>\n",
       "      <td>7.760022</td>\n",
       "      <td>11077839</td>\n",
       "    </tr>\n",
       "    <tr>\n",
       "      <th>4</th>\n",
       "      <td>Greece</td>\n",
       "      <td>2009</td>\n",
       "      <td>161.469800</td>\n",
       "      <td>-3.271774</td>\n",
       "      <td>0.955070</td>\n",
       "      <td>0.974554</td>\n",
       "      <td>-12.346012</td>\n",
       "      <td>1.392497</td>\n",
       "      <td>0.719800</td>\n",
       "      <td>0.946417</td>\n",
       "      <td>...</td>\n",
       "      <td>5040700.0</td>\n",
       "      <td>5.174167</td>\n",
       "      <td>2.994522</td>\n",
       "      <td>1.677377e+11</td>\n",
       "      <td>-1.670061</td>\n",
       "      <td>0.703755</td>\n",
       "      <td>1.228358</td>\n",
       "      <td>4556000.0</td>\n",
       "      <td>9.615728</td>\n",
       "      <td>11107017</td>\n",
       "    </tr>\n",
       "    <tr>\n",
       "      <th>5</th>\n",
       "      <td>Greece</td>\n",
       "      <td>2010</td>\n",
       "      <td>148.967453</td>\n",
       "      <td>2.047160</td>\n",
       "      <td>1.000000</td>\n",
       "      <td>1.000000</td>\n",
       "      <td>-10.021174</td>\n",
       "      <td>1.326030</td>\n",
       "      <td>0.755044</td>\n",
       "      <td>1.000000</td>\n",
       "      <td>...</td>\n",
       "      <td>5029125.0</td>\n",
       "      <td>9.091667</td>\n",
       "      <td>1.909440</td>\n",
       "      <td>1.568032e+11</td>\n",
       "      <td>-6.518809</td>\n",
       "      <td>0.721494</td>\n",
       "      <td>0.810950</td>\n",
       "      <td>4389750.0</td>\n",
       "      <td>12.713444</td>\n",
       "      <td>11121344</td>\n",
       "    </tr>\n",
       "    <tr>\n",
       "      <th>6</th>\n",
       "      <td>Greece</td>\n",
       "      <td>2011</td>\n",
       "      <td>137.682731</td>\n",
       "      <td>-0.120859</td>\n",
       "      <td>1.031179</td>\n",
       "      <td>1.010790</td>\n",
       "      <td>-8.612324</td>\n",
       "      <td>1.391454</td>\n",
       "      <td>0.719159</td>\n",
       "      <td>1.057917</td>\n",
       "      <td>...</td>\n",
       "      <td>4936175.0</td>\n",
       "      <td>15.749167</td>\n",
       "      <td>2.909286</td>\n",
       "      <td>1.415184e+11</td>\n",
       "      <td>-9.747760</td>\n",
       "      <td>0.713163</td>\n",
       "      <td>1.390600</td>\n",
       "      <td>4054350.0</td>\n",
       "      <td>17.864541</td>\n",
       "      <td>11104900</td>\n",
       "    </tr>\n",
       "    <tr>\n",
       "      <th>7</th>\n",
       "      <td>Greece</td>\n",
       "      <td>2012</td>\n",
       "      <td>120.945753</td>\n",
       "      <td>-0.044983</td>\n",
       "      <td>1.041849</td>\n",
       "      <td>1.007477</td>\n",
       "      <td>-3.484239</td>\n",
       "      <td>1.285729</td>\n",
       "      <td>0.778006</td>\n",
       "      <td>1.084796</td>\n",
       "      <td>...</td>\n",
       "      <td>4890075.0</td>\n",
       "      <td>22.497500</td>\n",
       "      <td>3.239583</td>\n",
       "      <td>1.301646e+11</td>\n",
       "      <td>-8.022844</td>\n",
       "      <td>0.684663</td>\n",
       "      <td>0.573183</td>\n",
       "      <td>3694975.0</td>\n",
       "      <td>24.439298</td>\n",
       "      <td>11045010</td>\n",
       "    </tr>\n",
       "    <tr>\n",
       "      <th>8</th>\n",
       "      <td>Greece</td>\n",
       "      <td>2013</td>\n",
       "      <td>109.724855</td>\n",
       "      <td>-0.205455</td>\n",
       "      <td>1.032950</td>\n",
       "      <td>0.983285</td>\n",
       "      <td>-1.432570</td>\n",
       "      <td>1.327806</td>\n",
       "      <td>0.753298</td>\n",
       "      <td>1.068450</td>\n",
       "      <td>...</td>\n",
       "      <td>4843550.0</td>\n",
       "      <td>10.054167</td>\n",
       "      <td>1.226106</td>\n",
       "      <td>1.268206e+11</td>\n",
       "      <td>-2.569055</td>\n",
       "      <td>0.631286</td>\n",
       "      <td>0.220667</td>\n",
       "      <td>3513200.0</td>\n",
       "      <td>27.466424</td>\n",
       "      <td>10965209</td>\n",
       "    </tr>\n",
       "    <tr>\n",
       "      <th>9</th>\n",
       "      <td>Greece</td>\n",
       "      <td>2014</td>\n",
       "      <td>103.569357</td>\n",
       "      <td>1.339957</td>\n",
       "      <td>1.018553</td>\n",
       "      <td>0.968636</td>\n",
       "      <td>-0.738848</td>\n",
       "      <td>1.328729</td>\n",
       "      <td>0.753695</td>\n",
       "      <td>1.045893</td>\n",
       "      <td>...</td>\n",
       "      <td>4810675.0</td>\n",
       "      <td>6.929167</td>\n",
       "      <td>-0.194208</td>\n",
       "      <td>1.276107e+11</td>\n",
       "      <td>0.623006</td>\n",
       "      <td>0.611135</td>\n",
       "      <td>0.209933</td>\n",
       "      <td>3536250.0</td>\n",
       "      <td>26.491605</td>\n",
       "      <td>10892415</td>\n",
       "    </tr>\n",
       "  </tbody>\n",
       "</table>\n",
       "<p>10 rows × 48 columns</p>\n",
       "</div>"
      ],
      "text/plain": [
       "  Country  Time  Real house price indices, s.a.  \\\n",
       "0  Greece  2005                      156.169507   \n",
       "1  Greece  2006                      170.923329   \n",
       "2  Greece  2007                      175.175023   \n",
       "3  Greece  2008                      170.327760   \n",
       "4  Greece  2009                      161.469800   \n",
       "5  Greece  2010                      148.967453   \n",
       "6  Greece  2011                      137.682731   \n",
       "7  Greece  2012                      120.945753   \n",
       "8  Greece  2013                      109.724855   \n",
       "9  Greece  2014                      103.569357   \n",
       "\n",
       "   Change in inventories, contributions to changes in real GDP  \\\n",
       "0                                           0.205935             \n",
       "1                                           1.238916             \n",
       "2                                          -1.532022             \n",
       "3                                          -0.628778             \n",
       "4                                          -3.271774             \n",
       "5                                           2.047160             \n",
       "6                                          -0.120859             \n",
       "7                                          -0.044983             \n",
       "8                                          -0.205455             \n",
       "9                                           1.339957             \n",
       "\n",
       "   Consumer price index, harmonised  Core inflation index, harmonised  \\\n",
       "0                          0.849730                          0.875051   \n",
       "1                          0.877887                          0.896413   \n",
       "2                          0.904129                          0.924143   \n",
       "3                          0.942377                          0.952990   \n",
       "4                          0.955070                          0.974554   \n",
       "5                          1.000000                          1.000000   \n",
       "6                          1.031179                          1.010790   \n",
       "7                          1.041849                          1.007477   \n",
       "8                          1.032950                          0.983285   \n",
       "9                          1.018553                          0.968636   \n",
       "\n",
       "   Current account balance as a percentage of GDP  \\\n",
       "0                                       -8.870606   \n",
       "1                                      -11.486191   \n",
       "2                                      -15.187718   \n",
       "3                                      -15.112583   \n",
       "4                                      -12.346012   \n",
       "5                                      -10.021174   \n",
       "6                                       -8.612324   \n",
       "7                                       -3.484239   \n",
       "8                                       -1.432570   \n",
       "9                                       -0.738848   \n",
       "\n",
       "   Exchange rate, USD per national currency  \\\n",
       "0                                  1.244458   \n",
       "1                                  1.256058   \n",
       "2                                  1.370785   \n",
       "3                                  1.468287   \n",
       "4                                  1.392497   \n",
       "5                                  1.326030   \n",
       "6                                  1.391454   \n",
       "7                                  1.285729   \n",
       "8                                  1.327806   \n",
       "9                                  1.328729   \n",
       "\n",
       "   Exchange rate, national currency per USD  \\\n",
       "0                                  0.804619   \n",
       "1                                  0.796697   \n",
       "2                                  0.730485   \n",
       "3                                  0.683982   \n",
       "4                                  0.719800   \n",
       "5                                  0.755044   \n",
       "6                                  0.719159   \n",
       "7                                  0.778006   \n",
       "8                                  0.753298   \n",
       "9                                  0.753695   \n",
       "\n",
       "   Exports of goods and services, deflator (national accounts basis)  ...  \\\n",
       "0                                           0.874575                  ...   \n",
       "1                                           0.903030                  ...   \n",
       "2                                           0.927366                  ...   \n",
       "3                                           0.966864                  ...   \n",
       "4                                           0.946417                  ...   \n",
       "5                                           1.000000                  ...   \n",
       "6                                           1.057917                  ...   \n",
       "7                                           1.084796                  ...   \n",
       "8                                           1.068450                  ...   \n",
       "9                                           1.045893                  ...   \n",
       "\n",
       "   Labour force  Long-term interest rate on government bonds  \\\n",
       "0     4937100.0                                     3.585000   \n",
       "1     4975725.0                                     4.070000   \n",
       "2     4982400.0                                     4.500000   \n",
       "3     4998375.0                                     4.802500   \n",
       "4     5040700.0                                     5.174167   \n",
       "5     5029125.0                                     9.091667   \n",
       "6     4936175.0                                    15.749167   \n",
       "7     4890075.0                                    22.497500   \n",
       "8     4843550.0                                    10.054167   \n",
       "9     4810675.0                                     6.929167   \n",
       "\n",
       "   Net exports, contributions to changes in real GDP  \\\n",
       "0                                           0.442226   \n",
       "1                                          -2.827255   \n",
       "2                                          -2.661263   \n",
       "3                                           0.319797   \n",
       "4                                           2.994522   \n",
       "5                                           1.909440   \n",
       "6                                           2.909286   \n",
       "7                                           3.239583   \n",
       "8                                           1.226106   \n",
       "9                                          -0.194208   \n",
       "\n",
       "   Private final consumption expenditure, volume  \\\n",
       "0                                   1.539518e+11   \n",
       "1                                   1.582345e+11   \n",
       "2                                   1.646845e+11   \n",
       "3                                   1.705866e+11   \n",
       "4                                   1.677377e+11   \n",
       "5                                   1.568032e+11   \n",
       "6                                   1.415184e+11   \n",
       "7                                   1.301646e+11   \n",
       "8                                   1.268206e+11   \n",
       "9                                   1.276107e+11   \n",
       "\n",
       "   Private final consumption expenditure, volume, growth  \\\n",
       "0                                           3.224842       \n",
       "1                                           2.781845       \n",
       "2                                           4.076229       \n",
       "3                                           3.583883       \n",
       "4                                          -1.670061       \n",
       "5                                          -6.518809       \n",
       "6                                          -9.747760       \n",
       "7                                          -8.022844       \n",
       "8                                          -2.569055       \n",
       "9                                           0.623006       \n",
       "\n",
       "   Purchasing power parity, national currency per USD  \\\n",
       "0                                           0.708976    \n",
       "1                                           0.693291    \n",
       "2                                           0.719064    \n",
       "3                                           0.707951    \n",
       "4                                           0.703755    \n",
       "5                                           0.721494    \n",
       "6                                           0.713163    \n",
       "7                                           0.684663    \n",
       "8                                           0.631286    \n",
       "9                                           0.611135    \n",
       "\n",
       "   Short-term interest rate  Total employment (labour force survey basis)  \\\n",
       "0                  2.184675                                     4443550.0   \n",
       "1                  3.079225                                     4527500.0   \n",
       "2                  4.277608                                     4564050.0   \n",
       "3                  4.634233                                     4610500.0   \n",
       "4                  1.228358                                     4556000.0   \n",
       "5                  0.810950                                     4389750.0   \n",
       "6                  1.390600                                     4054350.0   \n",
       "7                  0.573183                                     3694975.0   \n",
       "8                  0.220667                                     3513200.0   \n",
       "9                  0.209933                                     3536250.0   \n",
       "\n",
       "   Unemployment rate  Population  \n",
       "0           9.996759    10987316  \n",
       "1           9.008235    11020366  \n",
       "2           8.396556    11048466  \n",
       "3           7.760022    11077839  \n",
       "4           9.615728    11107017  \n",
       "5          12.713444    11121344  \n",
       "6          17.864541    11104900  \n",
       "7          24.439298    11045010  \n",
       "8          27.466424    10965209  \n",
       "9          26.491605    10892415  \n",
       "\n",
       "[10 rows x 48 columns]"
      ]
     },
     "execution_count": 102,
     "metadata": {},
     "output_type": "execute_result"
    }
   ],
   "source": [
    "#Rename the 'Total' column to 'Population'\n",
    "merged_dataset = merged_dataset.rename(columns={'Total':'Population'})\n",
    "\n",
    "#Look at the new table containing all the data\n",
    "merged_dataset.head(10)"
   ]
  },
  {
   "cell_type": "markdown",
   "metadata": {
    "hideCode": false,
    "hidePrompt": false,
    "slideshow": {
     "slide_type": "slide"
    }
   },
   "source": [
    "### Rent Prices Data Set"
   ]
  },
  {
   "cell_type": "code",
   "execution_count": 103,
   "metadata": {
    "hideCode": false,
    "hidePrompt": false,
    "slideshow": {
     "slide_type": "skip"
    }
   },
   "outputs": [
    {
     "name": "stdout",
     "output_type": "stream",
     "text": [
      "<class 'pandas.core.frame.DataFrame'>\n",
      "Int64Index: 75 entries, 77 to 2123\n",
      "Data columns (total 5 columns):\n",
      " #   Column     Non-Null Count  Dtype  \n",
      "---  ------     --------------  -----  \n",
      " 0   Country    75 non-null     object \n",
      " 1   IND        75 non-null     object \n",
      " 2   Indicator  75 non-null     object \n",
      " 3   Time       75 non-null     object \n",
      " 4   Value      75 non-null     float64\n",
      "dtypes: float64(1), object(4)\n",
      "memory usage: 3.5+ KB\n"
     ]
    }
   ],
   "source": [
    "housing_rent_prices.info()"
   ]
  },
  {
   "cell_type": "code",
   "execution_count": 104,
   "metadata": {
    "hideCode": false,
    "hidePrompt": false,
    "slideshow": {
     "slide_type": "skip"
    }
   },
   "outputs": [],
   "source": [
    "#Convert the Time column from an object to an integer type\n",
    "housing_rent_prices = housing_rent_prices.astype({\"Time\": int})"
   ]
  },
  {
   "cell_type": "code",
   "execution_count": 105,
   "metadata": {
    "hideCode": false,
    "hidePrompt": false,
    "slideshow": {
     "slide_type": "skip"
    }
   },
   "outputs": [
    {
     "data": {
      "text/html": [
       "<div>\n",
       "<style scoped>\n",
       "    .dataframe tbody tr th:only-of-type {\n",
       "        vertical-align: middle;\n",
       "    }\n",
       "\n",
       "    .dataframe tbody tr th {\n",
       "        vertical-align: top;\n",
       "    }\n",
       "\n",
       "    .dataframe thead th {\n",
       "        text-align: right;\n",
       "    }\n",
       "</style>\n",
       "<table border=\"1\" class=\"dataframe\">\n",
       "  <thead>\n",
       "    <tr style=\"text-align: right;\">\n",
       "      <th></th>\n",
       "      <th>Country</th>\n",
       "      <th>Time</th>\n",
       "      <th>Rent prices, s.a.</th>\n",
       "    </tr>\n",
       "  </thead>\n",
       "  <tbody>\n",
       "    <tr>\n",
       "      <th>0</th>\n",
       "      <td>Greece</td>\n",
       "      <td>2005</td>\n",
       "      <td>102.331967</td>\n",
       "    </tr>\n",
       "    <tr>\n",
       "      <th>1</th>\n",
       "      <td>Greece</td>\n",
       "      <td>2006</td>\n",
       "      <td>106.798942</td>\n",
       "    </tr>\n",
       "    <tr>\n",
       "      <th>2</th>\n",
       "      <td>Greece</td>\n",
       "      <td>2007</td>\n",
       "      <td>111.657667</td>\n",
       "    </tr>\n",
       "    <tr>\n",
       "      <th>3</th>\n",
       "      <td>Greece</td>\n",
       "      <td>2008</td>\n",
       "      <td>115.997766</td>\n",
       "    </tr>\n",
       "    <tr>\n",
       "      <th>4</th>\n",
       "      <td>Greece</td>\n",
       "      <td>2009</td>\n",
       "      <td>120.196566</td>\n",
       "    </tr>\n",
       "    <tr>\n",
       "      <th>...</th>\n",
       "      <td>...</td>\n",
       "      <td>...</td>\n",
       "      <td>...</td>\n",
       "    </tr>\n",
       "    <tr>\n",
       "      <th>70</th>\n",
       "      <td>Spain</td>\n",
       "      <td>2015</td>\n",
       "      <td>100.000000</td>\n",
       "    </tr>\n",
       "    <tr>\n",
       "      <th>71</th>\n",
       "      <td>Spain</td>\n",
       "      <td>2016</td>\n",
       "      <td>99.912095</td>\n",
       "    </tr>\n",
       "    <tr>\n",
       "      <th>72</th>\n",
       "      <td>Spain</td>\n",
       "      <td>2017</td>\n",
       "      <td>100.322318</td>\n",
       "    </tr>\n",
       "    <tr>\n",
       "      <th>73</th>\n",
       "      <td>Spain</td>\n",
       "      <td>2018</td>\n",
       "      <td>101.590218</td>\n",
       "    </tr>\n",
       "    <tr>\n",
       "      <th>74</th>\n",
       "      <td>Spain</td>\n",
       "      <td>2019</td>\n",
       "      <td>103.155318</td>\n",
       "    </tr>\n",
       "  </tbody>\n",
       "</table>\n",
       "<p>75 rows × 3 columns</p>\n",
       "</div>"
      ],
      "text/plain": [
       "   Country  Time  Rent prices, s.a.\n",
       "0   Greece  2005         102.331967\n",
       "1   Greece  2006         106.798942\n",
       "2   Greece  2007         111.657667\n",
       "3   Greece  2008         115.997766\n",
       "4   Greece  2009         120.196566\n",
       "..     ...   ...                ...\n",
       "70   Spain  2015         100.000000\n",
       "71   Spain  2016          99.912095\n",
       "72   Spain  2017         100.322318\n",
       "73   Spain  2018         101.590218\n",
       "74   Spain  2019         103.155318\n",
       "\n",
       "[75 rows x 3 columns]"
      ]
     },
     "execution_count": 105,
     "metadata": {},
     "output_type": "execute_result"
    }
   ],
   "source": [
    "#Create a pivot table to prepare the data for a merge\n",
    "housing_pivot_rent = housing_rent_prices.pivot_table(values='Value', index = ['Country','Time'], columns = ['Indicator'])\n",
    "\n",
    "housing_pivot_rent = pd.DataFrame(housing_pivot_rent.to_records())\n",
    "\n",
    "housing_pivot_rent"
   ]
  },
  {
   "cell_type": "code",
   "execution_count": 106,
   "metadata": {
    "hideCode": false,
    "hidePrompt": false,
    "slideshow": {
     "slide_type": "skip"
    }
   },
   "outputs": [
    {
     "data": {
      "text/plain": [
       "Country                                                                         0\n",
       "Time                                                                            0\n",
       "Rent prices, s.a.                                                               0\n",
       "Change in inventories, contributions to changes in real GDP                     0\n",
       "Consumer price index, harmonised                                                0\n",
       "Core inflation index, harmonised                                                0\n",
       "Current account balance as a percentage of GDP                                  0\n",
       "Exchange rate, USD per national currency                                        0\n",
       "Exchange rate, national currency per USD                                        0\n",
       "Exports of goods and services, deflator (national accounts basis)               0\n",
       "Exports of goods and services, volume (national accounts basis)                 0\n",
       "Exports of goods and services, volume in USD (national accounts basis)          0\n",
       "Exports of goods and services, volume, growth (national accounts basis)         0\n",
       "General government gross financial assets as a percentage of GDP                0\n",
       "General government gross financial liabilities as a percentage of GDP           0\n",
       "General government net lending as a percentage of GDP                           0\n",
       "General government primary balance as a percentage of GDP                       0\n",
       "Goods and services trade, volume in USD                                         0\n",
       "Government final consumption expenditure, volume                                0\n",
       "Government final consumption expenditure, volume, growth                        0\n",
       "Gross capital formation, total, volume                                          0\n",
       "Gross domestic product, market prices, deflator                                 0\n",
       "Gross domestic product, market prices, deflator, growth                         0\n",
       "Gross domestic product, nominal value, growth                                   0\n",
       "Gross domestic product, nominal value, market prices                            0\n",
       "Gross domestic product, volume in USD, at constant purchasing power parities    0\n",
       "Gross domestic product, volume in USD, constant exchange rates                  0\n",
       "Gross domestic product, volume, growth                                          0\n",
       "Gross domestic product, volume, market prices                                   0\n",
       "Gross fixed capital formation, total, volume                                    0\n",
       "Gross fixed capital formation, total, volume, growth                            0\n",
       "Gross public debt, Maastricht criterion as a percentage of GDP                  0\n",
       "Harmonised core inflation                                                       0\n",
       "Harmonised headline inflation                                                   0\n",
       "Imports of goods and services, deflator (national accounts basis)               0\n",
       "Imports of goods and services, volume (national accounts basis)                 0\n",
       "Imports of goods and services, volume in USD (national accounts basis)          0\n",
       "Imports of goods and services, volume, growth (national accounts basis)         0\n",
       "Labour force                                                                    0\n",
       "Long-term interest rate on government bonds                                     0\n",
       "Net exports, contributions to changes in real GDP                               0\n",
       "Private final consumption expenditure, volume                                   0\n",
       "Private final consumption expenditure, volume, growth                           0\n",
       "Purchasing power parity, national currency per USD                              0\n",
       "Short-term interest rate                                                        0\n",
       "Total employment (labour force survey basis)                                    0\n",
       "Unemployment rate                                                               0\n",
       "Total                                                                           0\n",
       "dtype: int64"
      ]
     },
     "execution_count": 106,
     "metadata": {},
     "output_type": "execute_result"
    }
   ],
   "source": [
    "#Merge the data using an inner join on 'Country' and 'Time' columns\n",
    "merged_dataset_rent = pd.merge(housing_pivot_rent, financial_pivot, on=['Country','Time'], how='inner')\n",
    "merged_dataset_rent = pd.merge(merged_dataset_rent, population_pivot, on=['Country','Time'], how='inner')\n",
    "\n",
    "#Drop all columns containing missing values for a clear analysis\n",
    "merged_dataset_rent = merged_dataset_rent.dropna(axis=1)\n",
    "\n",
    "#Check for any remaining missing values in the columns\n",
    "merged_dataset_rent.isna().sum()"
   ]
  },
  {
   "cell_type": "markdown",
   "metadata": {
    "hideCode": false,
    "hidePrompt": false,
    "slideshow": {
     "slide_type": "slide"
    }
   },
   "source": [
    "##### Full merge of the data for analysis"
   ]
  },
  {
   "cell_type": "code",
   "execution_count": 107,
   "metadata": {
    "hideCode": false,
    "hidePrompt": false,
    "slideshow": {
     "slide_type": "subslide"
    }
   },
   "outputs": [
    {
     "data": {
      "text/html": [
       "<div>\n",
       "<style scoped>\n",
       "    .dataframe tbody tr th:only-of-type {\n",
       "        vertical-align: middle;\n",
       "    }\n",
       "\n",
       "    .dataframe tbody tr th {\n",
       "        vertical-align: top;\n",
       "    }\n",
       "\n",
       "    .dataframe thead th {\n",
       "        text-align: right;\n",
       "    }\n",
       "</style>\n",
       "<table border=\"1\" class=\"dataframe\">\n",
       "  <thead>\n",
       "    <tr style=\"text-align: right;\">\n",
       "      <th></th>\n",
       "      <th>Country</th>\n",
       "      <th>Time</th>\n",
       "      <th>Rent prices, s.a.</th>\n",
       "      <th>Change in inventories, contributions to changes in real GDP</th>\n",
       "      <th>Consumer price index, harmonised</th>\n",
       "      <th>Core inflation index, harmonised</th>\n",
       "      <th>Current account balance as a percentage of GDP</th>\n",
       "      <th>Exchange rate, USD per national currency</th>\n",
       "      <th>Exchange rate, national currency per USD</th>\n",
       "      <th>Exports of goods and services, deflator (national accounts basis)</th>\n",
       "      <th>...</th>\n",
       "      <th>Labour force</th>\n",
       "      <th>Long-term interest rate on government bonds</th>\n",
       "      <th>Net exports, contributions to changes in real GDP</th>\n",
       "      <th>Private final consumption expenditure, volume</th>\n",
       "      <th>Private final consumption expenditure, volume, growth</th>\n",
       "      <th>Purchasing power parity, national currency per USD</th>\n",
       "      <th>Short-term interest rate</th>\n",
       "      <th>Total employment (labour force survey basis)</th>\n",
       "      <th>Unemployment rate</th>\n",
       "      <th>Population</th>\n",
       "    </tr>\n",
       "  </thead>\n",
       "  <tbody>\n",
       "    <tr>\n",
       "      <th>0</th>\n",
       "      <td>Greece</td>\n",
       "      <td>2005</td>\n",
       "      <td>102.331967</td>\n",
       "      <td>0.205935</td>\n",
       "      <td>0.849730</td>\n",
       "      <td>0.875051</td>\n",
       "      <td>-8.870606</td>\n",
       "      <td>1.244458</td>\n",
       "      <td>0.804619</td>\n",
       "      <td>0.874575</td>\n",
       "      <td>...</td>\n",
       "      <td>4937100.0</td>\n",
       "      <td>3.585000</td>\n",
       "      <td>0.442226</td>\n",
       "      <td>1.539518e+11</td>\n",
       "      <td>3.224842</td>\n",
       "      <td>0.708976</td>\n",
       "      <td>2.184675</td>\n",
       "      <td>4443550.0</td>\n",
       "      <td>9.996759</td>\n",
       "      <td>10987316</td>\n",
       "    </tr>\n",
       "    <tr>\n",
       "      <th>1</th>\n",
       "      <td>Greece</td>\n",
       "      <td>2006</td>\n",
       "      <td>106.798942</td>\n",
       "      <td>1.238916</td>\n",
       "      <td>0.877887</td>\n",
       "      <td>0.896413</td>\n",
       "      <td>-11.486191</td>\n",
       "      <td>1.256058</td>\n",
       "      <td>0.796697</td>\n",
       "      <td>0.903030</td>\n",
       "      <td>...</td>\n",
       "      <td>4975725.0</td>\n",
       "      <td>4.070000</td>\n",
       "      <td>-2.827255</td>\n",
       "      <td>1.582345e+11</td>\n",
       "      <td>2.781845</td>\n",
       "      <td>0.693291</td>\n",
       "      <td>3.079225</td>\n",
       "      <td>4527500.0</td>\n",
       "      <td>9.008235</td>\n",
       "      <td>11020366</td>\n",
       "    </tr>\n",
       "    <tr>\n",
       "      <th>2</th>\n",
       "      <td>Greece</td>\n",
       "      <td>2007</td>\n",
       "      <td>111.657667</td>\n",
       "      <td>-1.532022</td>\n",
       "      <td>0.904129</td>\n",
       "      <td>0.924143</td>\n",
       "      <td>-15.187718</td>\n",
       "      <td>1.370785</td>\n",
       "      <td>0.730485</td>\n",
       "      <td>0.927366</td>\n",
       "      <td>...</td>\n",
       "      <td>4982400.0</td>\n",
       "      <td>4.500000</td>\n",
       "      <td>-2.661263</td>\n",
       "      <td>1.646845e+11</td>\n",
       "      <td>4.076229</td>\n",
       "      <td>0.719064</td>\n",
       "      <td>4.277608</td>\n",
       "      <td>4564050.0</td>\n",
       "      <td>8.396556</td>\n",
       "      <td>11048466</td>\n",
       "    </tr>\n",
       "    <tr>\n",
       "      <th>3</th>\n",
       "      <td>Greece</td>\n",
       "      <td>2008</td>\n",
       "      <td>115.997766</td>\n",
       "      <td>-0.628778</td>\n",
       "      <td>0.942377</td>\n",
       "      <td>0.952990</td>\n",
       "      <td>-15.112583</td>\n",
       "      <td>1.468287</td>\n",
       "      <td>0.683982</td>\n",
       "      <td>0.966864</td>\n",
       "      <td>...</td>\n",
       "      <td>4998375.0</td>\n",
       "      <td>4.802500</td>\n",
       "      <td>0.319797</td>\n",
       "      <td>1.705866e+11</td>\n",
       "      <td>3.583883</td>\n",
       "      <td>0.707951</td>\n",
       "      <td>4.634233</td>\n",
       "      <td>4610500.0</td>\n",
       "      <td>7.760022</td>\n",
       "      <td>11077839</td>\n",
       "    </tr>\n",
       "    <tr>\n",
       "      <th>4</th>\n",
       "      <td>Greece</td>\n",
       "      <td>2009</td>\n",
       "      <td>120.196566</td>\n",
       "      <td>-3.271774</td>\n",
       "      <td>0.955070</td>\n",
       "      <td>0.974554</td>\n",
       "      <td>-12.346012</td>\n",
       "      <td>1.392497</td>\n",
       "      <td>0.719800</td>\n",
       "      <td>0.946417</td>\n",
       "      <td>...</td>\n",
       "      <td>5040700.0</td>\n",
       "      <td>5.174167</td>\n",
       "      <td>2.994522</td>\n",
       "      <td>1.677377e+11</td>\n",
       "      <td>-1.670061</td>\n",
       "      <td>0.703755</td>\n",
       "      <td>1.228358</td>\n",
       "      <td>4556000.0</td>\n",
       "      <td>9.615728</td>\n",
       "      <td>11107017</td>\n",
       "    </tr>\n",
       "    <tr>\n",
       "      <th>5</th>\n",
       "      <td>Greece</td>\n",
       "      <td>2010</td>\n",
       "      <td>123.135091</td>\n",
       "      <td>2.047160</td>\n",
       "      <td>1.000000</td>\n",
       "      <td>1.000000</td>\n",
       "      <td>-10.021174</td>\n",
       "      <td>1.326030</td>\n",
       "      <td>0.755044</td>\n",
       "      <td>1.000000</td>\n",
       "      <td>...</td>\n",
       "      <td>5029125.0</td>\n",
       "      <td>9.091667</td>\n",
       "      <td>1.909440</td>\n",
       "      <td>1.568032e+11</td>\n",
       "      <td>-6.518809</td>\n",
       "      <td>0.721494</td>\n",
       "      <td>0.810950</td>\n",
       "      <td>4389750.0</td>\n",
       "      <td>12.713444</td>\n",
       "      <td>11121344</td>\n",
       "    </tr>\n",
       "    <tr>\n",
       "      <th>6</th>\n",
       "      <td>Greece</td>\n",
       "      <td>2011</td>\n",
       "      <td>124.163416</td>\n",
       "      <td>-0.120859</td>\n",
       "      <td>1.031179</td>\n",
       "      <td>1.010790</td>\n",
       "      <td>-8.612324</td>\n",
       "      <td>1.391454</td>\n",
       "      <td>0.719159</td>\n",
       "      <td>1.057917</td>\n",
       "      <td>...</td>\n",
       "      <td>4936175.0</td>\n",
       "      <td>15.749167</td>\n",
       "      <td>2.909286</td>\n",
       "      <td>1.415184e+11</td>\n",
       "      <td>-9.747760</td>\n",
       "      <td>0.713163</td>\n",
       "      <td>1.390600</td>\n",
       "      <td>4054350.0</td>\n",
       "      <td>17.864541</td>\n",
       "      <td>11104900</td>\n",
       "    </tr>\n",
       "    <tr>\n",
       "      <th>7</th>\n",
       "      <td>Greece</td>\n",
       "      <td>2012</td>\n",
       "      <td>121.580841</td>\n",
       "      <td>-0.044983</td>\n",
       "      <td>1.041849</td>\n",
       "      <td>1.007477</td>\n",
       "      <td>-3.484239</td>\n",
       "      <td>1.285729</td>\n",
       "      <td>0.778006</td>\n",
       "      <td>1.084796</td>\n",
       "      <td>...</td>\n",
       "      <td>4890075.0</td>\n",
       "      <td>22.497500</td>\n",
       "      <td>3.239583</td>\n",
       "      <td>1.301646e+11</td>\n",
       "      <td>-8.022844</td>\n",
       "      <td>0.684663</td>\n",
       "      <td>0.573183</td>\n",
       "      <td>3694975.0</td>\n",
       "      <td>24.439298</td>\n",
       "      <td>11045010</td>\n",
       "    </tr>\n",
       "    <tr>\n",
       "      <th>8</th>\n",
       "      <td>Greece</td>\n",
       "      <td>2013</td>\n",
       "      <td>113.329342</td>\n",
       "      <td>-0.205455</td>\n",
       "      <td>1.032950</td>\n",
       "      <td>0.983285</td>\n",
       "      <td>-1.432570</td>\n",
       "      <td>1.327806</td>\n",
       "      <td>0.753298</td>\n",
       "      <td>1.068450</td>\n",
       "      <td>...</td>\n",
       "      <td>4843550.0</td>\n",
       "      <td>10.054167</td>\n",
       "      <td>1.226106</td>\n",
       "      <td>1.268206e+11</td>\n",
       "      <td>-2.569055</td>\n",
       "      <td>0.631286</td>\n",
       "      <td>0.220667</td>\n",
       "      <td>3513200.0</td>\n",
       "      <td>27.466424</td>\n",
       "      <td>10965209</td>\n",
       "    </tr>\n",
       "    <tr>\n",
       "      <th>9</th>\n",
       "      <td>Greece</td>\n",
       "      <td>2014</td>\n",
       "      <td>104.637267</td>\n",
       "      <td>1.339957</td>\n",
       "      <td>1.018553</td>\n",
       "      <td>0.968636</td>\n",
       "      <td>-0.738848</td>\n",
       "      <td>1.328729</td>\n",
       "      <td>0.753695</td>\n",
       "      <td>1.045893</td>\n",
       "      <td>...</td>\n",
       "      <td>4810675.0</td>\n",
       "      <td>6.929167</td>\n",
       "      <td>-0.194208</td>\n",
       "      <td>1.276107e+11</td>\n",
       "      <td>0.623006</td>\n",
       "      <td>0.611135</td>\n",
       "      <td>0.209933</td>\n",
       "      <td>3536250.0</td>\n",
       "      <td>26.491605</td>\n",
       "      <td>10892415</td>\n",
       "    </tr>\n",
       "  </tbody>\n",
       "</table>\n",
       "<p>10 rows × 48 columns</p>\n",
       "</div>"
      ],
      "text/plain": [
       "  Country  Time  Rent prices, s.a.  \\\n",
       "0  Greece  2005         102.331967   \n",
       "1  Greece  2006         106.798942   \n",
       "2  Greece  2007         111.657667   \n",
       "3  Greece  2008         115.997766   \n",
       "4  Greece  2009         120.196566   \n",
       "5  Greece  2010         123.135091   \n",
       "6  Greece  2011         124.163416   \n",
       "7  Greece  2012         121.580841   \n",
       "8  Greece  2013         113.329342   \n",
       "9  Greece  2014         104.637267   \n",
       "\n",
       "   Change in inventories, contributions to changes in real GDP  \\\n",
       "0                                           0.205935             \n",
       "1                                           1.238916             \n",
       "2                                          -1.532022             \n",
       "3                                          -0.628778             \n",
       "4                                          -3.271774             \n",
       "5                                           2.047160             \n",
       "6                                          -0.120859             \n",
       "7                                          -0.044983             \n",
       "8                                          -0.205455             \n",
       "9                                           1.339957             \n",
       "\n",
       "   Consumer price index, harmonised  Core inflation index, harmonised  \\\n",
       "0                          0.849730                          0.875051   \n",
       "1                          0.877887                          0.896413   \n",
       "2                          0.904129                          0.924143   \n",
       "3                          0.942377                          0.952990   \n",
       "4                          0.955070                          0.974554   \n",
       "5                          1.000000                          1.000000   \n",
       "6                          1.031179                          1.010790   \n",
       "7                          1.041849                          1.007477   \n",
       "8                          1.032950                          0.983285   \n",
       "9                          1.018553                          0.968636   \n",
       "\n",
       "   Current account balance as a percentage of GDP  \\\n",
       "0                                       -8.870606   \n",
       "1                                      -11.486191   \n",
       "2                                      -15.187718   \n",
       "3                                      -15.112583   \n",
       "4                                      -12.346012   \n",
       "5                                      -10.021174   \n",
       "6                                       -8.612324   \n",
       "7                                       -3.484239   \n",
       "8                                       -1.432570   \n",
       "9                                       -0.738848   \n",
       "\n",
       "   Exchange rate, USD per national currency  \\\n",
       "0                                  1.244458   \n",
       "1                                  1.256058   \n",
       "2                                  1.370785   \n",
       "3                                  1.468287   \n",
       "4                                  1.392497   \n",
       "5                                  1.326030   \n",
       "6                                  1.391454   \n",
       "7                                  1.285729   \n",
       "8                                  1.327806   \n",
       "9                                  1.328729   \n",
       "\n",
       "   Exchange rate, national currency per USD  \\\n",
       "0                                  0.804619   \n",
       "1                                  0.796697   \n",
       "2                                  0.730485   \n",
       "3                                  0.683982   \n",
       "4                                  0.719800   \n",
       "5                                  0.755044   \n",
       "6                                  0.719159   \n",
       "7                                  0.778006   \n",
       "8                                  0.753298   \n",
       "9                                  0.753695   \n",
       "\n",
       "   Exports of goods and services, deflator (national accounts basis)  ...  \\\n",
       "0                                           0.874575                  ...   \n",
       "1                                           0.903030                  ...   \n",
       "2                                           0.927366                  ...   \n",
       "3                                           0.966864                  ...   \n",
       "4                                           0.946417                  ...   \n",
       "5                                           1.000000                  ...   \n",
       "6                                           1.057917                  ...   \n",
       "7                                           1.084796                  ...   \n",
       "8                                           1.068450                  ...   \n",
       "9                                           1.045893                  ...   \n",
       "\n",
       "   Labour force  Long-term interest rate on government bonds  \\\n",
       "0     4937100.0                                     3.585000   \n",
       "1     4975725.0                                     4.070000   \n",
       "2     4982400.0                                     4.500000   \n",
       "3     4998375.0                                     4.802500   \n",
       "4     5040700.0                                     5.174167   \n",
       "5     5029125.0                                     9.091667   \n",
       "6     4936175.0                                    15.749167   \n",
       "7     4890075.0                                    22.497500   \n",
       "8     4843550.0                                    10.054167   \n",
       "9     4810675.0                                     6.929167   \n",
       "\n",
       "   Net exports, contributions to changes in real GDP  \\\n",
       "0                                           0.442226   \n",
       "1                                          -2.827255   \n",
       "2                                          -2.661263   \n",
       "3                                           0.319797   \n",
       "4                                           2.994522   \n",
       "5                                           1.909440   \n",
       "6                                           2.909286   \n",
       "7                                           3.239583   \n",
       "8                                           1.226106   \n",
       "9                                          -0.194208   \n",
       "\n",
       "   Private final consumption expenditure, volume  \\\n",
       "0                                   1.539518e+11   \n",
       "1                                   1.582345e+11   \n",
       "2                                   1.646845e+11   \n",
       "3                                   1.705866e+11   \n",
       "4                                   1.677377e+11   \n",
       "5                                   1.568032e+11   \n",
       "6                                   1.415184e+11   \n",
       "7                                   1.301646e+11   \n",
       "8                                   1.268206e+11   \n",
       "9                                   1.276107e+11   \n",
       "\n",
       "   Private final consumption expenditure, volume, growth  \\\n",
       "0                                           3.224842       \n",
       "1                                           2.781845       \n",
       "2                                           4.076229       \n",
       "3                                           3.583883       \n",
       "4                                          -1.670061       \n",
       "5                                          -6.518809       \n",
       "6                                          -9.747760       \n",
       "7                                          -8.022844       \n",
       "8                                          -2.569055       \n",
       "9                                           0.623006       \n",
       "\n",
       "   Purchasing power parity, national currency per USD  \\\n",
       "0                                           0.708976    \n",
       "1                                           0.693291    \n",
       "2                                           0.719064    \n",
       "3                                           0.707951    \n",
       "4                                           0.703755    \n",
       "5                                           0.721494    \n",
       "6                                           0.713163    \n",
       "7                                           0.684663    \n",
       "8                                           0.631286    \n",
       "9                                           0.611135    \n",
       "\n",
       "   Short-term interest rate  Total employment (labour force survey basis)  \\\n",
       "0                  2.184675                                     4443550.0   \n",
       "1                  3.079225                                     4527500.0   \n",
       "2                  4.277608                                     4564050.0   \n",
       "3                  4.634233                                     4610500.0   \n",
       "4                  1.228358                                     4556000.0   \n",
       "5                  0.810950                                     4389750.0   \n",
       "6                  1.390600                                     4054350.0   \n",
       "7                  0.573183                                     3694975.0   \n",
       "8                  0.220667                                     3513200.0   \n",
       "9                  0.209933                                     3536250.0   \n",
       "\n",
       "   Unemployment rate  Population  \n",
       "0           9.996759    10987316  \n",
       "1           9.008235    11020366  \n",
       "2           8.396556    11048466  \n",
       "3           7.760022    11077839  \n",
       "4           9.615728    11107017  \n",
       "5          12.713444    11121344  \n",
       "6          17.864541    11104900  \n",
       "7          24.439298    11045010  \n",
       "8          27.466424    10965209  \n",
       "9          26.491605    10892415  \n",
       "\n",
       "[10 rows x 48 columns]"
      ]
     },
     "execution_count": 107,
     "metadata": {},
     "output_type": "execute_result"
    }
   ],
   "source": [
    "#Rename the 'Total' column to 'Population'\n",
    "merged_dataset_rent = merged_dataset_rent.rename(columns={'Total':'Population'})\n",
    "\n",
    "#Look at the table containing all the data\n",
    "merged_dataset_rent.head(10)"
   ]
  },
  {
   "cell_type": "markdown",
   "metadata": {
    "hideCode": false,
    "hidePrompt": false,
    "slideshow": {
     "slide_type": "slide"
    }
   },
   "source": [
    "## Analyzing data"
   ]
  },
  {
   "cell_type": "markdown",
   "metadata": {
    "hideCode": false,
    "hidePrompt": false,
    "slideshow": {
     "slide_type": "subslide"
    }
   },
   "source": [
    "### Real House Prices indices as the Dependent Variable"
   ]
  },
  {
   "cell_type": "code",
   "execution_count": 108,
   "metadata": {
    "hideCode": false,
    "hidePrompt": false,
    "slideshow": {
     "slide_type": "skip"
    }
   },
   "outputs": [],
   "source": [
    "#Import all necessary packages for linear regression\n",
    "import numpy as np\n",
    "from matplotlib import pyplot as plt\n",
    "from sklearn.linear_model import LinearRegression"
   ]
  },
  {
   "cell_type": "code",
   "execution_count": 109,
   "metadata": {
    "hideCode": false,
    "hidePrompt": false,
    "slideshow": {
     "slide_type": "skip"
    }
   },
   "outputs": [],
   "source": [
    "#Create a 'variable' and 'target' to compute the regression\n",
    "variables_real_house = merged_dataset.iloc[:,3:]\n",
    "target_real_house = merged_dataset['Real house price indices, s.a.']\n",
    "\n",
    "X_real_house = variables_real_house\n",
    "Y_real_house = target_real_house\n",
    "\n",
    "#Fit the data to X and Y\n",
    "real_house_prices_model = LinearRegression(fit_intercept = True).fit(X_real_house, Y_real_house)"
   ]
  },
  {
   "cell_type": "code",
   "execution_count": 110,
   "metadata": {
    "hideCode": false,
    "hidePrompt": false,
    "slideshow": {
     "slide_type": "subslide"
    }
   },
   "outputs": [
    {
     "name": "stdout",
     "output_type": "stream",
     "text": [
      "The coefficient of determination is 0.9845280184517973\n"
     ]
    }
   ],
   "source": [
    "#Retrieve R squared - or coefficient of determination\n",
    "r_squared = real_house_prices_model.score(X_real_house, Y_real_house)\n",
    "\n",
    "print('The coefficient of determination is', r_squared)"
   ]
  },
  {
   "cell_type": "code",
   "execution_count": 111,
   "metadata": {
    "hideCode": false,
    "hidePrompt": false,
    "slideshow": {
     "slide_type": "subslide"
    }
   },
   "outputs": [
    {
     "name": "stdout",
     "output_type": "stream",
     "text": [
      "The intercept of the equation is 845.813837039071\n",
      "The slope of the equation is [-7.43121939e-01 -3.28713519e+02 -1.10901734e+02  9.23291312e-01\n",
      " -2.72564341e+02 -4.42439825e+02 -1.07271651e+02 -1.80668524e-08\n",
      "  9.01248070e+00  1.79750302e+00 -6.12412674e-01  1.89043023e-01\n",
      "  1.21375340e+00 -1.42361971e+00 -1.80249614e+01 -1.65172299e-09\n",
      " -2.46630828e-01 -2.29532722e-09  3.95897747e+02 -3.28410474e+01\n",
      "  3.30945057e+01  2.05087032e-10  7.02325170e-10  1.99784681e-09\n",
      " -3.28806328e+01 -8.98078890e-10  3.98276079e-11  8.03343136e-02\n",
      "  1.98090436e-01 -4.89780418e+00  1.60695356e+00  2.98702059e+01\n",
      "  8.23974372e-09  9.01248068e+00 -2.14211071e+00 -1.15596857e-05\n",
      " -1.27835769e-01 -4.13079591e+00 -2.42050046e-09 -5.65330221e-01\n",
      "  1.64479960e+02  4.53335182e+00 -1.35172243e-05 -1.40471801e+00\n",
      "  3.31283743e-06]\n"
     ]
    }
   ],
   "source": [
    "#Get more insight including the intercept of the equation and the coefficients\n",
    "print('The intercept of the equation is', real_house_prices_model.intercept_)\n",
    "\n",
    "print('The slope of the equation is', real_house_prices_model.coef_)\n",
    "\n",
    "#Get length of the object to be able to create a dataframe\n",
    "len(real_house_prices_model.coef_)\n",
    "\n",
    "#Transform the data into a numpy array to convert it to a dataframe\n",
    "real_house_coefficients = np.around(real_house_prices_model.coef_, 45)\n",
    "\n",
    "real_house_coefficients_df = pd.DataFrame(real_house_coefficients, X_real_house.columns, columns = [\"Coefficient\"])"
   ]
  },
  {
   "cell_type": "code",
   "execution_count": 112,
   "metadata": {
    "hideCode": false,
    "hidePrompt": false,
    "slideshow": {
     "slide_type": "skip"
    }
   },
   "outputs": [
    {
     "data": {
      "text/plain": [
       "45"
      ]
     },
     "execution_count": 112,
     "metadata": {},
     "output_type": "execute_result"
    }
   ],
   "source": [
    "#Sort the dataframe based on the coefficients to perform the analysis\n",
    "sorted_real_house_coefficients_df = real_house_coefficients_df.sort_values(by=\"Coefficient\", ascending=False)\n",
    "\n",
    "len(sorted_real_house_coefficients_df)"
   ]
  },
  {
   "cell_type": "markdown",
   "metadata": {
    "hideCode": false,
    "hidePrompt": false,
    "slideshow": {
     "slide_type": "slide"
    }
   },
   "source": [
    "##### Top 5 variables that have a positive effect on Real House prices"
   ]
  },
  {
   "cell_type": "code",
   "execution_count": 113,
   "metadata": {
    "hideCode": false,
    "hidePrompt": false,
    "slideshow": {
     "slide_type": "subslide"
    }
   },
   "outputs": [
    {
     "data": {
      "text/html": [
       "<div>\n",
       "<style scoped>\n",
       "    .dataframe tbody tr th:only-of-type {\n",
       "        vertical-align: middle;\n",
       "    }\n",
       "\n",
       "    .dataframe tbody tr th {\n",
       "        vertical-align: top;\n",
       "    }\n",
       "\n",
       "    .dataframe thead th {\n",
       "        text-align: right;\n",
       "    }\n",
       "</style>\n",
       "<table border=\"1\" class=\"dataframe\">\n",
       "  <thead>\n",
       "    <tr style=\"text-align: right;\">\n",
       "      <th></th>\n",
       "      <th>Coefficient</th>\n",
       "    </tr>\n",
       "  </thead>\n",
       "  <tbody>\n",
       "    <tr>\n",
       "      <th>Gross domestic product, market prices, deflator</th>\n",
       "      <td>395.897747</td>\n",
       "    </tr>\n",
       "    <tr>\n",
       "      <th>Purchasing power parity, national currency per USD</th>\n",
       "      <td>164.479960</td>\n",
       "    </tr>\n",
       "    <tr>\n",
       "      <th>Gross domestic product, nominal value, growth</th>\n",
       "      <td>33.094506</td>\n",
       "    </tr>\n",
       "    <tr>\n",
       "      <th>Imports of goods and services, deflator (national accounts basis)</th>\n",
       "      <td>29.870206</td>\n",
       "    </tr>\n",
       "    <tr>\n",
       "      <th>Exports of goods and services, volume in USD (national accounts basis)</th>\n",
       "      <td>9.012481</td>\n",
       "    </tr>\n",
       "  </tbody>\n",
       "</table>\n",
       "</div>"
      ],
      "text/plain": [
       "                                                    Coefficient\n",
       "Gross domestic product, market prices, deflator      395.897747\n",
       "Purchasing power parity, national currency per USD   164.479960\n",
       "Gross domestic product, nominal value, growth         33.094506\n",
       "Imports of goods and services, deflator (nation...    29.870206\n",
       "Exports of goods and services, volume in USD (n...     9.012481"
      ]
     },
     "execution_count": 113,
     "metadata": {},
     "output_type": "execute_result"
    }
   ],
   "source": [
    "#Top 5 variables that have a positive effect on Real House prices\n",
    "\n",
    "sorted_real_house_coefficients_df.head()"
   ]
  },
  {
   "cell_type": "markdown",
   "metadata": {
    "hideCode": false,
    "hidePrompt": false,
    "slideshow": {
     "slide_type": "slide"
    }
   },
   "source": [
    "##### Top 5 variables that have a negative effect on Real House prices"
   ]
  },
  {
   "cell_type": "code",
   "execution_count": 114,
   "metadata": {
    "hideCode": false,
    "hidePrompt": false,
    "slideshow": {
     "slide_type": "subslide"
    }
   },
   "outputs": [
    {
     "data": {
      "text/html": [
       "<div>\n",
       "<style scoped>\n",
       "    .dataframe tbody tr th:only-of-type {\n",
       "        vertical-align: middle;\n",
       "    }\n",
       "\n",
       "    .dataframe tbody tr th {\n",
       "        vertical-align: top;\n",
       "    }\n",
       "\n",
       "    .dataframe thead th {\n",
       "        text-align: right;\n",
       "    }\n",
       "</style>\n",
       "<table border=\"1\" class=\"dataframe\">\n",
       "  <thead>\n",
       "    <tr style=\"text-align: right;\">\n",
       "      <th></th>\n",
       "      <th>Coefficient</th>\n",
       "    </tr>\n",
       "  </thead>\n",
       "  <tbody>\n",
       "    <tr>\n",
       "      <th>Exports of goods and services, deflator (national accounts basis)</th>\n",
       "      <td>-107.271651</td>\n",
       "    </tr>\n",
       "    <tr>\n",
       "      <th>Core inflation index, harmonised</th>\n",
       "      <td>-110.901734</td>\n",
       "    </tr>\n",
       "    <tr>\n",
       "      <th>Exchange rate, USD per national currency</th>\n",
       "      <td>-272.564341</td>\n",
       "    </tr>\n",
       "    <tr>\n",
       "      <th>Consumer price index, harmonised</th>\n",
       "      <td>-328.713519</td>\n",
       "    </tr>\n",
       "    <tr>\n",
       "      <th>Exchange rate, national currency per USD</th>\n",
       "      <td>-442.439825</td>\n",
       "    </tr>\n",
       "  </tbody>\n",
       "</table>\n",
       "</div>"
      ],
      "text/plain": [
       "                                                    Coefficient\n",
       "Exports of goods and services, deflator (nation...  -107.271651\n",
       "Core inflation index, harmonised                    -110.901734\n",
       "Exchange rate, USD per national currency            -272.564341\n",
       "Consumer price index, harmonised                    -328.713519\n",
       "Exchange rate, national currency per USD            -442.439825"
      ]
     },
     "execution_count": 114,
     "metadata": {},
     "output_type": "execute_result"
    }
   ],
   "source": [
    "#Top 5 variables that have a negative effect on Real House prices\n",
    "sorted_real_house_coefficients_df.tail()"
   ]
  },
  {
   "cell_type": "markdown",
   "metadata": {
    "hideCode": false,
    "hidePrompt": false,
    "slideshow": {
     "slide_type": "slide"
    }
   },
   "source": [
    "##### Top 10 variables that don't have any effect on Real House Prices"
   ]
  },
  {
   "cell_type": "code",
   "execution_count": 115,
   "metadata": {
    "hideCode": false,
    "hidePrompt": false,
    "slideshow": {
     "slide_type": "subslide"
    }
   },
   "outputs": [
    {
     "data": {
      "text/html": [
       "<div>\n",
       "<style scoped>\n",
       "    .dataframe tbody tr th:only-of-type {\n",
       "        vertical-align: middle;\n",
       "    }\n",
       "\n",
       "    .dataframe tbody tr th {\n",
       "        vertical-align: top;\n",
       "    }\n",
       "\n",
       "    .dataframe thead th {\n",
       "        text-align: right;\n",
       "    }\n",
       "</style>\n",
       "<table border=\"1\" class=\"dataframe\">\n",
       "  <thead>\n",
       "    <tr style=\"text-align: right;\">\n",
       "      <th></th>\n",
       "      <th>Coefficient</th>\n",
       "    </tr>\n",
       "  </thead>\n",
       "  <tbody>\n",
       "    <tr>\n",
       "      <th>Gross domestic product, nominal value, market prices</th>\n",
       "      <td>2.050870e-10</td>\n",
       "    </tr>\n",
       "    <tr>\n",
       "      <th>Gross fixed capital formation, total, volume</th>\n",
       "      <td>3.982761e-11</td>\n",
       "    </tr>\n",
       "    <tr>\n",
       "      <th>Gross domestic product, volume, market prices</th>\n",
       "      <td>-8.980789e-10</td>\n",
       "    </tr>\n",
       "    <tr>\n",
       "      <th>Government final consumption expenditure, volume</th>\n",
       "      <td>-1.651723e-09</td>\n",
       "    </tr>\n",
       "    <tr>\n",
       "      <th>Gross capital formation, total, volume</th>\n",
       "      <td>-2.295327e-09</td>\n",
       "    </tr>\n",
       "    <tr>\n",
       "      <th>Private final consumption expenditure, volume</th>\n",
       "      <td>-2.420500e-09</td>\n",
       "    </tr>\n",
       "    <tr>\n",
       "      <th>Exports of goods and services, volume (national accounts basis)</th>\n",
       "      <td>-1.806685e-08</td>\n",
       "    </tr>\n",
       "    <tr>\n",
       "      <th>Labour force</th>\n",
       "      <td>-1.155969e-05</td>\n",
       "    </tr>\n",
       "    <tr>\n",
       "      <th>Total employment (labour force survey basis)</th>\n",
       "      <td>-1.351722e-05</td>\n",
       "    </tr>\n",
       "    <tr>\n",
       "      <th>Long-term interest rate on government bonds</th>\n",
       "      <td>-1.278358e-01</td>\n",
       "    </tr>\n",
       "  </tbody>\n",
       "</table>\n",
       "</div>"
      ],
      "text/plain": [
       "                                                     Coefficient\n",
       "Gross domestic product, nominal value, market p...  2.050870e-10\n",
       "Gross fixed capital formation, total, volume        3.982761e-11\n",
       "Gross domestic product, volume, market prices      -8.980789e-10\n",
       "Government final consumption expenditure, volume   -1.651723e-09\n",
       "Gross capital formation, total, volume             -2.295327e-09\n",
       "Private final consumption expenditure, volume      -2.420500e-09\n",
       "Exports of goods and services, volume (national... -1.806685e-08\n",
       "Labour force                                       -1.155969e-05\n",
       "Total employment (labour force survey basis)       -1.351722e-05\n",
       "Long-term interest rate on government bonds        -1.278358e-01"
      ]
     },
     "execution_count": 115,
     "metadata": {},
     "output_type": "execute_result"
    }
   ],
   "source": [
    "#Top 10 variables that don't have any effect on Real House Prices\n",
    "sorted_real_house_coefficients_df.iloc[18:28,:]"
   ]
  },
  {
   "cell_type": "markdown",
   "metadata": {
    "hideCode": false,
    "hidePrompt": false,
    "slideshow": {
     "slide_type": "slide"
    }
   },
   "source": [
    "##### Predicted values based on the linear model"
   ]
  },
  {
   "cell_type": "code",
   "execution_count": 116,
   "metadata": {
    "hideCode": false,
    "hidePrompt": false,
    "slideshow": {
     "slide_type": "subslide"
    }
   },
   "outputs": [
    {
     "name": "stdout",
     "output_type": "stream",
     "text": [
      "[156.10792526 167.10069665 175.76967402 174.05805124 160.01588677\n",
      " 152.80789763 135.36072942 117.33882499 113.2743056  100.73062689\n",
      " 107.06086014  97.04952233  96.82953358  93.95284996 130.79876741\n",
      " 129.89256123 136.16420587 130.66051604 128.73172622 126.55279419\n",
      " 124.8869305  114.89444285 109.6848398  107.01940493  99.77121824\n",
      " 100.42601893  95.21565468  99.14335265 122.90095871 124.39170735\n",
      " 126.06460764 114.84756436 116.68573293 118.6346746  106.23885576\n",
      "  94.01027736  98.00823555  98.57848979 103.75119712 105.66881596\n",
      " 110.76001271 117.61330126 137.98549601 134.51235187 125.35075705\n",
      " 124.49186414 123.78691328 110.65408186 105.14566508  97.3070535\n",
      "  99.99898943 103.07221791 112.05374797 120.88762693 142.38099688\n",
      " 150.79769275 164.33985155 159.48471298 146.72731857 140.17173318\n",
      " 128.66228102 107.15817071  95.73364677  94.98669115 100.03215646\n",
      " 106.48123974 107.18410781 116.75032621]\n"
     ]
    }
   ],
   "source": [
    "#Predict house prices based on the linear regression and data\n",
    "Y_predict_real_house = real_house_prices_model.predict(X_real_house)\n",
    "\n",
    "print(Y_predict_real_house)"
   ]
  },
  {
   "cell_type": "markdown",
   "metadata": {
    "hideCode": false,
    "hidePrompt": false,
    "slideshow": {
     "slide_type": "slide"
    }
   },
   "source": [
    "##### Plot the results using matplotlib to visualize the relationship between the real and predicted indices"
   ]
  },
  {
   "cell_type": "code",
   "execution_count": 117,
   "metadata": {
    "hideCode": false,
    "hidePrompt": false,
    "slideshow": {
     "slide_type": "subslide"
    }
   },
   "outputs": [
    {
     "data": {
      "image/png": "[encoded data removed]",
      "text/plain": [
       "<Figure size 432x288 with 1 Axes>"
      ]
     },
     "metadata": {
      "needs_background": "light"
     },
     "output_type": "display_data"
    }
   ],
   "source": [
    "#Plot the results using matplotlib to visualize the relationship between the real and predicted indices\n",
    "plt.plot(Y_predict_real_house)\n",
    "plt.plot(Y_real_house)\n",
    "plt.show()"
   ]
  },
  {
   "cell_type": "code",
   "execution_count": 118,
   "metadata": {
    "hideCode": false,
    "hidePrompt": false,
    "scrolled": false,
    "slideshow": {
     "slide_type": "skip"
    }
   },
   "outputs": [
    {
     "name": "stdout",
     "output_type": "stream",
     "text": [
      "                                  OLS Regression Results                                  \n",
      "==========================================================================================\n",
      "Dep. Variable:     Real house price indices, s.a.   R-squared:                       0.987\n",
      "Model:                                        OLS   Adj. R-squared:                  0.972\n",
      "Method:                             Least Squares   F-statistic:                     65.52\n",
      "Date:                            Wed, 18 Nov 2020   Prob (F-statistic):           3.74e-21\n",
      "Time:                                    15:44:41   Log-Likelihood:                -156.65\n",
      "No. Observations:                              68   AIC:                             387.3\n",
      "Df Residuals:                                  31   BIC:                             469.4\n",
      "Df Model:                                      36                                         \n",
      "Covariance Type:                        nonrobust                                         \n",
      "================================================================================================================================================\n",
      "                                                                                   coef    std err          t      P>|t|      [0.025      0.975]\n",
      "------------------------------------------------------------------------------------------------------------------------------------------------\n",
      "const                                                                            6.2261     18.098      0.344      0.733     -30.685      43.137\n",
      "Change in inventories, contributions to changes in real GDP                     -2.7044      2.301     -1.175      0.249      -7.397       1.988\n",
      "Consumer price index, harmonised                                                 8.4868     17.918      0.474      0.639     -28.058      45.031\n",
      "Core inflation index, harmonised                                                47.7394      9.123      5.233      0.000      29.134      66.345\n",
      "Current account balance as a percentage of GDP                                   1.0701      0.606      1.767      0.087      -0.165       2.305\n",
      "Exchange rate, USD per national currency                                         7.4136     16.420      0.452      0.655     -26.074      40.901\n",
      "Exchange rate, national currency per USD                                       -10.6622     23.111     -0.461      0.648     -57.798      36.473\n",
      "Exports of goods and services, deflator (national accounts basis)               22.9463     12.950      1.772      0.086      -3.466      49.358\n",
      "Exports of goods and services, volume (national accounts basis)              -1.857e-09   1.38e-08     -0.135      0.894      -3e-08    2.62e-08\n",
      "Exports of goods and services, volume in USD (national accounts basis)          -0.0111      0.192     -0.058      0.954      -0.403       0.380\n",
      "Exports of goods and services, volume, growth (national accounts basis)          0.9164      0.660      1.387      0.175      -0.431       2.263\n",
      "General government gross financial assets as a percentage of GDP                -0.3283      0.235     -1.400      0.172      -0.807       0.150\n",
      "General government gross financial liabilities as a percentage of GDP           -0.1310      0.157     -0.834      0.411      -0.451       0.189\n",
      "General government net lending as a percentage of GDP                            0.0934      2.470      0.038      0.970      -4.944       5.131\n",
      "General government primary balance as a percentage of GDP                       -0.1942      2.483     -0.078      0.938      -5.259       4.870\n",
      "Goods and services trade, volume in USD                                          0.0222      0.384      0.058      0.954      -0.761       0.805\n",
      "Government final consumption expenditure, volume                             -3.924e-10   1.12e-09     -0.350      0.729   -2.68e-09     1.9e-09\n",
      "Government final consumption expenditure, volume, growth                        -0.5457      0.836     -0.653      0.519      -2.250       1.158\n",
      "Gross capital formation, total, volume                                       -1.264e-09   9.59e-10     -1.317      0.197   -3.22e-09    6.93e-10\n",
      "Gross domestic product, market prices, deflator                                 32.5556     34.408      0.946      0.351     -37.619     102.730\n",
      "Gross domestic product, market prices, deflator, growth                        -57.1897     20.545     -2.784      0.009     -99.092     -15.287\n",
      "Gross domestic product, nominal value, growth                                   58.4887     20.391      2.868      0.007      16.900     100.077\n",
      "Gross domestic product, nominal value, market prices                          1.619e-10   9.72e-11      1.666      0.106   -3.63e-11     3.6e-10\n",
      "Gross domestic product, volume in USD, at constant purchasing power parities  2.113e-10   1.97e-10      1.073      0.291    -1.9e-10    6.13e-10\n",
      "Gross domestic product, volume in USD, constant exchange rates               -6.192e-09   2.08e-09     -2.974      0.006   -1.04e-08   -1.95e-09\n",
      "Gross domestic product, volume, growth                                         -56.6706     21.604     -2.623      0.013    -100.733     -12.608\n",
      "Gross domestic product, volume, market prices                                 7.862e-09   2.49e-09      3.156      0.004    2.78e-09    1.29e-08\n",
      "Gross fixed capital formation, total, volume                                  3.745e-10   3.19e-10      1.174      0.249   -2.76e-10    1.03e-09\n",
      "Gross fixed capital formation, total, volume, growth                            -0.4405      0.428     -1.029      0.311      -1.313       0.432\n",
      "Gross public debt, Maastricht criterion as a percentage of GDP                  -0.2090      0.200     -1.046      0.304      -0.617       0.199\n",
      "Harmonised core inflation                                                       -2.2061      2.132     -1.035      0.309      -6.554       2.141\n",
      "Harmonised headline inflation                                                    0.5228      1.119      0.467      0.644      -1.760       2.805\n",
      "Imports of goods and services, deflator (national accounts basis)              -37.1158     25.661     -1.446      0.158     -89.453      15.221\n",
      "Imports of goods and services, volume (national accounts basis)              -1.419e-10   3.37e-09     -0.042      0.967   -7.02e-09    6.74e-09\n",
      "Imports of goods and services, volume in USD (national accounts basis)          -0.0111      0.192     -0.058      0.954      -0.403       0.380\n",
      "Imports of goods and services, volume, growth (national accounts basis)         -1.0725      0.873     -1.228      0.229      -2.854       0.709\n",
      "Labour force                                                                 -7.858e-06   7.62e-06     -1.031      0.310   -2.34e-05    7.68e-06\n",
      "Long-term interest rate on government bonds                                     -0.1447      0.509     -0.284      0.778      -1.183       0.893\n",
      "Net exports, contributions to changes in real GDP                               -3.2597      3.170     -1.028      0.312      -9.725       3.205\n",
      "Private final consumption expenditure, volume                                -1.747e-09   9.51e-10     -1.837      0.076   -3.69e-09    1.93e-10\n",
      "Private final consumption expenditure, volume, growth                           -0.2624      1.466     -0.179      0.859      -3.253       2.728\n",
      "Purchasing power parity, national currency per USD                             145.3332     64.047      2.269      0.030      14.709     275.957\n",
      "Short-term interest rate                                                        -2.1161      1.544     -1.370      0.180      -5.266       1.034\n",
      "Total employment (labour force survey basis)                                 -2.544e-06   1.05e-05     -0.243      0.809   -2.39e-05    1.88e-05\n",
      "Unemployment rate                                                               -0.8589      1.324     -0.649      0.521      -3.558       1.841\n",
      "Population                                                                    1.972e-06   3.24e-06      0.609      0.547   -4.63e-06    8.57e-06\n",
      "==============================================================================\n",
      "Omnibus:                        1.002   Durbin-Watson:                   2.628\n",
      "Prob(Omnibus):                  0.606   Jarque-Bera (JB):                0.882\n",
      "Skew:                          -0.273   Prob(JB):                        0.643\n",
      "Kurtosis:                       2.888   Cond. No.                     2.08e+16\n",
      "==============================================================================\n",
      "\n",
      "Warnings:\n",
      "[1] Standard Errors assume that the covariance matrix of the errors is correctly specified.\n",
      "[2] The condition number is large, 2.08e+16. This might indicate that there are\n",
      "strong multicollinearity or other numerical problems.\n"
     ]
    }
   ],
   "source": [
    "from sklearn import datasets, linear_model\n",
    "from sklearn.linear_model import LinearRegression\n",
    "import statsmodels.api as sm\n",
    "from scipy import stats\n",
    "\n",
    "#Create a full report including every coefficient, as well as a few statistical metrics.\n",
    "X2 = sm.add_constant(X_real_house)\n",
    "est = sm.OLS(Y_real_house, X2)\n",
    "model2 = est.fit()\n",
    "print(model2.summary())"
   ]
  },
  {
   "cell_type": "markdown",
   "metadata": {
    "hideCode": false,
    "hidePrompt": false,
    "slideshow": {
     "slide_type": "slide"
    }
   },
   "source": [
    "### Real House Prices indices as the Dependent Variable"
   ]
  },
  {
   "cell_type": "code",
   "execution_count": 119,
   "metadata": {
    "hideCode": false,
    "hidePrompt": false,
    "slideshow": {
     "slide_type": "skip"
    }
   },
   "outputs": [],
   "source": [
    "#Create a 'variable' and 'target' to compute the regression\n",
    "variables_rent_prices = merged_dataset_rent.iloc[:,3:]\n",
    "target_rent_prices = merged_dataset_rent['Rent prices, s.a.']\n",
    "\n",
    "X_rent_prices = variables_rent_prices\n",
    "Y_rent_prices = target_rent_prices\n",
    "\n",
    "#Fit the data to X and Y\n",
    "rent_prices_model = LinearRegression(fit_intercept = True).fit(X_rent_prices, Y_rent_prices)"
   ]
  },
  {
   "cell_type": "code",
   "execution_count": 120,
   "metadata": {
    "hideCode": false,
    "hidePrompt": false,
    "slideshow": {
     "slide_type": "skip"
    }
   },
   "outputs": [
    {
     "data": {
      "text/plain": [
       "Index(['Change in inventories, contributions to changes in real GDP',\n",
       "       'Consumer price index, harmonised', 'Core inflation index, harmonised',\n",
       "       'Current account balance as a percentage of GDP',\n",
       "       'Exchange rate, USD per national currency',\n",
       "       'Exchange rate, national currency per USD',\n",
       "       'Exports of goods and services, deflator (national accounts basis)',\n",
       "       'Exports of goods and services, volume (national accounts basis)',\n",
       "       'Exports of goods and services, volume in USD (national accounts basis)',\n",
       "       'Exports of goods and services, volume, growth (national accounts basis)',\n",
       "       'General government gross financial assets as a percentage of GDP',\n",
       "       'General government gross financial liabilities as a percentage of GDP',\n",
       "       'General government net lending as a percentage of GDP',\n",
       "       'General government primary balance as a percentage of GDP',\n",
       "       'Goods and services trade, volume in USD',\n",
       "       'Government final consumption expenditure, volume',\n",
       "       'Government final consumption expenditure, volume, growth',\n",
       "       'Gross capital formation, total, volume',\n",
       "       'Gross domestic product, market prices, deflator',\n",
       "       'Gross domestic product, market prices, deflator, growth',\n",
       "       'Gross domestic product, nominal value, growth',\n",
       "       'Gross domestic product, nominal value, market prices',\n",
       "       'Gross domestic product, volume in USD, at constant purchasing power parities',\n",
       "       'Gross domestic product, volume in USD, constant exchange rates',\n",
       "       'Gross domestic product, volume, growth',\n",
       "       'Gross domestic product, volume, market prices',\n",
       "       'Gross fixed capital formation, total, volume',\n",
       "       'Gross fixed capital formation, total, volume, growth',\n",
       "       'Gross public debt, Maastricht criterion as a percentage of GDP',\n",
       "       'Harmonised core inflation', 'Harmonised headline inflation',\n",
       "       'Imports of goods and services, deflator (national accounts basis)',\n",
       "       'Imports of goods and services, volume (national accounts basis)',\n",
       "       'Imports of goods and services, volume in USD (national accounts basis)',\n",
       "       'Imports of goods and services, volume, growth (national accounts basis)',\n",
       "       'Labour force', 'Long-term interest rate on government bonds',\n",
       "       'Net exports, contributions to changes in real GDP',\n",
       "       'Private final consumption expenditure, volume',\n",
       "       'Private final consumption expenditure, volume, growth',\n",
       "       'Purchasing power parity, national currency per USD',\n",
       "       'Short-term interest rate',\n",
       "       'Total employment (labour force survey basis)', 'Unemployment rate',\n",
       "       'Population'],\n",
       "      dtype='object')"
      ]
     },
     "execution_count": 120,
     "metadata": {},
     "output_type": "execute_result"
    }
   ],
   "source": [
    "X_rent_prices.columns"
   ]
  },
  {
   "cell_type": "code",
   "execution_count": 121,
   "metadata": {
    "hideCode": false,
    "hidePrompt": false,
    "slideshow": {
     "slide_type": "subslide"
    }
   },
   "outputs": [
    {
     "name": "stdout",
     "output_type": "stream",
     "text": [
      "The coefficient of determination is 0.9786196616261983\n"
     ]
    }
   ],
   "source": [
    "#Retrieve R squared - or coefficient of determination\n",
    "r_squared = rent_prices_model.score(X_rent_prices, Y_rent_prices)\n",
    "\n",
    "print('The coefficient of determination is', r_squared)"
   ]
  },
  {
   "cell_type": "code",
   "execution_count": 122,
   "metadata": {
    "hideCode": false,
    "hidePrompt": false,
    "slideshow": {
     "slide_type": "subslide"
    }
   },
   "outputs": [
    {
     "name": "stdout",
     "output_type": "stream",
     "text": [
      "The intercept of the equation is 92.49842409216319\n",
      "The slope of the equation is [ 6.70616025e-01 -3.23155047e+02  1.83836617e+02  1.08443597e+00\n",
      " -7.17161756e+01 -1.10908544e+02 -4.45623354e+01 -6.38963346e-09\n",
      "  2.05893685e+00  1.02858024e+00 -3.57150274e-01  1.10046468e-01\n",
      " -2.60860098e+00  2.22441954e+00 -4.11787369e+00 -2.57081286e-10\n",
      "  1.85357503e-01 -7.87277897e-10  2.79993405e+02 -2.27573911e+01\n",
      "  2.19826158e+01  2.59902012e-12  1.96887178e-10  1.44141363e-09\n",
      " -2.23942363e+01 -1.33807307e-09  2.27771292e-10  2.02429727e-01\n",
      " -1.08429562e-02 -1.91052407e+00  1.36684033e+00  5.96338488e+01\n",
      "  4.66230598e-09  2.05893684e+00 -1.48220955e+00 -1.08006960e-05\n",
      " -2.39391167e-01 -2.83795554e+00 -6.53926341e-10  1.31232368e-01\n",
      "  5.42313551e+01  1.23491000e+00 -4.86187102e-06  5.59630603e-01\n",
      "  5.28514105e-06]\n"
     ]
    }
   ],
   "source": [
    "#Get more insight including the intercept of the equation and the coefficients\n",
    "print('The intercept of the equation is', rent_prices_model.intercept_)\n",
    "\n",
    "print('The slope of the equation is', rent_prices_model.coef_)\n",
    "\n",
    "#Get length of the object to be able to create a dataframe\n",
    "len(rent_prices_model.coef_)\n",
    "\n",
    "#Transform the data into a numpy array to convert it to a dataframe\n",
    "rent_prices_coefficients = np.around(rent_prices_model.coef_, 45)\n",
    "\n",
    "rent_prices_coefficients_df = pd.DataFrame(rent_prices_coefficients, X_real_house.columns, columns = [\"Coefficient\"])"
   ]
  },
  {
   "cell_type": "code",
   "execution_count": 123,
   "metadata": {
    "hideCode": false,
    "hidePrompt": false,
    "slideshow": {
     "slide_type": "skip"
    }
   },
   "outputs": [
    {
     "data": {
      "text/plain": [
       "45"
      ]
     },
     "execution_count": 123,
     "metadata": {},
     "output_type": "execute_result"
    }
   ],
   "source": [
    "#Sort the dataframe based on the coefficients to perform the analysis\n",
    "sorted_rent_prices_coefficients_df = rent_prices_coefficients_df.sort_values(by=\"Coefficient\", ascending=False)\n",
    "\n",
    "len(sorted_rent_prices_coefficients_df)"
   ]
  },
  {
   "cell_type": "markdown",
   "metadata": {
    "hideCode": false,
    "hidePrompt": false,
    "slideshow": {
     "slide_type": "slide"
    }
   },
   "source": [
    "##### Top 5 variables that have a positive effect on rent prices"
   ]
  },
  {
   "cell_type": "code",
   "execution_count": 124,
   "metadata": {
    "hideCode": false,
    "hidePrompt": false,
    "slideshow": {
     "slide_type": "subslide"
    }
   },
   "outputs": [
    {
     "data": {
      "text/html": [
       "<div>\n",
       "<style scoped>\n",
       "    .dataframe tbody tr th:only-of-type {\n",
       "        vertical-align: middle;\n",
       "    }\n",
       "\n",
       "    .dataframe tbody tr th {\n",
       "        vertical-align: top;\n",
       "    }\n",
       "\n",
       "    .dataframe thead th {\n",
       "        text-align: right;\n",
       "    }\n",
       "</style>\n",
       "<table border=\"1\" class=\"dataframe\">\n",
       "  <thead>\n",
       "    <tr style=\"text-align: right;\">\n",
       "      <th></th>\n",
       "      <th>Coefficient</th>\n",
       "    </tr>\n",
       "  </thead>\n",
       "  <tbody>\n",
       "    <tr>\n",
       "      <th>Gross domestic product, market prices, deflator</th>\n",
       "      <td>279.993405</td>\n",
       "    </tr>\n",
       "    <tr>\n",
       "      <th>Core inflation index, harmonised</th>\n",
       "      <td>183.836617</td>\n",
       "    </tr>\n",
       "    <tr>\n",
       "      <th>Imports of goods and services, deflator (national accounts basis)</th>\n",
       "      <td>59.633849</td>\n",
       "    </tr>\n",
       "    <tr>\n",
       "      <th>Purchasing power parity, national currency per USD</th>\n",
       "      <td>54.231355</td>\n",
       "    </tr>\n",
       "    <tr>\n",
       "      <th>Gross domestic product, nominal value, growth</th>\n",
       "      <td>21.982616</td>\n",
       "    </tr>\n",
       "  </tbody>\n",
       "</table>\n",
       "</div>"
      ],
      "text/plain": [
       "                                                    Coefficient\n",
       "Gross domestic product, market prices, deflator      279.993405\n",
       "Core inflation index, harmonised                     183.836617\n",
       "Imports of goods and services, deflator (nation...    59.633849\n",
       "Purchasing power parity, national currency per USD    54.231355\n",
       "Gross domestic product, nominal value, growth         21.982616"
      ]
     },
     "execution_count": 124,
     "metadata": {},
     "output_type": "execute_result"
    }
   ],
   "source": [
    "#Top 5 variables that have a positive effect on Real House prices\n",
    "sorted_rent_prices_coefficients_df.head()"
   ]
  },
  {
   "cell_type": "markdown",
   "metadata": {
    "hideCode": false,
    "hidePrompt": false,
    "slideshow": {
     "slide_type": "slide"
    }
   },
   "source": [
    "##### Top 5 variables that have a positive effect on rent prices"
   ]
  },
  {
   "cell_type": "code",
   "execution_count": 125,
   "metadata": {
    "hideCode": false,
    "hidePrompt": false,
    "slideshow": {
     "slide_type": "subslide"
    }
   },
   "outputs": [
    {
     "data": {
      "text/html": [
       "<div>\n",
       "<style scoped>\n",
       "    .dataframe tbody tr th:only-of-type {\n",
       "        vertical-align: middle;\n",
       "    }\n",
       "\n",
       "    .dataframe tbody tr th {\n",
       "        vertical-align: top;\n",
       "    }\n",
       "\n",
       "    .dataframe thead th {\n",
       "        text-align: right;\n",
       "    }\n",
       "</style>\n",
       "<table border=\"1\" class=\"dataframe\">\n",
       "  <thead>\n",
       "    <tr style=\"text-align: right;\">\n",
       "      <th></th>\n",
       "      <th>Coefficient</th>\n",
       "    </tr>\n",
       "  </thead>\n",
       "  <tbody>\n",
       "    <tr>\n",
       "      <th>Gross domestic product, market prices, deflator, growth</th>\n",
       "      <td>-22.757391</td>\n",
       "    </tr>\n",
       "    <tr>\n",
       "      <th>Exports of goods and services, deflator (national accounts basis)</th>\n",
       "      <td>-44.562335</td>\n",
       "    </tr>\n",
       "    <tr>\n",
       "      <th>Exchange rate, USD per national currency</th>\n",
       "      <td>-71.716176</td>\n",
       "    </tr>\n",
       "    <tr>\n",
       "      <th>Exchange rate, national currency per USD</th>\n",
       "      <td>-110.908544</td>\n",
       "    </tr>\n",
       "    <tr>\n",
       "      <th>Consumer price index, harmonised</th>\n",
       "      <td>-323.155047</td>\n",
       "    </tr>\n",
       "  </tbody>\n",
       "</table>\n",
       "</div>"
      ],
      "text/plain": [
       "                                                    Coefficient\n",
       "Gross domestic product, market prices, deflator...   -22.757391\n",
       "Exports of goods and services, deflator (nation...   -44.562335\n",
       "Exchange rate, USD per national currency             -71.716176\n",
       "Exchange rate, national currency per USD            -110.908544\n",
       "Consumer price index, harmonised                    -323.155047"
      ]
     },
     "execution_count": 125,
     "metadata": {},
     "output_type": "execute_result"
    }
   ],
   "source": [
    "#Top 5 variables that have a negative effect on Real House prices\n",
    "sorted_rent_prices_coefficients_df.tail()"
   ]
  },
  {
   "cell_type": "markdown",
   "metadata": {
    "hideCode": false,
    "hidePrompt": false,
    "slideshow": {
     "slide_type": "slide"
    }
   },
   "source": [
    "##### Top variables that don't have any effect on Real House Prices"
   ]
  },
  {
   "cell_type": "code",
   "execution_count": 126,
   "metadata": {
    "hideCode": false,
    "hidePrompt": false,
    "slideshow": {
     "slide_type": "subslide"
    }
   },
   "outputs": [
    {
     "data": {
      "text/html": [
       "<div>\n",
       "<style scoped>\n",
       "    .dataframe tbody tr th:only-of-type {\n",
       "        vertical-align: middle;\n",
       "    }\n",
       "\n",
       "    .dataframe tbody tr th {\n",
       "        vertical-align: top;\n",
       "    }\n",
       "\n",
       "    .dataframe thead th {\n",
       "        text-align: right;\n",
       "    }\n",
       "</style>\n",
       "<table border=\"1\" class=\"dataframe\">\n",
       "  <thead>\n",
       "    <tr style=\"text-align: right;\">\n",
       "      <th></th>\n",
       "      <th>Coefficient</th>\n",
       "    </tr>\n",
       "  </thead>\n",
       "  <tbody>\n",
       "    <tr>\n",
       "      <th>Imports of goods and services, volume (national accounts basis)</th>\n",
       "      <td>4.662306e-09</td>\n",
       "    </tr>\n",
       "    <tr>\n",
       "      <th>Gross domestic product, volume in USD, constant exchange rates</th>\n",
       "      <td>1.441414e-09</td>\n",
       "    </tr>\n",
       "    <tr>\n",
       "      <th>Gross fixed capital formation, total, volume</th>\n",
       "      <td>2.277713e-10</td>\n",
       "    </tr>\n",
       "    <tr>\n",
       "      <th>Gross domestic product, volume in USD, at constant purchasing power parities</th>\n",
       "      <td>1.968872e-10</td>\n",
       "    </tr>\n",
       "    <tr>\n",
       "      <th>Gross domestic product, nominal value, market prices</th>\n",
       "      <td>2.599020e-12</td>\n",
       "    </tr>\n",
       "    <tr>\n",
       "      <th>Government final consumption expenditure, volume</th>\n",
       "      <td>-2.570813e-10</td>\n",
       "    </tr>\n",
       "    <tr>\n",
       "      <th>Private final consumption expenditure, volume</th>\n",
       "      <td>-6.539263e-10</td>\n",
       "    </tr>\n",
       "    <tr>\n",
       "      <th>Gross capital formation, total, volume</th>\n",
       "      <td>-7.872779e-10</td>\n",
       "    </tr>\n",
       "    <tr>\n",
       "      <th>Gross domestic product, volume, market prices</th>\n",
       "      <td>-1.338073e-09</td>\n",
       "    </tr>\n",
       "  </tbody>\n",
       "</table>\n",
       "</div>"
      ],
      "text/plain": [
       "                                                     Coefficient\n",
       "Imports of goods and services, volume (national...  4.662306e-09\n",
       "Gross domestic product, volume in USD, constant...  1.441414e-09\n",
       "Gross fixed capital formation, total, volume        2.277713e-10\n",
       "Gross domestic product, volume in USD, at const...  1.968872e-10\n",
       "Gross domestic product, nominal value, market p...  2.599020e-12\n",
       "Government final consumption expenditure, volume   -2.570813e-10\n",
       "Private final consumption expenditure, volume      -6.539263e-10\n",
       "Gross capital formation, total, volume             -7.872779e-10\n",
       "Gross domestic product, volume, market prices      -1.338073e-09"
      ]
     },
     "execution_count": 126,
     "metadata": {},
     "output_type": "execute_result"
    }
   ],
   "source": [
    "#Top variables that don't have any effect on Real House Prices\n",
    "sorted_rent_prices_coefficients_df.iloc[19:28,:]"
   ]
  },
  {
   "cell_type": "markdown",
   "metadata": {
    "hideCode": false,
    "hidePrompt": false,
    "slideshow": {
     "slide_type": "slide"
    }
   },
   "source": [
    "##### Predicted values based on the linear model"
   ]
  },
  {
   "cell_type": "code",
   "execution_count": 127,
   "metadata": {
    "hideCode": false,
    "hidePrompt": false,
    "slideshow": {
     "slide_type": "subslide"
    }
   },
   "outputs": [
    {
     "name": "stdout",
     "output_type": "stream",
     "text": [
      "[100.61188535 106.59789274 111.56383194 117.60198836 119.51439041\n",
      " 124.77704452 122.72415012 118.10322901 115.779704   103.91165877\n",
      " 103.4451463   97.20361425  95.33454117  89.59621269  84.58912339\n",
      "  85.05225323  90.81023973  90.60287757  92.60910505  94.83544415\n",
      "  97.09216233  98.86225661 100.72307558 100.82234503 101.20965604\n",
      " 100.77238639  99.21389473 101.18133213  78.78982051  80.99493491\n",
      "  86.17161577  85.64189574  89.84978463  91.87952117  93.24694871\n",
      "  92.82420969  95.45842367  98.17304969 100.15884088  99.6422193\n",
      " 102.83085435 103.68711206  91.66206355  94.23667002  98.24031038\n",
      " 101.58260317 104.3181616  103.5244975  103.32253378  96.76658994\n",
      " 100.45511481  96.2883432   99.96059059 103.77892429 106.99133923\n",
      " 112.26298653  85.08942232  86.71133726  93.24948244  95.59143251\n",
      "  99.03590568  99.71985615 102.05756337 101.9197903  100.31631078\n",
      "  99.96427027  99.77795595 100.46215073 100.31694471 101.69156685]\n"
     ]
    }
   ],
   "source": [
    "#Predict house prices based on the linear regression and data\n",
    "Y_predict_rent_prices = rent_prices_model.predict(X_rent_prices)\n",
    "\n",
    "print(Y_predict_rent_prices)"
   ]
  },
  {
   "cell_type": "markdown",
   "metadata": {
    "hideCode": false,
    "hidePrompt": false,
    "slideshow": {
     "slide_type": "slide"
    }
   },
   "source": [
    "##### Plot the results using matplotlib to visualize the relationship between the real and predicted indices"
   ]
  },
  {
   "cell_type": "code",
   "execution_count": 128,
   "metadata": {
    "hideCode": false,
    "hidePrompt": false,
    "slideshow": {
     "slide_type": "subslide"
    }
   },
   "outputs": [
    {
     "data": {
      "image/png": "[encoded data removed]",
      "text/plain": [
       "<Figure size 432x288 with 1 Axes>"
      ]
     },
     "metadata": {
      "needs_background": "light"
     },
     "output_type": "display_data"
    }
   ],
   "source": [
    "#Plot the results using matplotlib to visualize the relationship between the real and predicted indices\n",
    "plt.plot(Y_predict_rent_prices)\n",
    "plt.plot(Y_rent_prices)\n",
    "plt.show()"
   ]
  },
  {
   "cell_type": "code",
   "execution_count": 129,
   "metadata": {
    "hideCode": false,
    "hidePrompt": false,
    "scrolled": false,
    "slideshow": {
     "slide_type": "skip"
    }
   },
   "outputs": [
    {
     "name": "stdout",
     "output_type": "stream",
     "text": [
      "                            OLS Regression Results                            \n",
      "==============================================================================\n",
      "Dep. Variable:      Rent prices, s.a.   R-squared:                       0.974\n",
      "Model:                            OLS   Adj. R-squared:                  0.946\n",
      "Method:                 Least Squares   F-statistic:                     34.74\n",
      "Date:                Wed, 18 Nov 2020   Prob (F-statistic):           6.38e-18\n",
      "Time:                        15:44:42   Log-Likelihood:                -125.82\n",
      "No. Observations:                  70   AIC:                             325.6\n",
      "Df Residuals:                      33   BIC:                             408.8\n",
      "Df Model:                          36                                         \n",
      "Covariance Type:            nonrobust                                         \n",
      "================================================================================================================================================\n",
      "                                                                                   coef    std err          t      P>|t|      [0.025      0.975]\n",
      "------------------------------------------------------------------------------------------------------------------------------------------------\n",
      "const                                                                           15.2584     92.162      0.166      0.870    -172.247     202.764\n",
      "Change in inventories, contributions to changes in real GDP                      0.5474      1.341      0.408      0.686      -2.181       3.276\n",
      "Consumer price index, harmonised                                              -158.5074     53.789     -2.947      0.006    -267.941     -49.074\n",
      "Core inflation index, harmonised                                                57.1357     16.559      3.450      0.002      23.447      90.825\n",
      "Current account balance as a percentage of GDP                                   0.0797      0.402      0.198      0.844      -0.739       0.898\n",
      "Exchange rate, USD per national currency                                       -42.2426     36.226     -1.166      0.252    -115.945      31.460\n",
      "Exchange rate, national currency per USD                                       -61.9117     54.621     -1.133      0.265    -173.038      49.215\n",
      "Exports of goods and services, deflator (national accounts basis)              227.1331     63.937      3.552      0.001      97.052     357.215\n",
      "Exports of goods and services, volume (national accounts basis)              -7.154e-09   8.24e-09     -0.868      0.392   -2.39e-08    9.62e-09\n",
      "Exports of goods and services, volume in USD (national accounts basis)          -1.0877      0.385     -2.826      0.008      -1.871      -0.305\n",
      "Exports of goods and services, volume, growth (national accounts basis)          0.2255      0.384      0.587      0.561      -0.556       1.007\n",
      "General government gross financial assets as a percentage of GDP                -0.2886      0.137     -2.112      0.042      -0.567      -0.011\n",
      "General government gross financial liabilities as a percentage of GDP            0.1065      0.088      1.208      0.236      -0.073       0.286\n",
      "General government net lending as a percentage of GDP                           -4.6112      1.667     -2.766      0.009      -8.003      -1.220\n",
      "General government primary balance as a percentage of GDP                        4.4805      1.671      2.682      0.011       1.081       7.880\n",
      "Goods and services trade, volume in USD                                          2.1755      0.770      2.826      0.008       0.609       3.742\n",
      "Government final consumption expenditure, volume                             -3.436e-10   7.18e-10     -0.479      0.635    -1.8e-09    1.12e-09\n",
      "Government final consumption expenditure, volume, growth                        -0.0187      0.508     -0.037      0.971      -1.052       1.014\n",
      "Gross capital formation, total, volume                                       -8.612e-10   5.95e-10     -1.448      0.157   -2.07e-09    3.48e-10\n",
      "Gross domestic product, market prices, deflator                                124.2679     31.336      3.966      0.000      60.514     188.022\n",
      "Gross domestic product, market prices, deflator, growth                         -7.2829     14.048     -0.518      0.608     -35.865      21.299\n",
      "Gross domestic product, nominal value, growth                                    6.7465     14.075      0.479      0.635     -21.889      35.382\n",
      "Gross domestic product, nominal value, market prices                          3.543e-11   5.57e-11      0.636      0.529   -7.78e-11    1.49e-10\n",
      "Gross domestic product, volume in USD, at constant purchasing power parities  2.319e-10   1.22e-10      1.906      0.065   -1.56e-11     4.8e-10\n",
      "Gross domestic product, volume in USD, constant exchange rates               -2.999e-10   1.12e-09     -0.269      0.790   -2.57e-09    1.97e-09\n",
      "Gross domestic product, volume, growth                                          -6.2050     14.885     -0.417      0.679     -36.489      24.079\n",
      "Gross domestic product, volume, market prices                                 6.892e-10   1.39e-09      0.498      0.622   -2.13e-09    3.51e-09\n",
      "Gross fixed capital formation, total, volume                                  2.094e-10   1.94e-10      1.079      0.288   -1.85e-10    6.04e-10\n",
      "Gross fixed capital formation, total, volume, growth                             0.1221      0.253      0.482      0.633      -0.393       0.638\n",
      "Gross public debt, Maastricht criterion as a percentage of GDP                  -0.2345      0.141     -1.659      0.107      -0.522       0.053\n",
      "Harmonised core inflation                                                       -0.8241      1.417     -0.582      0.565      -3.706       2.058\n",
      "Harmonised headline inflation                                                    1.1571      0.672      1.722      0.094      -0.210       2.525\n",
      "Imports of goods and services, deflator (national accounts basis)              -95.9257     25.903     -3.703      0.001    -148.627     -43.225\n",
      "Imports of goods and services, volume (national accounts basis)               2.345e-09   2.07e-09      1.133      0.265   -1.86e-09    6.55e-09\n",
      "Imports of goods and services, volume in USD (national accounts basis)          -1.0877      0.385     -2.826      0.008      -1.871      -0.305\n",
      "Imports of goods and services, volume, growth (national accounts basis)         -0.7925      0.510     -1.553      0.130      -1.831       0.246\n",
      "Labour force                                                                 -1.194e-05   5.42e-06     -2.203      0.035    -2.3e-05   -9.13e-07\n",
      "Long-term interest rate on government bonds                                      0.0537      0.313      0.172      0.865      -0.583       0.690\n",
      "Net exports, contributions to changes in real GDP                               -1.2026      1.878     -0.640      0.526      -5.024       2.619\n",
      "Private final consumption expenditure, volume                                -8.224e-10   5.73e-10     -1.434      0.161   -1.99e-09    3.44e-10\n",
      "Private final consumption expenditure, volume, growth                           -0.0059      0.835     -0.007      0.994      -1.706       1.694\n",
      "Purchasing power parity, national currency per USD                              60.1601     39.481      1.524      0.137     -20.165     140.485\n",
      "Short-term interest rate                                                        -1.0247      1.145     -0.895      0.377      -3.355       1.306\n",
      "Total employment (labour force survey basis)                                 -4.555e-06    6.9e-06     -0.660      0.514   -1.86e-05    9.48e-06\n",
      "Unemployment rate                                                                0.8248      0.840      0.982      0.333      -0.884       2.533\n",
      "Population                                                                    5.163e-06   2.07e-06      2.493      0.018    9.49e-07    9.38e-06\n",
      "==============================================================================\n",
      "Omnibus:                        1.146   Durbin-Watson:                   2.423\n",
      "Prob(Omnibus):                  0.564   Jarque-Bera (JB):                1.057\n",
      "Skew:                           0.292   Prob(JB):                        0.589\n",
      "Kurtosis:                       2.853   Cond. No.                     1.42e+16\n",
      "==============================================================================\n",
      "\n",
      "Warnings:\n",
      "[1] Standard Errors assume that the covariance matrix of the errors is correctly specified.\n",
      "[2] The condition number is large, 1.42e+16. This might indicate that there are\n",
      "strong multicollinearity or other numerical problems.\n"
     ]
    }
   ],
   "source": [
    "#Create a full report including every coefficient, as well as a few statistical metrics.\n",
    "\n",
    "X2 = sm.add_constant(X_rent_prices)\n",
    "est = sm.OLS(Y_rent_prices, X2)\n",
    "model2 = est.fit()\n",
    "print(model2.summary())"
   ]
  },
  {
   "cell_type": "markdown",
   "metadata": {
    "hideCode": false,
    "hidePrompt": false,
    "slideshow": {
     "slide_type": "slide"
    }
   },
   "source": [
    "# References"
   ]
  },
  {
   "cell_type": "markdown",
   "metadata": {
    "hideCode": false,
    "hidePrompt": false,
    "slideshow": {
     "slide_type": "subslide"
    }
   },
   "source": [
    "- https://pandas.pydata.org/pandas-docs/stable/index.html\n",
    "- https://scikit-learn.org/stable/index.html\n",
    "- https://altair-viz.github.io\n",
    "- https://seaborn.pydata.org/\n",
    "- https://www.statsmodels.org/stable/index.html"
   ]
  },
  {
   "cell_type": "markdown",
   "metadata": {
    "hideCode": false,
    "hidePrompt": false,
    "slideshow": {
     "slide_type": "slide"
    }
   },
   "source": [
    "# Thank you! \n",
    "\n",
    "# Feedback? \n",
    "### Feel free to send me the notebook with feedback and correction comments once you're done grading. Thank you!\n",
    "thomas.henry@ieseg.fr"
   ]
  },
  {
   "cell_type": "markdown",
   "metadata": {
    "hideCode": false,
    "hidePrompt": false,
    "slideshow": {
     "slide_type": "skip"
    }
   },
   "source": []
  }
 ],
 "metadata": {
  "hide_code_all_hidden": false,
  "kernelspec": {
   "display_name": "Python 3 (ipykernel)",
   "language": "python",
   "name": "python3"
  },
  "language_info": {
   "codemirror_mode": {
    "name": "ipython",
    "version": 3
   },
   "file_extension": ".py",
   "mimetype": "text/x-python",
   "name": "python",
   "nbconvert_exporter": "python",
   "pygments_lexer": "ipython3",
   "version": "3.9.13"
  }
 },
 "nbformat": 4,
 "nbformat_minor": 4
}
